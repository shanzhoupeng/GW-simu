{
 "cells": [
  {
   "cell_type": "code",
   "execution_count": 35,
   "metadata": {
    "collapsed": true
   },
   "outputs": [],
   "source": [
    "import numpy as np\n",
    "import scipy.constants as sciconsts\n",
    "import scipy.fftpack as fft\n",
    "import scipy.interpolate as sci_interpolate\n",
    "import scipy.integrate as sci_integrate\n",
    "import time\n",
    "import sys\n",
    "import accelerate\n",
    "import numba\n",
    "def chirp_mass(m1,m2):\n",
    "    return np.power(m1*m2,0.6)/(np.power(m1+m2,0.2))\n",
    "def solvem(mc,smr):\n",
    "    a=mc/np.power(smr,0.6)\n",
    "    b=smr*np.power(a,2.0)\n",
    "    m1=(a+np.sqrt(np.power(a,2.0)-4.0*b))/2.0\n",
    "    m2=(a-np.sqrt(np.power(a,2.0)-4.0*b))/2.0\n",
    "    return np.array((m1,m2))\n",
    "def sym_mass_ratio(m1,m2):\n",
    "    return m1*m2/(np.power(m1+m2,2.0))\n",
    "\n",
    "'''my Tmodel(considering gas (SI))'''\n",
    "def k_1cal(m_1,m_2):\n",
    "    return 64.0*np.power(sciconsts.G,3.0)*m_1*m_2*(m_1+m_2)/5.0/np.power(sciconsts.c,5.0)\n",
    "def t_0cal(m_1,m_2,t_gas,a_0):\n",
    "    return t_gas*0.25*np.log(k_1cal(m_1,m_2)+np.power(a_0,4.0)/t_gas)\n",
    "def acalgas(t,k_1,t_gas,t_0):\n",
    "    return np.power((np.exp(4.0*(t_0-t)/t_gas)-k_1)*t_gas,0.25)\n",
    "def freq_tgas(t,m_1,m_2,t_gas,t_0):\n",
    "    k_1=k_1cal(m_1,m_2)\n",
    "    a_ft=acalgas(t,k_1,t_gas,t_0)\n",
    "    return 1.0/sciconsts.pi*np.sqrt((m_1+m_2)*sciconsts.G)*np.power(a_ft,-1.5)\n",
    "def phi_tgas(t,m_1,m_2,t_gas,t_0):\n",
    "    return sci_integrate.quad(lambda x:2*sciconsts.pi*freq_tgas(x,m_1,m_2,t_gas,t_0),0,t)[0]\n",
    "def hgas(t,m_1,m_2,t_gas,t_0,phi):\n",
    "    k_1=k_1cal(m_1,m_2)\n",
    "    return m_1*m_2/acalgas(t,k_1,t_gas,t_0)*np.cos(phi)/1e70\n",
    "'''my Tmode not considering gas'''\n",
    "def acalvac(t,k_1,t_c):\n",
    "    return np.power(4*k_1*(t_c-t),0.25)\n",
    "def freq_tvac(t,m_1,m_2,t_c):\n",
    "    avt=acalvac(t,k_1cal(m_1,m_2),t_c)\n",
    "    return np.sqrt(sciconsts.G*(m_1+m_2))/sciconsts.pi*np.power(avt,-1.5)\n",
    "def phi_tvac(t,m_1,m_2,t_c):\n",
    "    cm2=chirp_mass(m_1,m_2)\n",
    "    return -2*np.power(np.power(sciconsts.c,3.0)/5.0/cm2/sciconsts.G*(t_c-t),5.0/8.0)\n",
    "def hvac(t,m_1,m_2,t_c,phi_c):\n",
    "    return  m_1*m_2/acalvac(t,k_1cal(m_1,m_2),t_c)*np.cos(phi_tvac(t,m_1,m_2,t_c)+phi_c)/1e70/20.0\n",
    "#phi_c[0,2pi]\n",
    "def f_jugg(t_c,m_1,m_2):\n",
    "    return (freq_tvac(0,m_1,m_2,t_c),freq_tvac(4*years,m_1,m_2,t_c))\n",
    "def t_fvac(f,m_c,t_c):\n",
    "    sci1=np.power(sciconsts.c,3.0)/5.0/m_c/sciconsts.G\n",
    "    return t_c-np.power(8.0*sciconsts.pi*f/5.0,-8.0/3.0)*np.power(sci1,5.0/3.0)\n",
    "def tlimit(m_c,fi,ff):\n",
    "    sci1=np.power(sciconsts.c,3.0)/5.0/m_c/sciconsts.G\n",
    "    a=np.array((np.power(8.0*sciconsts.pi*fi/5.0,-8.0/3.0)*np.power(sci1,5.0/3.0),4*years+np.power(8.0*sciconsts.pi*ff/5.0,-8.0/3.0)*np.power(sci1,5.0/3.0)))\n",
    "    return [a.min(),a.max()]\n",
    "def tcn_decide(mc,fi,ff,acu):\n",
    "    return ((tlimit(mc,fi,ff)[1]-tlimit(mc,figas,ffgas)[0])/tlimit(mc,fi,ff)[1])//acu+1\n",
    "def noden_cal(mc,phinum,tcn_racu,fi,ff):\n",
    "    mcn=mc.size\n",
    "    i=0\n",
    "    sum1=0\n",
    "    while i<mcn:\n",
    "        sum1=sum1+tcn_decide(mc[i],fi,ff,tcn_racu)\n",
    "        i=i+1\n",
    "    return sum1*phinum\n",
    "\n",
    "\n",
    "def pow2(a):\n",
    "    b=1\n",
    "    i=True\n",
    "    while i:\n",
    "        b=2*b\n",
    "        if b>a:\n",
    "            i=False\n",
    "    return b\n",
    "'''lisa noise curve in rpsd unit N2A5:laserpower 2w,40cm telescope,armlength 5e6 km'''\n",
    "def S_gal_N2A5(f):\n",
    "    if f>=1.0e-5 and f<1.0e-3:\n",
    "        return np.power(f,-2.3)*np.power(10,-44.62)*20.0/3.0\n",
    "    if f>=1.0e-3 and f<np.power(10,-2.7):\n",
    "        return np.power(f,-4.4)*np.power(10,-50.92)*20.0/3.0\n",
    "    if f>=np.power(10,-2.7) and f<np.power(10,-2.4):\n",
    "        return np.power(f,-8.8)*np.power(10,-62.8)*20.0/3.0\n",
    "    if f>=np.power(10,-2.4) and f<=0.01:\n",
    "        return np.power(f,-20.0)*np.power(10,-89.68)*20.0/3.0\n",
    "    if f>0.01 or f<1.0e-5:\n",
    "        return 0\n",
    "def S_n_lisa(f):\n",
    "    m1=5.0e9\n",
    "    m2=sciconsts.c*0.41/m1/2.0\n",
    "    return 20.0/3.0*(1+np.power(f/m2,2.0))*(4.0*(9.0e-30/np.power(2*sciconsts.pi*f,4.0)*(1+1.0e-4/f))+2.96e-23+2.65e-23)/np.power(m1,2.0)+S_gal_N2A5(f)\n",
    "\n",
    "#consts setting\n",
    "m_sun=1.9891e30\n",
    "years=365*24*3600.0\n",
    "mpc=3.261*sciconsts.light_year\n",
    "t_scale=4*years"
   ]
  },
  {
   "cell_type": "code",
   "execution_count": 3,
   "metadata": {
    "collapsed": true
   },
   "outputs": [],
   "source": [
    "def Acal(m1n):\n",
    "    #gas cal\n",
    "    m_1g=m1n*m_sun\n",
    "    m_2g=m1n*m_sun\n",
    "    k_1g=k_1cal(m_1g,m_2g)\n",
    "    t_gas=1000.0*years\n",
    "    a_0=3.0e8\n",
    "    t_0g=t_0cal(m_1g,m_2g,t_gas,a_0)\n",
    "    #(t_scale*0.01*4,N/0.01/t_scale,t_scale) \n",
    "    figas=freq_tgas(0,m_1g,m_2g,t_gas,t_0g)\n",
    "    ffgas=freq_tgas(t_scale,m_1g,m_2g,t_gas,t_0g)\n",
    "    Ng=10000000\n",
    "    t=np.linspace(0,t_scale,num=Ng)\n",
    "    #tdomain interp1d\n",
    "    tphi=np.linspace(0,t_scale,10000)\n",
    "    i=0\n",
    "    workphi=np.zeros(10000)\n",
    "    while i<10000:\n",
    "        workphi[i]=phi_tgas(tphi[i],m_1g,m_2g,t_gas,t_0g)\n",
    "        i=i+1\n",
    "    phimo=sci_interpolate.interp1d(tphi,workphi)\n",
    "    #tdomain point cal\n",
    "    Tg=t_scale/Ng\n",
    "    hfgas=hgas(t,m_1g,m_2g,t_gas,t_0g,phimo(t))\n",
    "    #fft\n",
    "    xs=np.linspace(0,1/2.0/Tg,num=Ng//2)\n",
    "    hfgas1=fft.fft(hfgas)\n",
    "    hfgas_abs=abs(hfgas1)\n",
    "    hfgas_angle=np.arctan(hfgas1.imag/hfgas1.real)[0:Ng//2]\n",
    "    hfgas2=2.0/Ng*hfgas_abs[0:Ng//2]\n",
    "    hs=sci_interpolate.interp1d(xs,hfgas2)\n",
    "    anglegas=sci_interpolate.interp1d(xs,hfgas_angle)\n",
    "    A=np.sqrt(sci_integrate.quad(lambda x:4*np.power(hs(x),2.0)/S_n_lisa(x),figas,ffgas))\n",
    "    return A"
   ]
  },
  {
   "cell_type": "code",
   "execution_count": 5,
   "metadata": {},
   "outputs": [
    {
     "data": {
      "text/plain": [
       "array([ 1.71180302,  0.14182595])"
      ]
     },
     "execution_count": 5,
     "metadata": {},
     "output_type": "execute_result"
    }
   ],
   "source": [
    "Acal(10)"
   ]
  },
  {
   "cell_type": "code",
   "execution_count": 54,
   "metadata": {},
   "outputs": [
    {
     "data": {
      "text/plain": [
       "(array([ 1.71419027,  0.12977648]), 5.413324999999986)"
      ]
     },
     "execution_count": 54,
     "metadata": {},
     "output_type": "execute_result"
    }
   ],
   "source": [
    "#gas cal\n",
    "t1=time.clock()\n",
    "m1n=10.0\n",
    "m_1g=m1n*m_sun\n",
    "m_2g=m1n*m_sun\n",
    "k_1g=k_1cal(m_1g,m_2g)\n",
    "t_gas=1000.0*years\n",
    "a_0=3.0e8\n",
    "t_0g=t_0cal(m_1g,m_2g,t_gas,a_0)\n",
    "#(t_scale*0.01*4,N/0.01/t_scale,t_scale) \n",
    "figas=freq_tgas(0,m_1g,m_2g,t_gas,t_0g)\n",
    "ffgas=freq_tgas(t_scale,m_1g,m_2g,t_gas,t_0g)\n",
    "Ng=10000000\n",
    "t=np.linspace(0,t_scale,num=Ng)\n",
    "#tdomain interp1d\n",
    "tphi=np.linspace(0,t_scale,10000)\n",
    "i=0\n",
    "workphi=np.zeros(10000)\n",
    "while i<10000:\n",
    "    workphi[i]=phi_tgas(tphi[i],m_1g,m_2g,t_gas,t_0g)\n",
    "    i=i+1\n",
    "phimo=sci_interpolate.interp1d(tphi,workphi)\n",
    "#tdomain point cal\n",
    "Tg=t_scale/Ng\n",
    "hfgas=hgas(t,m_1g,m_2g,t_gas,t_0g,phimo(t))\n",
    "#fft\n",
    "xs=np.linspace(0,1/2.0/Tg,num=Ng//2)\n",
    "hfgas1=fft.fft(hfgas)\n",
    "hfgas_abs=abs(hfgas1)\n",
    "hfgas_angle=np.arctan(hfgas1.imag/hfgas1.real)[0:Ng//2]\n",
    "hfgas2=2.0/Ng*hfgas_abs[0:Ng//2]\n",
    "hs=sci_interpolate.interp1d(xs,hfgas2)\n",
    "anglegas=sci_interpolate.interp1d(xs,hfgas_angle)\n",
    "t2=time.clock()\n",
    "A=np.sqrt(sci_integrate.quad(lambda x:4*np.power(hs(x),2.0)/S_n_lisa(x),figas,ffgas,limit=3000))\n",
    "A,t2-t1"
   ]
  },
  {
   "cell_type": "code",
   "execution_count": 50,
   "metadata": {
    "scrolled": false
   },
   "outputs": [
    {
     "name": "stdout",
     "output_type": "stream",
     "text": [
      "cal start,node number= 90.0\n",
      "(0.0, 0.55472573309456819, 0.048581611969704855, 18.0602429999999, 0.0006042798467563726, 0.038165984987844306, 0.057882402825478831)\n",
      "(0.068965517241379309, 0.54122345056297971, 0.049270545464380769, 9.723798999999985, 0.001702691757066943, 0.038165984987844306, 0.057942909243042455)\n",
      "(0.13793103448275862, 0.5363459192763268, 0.050854602902051779, 15.593580999999972, 0.0043202554143133565, 0.038165984987844306, 0.05799175703562378)\n",
      "(0.20689655172413796, 0.53512141347781483, 0.0516685070160555, 18.46274100000005, 0.0056621479143210696, 0.038165984987844306, 0.058019832650720242)\n",
      "(0.27586206896551724, 0.53901335937397798, 0.051098162434469768, 15.118134000000055, 0.004699654280181154, 0.038165984987844306, 0.058021896366335882)\n",
      "(0.34482758620689657, 0.54991576317240243, 0.054093606849565615, 13.510892000000013, 0.009768364603514157, 0.038165984987844306, 0.057997586440846655)\n",
      "(0.41379310344827591, 0.56059112924703647, 0.051439737456887819, 18.209816000000046, 0.005346586816693866, 0.038165984987844306, 0.057951471922859751)\n",
      "(0.48275862068965514, 0.57107010775152378, 0.056146034867986527, 17.75546200000008, 0.013331835726415497, 0.038165984987844306, 0.057892154534613161)\n",
      "(0.55172413793103448, 0.58963214297311894, 0.05526992760242478, 13.736822999999958, 0.011919294485831844, 0.038165984987844306, 0.05783062391549465)\n",
      "(0.62068965517241381, 0.59145814436529809, 0.052128810378479253, 14.549075999999786, 0.006683476488559492, 0.038165984987844306, 0.057778208972307177)\n",
      "(0.68965517241379315, 0.59688674998686508, 0.049367557768003702, 8.95090499999992, 0.0020682206435680417, 0.038165984987844306, 0.057744515763577815)\n"
     ]
    },
    {
     "ename": "KeyboardInterrupt",
     "evalue": "",
     "output_type": "error",
     "traceback": [
      "\u001b[0;31m---------------------------------------------------------------------------\u001b[0m",
      "\u001b[0;31mKeyboardInterrupt\u001b[0m                         Traceback (most recent call last)",
      "\u001b[0;32m<ipython-input-50-983e055974e8>\u001b[0m in \u001b[0;36m<module>\u001b[0;34m()\u001b[0m\n\u001b[1;32m     33\u001b[0m     \u001b[0md\u001b[0m\u001b[0;34m=\u001b[0m\u001b[0;34m(\u001b[0m\u001b[0mnp\u001b[0m\u001b[0;34m.\u001b[0m\u001b[0marray\u001b[0m\u001b[0;34m(\u001b[0m\u001b[0;34m(\u001b[0m\u001b[0mfivac\u001b[0m\u001b[0;34m,\u001b[0m\u001b[0mfigas\u001b[0m\u001b[0;34m)\u001b[0m\u001b[0;34m)\u001b[0m\u001b[0;34m.\u001b[0m\u001b[0mmax\u001b[0m\u001b[0;34m(\u001b[0m\u001b[0;34m)\u001b[0m\u001b[0;34m,\u001b[0m\u001b[0mnp\u001b[0m\u001b[0;34m.\u001b[0m\u001b[0marray\u001b[0m\u001b[0;34m(\u001b[0m\u001b[0;34m(\u001b[0m\u001b[0mffvac\u001b[0m\u001b[0;34m,\u001b[0m\u001b[0mffgas\u001b[0m\u001b[0;34m)\u001b[0m\u001b[0;34m)\u001b[0m\u001b[0;34m.\u001b[0m\u001b[0mmin\u001b[0m\u001b[0;34m(\u001b[0m\u001b[0;34m)\u001b[0m\u001b[0;34m)\u001b[0m\u001b[0;34m\u001b[0m\u001b[0m\n\u001b[1;32m     34\u001b[0m     \u001b[0mB\u001b[0m\u001b[0;34m=\u001b[0m\u001b[0mnp\u001b[0m\u001b[0;34m.\u001b[0m\u001b[0msqrt\u001b[0m\u001b[0;34m(\u001b[0m\u001b[0msci_integrate\u001b[0m\u001b[0;34m.\u001b[0m\u001b[0mquad\u001b[0m\u001b[0;34m(\u001b[0m\u001b[0;32mlambda\u001b[0m \u001b[0mx\u001b[0m\u001b[0;34m:\u001b[0m\u001b[0;36m4\u001b[0m\u001b[0;34m*\u001b[0m\u001b[0mnp\u001b[0m\u001b[0;34m.\u001b[0m\u001b[0mpower\u001b[0m\u001b[0;34m(\u001b[0m\u001b[0mhvacs\u001b[0m\u001b[0;34m(\u001b[0m\u001b[0mx\u001b[0m\u001b[0;34m)\u001b[0m\u001b[0;34m,\u001b[0m\u001b[0;36m2.0\u001b[0m\u001b[0;34m)\u001b[0m\u001b[0;34m/\u001b[0m\u001b[0mS_n_lisa\u001b[0m\u001b[0;34m(\u001b[0m\u001b[0mx\u001b[0m\u001b[0;34m)\u001b[0m\u001b[0;34m,\u001b[0m\u001b[0mfivac\u001b[0m\u001b[0;34m,\u001b[0m\u001b[0mffvac\u001b[0m\u001b[0;34m,\u001b[0m\u001b[0mlimit\u001b[0m\u001b[0;34m=\u001b[0m\u001b[0;36m15000\u001b[0m\u001b[0;34m,\u001b[0m\u001b[0mepsabs\u001b[0m\u001b[0;34m=\u001b[0m\u001b[0;36m0.005\u001b[0m\u001b[0;34m)\u001b[0m\u001b[0;34m)\u001b[0m\u001b[0;34m\u001b[0m\u001b[0m\n\u001b[0;32m---> 35\u001b[0;31m     \u001b[0mAB\u001b[0m\u001b[0;34m=\u001b[0m\u001b[0msci_integrate\u001b[0m\u001b[0;34m.\u001b[0m\u001b[0mquad\u001b[0m\u001b[0;34m(\u001b[0m\u001b[0;32mlambda\u001b[0m \u001b[0mx\u001b[0m\u001b[0;34m:\u001b[0m\u001b[0;36m4\u001b[0m\u001b[0;34m*\u001b[0m\u001b[0mhvacs\u001b[0m\u001b[0;34m(\u001b[0m\u001b[0mx\u001b[0m\u001b[0;34m)\u001b[0m\u001b[0;34m*\u001b[0m\u001b[0mhs\u001b[0m\u001b[0;34m(\u001b[0m\u001b[0mx\u001b[0m\u001b[0;34m)\u001b[0m\u001b[0;34m/\u001b[0m\u001b[0mS_n_lisa\u001b[0m\u001b[0;34m(\u001b[0m\u001b[0mx\u001b[0m\u001b[0;34m)\u001b[0m\u001b[0;34m*\u001b[0m\u001b[0mnp\u001b[0m\u001b[0;34m.\u001b[0m\u001b[0mcos\u001b[0m\u001b[0;34m(\u001b[0m\u001b[0manglegas\u001b[0m\u001b[0;34m(\u001b[0m\u001b[0mx\u001b[0m\u001b[0;34m)\u001b[0m\u001b[0;34m-\u001b[0m\u001b[0manglevac\u001b[0m\u001b[0;34m(\u001b[0m\u001b[0mx\u001b[0m\u001b[0;34m)\u001b[0m\u001b[0;34m)\u001b[0m\u001b[0;34m,\u001b[0m\u001b[0md\u001b[0m\u001b[0;34m[\u001b[0m\u001b[0;36m0\u001b[0m\u001b[0;34m]\u001b[0m\u001b[0;34m,\u001b[0m\u001b[0md\u001b[0m\u001b[0;34m[\u001b[0m\u001b[0;36m1\u001b[0m\u001b[0;34m]\u001b[0m\u001b[0;34m,\u001b[0m\u001b[0mlimit\u001b[0m\u001b[0;34m=\u001b[0m\u001b[0;36m15000\u001b[0m\u001b[0;34m,\u001b[0m\u001b[0mepsabs\u001b[0m\u001b[0;34m=\u001b[0m\u001b[0;36m0.005\u001b[0m\u001b[0;34m)\u001b[0m\u001b[0;34m\u001b[0m\u001b[0m\n\u001b[0m\u001b[1;32m     36\u001b[0m     \u001b[0mff\u001b[0m\u001b[0;34m=\u001b[0m\u001b[0mAB\u001b[0m\u001b[0;34m[\u001b[0m\u001b[0;36m0\u001b[0m\u001b[0;34m]\u001b[0m\u001b[0;34m/\u001b[0m\u001b[0mA\u001b[0m\u001b[0;34m[\u001b[0m\u001b[0;36m0\u001b[0m\u001b[0;34m]\u001b[0m\u001b[0;34m/\u001b[0m\u001b[0mB\u001b[0m\u001b[0;34m[\u001b[0m\u001b[0;36m0\u001b[0m\u001b[0;34m]\u001b[0m\u001b[0;34m\u001b[0m\u001b[0m\n\u001b[1;32m     37\u001b[0m     \u001b[0merr\u001b[0m\u001b[0;34m=\u001b[0m\u001b[0mabs\u001b[0m\u001b[0;34m(\u001b[0m\u001b[0;36m1\u001b[0m\u001b[0;34m/\u001b[0m\u001b[0mA\u001b[0m\u001b[0;34m[\u001b[0m\u001b[0;36m0\u001b[0m\u001b[0;34m]\u001b[0m\u001b[0;34m/\u001b[0m\u001b[0mB\u001b[0m\u001b[0;34m[\u001b[0m\u001b[0;36m0\u001b[0m\u001b[0;34m]\u001b[0m\u001b[0;34m*\u001b[0m\u001b[0mAB\u001b[0m\u001b[0;34m[\u001b[0m\u001b[0;36m1\u001b[0m\u001b[0;34m]\u001b[0m\u001b[0;34m)\u001b[0m\u001b[0;34m+\u001b[0m\u001b[0mabs\u001b[0m\u001b[0;34m(\u001b[0m\u001b[0;36m1\u001b[0m\u001b[0;34m/\u001b[0m\u001b[0mA\u001b[0m\u001b[0;34m[\u001b[0m\u001b[0;36m0\u001b[0m\u001b[0;34m]\u001b[0m\u001b[0;34m/\u001b[0m\u001b[0mA\u001b[0m\u001b[0;34m[\u001b[0m\u001b[0;36m0\u001b[0m\u001b[0;34m]\u001b[0m\u001b[0;34m/\u001b[0m\u001b[0mB\u001b[0m\u001b[0;34m[\u001b[0m\u001b[0;36m0\u001b[0m\u001b[0;34m]\u001b[0m\u001b[0;34m*\u001b[0m\u001b[0mA\u001b[0m\u001b[0;34m[\u001b[0m\u001b[0;36m1\u001b[0m\u001b[0;34m]\u001b[0m\u001b[0;34m)\u001b[0m\u001b[0;34m+\u001b[0m\u001b[0mabs\u001b[0m\u001b[0;34m(\u001b[0m\u001b[0;36m1\u001b[0m\u001b[0;34m/\u001b[0m\u001b[0mA\u001b[0m\u001b[0;34m[\u001b[0m\u001b[0;36m0\u001b[0m\u001b[0;34m]\u001b[0m\u001b[0;34m/\u001b[0m\u001b[0mB\u001b[0m\u001b[0;34m[\u001b[0m\u001b[0;36m0\u001b[0m\u001b[0;34m]\u001b[0m\u001b[0;34m/\u001b[0m\u001b[0mB\u001b[0m\u001b[0;34m[\u001b[0m\u001b[0;36m0\u001b[0m\u001b[0;34m]\u001b[0m\u001b[0;34m*\u001b[0m\u001b[0mB\u001b[0m\u001b[0;34m[\u001b[0m\u001b[0;36m1\u001b[0m\u001b[0;34m]\u001b[0m\u001b[0;34m)\u001b[0m\u001b[0;34m\u001b[0m\u001b[0m\n",
      "\u001b[0;32m/Users/shyn/anaconda2/lib/python2.7/site-packages/scipy/integrate/quadpack.pyc\u001b[0m in \u001b[0;36mquad\u001b[0;34m(func, a, b, args, full_output, epsabs, epsrel, limit, points, weight, wvar, wopts, maxp1, limlst)\u001b[0m\n\u001b[1;32m    313\u001b[0m     \u001b[0;32mif\u001b[0m \u001b[0;34m(\u001b[0m\u001b[0mweight\u001b[0m \u001b[0;32mis\u001b[0m \u001b[0mNone\u001b[0m\u001b[0;34m)\u001b[0m\u001b[0;34m:\u001b[0m\u001b[0;34m\u001b[0m\u001b[0m\n\u001b[1;32m    314\u001b[0m         retval = _quad(func, a, b, args, full_output, epsabs, epsrel, limit,\n\u001b[0;32m--> 315\u001b[0;31m                        points)\n\u001b[0m\u001b[1;32m    316\u001b[0m     \u001b[0;32melse\u001b[0m\u001b[0;34m:\u001b[0m\u001b[0;34m\u001b[0m\u001b[0m\n\u001b[1;32m    317\u001b[0m         retval = _quad_weight(func, a, b, args, full_output, epsabs, epsrel,\n",
      "\u001b[0;32m/Users/shyn/anaconda2/lib/python2.7/site-packages/scipy/integrate/quadpack.pyc\u001b[0m in \u001b[0;36m_quad\u001b[0;34m(func, a, b, args, full_output, epsabs, epsrel, limit, points)\u001b[0m\n\u001b[1;32m    378\u001b[0m     \u001b[0;32mif\u001b[0m \u001b[0mpoints\u001b[0m \u001b[0;32mis\u001b[0m \u001b[0mNone\u001b[0m\u001b[0;34m:\u001b[0m\u001b[0;34m\u001b[0m\u001b[0m\n\u001b[1;32m    379\u001b[0m         \u001b[0;32mif\u001b[0m \u001b[0minfbounds\u001b[0m \u001b[0;34m==\u001b[0m \u001b[0;36m0\u001b[0m\u001b[0;34m:\u001b[0m\u001b[0;34m\u001b[0m\u001b[0m\n\u001b[0;32m--> 380\u001b[0;31m             \u001b[0;32mreturn\u001b[0m \u001b[0m_quadpack\u001b[0m\u001b[0;34m.\u001b[0m\u001b[0m_qagse\u001b[0m\u001b[0;34m(\u001b[0m\u001b[0mfunc\u001b[0m\u001b[0;34m,\u001b[0m\u001b[0ma\u001b[0m\u001b[0;34m,\u001b[0m\u001b[0mb\u001b[0m\u001b[0;34m,\u001b[0m\u001b[0margs\u001b[0m\u001b[0;34m,\u001b[0m\u001b[0mfull_output\u001b[0m\u001b[0;34m,\u001b[0m\u001b[0mepsabs\u001b[0m\u001b[0;34m,\u001b[0m\u001b[0mepsrel\u001b[0m\u001b[0;34m,\u001b[0m\u001b[0mlimit\u001b[0m\u001b[0;34m)\u001b[0m\u001b[0;34m\u001b[0m\u001b[0m\n\u001b[0m\u001b[1;32m    381\u001b[0m         \u001b[0;32melse\u001b[0m\u001b[0;34m:\u001b[0m\u001b[0;34m\u001b[0m\u001b[0m\n\u001b[1;32m    382\u001b[0m             \u001b[0;32mreturn\u001b[0m \u001b[0m_quadpack\u001b[0m\u001b[0;34m.\u001b[0m\u001b[0m_qagie\u001b[0m\u001b[0;34m(\u001b[0m\u001b[0mfunc\u001b[0m\u001b[0;34m,\u001b[0m\u001b[0mbound\u001b[0m\u001b[0;34m,\u001b[0m\u001b[0minfbounds\u001b[0m\u001b[0;34m,\u001b[0m\u001b[0margs\u001b[0m\u001b[0;34m,\u001b[0m\u001b[0mfull_output\u001b[0m\u001b[0;34m,\u001b[0m\u001b[0mepsabs\u001b[0m\u001b[0;34m,\u001b[0m\u001b[0mepsrel\u001b[0m\u001b[0;34m,\u001b[0m\u001b[0mlimit\u001b[0m\u001b[0;34m)\u001b[0m\u001b[0;34m\u001b[0m\u001b[0m\n",
      "\u001b[0;32m<ipython-input-50-983e055974e8>\u001b[0m in \u001b[0;36m<lambda>\u001b[0;34m(x)\u001b[0m\n\u001b[1;32m     33\u001b[0m     \u001b[0md\u001b[0m\u001b[0;34m=\u001b[0m\u001b[0;34m(\u001b[0m\u001b[0mnp\u001b[0m\u001b[0;34m.\u001b[0m\u001b[0marray\u001b[0m\u001b[0;34m(\u001b[0m\u001b[0;34m(\u001b[0m\u001b[0mfivac\u001b[0m\u001b[0;34m,\u001b[0m\u001b[0mfigas\u001b[0m\u001b[0;34m)\u001b[0m\u001b[0;34m)\u001b[0m\u001b[0;34m.\u001b[0m\u001b[0mmax\u001b[0m\u001b[0;34m(\u001b[0m\u001b[0;34m)\u001b[0m\u001b[0;34m,\u001b[0m\u001b[0mnp\u001b[0m\u001b[0;34m.\u001b[0m\u001b[0marray\u001b[0m\u001b[0;34m(\u001b[0m\u001b[0;34m(\u001b[0m\u001b[0mffvac\u001b[0m\u001b[0;34m,\u001b[0m\u001b[0mffgas\u001b[0m\u001b[0;34m)\u001b[0m\u001b[0;34m)\u001b[0m\u001b[0;34m.\u001b[0m\u001b[0mmin\u001b[0m\u001b[0;34m(\u001b[0m\u001b[0;34m)\u001b[0m\u001b[0;34m)\u001b[0m\u001b[0;34m\u001b[0m\u001b[0m\n\u001b[1;32m     34\u001b[0m     \u001b[0mB\u001b[0m\u001b[0;34m=\u001b[0m\u001b[0mnp\u001b[0m\u001b[0;34m.\u001b[0m\u001b[0msqrt\u001b[0m\u001b[0;34m(\u001b[0m\u001b[0msci_integrate\u001b[0m\u001b[0;34m.\u001b[0m\u001b[0mquad\u001b[0m\u001b[0;34m(\u001b[0m\u001b[0;32mlambda\u001b[0m \u001b[0mx\u001b[0m\u001b[0;34m:\u001b[0m\u001b[0;36m4\u001b[0m\u001b[0;34m*\u001b[0m\u001b[0mnp\u001b[0m\u001b[0;34m.\u001b[0m\u001b[0mpower\u001b[0m\u001b[0;34m(\u001b[0m\u001b[0mhvacs\u001b[0m\u001b[0;34m(\u001b[0m\u001b[0mx\u001b[0m\u001b[0;34m)\u001b[0m\u001b[0;34m,\u001b[0m\u001b[0;36m2.0\u001b[0m\u001b[0;34m)\u001b[0m\u001b[0;34m/\u001b[0m\u001b[0mS_n_lisa\u001b[0m\u001b[0;34m(\u001b[0m\u001b[0mx\u001b[0m\u001b[0;34m)\u001b[0m\u001b[0;34m,\u001b[0m\u001b[0mfivac\u001b[0m\u001b[0;34m,\u001b[0m\u001b[0mffvac\u001b[0m\u001b[0;34m,\u001b[0m\u001b[0mlimit\u001b[0m\u001b[0;34m=\u001b[0m\u001b[0;36m15000\u001b[0m\u001b[0;34m,\u001b[0m\u001b[0mepsabs\u001b[0m\u001b[0;34m=\u001b[0m\u001b[0;36m0.005\u001b[0m\u001b[0;34m)\u001b[0m\u001b[0;34m)\u001b[0m\u001b[0;34m\u001b[0m\u001b[0m\n\u001b[0;32m---> 35\u001b[0;31m     \u001b[0mAB\u001b[0m\u001b[0;34m=\u001b[0m\u001b[0msci_integrate\u001b[0m\u001b[0;34m.\u001b[0m\u001b[0mquad\u001b[0m\u001b[0;34m(\u001b[0m\u001b[0;32mlambda\u001b[0m \u001b[0mx\u001b[0m\u001b[0;34m:\u001b[0m\u001b[0;36m4\u001b[0m\u001b[0;34m*\u001b[0m\u001b[0mhvacs\u001b[0m\u001b[0;34m(\u001b[0m\u001b[0mx\u001b[0m\u001b[0;34m)\u001b[0m\u001b[0;34m*\u001b[0m\u001b[0mhs\u001b[0m\u001b[0;34m(\u001b[0m\u001b[0mx\u001b[0m\u001b[0;34m)\u001b[0m\u001b[0;34m/\u001b[0m\u001b[0mS_n_lisa\u001b[0m\u001b[0;34m(\u001b[0m\u001b[0mx\u001b[0m\u001b[0;34m)\u001b[0m\u001b[0;34m*\u001b[0m\u001b[0mnp\u001b[0m\u001b[0;34m.\u001b[0m\u001b[0mcos\u001b[0m\u001b[0;34m(\u001b[0m\u001b[0manglegas\u001b[0m\u001b[0;34m(\u001b[0m\u001b[0mx\u001b[0m\u001b[0;34m)\u001b[0m\u001b[0;34m-\u001b[0m\u001b[0manglevac\u001b[0m\u001b[0;34m(\u001b[0m\u001b[0mx\u001b[0m\u001b[0;34m)\u001b[0m\u001b[0;34m)\u001b[0m\u001b[0;34m,\u001b[0m\u001b[0md\u001b[0m\u001b[0;34m[\u001b[0m\u001b[0;36m0\u001b[0m\u001b[0;34m]\u001b[0m\u001b[0;34m,\u001b[0m\u001b[0md\u001b[0m\u001b[0;34m[\u001b[0m\u001b[0;36m1\u001b[0m\u001b[0;34m]\u001b[0m\u001b[0;34m,\u001b[0m\u001b[0mlimit\u001b[0m\u001b[0;34m=\u001b[0m\u001b[0;36m15000\u001b[0m\u001b[0;34m,\u001b[0m\u001b[0mepsabs\u001b[0m\u001b[0;34m=\u001b[0m\u001b[0;36m0.005\u001b[0m\u001b[0;34m)\u001b[0m\u001b[0;34m\u001b[0m\u001b[0m\n\u001b[0m\u001b[1;32m     36\u001b[0m     \u001b[0mff\u001b[0m\u001b[0;34m=\u001b[0m\u001b[0mAB\u001b[0m\u001b[0;34m[\u001b[0m\u001b[0;36m0\u001b[0m\u001b[0;34m]\u001b[0m\u001b[0;34m/\u001b[0m\u001b[0mA\u001b[0m\u001b[0;34m[\u001b[0m\u001b[0;36m0\u001b[0m\u001b[0;34m]\u001b[0m\u001b[0;34m/\u001b[0m\u001b[0mB\u001b[0m\u001b[0;34m[\u001b[0m\u001b[0;36m0\u001b[0m\u001b[0;34m]\u001b[0m\u001b[0;34m\u001b[0m\u001b[0m\n\u001b[1;32m     37\u001b[0m     \u001b[0merr\u001b[0m\u001b[0;34m=\u001b[0m\u001b[0mabs\u001b[0m\u001b[0;34m(\u001b[0m\u001b[0;36m1\u001b[0m\u001b[0;34m/\u001b[0m\u001b[0mA\u001b[0m\u001b[0;34m[\u001b[0m\u001b[0;36m0\u001b[0m\u001b[0;34m]\u001b[0m\u001b[0;34m/\u001b[0m\u001b[0mB\u001b[0m\u001b[0;34m[\u001b[0m\u001b[0;36m0\u001b[0m\u001b[0;34m]\u001b[0m\u001b[0;34m*\u001b[0m\u001b[0mAB\u001b[0m\u001b[0;34m[\u001b[0m\u001b[0;36m1\u001b[0m\u001b[0;34m]\u001b[0m\u001b[0;34m)\u001b[0m\u001b[0;34m+\u001b[0m\u001b[0mabs\u001b[0m\u001b[0;34m(\u001b[0m\u001b[0;36m1\u001b[0m\u001b[0;34m/\u001b[0m\u001b[0mA\u001b[0m\u001b[0;34m[\u001b[0m\u001b[0;36m0\u001b[0m\u001b[0;34m]\u001b[0m\u001b[0;34m/\u001b[0m\u001b[0mA\u001b[0m\u001b[0;34m[\u001b[0m\u001b[0;36m0\u001b[0m\u001b[0;34m]\u001b[0m\u001b[0;34m/\u001b[0m\u001b[0mB\u001b[0m\u001b[0;34m[\u001b[0m\u001b[0;36m0\u001b[0m\u001b[0;34m]\u001b[0m\u001b[0;34m*\u001b[0m\u001b[0mA\u001b[0m\u001b[0;34m[\u001b[0m\u001b[0;36m1\u001b[0m\u001b[0;34m]\u001b[0m\u001b[0;34m)\u001b[0m\u001b[0;34m+\u001b[0m\u001b[0mabs\u001b[0m\u001b[0;34m(\u001b[0m\u001b[0;36m1\u001b[0m\u001b[0;34m/\u001b[0m\u001b[0mA\u001b[0m\u001b[0;34m[\u001b[0m\u001b[0;36m0\u001b[0m\u001b[0;34m]\u001b[0m\u001b[0;34m/\u001b[0m\u001b[0mB\u001b[0m\u001b[0;34m[\u001b[0m\u001b[0;36m0\u001b[0m\u001b[0;34m]\u001b[0m\u001b[0;34m/\u001b[0m\u001b[0mB\u001b[0m\u001b[0;34m[\u001b[0m\u001b[0;36m0\u001b[0m\u001b[0;34m]\u001b[0m\u001b[0;34m*\u001b[0m\u001b[0mB\u001b[0m\u001b[0;34m[\u001b[0m\u001b[0;36m1\u001b[0m\u001b[0;34m]\u001b[0m\u001b[0;34m)\u001b[0m\u001b[0;34m\u001b[0m\u001b[0m\n",
      "\u001b[0;32m/Users/shyn/anaconda2/lib/python2.7/site-packages/scipy/interpolate/polyint.pyc\u001b[0m in \u001b[0;36m__call__\u001b[0;34m(self, x)\u001b[0m\n\u001b[1;32m     78\u001b[0m         \u001b[0mx\u001b[0m\u001b[0;34m,\u001b[0m \u001b[0mx_shape\u001b[0m \u001b[0;34m=\u001b[0m \u001b[0mself\u001b[0m\u001b[0;34m.\u001b[0m\u001b[0m_prepare_x\u001b[0m\u001b[0;34m(\u001b[0m\u001b[0mx\u001b[0m\u001b[0;34m)\u001b[0m\u001b[0;34m\u001b[0m\u001b[0m\n\u001b[1;32m     79\u001b[0m         \u001b[0my\u001b[0m \u001b[0;34m=\u001b[0m \u001b[0mself\u001b[0m\u001b[0;34m.\u001b[0m\u001b[0m_evaluate\u001b[0m\u001b[0;34m(\u001b[0m\u001b[0mx\u001b[0m\u001b[0;34m)\u001b[0m\u001b[0;34m\u001b[0m\u001b[0m\n\u001b[0;32m---> 80\u001b[0;31m         \u001b[0;32mreturn\u001b[0m \u001b[0mself\u001b[0m\u001b[0;34m.\u001b[0m\u001b[0m_finish_y\u001b[0m\u001b[0;34m(\u001b[0m\u001b[0my\u001b[0m\u001b[0;34m,\u001b[0m \u001b[0mx_shape\u001b[0m\u001b[0;34m)\u001b[0m\u001b[0;34m\u001b[0m\u001b[0m\n\u001b[0m\u001b[1;32m     81\u001b[0m \u001b[0;34m\u001b[0m\u001b[0m\n\u001b[1;32m     82\u001b[0m     \u001b[0;32mdef\u001b[0m \u001b[0m_evaluate\u001b[0m\u001b[0;34m(\u001b[0m\u001b[0mself\u001b[0m\u001b[0;34m,\u001b[0m \u001b[0mx\u001b[0m\u001b[0;34m)\u001b[0m\u001b[0;34m:\u001b[0m\u001b[0;34m\u001b[0m\u001b[0m\n",
      "\u001b[0;32m/Users/shyn/anaconda2/lib/python2.7/site-packages/scipy/interpolate/polyint.pyc\u001b[0m in \u001b[0;36m_finish_y\u001b[0;34m(self, y, x_shape)\u001b[0m\n\u001b[1;32m     94\u001b[0m     \u001b[0;32mdef\u001b[0m \u001b[0m_finish_y\u001b[0m\u001b[0;34m(\u001b[0m\u001b[0mself\u001b[0m\u001b[0;34m,\u001b[0m \u001b[0my\u001b[0m\u001b[0;34m,\u001b[0m \u001b[0mx_shape\u001b[0m\u001b[0;34m)\u001b[0m\u001b[0;34m:\u001b[0m\u001b[0;34m\u001b[0m\u001b[0m\n\u001b[1;32m     95\u001b[0m         \u001b[0;34m\"\"\"Reshape interpolated y back to n-d array similar to initial y\"\"\"\u001b[0m\u001b[0;34m\u001b[0m\u001b[0m\n\u001b[0;32m---> 96\u001b[0;31m         \u001b[0my\u001b[0m \u001b[0;34m=\u001b[0m \u001b[0my\u001b[0m\u001b[0;34m.\u001b[0m\u001b[0mreshape\u001b[0m\u001b[0;34m(\u001b[0m\u001b[0mx_shape\u001b[0m \u001b[0;34m+\u001b[0m \u001b[0mself\u001b[0m\u001b[0;34m.\u001b[0m\u001b[0m_y_extra_shape\u001b[0m\u001b[0;34m)\u001b[0m\u001b[0;34m\u001b[0m\u001b[0m\n\u001b[0m\u001b[1;32m     97\u001b[0m         \u001b[0;32mif\u001b[0m \u001b[0mself\u001b[0m\u001b[0;34m.\u001b[0m\u001b[0m_y_axis\u001b[0m \u001b[0;34m!=\u001b[0m \u001b[0;36m0\u001b[0m \u001b[0;32mand\u001b[0m \u001b[0mx_shape\u001b[0m \u001b[0;34m!=\u001b[0m \u001b[0;34m(\u001b[0m\u001b[0;34m)\u001b[0m\u001b[0;34m:\u001b[0m\u001b[0;34m\u001b[0m\u001b[0m\n\u001b[1;32m     98\u001b[0m             \u001b[0mnx\u001b[0m \u001b[0;34m=\u001b[0m \u001b[0mlen\u001b[0m\u001b[0;34m(\u001b[0m\u001b[0mx_shape\u001b[0m\u001b[0;34m)\u001b[0m\u001b[0;34m\u001b[0m\u001b[0m\n",
      "\u001b[0;31mKeyboardInterrupt\u001b[0m: "
     ]
    }
   ],
   "source": [
    "t1=time.clock()\n",
    "#parameters changes\n",
    "phinum=30\n",
    "acu=0.0001\n",
    "n=37.6\n",
    "mc=m_sun*n\n",
    "phis=np.linspace(0,2*sciconsts.pi,phinum)\n",
    "noden=noden_cal(np.array((mc,)),phinum,0.0001,figas,ffgas)\n",
    "\n",
    "print 'cal start,node number=',noden\n",
    "phin=0\n",
    "while phin<phinum:\n",
    "    t3=time.clock()\n",
    "    m1v=solvem(mc,0.25)[0]\n",
    "    m2v=solvem(mc,0.25)[1]\n",
    "    tcl=tlimit(mc,figas,ffgas)\n",
    "    tcnum=tcn_decide(mc,figas,ffgas,acu)\n",
    "    tc=0.5*(tcl[1]+tcl[0])\n",
    "    fivac=freq_tvac(0,m1v,m2v,tc)\n",
    "    ffvac=freq_tvac(4*years,m1v,m2v,tc)\n",
    "    Ng=int(t_scale*ffvac*4)\n",
    "    Ng=pow2(Ng)\n",
    "    T=t_scale/Ng\n",
    "    xs=np.linspace(0,1/2.0/T,num=Ng//2)\n",
    "    t=np.linspace(0,t_scale,num=Ng)\n",
    "    hvt=hvac(t,m1v,m2v,tc,phis[phin])\n",
    "    hfvac1=fft.fft(hvt)\n",
    "    hfvac_abs=abs(hfvac1)\n",
    "    hfvac_angle=np.arctan(hfvac1.imag/hfvac1.real)[0:Ng//2]\n",
    "    anglevac=sci_interpolate.interp1d(xs,hfvac_angle)\n",
    "    hfvac2=2.0/Ng*hfvac_abs[0:Ng//2]\n",
    "    hvacs=sci_interpolate.interp1d(xs,hfvac2)\n",
    "    d=(np.array((fivac,figas)).max(),np.array((ffvac,ffgas)).min())\n",
    "    B=np.sqrt(sci_integrate.quad(lambda x:4*np.power(hvacs(x),2.0)/S_n_lisa(x),fivac,ffvac,limit=15000,epsabs=0.005))\n",
    "    AB=sci_integrate.quad(lambda x:4*hvacs(x)*hs(x)/S_n_lisa(x)*np.cos(anglegas(x)-anglevac(x)),d[0],d[1],limit=15000,epsabs=0.005)\n",
    "    ff=AB[0]/A[0]/B[0]\n",
    "    err=abs(1/A[0]/B[0]*AB[1])+abs(1/A[0]/A[0]/B[0]*A[1])+abs(1/A[0]/B[0]/B[0]*B[1])\n",
    "    t4=time.clock()\n",
    "    print (phis[phin]/sciconsts.pi,ff,err,t4-t3,AB[1],A[1],B[1])\n",
    "    phin=phin+1\n",
    "t2=time.clock()\n",
    "print 'completed!',t2-t1\n"
   ]
  },
  {
   "cell_type": "code",
   "execution_count": 30,
   "metadata": {},
   "outputs": [
    {
     "data": {
      "text/plain": [
       "array([ 19.53719433,   1.36455676])"
      ]
     },
     "execution_count": 30,
     "metadata": {},
     "output_type": "execute_result"
    }
   ],
   "source": [
    "#%timeit \n",
    "np.sqrt(sci_integrate.quad(lambda x:4*np.power(hvacs(x),2.0)/S_n_lisa(x),fivac,ffvac))"
   ]
  },
  {
   "cell_type": "code",
   "execution_count": 38,
   "metadata": {},
   "outputs": [
    {
     "data": {
      "text/plain": [
       "(0.9796155707752217, 0.021913566697574605)"
      ]
     },
     "execution_count": 38,
     "metadata": {},
     "output_type": "execute_result"
    }
   ],
   "source": [
    "#%timeit \n",
    "sci_integrate.quad(lambda x:4*hvacs(x)*hs(x)/S_n_lisa(x)*np.cos(anglegas(x)-anglevac(x)),d[0],d[1],limit=1000,epsabs=0.05)"
   ]
  },
  {
   "cell_type": "code",
   "execution_count": 34,
   "metadata": {},
   "outputs": [
    {
     "data": {
      "text/plain": [
       "(18.15848427766679, 0.35293294527252783)"
      ]
     },
     "execution_count": 34,
     "metadata": {},
     "output_type": "execute_result"
    }
   ],
   "source": []
  },
  {
   "cell_type": "code",
   "execution_count": 6,
   "metadata": {},
   "outputs": [
    {
     "ename": "TypeError",
     "evalue": "FFcal() takes exactly 2 arguments (1 given)",
     "output_type": "error",
     "traceback": [
      "\u001b[0;31m---------------------------------------------------------------------------\u001b[0m",
      "\u001b[0;31mTypeError\u001b[0m                                 Traceback (most recent call last)",
      "\u001b[0;32m<ipython-input-6-f94c89feb73e>\u001b[0m in \u001b[0;36m<module>\u001b[0;34m()\u001b[0m\n\u001b[1;32m     35\u001b[0m         \u001b[0mphin\u001b[0m\u001b[0;34m=\u001b[0m\u001b[0mphin\u001b[0m\u001b[0;34m+\u001b[0m\u001b[0;36m1\u001b[0m\u001b[0;34m\u001b[0m\u001b[0m\n\u001b[1;32m     36\u001b[0m \u001b[0;34m\u001b[0m\u001b[0m\n\u001b[0;32m---> 37\u001b[0;31m \u001b[0mFFcal\u001b[0m\u001b[0;34m(\u001b[0m\u001b[0;36m37.10\u001b[0m\u001b[0;34m)\u001b[0m\u001b[0;34m\u001b[0m\u001b[0m\n\u001b[0m",
      "\u001b[0;31mTypeError\u001b[0m: FFcal() takes exactly 2 arguments (1 given)"
     ]
    }
   ],
   "source": [
    "def FFcal(m2n,phinum):\n",
    "    #parameters changes\n",
    "    acu=0.0001\n",
    "    mc=m_sun*m2n\n",
    "    phis=np.linspace(0,2*sciconsts.pi,phinum)\n",
    "    noden=noden_cal(np.array((mc,)),phinum,0.0001,figas,ffgas)\n",
    "    print 'cal start,node number=',noden\n",
    "    phin=0\n",
    "    while phin<phinum:\n",
    "        m1v=solvem(mc,0.25)[0]\n",
    "        m2v=solvem(mc,0.25)[1]\n",
    "        tcl=tlimit(mc,figas,ffgas)\n",
    "        tcnum=tcn_decide(mc,figas,ffgas,acu)\n",
    "        tc=0.5*(tcl[1]+tcl[0])\n",
    "        fivac=freq_tvac(0,m1v,m2v,tc)\n",
    "        ffvac=freq_tvac(4*years,m1v,m2v,tc)\n",
    "        Ng=int(t_scale*ffvac*4)\n",
    "        Ng=pow2(Ng)\n",
    "        T=t_scale/Ng\n",
    "        xs=np.linspace(0,1/2.0/T,num=Ng//2)\n",
    "        t=np.linspace(0,t_scale,num=Ng)\n",
    "        hvt=hvac(t,m1v,m2v,tc,phis[phin])\n",
    "        hfvac1=fft.fft(hvt)\n",
    "        hfvac_abs=abs(hfvac1)\n",
    "        hfvac_angle=np.arctan(hfvac1.imag/hfvac1.real)[0:Ng//2]\n",
    "        anglevac=sci_interpolate.interp1d(xs,hfvac_angle)\n",
    "        hfvac2=2.0/Ng*hfvac_abs[0:Ng//2]\n",
    "        hvacs=sci_interpolate.interp1d(xs,hfvac2)\n",
    "        d=(np.array((fivac,figas)).max(),np.array((ffvac,ffgas)).min())\n",
    "        B=np.sqrt(sci_integrate.quad(lambda x:4*np.power(hvacs(x),2.0)/S_n_lisa(x),fivac,ffvac))\n",
    "        AB=sci_integrate.quad(lambda x:4*hvacs(x)*hs(x)/S_n_lisa(x)*np.cos(anglegas(x)-anglevac(x)),d[0],d[1])\n",
    "        ff=AB[0]/A[0]/B[0]\n",
    "        err=abs(1/A[0]/B[0]*AB[1])+abs(1/A[0]/A[0]/B[0]*A[1])+abs(1/A[0]/B[0]/B[0]*B[1])\n",
    "        print (phis[phin],ff,err)\n",
    "        phin=phin+1\n",
    "        \n",
    "FFcal(37.10)"
   ]
  },
  {
   "cell_type": "code",
   "execution_count": 7,
   "metadata": {},
   "outputs": [
    {
     "ename": "NameError",
     "evalue": "global name 'figas' is not defined",
     "output_type": "error",
     "traceback": [
      "\u001b[0;31m---------------------------------------------------------------------------\u001b[0m",
      "\u001b[0;31mNameError\u001b[0m                                 Traceback (most recent call last)",
      "\u001b[0;32m<ipython-input-7-4938c984e5b0>\u001b[0m in \u001b[0;36m<module>\u001b[0;34m()\u001b[0m\n\u001b[1;32m     35\u001b[0m         \u001b[0mphin\u001b[0m\u001b[0;34m=\u001b[0m\u001b[0mphin\u001b[0m\u001b[0;34m+\u001b[0m\u001b[0;36m1\u001b[0m\u001b[0;34m\u001b[0m\u001b[0m\n\u001b[1;32m     36\u001b[0m \u001b[0;34m\u001b[0m\u001b[0m\n\u001b[0;32m---> 37\u001b[0;31m \u001b[0mFFcal\u001b[0m\u001b[0;34m(\u001b[0m\u001b[0;36m37.8\u001b[0m\u001b[0;34m,\u001b[0m\u001b[0;36m1\u001b[0m\u001b[0;34m)\u001b[0m\u001b[0;34m\u001b[0m\u001b[0m\n\u001b[0m",
      "\u001b[0;32m<ipython-input-7-4938c984e5b0>\u001b[0m in \u001b[0;36mFFcal\u001b[0;34m(m2n, phinum)\u001b[0m\n\u001b[1;32m      4\u001b[0m     \u001b[0mmc\u001b[0m\u001b[0;34m=\u001b[0m\u001b[0mm_sun\u001b[0m\u001b[0;34m*\u001b[0m\u001b[0mm2n\u001b[0m\u001b[0;34m\u001b[0m\u001b[0m\n\u001b[1;32m      5\u001b[0m     \u001b[0mphis\u001b[0m\u001b[0;34m=\u001b[0m\u001b[0mnp\u001b[0m\u001b[0;34m.\u001b[0m\u001b[0mlinspace\u001b[0m\u001b[0;34m(\u001b[0m\u001b[0;36m0\u001b[0m\u001b[0;34m,\u001b[0m\u001b[0;36m2\u001b[0m\u001b[0;34m*\u001b[0m\u001b[0msciconsts\u001b[0m\u001b[0;34m.\u001b[0m\u001b[0mpi\u001b[0m\u001b[0;34m,\u001b[0m\u001b[0mphinum\u001b[0m\u001b[0;34m)\u001b[0m\u001b[0;34m\u001b[0m\u001b[0m\n\u001b[0;32m----> 6\u001b[0;31m     \u001b[0mnoden\u001b[0m\u001b[0;34m=\u001b[0m\u001b[0mnoden_cal\u001b[0m\u001b[0;34m(\u001b[0m\u001b[0mnp\u001b[0m\u001b[0;34m.\u001b[0m\u001b[0marray\u001b[0m\u001b[0;34m(\u001b[0m\u001b[0;34m(\u001b[0m\u001b[0mmc\u001b[0m\u001b[0;34m,\u001b[0m\u001b[0;34m)\u001b[0m\u001b[0;34m)\u001b[0m\u001b[0;34m,\u001b[0m\u001b[0mphinum\u001b[0m\u001b[0;34m,\u001b[0m\u001b[0;36m0.0001\u001b[0m\u001b[0;34m,\u001b[0m\u001b[0mfigas\u001b[0m\u001b[0;34m,\u001b[0m\u001b[0mffgas\u001b[0m\u001b[0;34m)\u001b[0m\u001b[0;34m\u001b[0m\u001b[0m\n\u001b[0m\u001b[1;32m      7\u001b[0m     \u001b[0;32mprint\u001b[0m \u001b[0;34m'cal start,node number='\u001b[0m\u001b[0;34m,\u001b[0m\u001b[0mnoden\u001b[0m\u001b[0;34m\u001b[0m\u001b[0m\n\u001b[1;32m      8\u001b[0m     \u001b[0mphin\u001b[0m\u001b[0;34m=\u001b[0m\u001b[0;36m0\u001b[0m\u001b[0;34m\u001b[0m\u001b[0m\n",
      "\u001b[0;31mNameError\u001b[0m: global name 'figas' is not defined"
     ]
    }
   ],
   "source": [
    "def FFcal(m2n,phinum):\n",
    "    #parameters changes\n",
    "    acu=0.0001\n",
    "    mc=m_sun*m2n\n",
    "    phis=np.linspace(0,2*sciconsts.pi,phinum)\n",
    "    noden=noden_cal(np.array((mc,)),phinum,0.0001,figas,ffgas)\n",
    "    print 'cal start,node number=',noden\n",
    "    phin=0\n",
    "    while phin<phinum:\n",
    "        m1v=solvem(mc,0.25)[0]\n",
    "        m2v=solvem(mc,0.25)[1]\n",
    "        tcl=tlimit(mc,figas,ffgas)\n",
    "        tcnum=tcn_decide(mc,figas,ffgas,acu)\n",
    "        tc=0.5*(tcl[1]+tcl[0])\n",
    "        fivac=freq_tvac(0,m1v,m2v,tc)\n",
    "        ffvac=freq_tvac(4*years,m1v,m2v,tc)\n",
    "        Ng=int(t_scale*ffvac*4)\n",
    "        Ng=pow2(Ng)\n",
    "        T=t_scale/Ng\n",
    "        xs=np.linspace(0,1/2.0/T,num=Ng//2)\n",
    "        t=np.linspace(0,t_scale,num=Ng)\n",
    "        hvt=hvac(t,m1v,m2v,tc,phis[phin])\n",
    "        hfvac1=fft.fft(hvt)\n",
    "        hfvac_abs=abs(hfvac1)\n",
    "        hfvac_angle=np.arctan(hfvac1.imag/hfvac1.real)[0:Ng//2]\n",
    "        anglevac=sci_interpolate.interp1d(xs,hfvac_angle)\n",
    "        hfvac2=2.0/Ng*hfvac_abs[0:Ng//2]\n",
    "        hvacs=sci_interpolate.interp1d(xs,hfvac2)\n",
    "        d=(np.array((fivac,figas)).max(),np.array((ffvac,ffgas)).min())\n",
    "        B=np.sqrt(sci_integrate.quad(lambda x:4*np.power(hvacs(x),2.0)/S_n_lisa(x),fivac,ffvac))\n",
    "        AB=sci_integrate.quad(lambda x:4*hvacs(x)*hs(x)/S_n_lisa(x)*np.cos(anglegas(x)-anglevac(x)),d[0],d[1])\n",
    "        ff=AB[0]/A[0]/B[0]\n",
    "        err=abs(1/A[0]/B[0]*AB[1])+abs(1/A[0]/A[0]/B[0]*A[1])+abs(1/A[0]/B[0]/B[0]*B[1])\n",
    "        print (phis[phin],ff,err)\n",
    "        phin=phin+1\n",
    "        \n",
    "FFcal(37.8,1)"
   ]
  },
  {
   "cell_type": "code",
   "execution_count": null,
   "metadata": {
    "collapsed": true
   },
   "outputs": [],
   "source": [
    "#parameters changes\n",
    "mcnum=1000\n",
    "phinum=10\n",
    "acu=0.0001\n",
    "mcs=np.linspace(37.9*m_sun,38*m_sun,mcnum)\n",
    "phis=np.linspace(0,2*sciconsts.pi,phinum)\n",
    "data=np.zeros((mcnum,3))\n",
    "Tesi=noden_cal(mcs,phinum,0.0001,figas,ffgas)/3600\n",
    "print 'cal start,esiT=',Tesi,'h'\n",
    "sys.stdout.flush()\n",
    "mcn=0\n",
    "tb=time.clock()\n",
    "while mcn<mcnum:\n",
    "    ffmax=0.0\n",
    "    phimaxn=0\n",
    "    tcmaxn=0\n",
    "    ffmax=0.0\n",
    "    errmax=0.0\n",
    "    m1v=solvem(mcs[mcn],0.25)[0]\n",
    "    m2v=solvem(mcs[mcn],0.25)[1]\n",
    "    tcl=tlimit(mcs[mcn],figas,ffgas)\n",
    "    tcnum=tcn_decide(mcs[mcn],figas,ffgas,acu)\n",
    "    tcl_sp=np.linspace(tcl[0],tcl[1],tcnum)\n",
    "    tcn=0\n",
    "    maxprosess=1.0\n",
    "    while tcn<tcnum:\n",
    "        phin=0\n",
    "        while phin<phinum:\n",
    "            ti=time.clock()\n",
    "            fivac=freq_tvac(0,m1v,m2v,tcl_sp[tcn])\n",
    "            ffvac=freq_tvac(4*years,m1v,m2v,tcl_sp[tcn])\n",
    "            Ng=int(t_scale*ffvac*4)\n",
    "            Ng=pow2(Ng)\n",
    "            T=t_scale/Ng\n",
    "            xs=np.linspace(0,1/2.0/T,num=Ng//2)\n",
    "            t=np.linspace(0,t_scale,num=Ng)\n",
    "            hvt=hvac(t,m1v,m2v,tcl_sp[tcn],phis[phin])\n",
    "            hfvac1=fft.fft(hvt)\n",
    "            hfvac_abs=abs(hfvac1)\n",
    "            hfvac_angle=np.arctan(hfvac1.imag/hfvac1.real)[0:Ng//2]\n",
    "            anglevac=sci_interpolate.interp1d(xs,hfvac_angle)\n",
    "            hfvac2=2.0/Ng*hfvac_abs[0:Ng//2]\n",
    "            hvacs=sci_interpolate.interp1d(xs,hfvac2)\n",
    "            d=(np.array((fivac,figas)).max(),np.array((ffvac,ffgas)).min())\n",
    "            B=np.sqrt(sci_integrate.quad(lambda x:4*np.power(hvacs(x),2.0)/S_n_lisa(x),fivac,ffvac))\n",
    "            AB=sci_integrate.quad(lambda x:4*hvacs(x)*hs(x)/S_n_lisa(x)*np.cos(anglegas(x)-anglevac(x)),d[0],d[1])\n",
    "            ff=AB[0]/A[0]/B[0]\n",
    "            err=abs(1/A[0]/B[0]*AB[1])+abs(1/A[0]/A[0]/B[0]*A[1])+abs(1/A[0]/B[0]/B[0]*B[1])\n",
    "            tf=time.clock()\n",
    "            if ff>ffmax:\n",
    "                ffmax=ff\n",
    "                errmax=err\n",
    "                phimaxn=phin\n",
    "                tcmaxn=tcn\n",
    "            #print mcs[mcn]/m_sun,ff\n",
    "            #sys.stdout.flush()\n",
    "            phin=phin+1\n",
    "            #maxprosess=maxprosess+1\n",
    "        tcn=tcn+1\n",
    "    data[mcn,0]=mcs[mcn]/m_sun\n",
    "    data[mcn,1]=ffmax\n",
    "    data[mcn,2]=errmax\n",
    "    print mcs[mcn]/m_sun,ffmax\n",
    "    sys.stdout.flush()\n",
    "    mcn=mcn+1\n",
    "np.savetxt(‘4.1.txt',data)\n",
    "te=time.clock()\n",
    "print 'cal completed!',(te-tb)/3600,'h'\n",
    "sys.stdout.flush()"
   ]
  }
 ],
 "metadata": {
  "kernelspec": {
   "display_name": "Python 2",
   "language": "python",
   "name": "python2"
  },
  "language_info": {
   "codemirror_mode": {
    "name": "ipython",
    "version": 2
   },
   "file_extension": ".py",
   "mimetype": "text/x-python",
   "name": "python",
   "nbconvert_exporter": "python",
   "pygments_lexer": "ipython2",
   "version": "2.7.13"
  }
 },
 "nbformat": 4,
 "nbformat_minor": 2
}
