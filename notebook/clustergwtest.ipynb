{
 "cells": [
  {
   "cell_type": "code",
   "execution_count": 1,
   "metadata": {
    "collapsed": true
   },
   "outputs": [],
   "source": [
    "import numpy as np\n",
    "import scipy.constants as sciconsts\n",
    "import scipy.fftpack as fft\n",
    "import scipy.interpolate as sci_interpolate\n",
    "import scipy.integrate as sci_integrate\n",
    "import time\n",
    "import sys\n",
    "from multiprocessing import Process,Pool\n",
    "import scipy.optimize as sciop"
   ]
  },
  {
   "cell_type": "code",
   "execution_count": 2,
   "metadata": {
    "collapsed": true
   },
   "outputs": [],
   "source": [
    "'''parameters'''\n",
    "def chirp_mass(m1,m2):\n",
    "    return np.power(m1*m2,0.6)/(np.power(m1+m2,0.2))\n",
    "def solvem(mc,smr):\n",
    "    a=mc/np.power(smr,0.6)\n",
    "    b=smr*np.power(a,2.0)\n",
    "    m1=(a+np.sqrt(np.power(a,2.0)-4.0*b))/2.0\n",
    "    m2=(a-np.sqrt(np.power(a,2.0)-4.0*b))/2.0\n",
    "    return np.array((m1,m2))\n",
    "def sym_mass_ratio(m1,m2):\n",
    "    return m1*m2/(np.power(m1+m2,2.0))\n",
    "'''lisa noise curve in rpsd unit N2A5:laserpower 2w,40cm telescope,armlength 5e6 km'''\n",
    "def S_gal_N2A5(f):\n",
    "    if f>=1.0e-5 and f<1.0e-3:\n",
    "        return np.power(f,-2.3)*np.power(10,-44.62)*20.0/3.0\n",
    "    if f>=1.0e-3 and f<np.power(10,-2.7):\n",
    "        return np.power(f,-4.4)*np.power(10,-50.92)*20.0/3.0\n",
    "    if f>=np.power(10,-2.7) and f<np.power(10,-2.4):\n",
    "        return np.power(f,-8.8)*np.power(10,-62.8)*20.0/3.0\n",
    "    if f>=np.power(10,-2.4) and f<=0.01:\n",
    "        return np.power(f,-20.0)*np.power(10,-89.68)*20.0/3.0\n",
    "    if f>0.01 or f<1.0e-5:\n",
    "        return 0\n",
    "def S_n_lisa(f):\n",
    "    m1=5.0e9\n",
    "    m2=sciconsts.c*0.41/m1/2.0\n",
    "    return 20.0/3.0*(1+np.power(f/m2,2.0))*(4.0*(9.0e-30/np.power(2*sciconsts.pi*f,4.0)*(1+1.0e-4/f))+2.96e-23+2.65e-23)/np.power(m1,2.0)+S_gal_N2A5(f)"
   ]
  },
  {
   "cell_type": "code",
   "execution_count": 3,
   "metadata": {
    "collapsed": true
   },
   "outputs": [],
   "source": [
    "'''vac model(2 mass parameters)'''\n",
    "def df_dtvac2(f,m_1,m_2):\n",
    "    m_c=chirp_mass(m_1,m_2)\n",
    "    M=m_1+m_2\n",
    "    mu=(m_1+m_2)/m_1/m_2\n",
    "    a1=743.0/336+11.0*mu/4/M\n",
    "    a2=sciconsts.G/np.power(sciconsts.c,3.0)\n",
    "    x=sciconsts.pi*M*f*a2\n",
    "    return np.power(a2,5.0/3.0)*96.0/5*np.power(sciconsts.pi,8.0/3.0)*np.power(m_c,5.0/3.0)*np.power(f,11.0/3.0)*(1-a1*np.power(x,2.0/3.0)+4*sciconsts.pi*x)\n",
    "def t_fvac2(f,m_1,m_2,figas):\n",
    "    return sci_integrate.quad(lambda f:1.0/df_dtvac2(f,m_1,m_2),figas,f,limit=1500)[0]\n",
    "'''reverse function :t(f) to f(t) to r(t)'''\n",
    "def f_rvac(r,m):\n",
    "    m_1=m[0]\n",
    "    m_2=m[1]\n",
    "    fi=m[2]\n",
    "    M=m_1+m_2\n",
    "    mu=(m_1+m_2)/m_1/m_2\n",
    "    a=np.sqrt(M)\n",
    "    b=(-1.5+mu*0.5/M)*sciconsts.G/np.power(sciconsts.c,2.0)\n",
    "    return np.sqrt(sciconsts.G)/sciconsts.pi*(a/np.power(r,1.5)+b/np.power(r,2.5)*np.power(M,1.5))-fi\n",
    "def f_rvacstart(fi,m_1,m_2):\n",
    "    M=m_1+m_2\n",
    "    return np.power(np.power(sciconsts.G*M,0.5)/(sciconsts.pi*fi),2.0/3.0)"
   ]
  },
  {
   "cell_type": "code",
   "execution_count": null,
   "metadata": {
    "collapsed": true
   },
   "outputs": [],
   "source": []
  },
  {
   "cell_type": "code",
   "execution_count": 4,
   "metadata": {
    "collapsed": true
   },
   "outputs": [],
   "source": [
    "'''my Tmodel(considering gas (SI))'''\n",
    "def k_1cal(m_1,m_2):\n",
    "    return 64.0*np.power(sciconsts.G,3.0)*m_1*m_2*(m_1+m_2)/5.0/np.power(sciconsts.c,5.0)\n",
    "def t_0cal(m_1,m_2,t_gas,a_0):\n",
    "    return t_gas*0.25*np.log(k_1cal(m_1,m_2)+np.power(a_0,4.0)/t_gas)\n",
    "def acalgas(t,k_1,t_gas,t_0):\n",
    "    return np.power((np.exp(4.0*(t_0-t)/t_gas)-k_1)*t_gas,0.25)\n",
    "def freq_tgas(t,m_1,m_2,t_gas,t_0):\n",
    "    k_1=k_1cal(m_1,m_2)\n",
    "    a_ft=acalgas(t,k_1,t_gas,t_0)\n",
    "    return 1.0/sciconsts.pi*np.sqrt((m_1+m_2)*sciconsts.G)*np.power(a_ft,-1.5)\n",
    "def phi_tgas(t,m_1,m_2,t_gas,t_0):\n",
    "    return sci_integrate.quad(lambda x:2*sciconsts.pi*freq_tgas(x,m_1,m_2,t_gas,t_0),0,t)[0]\n",
    "def hgas(t,m_1,m_2,t_gas,t_0,phi):\n",
    "    k_1=k_1cal(m_1,m_2)\n",
    "    return m_1*m_2/acalgas(t,k_1,t_gas,t_0)*np.cos(phi)/1e70"
   ]
  },
  {
   "cell_type": "code",
   "execution_count": 5,
   "metadata": {
    "collapsed": true
   },
   "outputs": [],
   "source": [
    "#consts setting\n",
    "m_sun=1.9891e30\n",
    "years=365*24*3600.0\n",
    "mpc=3.261*sciconsts.light_year\n",
    "t_scale=4*years"
   ]
  },
  {
   "cell_type": "code",
   "execution_count": 6,
   "metadata": {
    "collapsed": true
   },
   "outputs": [],
   "source": [
    "#gas cal\n",
    "m_cg=chirp_mass(10*m_sun,10*m_sun)\n",
    "m_1g=solvem(m_cg,0.24221453287197228)[0]\n",
    "m_2g=solvem(m_cg,0.24221453287197228)[1]\n",
    "'''mass ratio=0.7 smr=0.24221453287197228'''\n",
    "k_1g=k_1cal(m_1g,m_2g)\n",
    "t_gas=1000.0*years\n",
    "a_0=3.0e8\n",
    "t_0g=t_0cal(m_1g,m_2g,t_gas,a_0)"
   ]
  },
  {
   "cell_type": "code",
   "execution_count": 7,
   "metadata": {
    "collapsed": true
   },
   "outputs": [],
   "source": [
    "#(t_scale*0.01*4,N/0.01/t_scale,t_scale) \n",
    "figas=freq_tgas(0,m_1g,m_2g,t_gas,t_0g)\n",
    "ffgas=freq_tgas(t_scale,m_1g,m_2g,t_gas,t_0g)\n",
    "Ng=10000000\n",
    "t=np.linspace(0,t_scale,num=Ng)\n",
    "#tdomain interp1d\n",
    "n1=10000\n",
    "tphi=np.linspace(0,t_scale,n1)\n",
    "i=0\n",
    "workphi=np.zeros(n1)\n",
    "while i<n1:\n",
    "    workphi[i]=phi_tgas(tphi[i],m_1g,m_2g,t_gas,t_0g)\n",
    "    i=i+1\n",
    "phimo=sci_interpolate.interp1d(tphi,workphi)\n",
    "#tdomain point cal\n",
    "Tg=t_scale/Ng\n",
    "hfgas=hgas(t,m_1g,m_2g,t_gas,t_0g,phimo(t))"
   ]
  },
  {
   "cell_type": "code",
   "execution_count": 8,
   "metadata": {
    "collapsed": true
   },
   "outputs": [],
   "source": [
    "#fft\n",
    "xs=np.linspace(0,1/2.0/Tg,num=Ng//2)\n",
    "hfgas1=fft.fft(hfgas)\n",
    "hfgas_abs=abs(hfgas1)\n",
    "hfgas_angle=np.arctan(hfgas1.imag/hfgas1.real)[0:Ng//2]\n",
    "hfgas2=2.0/Ng*hfgas_abs[0:Ng//2]\n",
    "hs=sci_interpolate.interp1d(xs,hfgas2)\n",
    "anglegas=sci_interpolate.interp1d(xs,hfgas_angle)\n",
    "A=sci_integrate.quad(lambda x:4*np.power(hs(x),2.0)/S_n_lisa(x),figas,ffgas,limit=1500,epsabs=0.005)\n",
    "Aval=np.sqrt(A[0])\n",
    "Aerr=0.5/Aval*A[1]"
   ]
  },
  {
   "cell_type": "code",
   "execution_count": 16,
   "metadata": {
    "collapsed": true
   },
   "outputs": [],
   "source": [
    "def find_max(m):\n",
    "    mcv=m[0]*m_sun\n",
    "    smrv=m[1]\n",
    "    figas=m[2]\n",
    "    ffgas=m[3]\n",
    "    sv=solvem(mcv,smrv)\n",
    "    m1v=sv[0]\n",
    "    m2v=sv[1]\n",
    "    fs=np.linspace(figas,ffgas,n1)\n",
    "    ts=np.zeros(n1)\n",
    "    i=0\n",
    "    while i<n1:\n",
    "        ts[i]=t_fvac2(fs[i],m1v,m2v,figas)\n",
    "        i=i+1\n",
    "    #t_fvac=sci_interpolate.interp1d(ts,fs)\n",
    "    ftv=sci_interpolate.interp1d(ts,fs)\n",
    "    fr=ftv(ts)\n",
    "    phiv1=np.zeros(n1)\n",
    "    i=0\n",
    "    while i<n1:\n",
    "        phiv1[i]=sci_integrate.quad(lambda x:2*sciconsts.pi*ftv(x),0,ts[i])[0]\n",
    "        i=i+1\n",
    "    phiv=sci_interpolate.interp1d(ts,phiv1)\n",
    "    rs=np.zeros(n1)\n",
    "    rs[0]=sciop.fsolve(f_rvac,f_rvacstart(figas,m1v,m2v),args=[m1v,m2v,figas])\n",
    "    i=1\n",
    "    while i<n1:\n",
    "        rs[i]=sciop.fsolve(f_rvac,rs[i-1],args=[m1v,m2v,fs[i]])\n",
    "        i=i+1\n",
    "    rv=sci_interpolate.interp1d(ts,rs)\n",
    "    t_scalev=ts[n1-1]\n",
    "    t=np.linspace(0,t_scalev,num=Ng)\n",
    "    hv=m1v*m2v/rv(t)*np.cos(phiv(t))/1e70\n",
    "    xs=np.linspace(0,1/2.0/Tg,num=Ng//2)\n",
    "    hfvac1=fft.fft(hv)\n",
    "    hfvac_abs=abs(hfvac1)\n",
    "    hfvac_angle=np.arctan(hfvac1.imag/hfvac1.real)[0:Ng//2]\n",
    "    hfvac2=2.0/Ng*hfvac_abs[0:Ng//2]\n",
    "    hvacr=sci_interpolate.interp1d(xs,hfvac2)\n",
    "    anglevac=sci_interpolate.interp1d(xs,hfvac_angle)\n",
    "    B=sci_integrate.quad(lambda x:4*np.power(hvacr(x),2.0)/S_n_lisa(x),figas,ffgas,limit=1500,epsabs=0.005)\n",
    "    Bval=np.sqrt(B[0])\n",
    "    Berr=0.5/Bval*B[1]\n",
    "    #phi max finding\n",
    "    phinum=40\n",
    "    phics=np.linspace(0,2*sciconsts.pi,phinum)\n",
    "    ffmax=0\n",
    "    errmax=0\n",
    "    for phic in phics:\n",
    "        AB=sci_integrate.quad(lambda x:4*hvacr(x)*hs(x)/S_n_lisa(x)*np.cos(anglegas(x)-anglevac(x)+phic),figas,ffgas,limit=2500,epsrel=0.03)\n",
    "        ff=abs(AB[0]/Aval/Bval)\n",
    "        err=abs(1/Aval/Bval*AB[1])+abs(AB[0]/Aval/Aval/Bval*Aerr)+abs(AB[0]/Aval/Bval/Bval*Berr)\n",
    "        #err1=abs(1*AB[1]/AB[0])+abs(1.0/Aval*Aerr)+abs(1.0/Bval*Berr)\n",
    "        if ff>ffmax:\n",
    "            ffmax=ff\n",
    "            errmax=err\n",
    "    return ffmax,errmax,m[0],m[1]"
   ]
  },
  {
   "cell_type": "code",
   "execution_count": 17,
   "metadata": {
    "collapsed": true
   },
   "outputs": [],
   "source": [
    "m=[3.83272727e+01,\n",
    "         2.42828283e-01,figas,ffgas]"
   ]
  },
  {
   "cell_type": "code",
   "execution_count": 18,
   "metadata": {},
   "outputs": [
    {
     "data": {
      "text/plain": [
       "(0.75413934893107826, 0.01575121591577994, 38.3272727, 0.242828283)"
      ]
     },
     "execution_count": 18,
     "metadata": {},
     "output_type": "execute_result"
    }
   ],
   "source": [
    "find_max(m)"
   ]
  },
  {
   "cell_type": "code",
   "execution_count": 56,
   "metadata": {
    "scrolled": true
   },
   "outputs": [
    {
     "name": "stderr",
     "output_type": "stream",
     "text": [
      "/Users/shyn/anaconda2/lib/python2.7/site-packages/scipy/integrate/quadpack.py:356: IntegrationWarning: The occurrence of roundoff error is detected, which prevents \n",
      "  the requested tolerance from being achieved.  The error may be \n",
      "  underestimated.\n",
      "  warnings.warn(msg, IntegrationWarning)\n",
      "/Users/shyn/anaconda2/lib/python2.7/site-packages/scipy/integrate/quadpack.py:356: IntegrationWarning: The occurrence of roundoff error is detected, which prevents \n",
      "  the requested tolerance from being achieved.  The error may be \n",
      "  underestimated.\n",
      "  warnings.warn(msg, IntegrationWarning)\n"
     ]
    },
    {
     "name": "stdout",
     "output_type": "stream",
     "text": [
      "processes done, : 117.172616005 seconds used\n",
      "(0.63917901031353097, 0.0085005097399854547)\n",
      "(0.39184163073937001, 0.0088082095264974646)\n",
      "(0.13026634347838656, 0.0045602940656832699)\n",
      "(0.079139385617974137, 0.0084084319647561925)\n"
     ]
    }
   ],
   "source": [
    "if __name__ == '__main__':\n",
    "    a=time.time()\n",
    "    pool = Pool(20)\n",
    "    results = []\n",
    "    tasknum=sys.argv[1]\n",
    "    #tasknum from 0-9 for 10nodes，20cpus in every node（pkuhpc system cn-short）\n",
    "    mci=37.0\n",
    "    mcf=38.0\n",
    "    n3=60\n",
    "    ns=10\n",
    "    nc=int(n3/ns)\n",
    "    del_mc=(mcf-mci)/nc/10\n",
    "    m_cs=np.linspace(37,37+del_mc*nc,nc)+nc*tasknum*del_mc\n",
    "    smrs=np.linspace(0.24,0.25,ns)\n",
    "    m_cs2=np.zeros(n3)\n",
    "    smrs2=np.zeros(n3)\n",
    "    for i in range(0,nc):\n",
    "        for j in range(0,ns):\n",
    "            m_cs2[i*ns+j]=m_cs[i]\n",
    "            smrs2[i*ns+j]=smrs[j]\n",
    "    f1=np.zeros(n3)+figas\n",
    "    f2=np.zeros(n3)+ffgas\n",
    "    para=[m_cs2,smrs2,f1,f2]\n",
    "    para1=np.transpose(para)\n",
    "    results = pool.map(find_max, para1)\n",
    "    b=time.time()\n",
    "    pool.close()\n",
    "    pool.join()\n",
    "    b=time.time()\n",
    "    print 'processes done, :',b-a,'seconds used'\n",
    "    fname=tasknum+data\n",
    "    np.save(fname,results)"
   ]
  },
  {
   "cell_type": "code",
   "execution_count": 12,
   "metadata": {},
   "outputs": [
    {
     "name": "stdout",
     "output_type": "stream",
     "text": [
      "116035150.058\n"
     ]
    }
   ],
   "source": [
    "m1=solvem(3.86727273e+01*m_sun,2.49494949e-01)[0]\n",
    "m2=solvem(3.86727273e+01*m_sun,2.49494949e-01)[1]\n",
    "print t_fvac2(ffgas,m1,m2,figas)"
   ]
  },
  {
   "cell_type": "code",
   "execution_count": 13,
   "metadata": {},
   "outputs": [
    {
     "data": {
      "text/plain": [
       "3.679450471144089"
      ]
     },
     "execution_count": 13,
     "metadata": {},
     "output_type": "execute_result"
    }
   ],
   "source": [
    "116035150.058/years"
   ]
  },
  {
   "cell_type": "code",
   "execution_count": null,
   "metadata": {
    "collapsed": true
   },
   "outputs": [],
   "source": []
  }
 ],
 "metadata": {
  "kernelspec": {
   "display_name": "Python 2",
   "language": "python",
   "name": "python2"
  },
  "language_info": {
   "codemirror_mode": {
    "name": "ipython",
    "version": 2
   },
   "file_extension": ".py",
   "mimetype": "text/x-python",
   "name": "python",
   "nbconvert_exporter": "python",
   "pygments_lexer": "ipython2",
   "version": "2.7.13"
  }
 },
 "nbformat": 4,
 "nbformat_minor": 2
}
