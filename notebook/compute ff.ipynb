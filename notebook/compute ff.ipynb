{
 "cells": [
  {
   "cell_type": "code",
   "execution_count": 1,
   "metadata": {
    "collapsed": true
   },
   "outputs": [],
   "source": [
    "import numpy as np\n",
    "import matplotlib.pyplot as plt\n",
    "import scipy.constants as sciconsts\n",
    "import scipy.fftpack as fft\n",
    "import scipy.interpolate as sci_interpolate\n",
    "import scipy.integrate as sci_integrate\n",
    "import scipy.signal as signal\n",
    "from mpl_toolkits.mplot3d import Axes3D\n",
    "import time"
   ]
  },
  {
   "cell_type": "code",
   "execution_count": 178,
   "metadata": {
    "collapsed": true
   },
   "outputs": [],
   "source": [
    "''' caozhoujian function taylorT2'''\n",
    "def chirp_mass(m1,m2):\n",
    "    return np.power(m1*m2,0.6)/(np.power(m1+m2,0.2))\n",
    "def sym_mass_ratio(m1,m2):\n",
    "    return m1*m2/(np.power(m1+m2,2.0))\n",
    "def F_cross(theta,psi,phi):\n",
    "    return 0.5*(1+np.power(np.cos(theta),2))*np.cos(2*phi)*np.sin(2*psi)-np.cos(theta)*np.sin(2*phi)*np.cos(2*psi)\n",
    "def F_plus(theta,psi,phi):\n",
    "    return -0.5*(1+np.power(np.cos(theta),2))*np.cos(2.0*phi)*np.cos(2*psi)-np.cos(theta)*np.sin(2*phi)*np.sin(2*psi)\n",
    "def D_eff(D,theta,psi,phi,iota):\n",
    "    return D/(np.sqrt(np.power(F_cross(theta,psi,phi),2.0)*np.power(np.cos(iota),2.0)+np.power(F_plus(theta,psi,phi),2)*0.25*(1+np.power(np.cos(iota),2))))\n",
    "def Psi(f,m_c,smr,D,theta,psi,phi,iota,t_c,phi_c,v_lso=1/np.sqrt(6.0)):\n",
    "    Mcal=m_c/np.power(smr,0.6)\n",
    "    v=np.power(sciconsts.pi*Mcal*f,1/3.0)\n",
    "    return 2*sciconsts.pi*f*t_c-phi_c-sciconsts.pi*0.25+3.0/(128.0*smr*np.power(v,5.0))*(1+20/9.0*(743/336.0+11/4.0*smr)*np.power(v,2.0)-16.0*sciconsts.pi*np.power(v,3.0)+10.0*(3058673.0/1016064.0+5429/1008.0*smr+617.0/144.0*np.power(smr,2.0))*np.power(v,4.0)+sciconsts.pi*(38645.0/756.0-65/9.0*smr)*(1+3*np.log(v/v_lso))*np.power(v,5.0)+(11583231236531.0/4694215680.0+640.0/3.0*np.power(sciconsts.pi,2)-6848.0/21.0*0.57721566490153286060651209-6848/21.0*np.log(4.0*v)+(-15737765635.0/3048192+2255.0*np.power(sciconsts.pi,2.0)/12.0)*smr+76055.0/1728*np.power(smr,2.0)-127825/1296*np.power(smr,3.0))*np.power(v,6.0)+sciconsts.pi*(77096675.0/254016.0+378515.0/1512.0*smr-74045.0/756.0*np.power(smr,2.0))*np.power(v,7.0))\n",
    "def h(f,m_c,smr,D,theta,psi,phi,iota,t_c,phi_c):\n",
    "    return np.power(m_c,5.0/6.0)/D_eff(D,theta,psi,phi,iota)*np.power(f,-7.0/6.0)*np.exp(1.0j*Psi(f,m_c,smr,D,theta,psi,phi,iota,t_c,phi_c))\n",
    "\n",
    "def Psi2(f,m_c,smr):\n",
    "    Mcal2=m_c/np.power(smr,0.6)\n",
    "    v=np.power(sciconsts.pi*Mcal2*f,1/3.0)\n",
    "    return sciconsts.pi*0.25+3.0/(128.0*smr*np.power(v,5.0))*(1+20/9.0*(743/336.0+11/4.0*smr)*np.power(v,2.0)-16.0*sciconsts.pi*np.power(v,3.0)+10.0*(3058673.0/1016064.0+5429/1008.0*smr+617.0/144.0*np.power(smr,2.0))*np.power(v,4.0)+sciconsts.pi*(38645.0/756.0-65/9.0*smr)*(1+3*np.log(v*np.sqrt(6.0)))*np.power(v,5.0)+(11583231236531.0/4694215680.0+640.0/3.0*np.power(sciconsts.pi,2)-6848.0/21.0*0.57721566490153286060651209-6848/21.0*np.log(4.0*v)+(-15737765635.0/3048192+2255.0*np.power(sciconsts.pi,2.0)/12.0)*smr+76055.0/1728*np.power(smr,2.0)-127825/1296*np.power(smr,3.0))*np.power(v,6.0)+sciconsts.pi*(77096675.0/254016.0+378515.0/1512.0*smr-74045.0/756.0*np.power(smr,2.0))*np.power(v,7.0))\n",
    "\n",
    "def h_mod(f,m_c,smr):\n",
    "    return np.power(m_c,5.0/6.0)*np.power(f,-7.0/6.0)*np.exp(1.0j*Psi2(f,m_c,smr))*1e-48\n",
    "\n",
    "\n",
    "\n",
    "    \n",
    "'''MY FUNCTION PROJECT1'''\n",
    "def k_1cal(m_1,m_2):\n",
    "    return 64.0*np.power(sciconsts.G,3.0)*m_1*m_2*(m_1+m_2)/5.0/np.power(sciconsts.c,5.0)\n",
    "def t_0cal(m_1,m_2,t_gas,a_0):\n",
    "    return t_gas*0.25*np.log(k_1cal(m_1,m_2)+np.power(a_0,4.0)/t_gas)\n",
    "def acal(t,k_1,t_gas,t_0):\n",
    "    return np.power((np.exp(4.0*(t_0-t)/t_gas)-k_1)*t_gas,0.25)\n",
    "def D1acal(t,k_1,t_gas,t_0):\n",
    "    a1=acal(t,k_1,t_gas,t_0)\n",
    "    return -k_1*np.power(a1,-3.0)-a1/t_gas\n",
    "def D2acal(t,k_1,t_gas,t_0):\n",
    "    a2=acal(t,k_1,t_gas,t_0)\n",
    "    D1a2=D1acal(t,k_1,t_gas,t_0)\n",
    "    return (3.0*k_1/np.power(a2,4.0)+1/t_gas)*D1a2\n",
    "def Omegacal(t,k_1,t_gas,t_0,m_1,m_2):\n",
    "    return np.power(sciconsts.G*(m_1+m_2)/np.power(acal(t,k_1,t_gas,t_0),3.0),0.5)\n",
    "def D1Omegacal(t,k_1,t_gas,t_0,m_1,m_2):\n",
    "    a3=acal(t,k_1,t_gas,t_0)\n",
    "    D1a3=D1acal(t,k_1,t_gas,t_0)\n",
    "    o1=Omegacal(t,k_1,t_gas,t_0,m_1,m_2)\n",
    "    return -1.5*D1a3/a3*o1\n",
    "def D2Omegacal(t,k_1,t_gas,t_0,m_1,m_2):\n",
    "    a4=acal(t,k_1,t_gas,t_0)\n",
    "    D1a4=D1acal(t,k_1,t_gas,t_0)\n",
    "    D2a4=D2acal(t,k_1,t_gas,t_0)\n",
    "    o2=Omegacal(t,k_1,t_gas,t_0,m_1,m_2)\n",
    "    return 15.0/4.0*np.power(D1a4/a4,2.0)-1.5*D2a4/a4*o2\n",
    "#reduced D^2(q_ij)\n",
    "#D^2(q_xx-q_yy)    1\n",
    "#D^2(q_xx+q_yy)    2\n",
    "#D^2q_xy           3\n",
    "#D^2q_zz=-D^2(q_xx+q_yy) 4\n",
    "'''def helpnumber(n,t,r,k_1,t_gas,t_0,m_1,m_2):\n",
    "    mu5=m_1*m_2/(m_1+m_2)\n",
    "    a5=acal(t,k_1,t_gas,t_0)\n",
    "    D1a5=D1Omegacal(t,k_1,t_gas,t_0,m_1,m_2)\n",
    "    D2a5=D2Omegacal(t,k_1,t_gas,t_0,m_1,m_2)\n",
    "    o5=Omegacal(t,k_1,t_gas,t_0,m_1,m_2)\n",
    "    D1o5=D1Omegacal(t,k_1,t_gas,t_0,m_1,m_2)\n",
    "    D2o5=D2Omegacal(t,k_1,t_gas,t_0,m_1,m_2)\n",
    "    if n==1:\n",
    "        return mu5*(-4.0*np.power(a5,2.0)*np.cos(2.0*t*o5)*np.power(o5,2.0)-8.0*a5*o5*np.sin(2.0*t*o5)*D1a5+2.0*np.cos(2.0*t*o5)*np.power(D1a5,2.0)-8.0*t*np.power(a5,2.0)*np.cos(2.0*t*o5)*o5*D1o5-4.0*np.power(a5,2.0)*np.sin(2.0*t*o5)*D1o5-8.0*t*a5*np.sin(2.0*t*o5)*D1o5*D1a5+4.0*np.power(t*a5,2.0)*np.cos(2.0*t*o5)*np.power(D1o5,2.0)+2.0*a5*np.cos(2.0*t*o5)*D2a5-2.0*t*np.power(a5,2.0)*np.sin(2.0*t*o5)*D2o5)\n",
    "    elif n==3:\n",
    "        return mu5*(-4.0*np.power(a5,2.0)*np.sin(2.0*t*o5)*np.power(o5,2.0)+8.0*a5*o5*np.cos(2.0*t*o5)*D1a5+2.0*np.sin(2.0*t*o5)*np.power(D1a5,2.0)-8.0*t*np.power(a5,2.0)*np.sin(2.0*t*o5)*o5*D1o5+4.0*np.power(a5,2.0)*np.cos(2.0*t*o5)*D1o5+8.0*t*a5*np.cos(2.0*t*o5)*D1o5*D1a5+4.0*np.power(t*a5,2.0)*np.sin(2.0*t*o5)*np.power(D1o5,2.0)+2.0*a5*np.sin(2.0*t*o5)*D2a5+2.0*t*np.power(a5,2.0)*np.cos(2.0*t*o5)*D2o5)\n",
    "    elif n==2:\n",
    "        return 2.0/3.0*mu5(D2a5*a5+np.power(D1a5,2.0))\n",
    "    elif n==4:\n",
    "        return -2.0/3.0*mu5(D2a5*a5+np.power(D1a5,2.0))''' \n",
    "\n",
    "'''all in SI unit'''\n",
    "def h_plus(t,r,theta,k_1,t_gas,t_0,m_1,m_2):\n",
    "    mu5=m_1*m_2/(m_1+m_2)\n",
    "    a5=acal(t,k_1,t_gas,t_0)\n",
    "    D1a5=D1acal(t,k_1,t_gas,t_0)\n",
    "    D2a5=D2acal(t,k_1,t_gas,t_0)\n",
    "    o5=Omegacal(t,k_1,t_gas,t_0,m_1,m_2)\n",
    "    D1o5=D1Omegacal(t,k_1,t_gas,t_0,m_1,m_2)\n",
    "    D2o5=D2Omegacal(t,k_1,t_gas,t_0,m_1,m_2)\n",
    "    hp1_1=mu5*(-4.0*np.power(a5,2.0)*np.cos(2.0*t*o5)*np.power(o5,2.0)-8.0*a5*o5*np.sin(2.0*t*o5)*D1a5+2.0*np.cos(2.0*t*o5)*np.power(D1a5,2.0)-8.0*t*np.power(a5,2.0)*np.cos(2.0*t*o5)*o5*D1o5-4.0*np.power(a5,2.0)*np.sin(2.0*t*o5)*D1o5-8.0*t*a5*np.sin(2.0*t*o5)*D1o5*D1a5+4.0*np.power(t*a5,2.0)*np.cos(2.0*t*o5)*np.power(D1o5,2.0)+2.0*a5*np.cos(2.0*t*o5)*D2a5-2.0*t*np.power(a5,2.0)*np.sin(2.0*t*o5)*D2o5)\n",
    "    hp2_3=2.0/3.0*mu5*(D2a5*a5+np.power(D1a5,2.0))\n",
    "    return (sciconsts.G/np.power(sciconsts.c,4.0))/r*(1.0/2.0*(1+np.power(np.cos(theta),2.0))*hp1_1-np.power(np.sin(theta),2.0)*1.5*hp2_3)\n",
    "def h_cross(t,r,theta,k_1,t_gas,t_0,m_1,m_2):\n",
    "    mu5=m_1*m_2/(m_1+m_2)\n",
    "    a5=acal(t,k_1,t_gas,t_0)\n",
    "    D1a5=D1Omegacal(t,k_1,t_gas,t_0,m_1,m_2)\n",
    "    D2a5=D2Omegacal(t,k_1,t_gas,t_0,m_1,m_2)\n",
    "    o5=Omegacal(t,k_1,t_gas,t_0,m_1,m_2)\n",
    "    D1o5=D1Omegacal(t,k_1,t_gas,t_0,m_1,m_2)\n",
    "    D2o5=D2Omegacal(t,k_1,t_gas,t_0,m_1,m_2)\n",
    "    hp2_2=mu5*(-4.0*np.power(a5,2.0)*np.sin(2.0*t*o5)*np.power(o5,2.0)+8.0*a5*o5*np.cos(2.0*t*o5)*D1a5+2.0*np.sin(2.0*t*o5)*np.power(D1a5,2.0)-8.0*t*np.power(a5,2.0)*np.sin(2.0*t*o5)*o5*D1o5+4.0*np.power(a5,2.0)*np.cos(2.0*t*o5)*D1o5+8.0*t*a5*np.cos(2.0*t*o5)*D1o5*D1a5+4.0*np.power(t*a5,2.0)*np.sin(2.0*t*o5)*np.power(D1o5,2.0)+2.0*a5*np.sin(2.0*t*o5)*D2a5+2.0*t*np.power(a5,2.0)*np.cos(2.0*t*o5)*D2o5)\n",
    "    return (sciconsts.G/np.power(sciconsts.c,4.0))/r*np.cos(theta)*hp2_2\n",
    "\n",
    "def a_modcal(t,k_1,a_0):\n",
    "    return np.power((np.power(a_0,4.0)-4*k_1*t),0.25)\n",
    "def D1a_modcal(t,k_1,a_0):\n",
    "    a1=a_modcal(t,k_1,a_0)\n",
    "    return -k_1*np.power(a1,-3.0)\n",
    "def D2a_modcal(t,k_1,a_0):\n",
    "    a2=a_modcal(t,k_1,a_0)\n",
    "    D1a2=D1a_modcal(t,k_1,a_0)\n",
    "    return -3.0*np.power(D1a2,2.0)/a2\n",
    "def Omega_modcal(t,k_1,a_0,m_1,m_2):\n",
    "    return np.power(sciconsts.G*(m_1+m_2)/np.power(a_modcal(t,k_1,a_0),3.0),0.5)\n",
    "def D1Omega_modcal(t,k_1,a_0,m_1,m_2):\n",
    "    a3=a_modcal(t,k_1,a_0)\n",
    "    D1a3=D1a_modcal(t,k_1,a_0)\n",
    "    o1=Omega_modcal(t,k_1,a_0,m_1,m_2)\n",
    "    return -1.5*D1a3/a3*o1\n",
    "def D2Omega_modcal(t,k_1,a_0,m_1,m_2):\n",
    "    a4=a_modcal(t,k_1,a_0)\n",
    "    D1a4=D1a_modcal(t,k_1,a_0)\n",
    "    D2a4=D2a_modcal(t,k_1,a_0)\n",
    "    o2=Omega_modcal(t,k_1,a_0,m_1,m_2)\n",
    "    return 15.0/4.0*np.power(D1a4/a4,2.0)-1.5*D2a4/a4*o2\n",
    "\n",
    "def hmod_plus(t,k_1,a_0,m_1,m_2):\n",
    "    mu5=m_1*m_2/(m_1+m_2)\n",
    "    a5=a_modcal(t,k_1,a_0)\n",
    "    D1a5=D1a_modcal(t,k_1,a_0)\n",
    "    D2a5=D2a_modcal(t,k_1,a_0)\n",
    "    o5=Omega_modcal(t,k_1,a_0,m_1,m_2)\n",
    "    D1o5=D1Omega_modcal(t,k_1,a_0,m_1,m_2)\n",
    "    D2o5=D2Omega_modcal(t,k_1,a_0,m_1,m_2)\n",
    "    hp1_1=mu5*(-4.0*np.power(a5,2.0)*np.cos(2.0*t*o5)*np.power(o5,2.0)-8.0*a5*o5*np.sin(2.0*t*o5)*D1a5+2.0*np.cos(2.0*t*o5)*np.power(D1a5,2.0)-8.0*t*np.power(a5,2.0)*np.cos(2.0*t*o5)*o5*D1o5-4.0*np.power(a5,2.0)*np.sin(2.0*t*o5)*D1o5-8.0*t*a5*np.sin(2.0*t*o5)*D1o5*D1a5+4.0*np.power(t*a5,2.0)*np.cos(2.0*t*o5)*np.power(D1o5,2.0)+2.0*a5*np.cos(2.0*t*o5)*D2a5-2.0*t*np.power(a5,2.0)*np.sin(2.0*t*o5)*D2o5)\n",
    "    return (sciconsts.G/np.power(sciconsts.c,4.0))/(10e23)*(hp1_1)\n",
    "\n",
    "\n",
    "\n",
    "\n",
    "\n",
    "\n",
    "\n",
    "\n",
    "'''lisa noise curve in rpsd unit N2A5:laserpower 2w,40cm telescope,armlength 5e6 km'''\n",
    "\n",
    "def S_gal_N2A5(f):\n",
    "    if f>=1.0e-5 and f<1.0e-3:\n",
    "        return np.power(f,-2.3)*np.power(10,-44.62)*20.0/3.0\n",
    "    if f>=1.0e-3 and f<np.power(10,-2.7):\n",
    "        return np.power(f,-4.4)*np.power(10,-50.92)*20.0/3.0\n",
    "    if f>=np.power(10,-2.7) and f<np.power(10,-2.4):\n",
    "        return np.power(f,-8.8)*np.power(10,-62.8)*20.0/3.0\n",
    "    if f>=np.power(10,-2.4) and f<=0.01:\n",
    "        return np.power(f,-20.0)*np.power(10,-89.68)*20.0/3.0\n",
    "    if f>0.01 or f<1.0e-5:\n",
    "        return 0\n",
    "def S_n_lisa(f):\n",
    "    m1=5.0e9\n",
    "    m2=sciconsts.c*0.41/m1/2.0\n",
    "    return 20.0/3.0*(1+np.power(f/m2,2.0))*(4.0*(9.0e-30/np.power(2*sciconsts.pi*f,4.0)*(1+1.0e-4/f))+2.96e-23+2.65e-23)/np.power(m1,2.0)+S_gal_N2A5(f)"
   ]
  },
  {
   "cell_type": "code",
   "execution_count": 141,
   "metadata": {
    "collapsed": true
   },
   "outputs": [],
   "source": [
    "m_sun=1.9891e30\n",
    "m_1=10*m_sun\n",
    "m_2=10*m_sun\n",
    "t_gas=1000.0*365*24*3600\n",
    "a_0=3.0e8"
   ]
  },
  {
   "cell_type": "code",
   "execution_count": 158,
   "metadata": {},
   "outputs": [
    {
     "data": {
      "text/plain": [
       "(5045760.0, 7.927447995941146, 126144000.0)"
      ]
     },
     "execution_count": 158,
     "metadata": {},
     "output_type": "execute_result"
    }
   ],
   "source": [
    "k_1=k_1cal(m_1,m_2)\n",
    "t_0=t_0cal(m_1,m_2,t_gas,a_0)\n",
    "theta=0.0\n",
    "years=365*24*3600.0\n",
    "N=10000000\n",
    "t_scale=4*years\n",
    "r=10*1e6*3.261*sciconsts.light_year\n",
    "t=np.linspace(0,t_scale,num=N)\n",
    "(t_scale*0.01*4,N/0.01/t_scale,t_scale) \n"
   ]
  },
  {
   "cell_type": "code",
   "execution_count": 159,
   "metadata": {},
   "outputs": [
    {
     "data": {
      "text/plain": [
       "7.927447995941146e-09"
      ]
     },
     "execution_count": 159,
     "metadata": {},
     "output_type": "execute_result"
    }
   ],
   "source": [
    "T=t_scale/N\n",
    "fs=1.0/T\n",
    "y=h_plus(t,r,theta,k_1,t_gas,t_0,m_1,m_2)\n",
    "1.0/t_scale"
   ]
  },
  {
   "cell_type": "code",
   "execution_count": 160,
   "metadata": {
    "collapsed": true
   },
   "outputs": [],
   "source": [
    "xs=np.linspace(0,1/2.0/T,num=N//2)\n",
    "yff=fft.fft(y)\n",
    "y_abs=abs(yff)*1.0e8\n",
    "ys=np.zeros((N//2,), dtype=np.float64)\n",
    "ys=2.0/N*y_abs[0:N//2]\n"
   ]
  },
  {
   "cell_type": "code",
   "execution_count": 168,
   "metadata": {},
   "outputs": [
    {
     "data": {
      "text/plain": [
       "array([  1.32062536e-02,   6.16593132e-05])"
      ]
     },
     "execution_count": 168,
     "metadata": {},
     "output_type": "execute_result"
    }
   ],
   "source": [
    "hs=sci_interpolate.interp1d(xs,ys,kind='cubic')\n",
    "hr1=2.0/N*yff.real[0:N//2]*1.0e8\n",
    "hi1=2.0/N*yff.imag[0:N//2]*1.0e8\n",
    "hreal=sci_interpolate.interp1d(xs,hr1,kind='cubic')\n",
    "himag=sci_interpolate.interp1d(xs,hi1,kind='cubic')\n",
    "np.sqrt(sci_integrate.quad(lambda x:4.0*hs(x)*hs(x)/S_n_lisa(x),1.0e-4,0.01))"
   ]
  },
  {
   "cell_type": "code",
   "execution_count": 169,
   "metadata": {},
   "outputs": [
    {
     "data": {
      "text/plain": [
       "array([ 12.49647297,   1.32739851])"
      ]
     },
     "execution_count": 169,
     "metadata": {},
     "output_type": "execute_result"
    }
   ],
   "source": [
    "np.sqrt(sci_integrate.quad(lambda x:4.0*hs(x)*hs(x)/S_n_lisa(x),1.0e-7,0.01))"
   ]
  },
  {
   "cell_type": "code",
   "execution_count": 128,
   "metadata": {
    "scrolled": true
   },
   "outputs": [
    {
     "name": "stdout",
     "output_type": "stream",
     "text": [
      "(30.0, 3.2002795146065401, 11.172285000000102)\n",
      "(30.1, 4.5102050030785339, 20.42025700000022)\n",
      "(30.2, 3.437681291674747, 29.5470949999999)\n",
      "(30.3, 4.0162777574190009, 38.44450800000004)\n",
      "(30.4, 3.0213448346704226, 47.38521300000002)\n"
     ]
    },
    {
     "ename": "KeyboardInterrupt",
     "evalue": "",
     "output_type": "error",
     "traceback": [
      "\u001b[0;31m---------------------------------------------------------------------------\u001b[0m",
      "\u001b[0;31mKeyboardInterrupt\u001b[0m                         Traceback (most recent call last)",
      "\u001b[0;32m<ipython-input-128-a6b4c34928ae>\u001b[0m in \u001b[0;36m<module>\u001b[0;34m()\u001b[0m\n\u001b[1;32m     19\u001b[0m     \u001b[0;32mwhile\u001b[0m \u001b[0mi\u001b[0m\u001b[0;34m<\u001b[0m\u001b[0mNfu\u001b[0m\u001b[0;34m:\u001b[0m\u001b[0;34m\u001b[0m\u001b[0m\n\u001b[1;32m     20\u001b[0m         \u001b[0mwork1\u001b[0m\u001b[0;34m[\u001b[0m\u001b[0mi\u001b[0m\u001b[0;34m]\u001b[0m\u001b[0;34m=\u001b[0m\u001b[0;34m(\u001b[0m\u001b[0mhreal\u001b[0m\u001b[0;34m(\u001b[0m\u001b[0mfu\u001b[0m\u001b[0;34m[\u001b[0m\u001b[0mi\u001b[0m\u001b[0;34m]\u001b[0m\u001b[0;34m)\u001b[0m\u001b[0;34m*\u001b[0m\u001b[0mh_mod\u001b[0m\u001b[0;34m(\u001b[0m\u001b[0mfu\u001b[0m\u001b[0;34m[\u001b[0m\u001b[0mi\u001b[0m\u001b[0;34m]\u001b[0m\u001b[0;34m,\u001b[0m\u001b[0mMc\u001b[0m\u001b[0;34m,\u001b[0m\u001b[0mSmr\u001b[0m\u001b[0;34m)\u001b[0m\u001b[0;34m.\u001b[0m\u001b[0mreal\u001b[0m\u001b[0;34m+\u001b[0m\u001b[0mhimag\u001b[0m\u001b[0;34m(\u001b[0m\u001b[0mfu\u001b[0m\u001b[0;34m[\u001b[0m\u001b[0mi\u001b[0m\u001b[0;34m]\u001b[0m\u001b[0;34m)\u001b[0m\u001b[0;34m*\u001b[0m\u001b[0mh_mod\u001b[0m\u001b[0;34m(\u001b[0m\u001b[0mfu\u001b[0m\u001b[0;34m[\u001b[0m\u001b[0mi\u001b[0m\u001b[0;34m]\u001b[0m\u001b[0;34m,\u001b[0m\u001b[0mMc\u001b[0m\u001b[0;34m,\u001b[0m\u001b[0mSmr\u001b[0m\u001b[0;34m)\u001b[0m\u001b[0;34m.\u001b[0m\u001b[0mimag\u001b[0m\u001b[0;34m)\u001b[0m\u001b[0;34m/\u001b[0m\u001b[0mS_n_lisa\u001b[0m\u001b[0;34m(\u001b[0m\u001b[0mfu\u001b[0m\u001b[0;34m[\u001b[0m\u001b[0mi\u001b[0m\u001b[0;34m]\u001b[0m\u001b[0;34m)\u001b[0m\u001b[0;34m\u001b[0m\u001b[0m\n\u001b[0;32m---> 21\u001b[0;31m         \u001b[0mwork2\u001b[0m\u001b[0;34m[\u001b[0m\u001b[0mi\u001b[0m\u001b[0;34m]\u001b[0m\u001b[0;34m=\u001b[0m\u001b[0;34m(\u001b[0m\u001b[0mhreal\u001b[0m\u001b[0;34m(\u001b[0m\u001b[0mfu\u001b[0m\u001b[0;34m[\u001b[0m\u001b[0mi\u001b[0m\u001b[0;34m]\u001b[0m\u001b[0;34m)\u001b[0m\u001b[0;34m*\u001b[0m\u001b[0mh_mod\u001b[0m\u001b[0;34m(\u001b[0m\u001b[0mfu\u001b[0m\u001b[0;34m[\u001b[0m\u001b[0mi\u001b[0m\u001b[0;34m]\u001b[0m\u001b[0;34m,\u001b[0m\u001b[0mMc\u001b[0m\u001b[0;34m,\u001b[0m\u001b[0mSmr\u001b[0m\u001b[0;34m)\u001b[0m\u001b[0;34m.\u001b[0m\u001b[0mimag\u001b[0m\u001b[0;34m-\u001b[0m\u001b[0mhimag\u001b[0m\u001b[0;34m(\u001b[0m\u001b[0mfu\u001b[0m\u001b[0;34m[\u001b[0m\u001b[0mi\u001b[0m\u001b[0;34m]\u001b[0m\u001b[0;34m)\u001b[0m\u001b[0;34m*\u001b[0m\u001b[0mh_mod\u001b[0m\u001b[0;34m(\u001b[0m\u001b[0mfu\u001b[0m\u001b[0;34m[\u001b[0m\u001b[0mi\u001b[0m\u001b[0;34m]\u001b[0m\u001b[0;34m,\u001b[0m\u001b[0mMc\u001b[0m\u001b[0;34m,\u001b[0m\u001b[0mSmr\u001b[0m\u001b[0;34m)\u001b[0m\u001b[0;34m.\u001b[0m\u001b[0mreal\u001b[0m\u001b[0;34m)\u001b[0m\u001b[0;34m/\u001b[0m\u001b[0mS_n_lisa\u001b[0m\u001b[0;34m(\u001b[0m\u001b[0mfu\u001b[0m\u001b[0;34m[\u001b[0m\u001b[0mi\u001b[0m\u001b[0;34m]\u001b[0m\u001b[0;34m)\u001b[0m\u001b[0;34m\u001b[0m\u001b[0m\n\u001b[0m\u001b[1;32m     22\u001b[0m         \u001b[0mi\u001b[0m\u001b[0;34m=\u001b[0m\u001b[0mi\u001b[0m\u001b[0;34m+\u001b[0m\u001b[0;36m1\u001b[0m\u001b[0;34m\u001b[0m\u001b[0m\n\u001b[1;32m     23\u001b[0m \u001b[0;34m\u001b[0m\u001b[0m\n",
      "\u001b[0;32m/Users/shyn/anaconda2/lib/python2.7/site-packages/scipy/interpolate/polyint.pyc\u001b[0m in \u001b[0;36m__call__\u001b[0;34m(self, x)\u001b[0m\n\u001b[1;32m     77\u001b[0m         \"\"\"\n\u001b[1;32m     78\u001b[0m         \u001b[0mx\u001b[0m\u001b[0;34m,\u001b[0m \u001b[0mx_shape\u001b[0m \u001b[0;34m=\u001b[0m \u001b[0mself\u001b[0m\u001b[0;34m.\u001b[0m\u001b[0m_prepare_x\u001b[0m\u001b[0;34m(\u001b[0m\u001b[0mx\u001b[0m\u001b[0;34m)\u001b[0m\u001b[0;34m\u001b[0m\u001b[0m\n\u001b[0;32m---> 79\u001b[0;31m         \u001b[0my\u001b[0m \u001b[0;34m=\u001b[0m \u001b[0mself\u001b[0m\u001b[0;34m.\u001b[0m\u001b[0m_evaluate\u001b[0m\u001b[0;34m(\u001b[0m\u001b[0mx\u001b[0m\u001b[0;34m)\u001b[0m\u001b[0;34m\u001b[0m\u001b[0m\n\u001b[0m\u001b[1;32m     80\u001b[0m         \u001b[0;32mreturn\u001b[0m \u001b[0mself\u001b[0m\u001b[0;34m.\u001b[0m\u001b[0m_finish_y\u001b[0m\u001b[0;34m(\u001b[0m\u001b[0my\u001b[0m\u001b[0;34m,\u001b[0m \u001b[0mx_shape\u001b[0m\u001b[0;34m)\u001b[0m\u001b[0;34m\u001b[0m\u001b[0m\n\u001b[1;32m     81\u001b[0m \u001b[0;34m\u001b[0m\u001b[0m\n",
      "\u001b[0;32m/Users/shyn/anaconda2/lib/python2.7/site-packages/scipy/interpolate/interpolate.pyc\u001b[0m in \u001b[0;36m_evaluate\u001b[0;34m(self, x_new)\u001b[0m\n\u001b[1;32m    606\u001b[0m         \u001b[0;31m#    The behavior is set by the bounds_error variable.\u001b[0m\u001b[0;34m\u001b[0m\u001b[0;34m\u001b[0m\u001b[0m\n\u001b[1;32m    607\u001b[0m         \u001b[0mx_new\u001b[0m \u001b[0;34m=\u001b[0m \u001b[0masarray\u001b[0m\u001b[0;34m(\u001b[0m\u001b[0mx_new\u001b[0m\u001b[0;34m)\u001b[0m\u001b[0;34m\u001b[0m\u001b[0m\n\u001b[0;32m--> 608\u001b[0;31m         \u001b[0my_new\u001b[0m \u001b[0;34m=\u001b[0m \u001b[0mself\u001b[0m\u001b[0;34m.\u001b[0m\u001b[0m_call\u001b[0m\u001b[0;34m(\u001b[0m\u001b[0mself\u001b[0m\u001b[0;34m,\u001b[0m \u001b[0mx_new\u001b[0m\u001b[0;34m)\u001b[0m\u001b[0;34m\u001b[0m\u001b[0m\n\u001b[0m\u001b[1;32m    609\u001b[0m         \u001b[0;32mif\u001b[0m \u001b[0;32mnot\u001b[0m \u001b[0mself\u001b[0m\u001b[0;34m.\u001b[0m\u001b[0m_extrapolate\u001b[0m\u001b[0;34m:\u001b[0m\u001b[0;34m\u001b[0m\u001b[0m\n\u001b[1;32m    610\u001b[0m             \u001b[0mbelow_bounds\u001b[0m\u001b[0;34m,\u001b[0m \u001b[0mabove_bounds\u001b[0m \u001b[0;34m=\u001b[0m \u001b[0mself\u001b[0m\u001b[0;34m.\u001b[0m\u001b[0m_check_bounds\u001b[0m\u001b[0;34m(\u001b[0m\u001b[0mx_new\u001b[0m\u001b[0;34m)\u001b[0m\u001b[0;34m\u001b[0m\u001b[0m\n",
      "\u001b[0;32m/Users/shyn/anaconda2/lib/python2.7/site-packages/scipy/interpolate/interpolate.pyc\u001b[0m in \u001b[0;36m_call_spline\u001b[0;34m(self, x_new)\u001b[0m\n\u001b[1;32m    594\u001b[0m \u001b[0;34m\u001b[0m\u001b[0m\n\u001b[1;32m    595\u001b[0m     \u001b[0;32mdef\u001b[0m \u001b[0m_call_spline\u001b[0m\u001b[0;34m(\u001b[0m\u001b[0mself\u001b[0m\u001b[0;34m,\u001b[0m \u001b[0mx_new\u001b[0m\u001b[0;34m)\u001b[0m\u001b[0;34m:\u001b[0m\u001b[0;34m\u001b[0m\u001b[0m\n\u001b[0;32m--> 596\u001b[0;31m         \u001b[0;32mreturn\u001b[0m \u001b[0mself\u001b[0m\u001b[0;34m.\u001b[0m\u001b[0m_spline\u001b[0m\u001b[0;34m(\u001b[0m\u001b[0mx_new\u001b[0m\u001b[0;34m)\u001b[0m\u001b[0;34m\u001b[0m\u001b[0m\n\u001b[0m\u001b[1;32m    597\u001b[0m \u001b[0;34m\u001b[0m\u001b[0m\n\u001b[1;32m    598\u001b[0m     \u001b[0;32mdef\u001b[0m \u001b[0m_call_nan_spline\u001b[0m\u001b[0;34m(\u001b[0m\u001b[0mself\u001b[0m\u001b[0;34m,\u001b[0m \u001b[0mx_new\u001b[0m\u001b[0;34m)\u001b[0m\u001b[0;34m:\u001b[0m\u001b[0;34m\u001b[0m\u001b[0m\n",
      "\u001b[0;32m/Users/shyn/anaconda2/lib/python2.7/site-packages/scipy/interpolate/_bsplines.pyc\u001b[0m in \u001b[0;36m__call__\u001b[0;34m(self, x, nu, extrapolate)\u001b[0m\n\u001b[1;32m    330\u001b[0m         \u001b[0mout\u001b[0m \u001b[0;34m=\u001b[0m \u001b[0mnp\u001b[0m\u001b[0;34m.\u001b[0m\u001b[0mempty\u001b[0m\u001b[0;34m(\u001b[0m\u001b[0;34m(\u001b[0m\u001b[0mlen\u001b[0m\u001b[0;34m(\u001b[0m\u001b[0mx\u001b[0m\u001b[0;34m)\u001b[0m\u001b[0;34m,\u001b[0m \u001b[0mprod\u001b[0m\u001b[0;34m(\u001b[0m\u001b[0mself\u001b[0m\u001b[0;34m.\u001b[0m\u001b[0mc\u001b[0m\u001b[0;34m.\u001b[0m\u001b[0mshape\u001b[0m\u001b[0;34m[\u001b[0m\u001b[0;36m1\u001b[0m\u001b[0;34m:\u001b[0m\u001b[0;34m]\u001b[0m\u001b[0;34m)\u001b[0m\u001b[0;34m)\u001b[0m\u001b[0;34m,\u001b[0m \u001b[0mdtype\u001b[0m\u001b[0;34m=\u001b[0m\u001b[0mself\u001b[0m\u001b[0;34m.\u001b[0m\u001b[0mc\u001b[0m\u001b[0;34m.\u001b[0m\u001b[0mdtype\u001b[0m\u001b[0;34m)\u001b[0m\u001b[0;34m\u001b[0m\u001b[0m\n\u001b[1;32m    331\u001b[0m         \u001b[0mself\u001b[0m\u001b[0;34m.\u001b[0m\u001b[0m_ensure_c_contiguous\u001b[0m\u001b[0;34m(\u001b[0m\u001b[0;34m)\u001b[0m\u001b[0;34m\u001b[0m\u001b[0m\n\u001b[0;32m--> 332\u001b[0;31m         \u001b[0mself\u001b[0m\u001b[0;34m.\u001b[0m\u001b[0m_evaluate\u001b[0m\u001b[0;34m(\u001b[0m\u001b[0mx\u001b[0m\u001b[0;34m,\u001b[0m \u001b[0mnu\u001b[0m\u001b[0;34m,\u001b[0m \u001b[0mextrapolate\u001b[0m\u001b[0;34m,\u001b[0m \u001b[0mout\u001b[0m\u001b[0;34m)\u001b[0m\u001b[0;34m\u001b[0m\u001b[0m\n\u001b[0m\u001b[1;32m    333\u001b[0m         \u001b[0mout\u001b[0m \u001b[0;34m=\u001b[0m \u001b[0mout\u001b[0m\u001b[0;34m.\u001b[0m\u001b[0mreshape\u001b[0m\u001b[0;34m(\u001b[0m\u001b[0mx_shape\u001b[0m \u001b[0;34m+\u001b[0m \u001b[0mself\u001b[0m\u001b[0;34m.\u001b[0m\u001b[0mc\u001b[0m\u001b[0;34m.\u001b[0m\u001b[0mshape\u001b[0m\u001b[0;34m[\u001b[0m\u001b[0;36m1\u001b[0m\u001b[0;34m:\u001b[0m\u001b[0;34m]\u001b[0m\u001b[0;34m)\u001b[0m\u001b[0;34m\u001b[0m\u001b[0m\n\u001b[1;32m    334\u001b[0m         \u001b[0;32mif\u001b[0m \u001b[0mself\u001b[0m\u001b[0;34m.\u001b[0m\u001b[0maxis\u001b[0m \u001b[0;34m!=\u001b[0m \u001b[0;36m0\u001b[0m\u001b[0;34m:\u001b[0m\u001b[0;34m\u001b[0m\u001b[0m\n",
      "\u001b[0;32m/Users/shyn/anaconda2/lib/python2.7/site-packages/scipy/interpolate/_bsplines.pyc\u001b[0m in \u001b[0;36m_evaluate\u001b[0;34m(self, xp, nu, extrapolate, out)\u001b[0m\n\u001b[1;32m    341\u001b[0m     \u001b[0;32mdef\u001b[0m \u001b[0m_evaluate\u001b[0m\u001b[0;34m(\u001b[0m\u001b[0mself\u001b[0m\u001b[0;34m,\u001b[0m \u001b[0mxp\u001b[0m\u001b[0;34m,\u001b[0m \u001b[0mnu\u001b[0m\u001b[0;34m,\u001b[0m \u001b[0mextrapolate\u001b[0m\u001b[0;34m,\u001b[0m \u001b[0mout\u001b[0m\u001b[0;34m)\u001b[0m\u001b[0;34m:\u001b[0m\u001b[0;34m\u001b[0m\u001b[0m\n\u001b[1;32m    342\u001b[0m         _bspl.evaluate_spline(self.t, self.c.reshape(self.c.shape[0], -1),\n\u001b[0;32m--> 343\u001b[0;31m                 self.k, xp, nu, extrapolate, out)\n\u001b[0m\u001b[1;32m    344\u001b[0m \u001b[0;34m\u001b[0m\u001b[0m\n\u001b[1;32m    345\u001b[0m     \u001b[0;32mdef\u001b[0m \u001b[0m_ensure_c_contiguous\u001b[0m\u001b[0;34m(\u001b[0m\u001b[0mself\u001b[0m\u001b[0;34m)\u001b[0m\u001b[0;34m:\u001b[0m\u001b[0;34m\u001b[0m\u001b[0m\n",
      "\u001b[0;31mKeyboardInterrupt\u001b[0m: "
     ]
    }
   ],
   "source": [
    "i1=0\n",
    "data=np.zeros((1000,2))\n",
    "work1=np.zeros(Nfu)\n",
    "work2=np.zeros(Nfu)\n",
    "Nfu=2000    \n",
    "df=(0.01-0.0001)/Nfu\n",
    "fu=np.linspace(1e-4,1e-2,Nfu)\n",
    "t1=time.clock()\n",
    "A=np.sqrt(sci_integrate.quad(lambda x:4.0*np.power(hs(x),2.0)/S_n_lisa(x),1.0e-4,0.01))\n",
    "\n",
    "while i1<200:\n",
    "    Mc_sun=(300.0+i1)/10.0\n",
    "    Mc=Mc_sun*m_sun\n",
    "    Smr=0.25\n",
    "    B=np.sqrt(sci_integrate.quad(lambda x:4.0*np.power(abs(h_mod(x,Mc,Smr)),2.0)/S_n_lisa(x),1.0e-4,0.01))\n",
    "    #AB=sci_integrate.quad(lambda x:4.0*(hreal(x)*h_mod(x,Mc,Smr).real+himag(x)*h_mod(x,Mc,Smr).imag)/S_n_lisa(x),1.0e-3,0.01)\n",
    "    i=0\n",
    "    \n",
    "    while i<Nfu:\n",
    "        work1[i]=(hreal(fu[i])*h_mod(fu[i],Mc,Smr).real+himag(fu[i])*h_mod(fu[i],Mc,Smr).imag)/S_n_lisa(fu[i])\n",
    "        work2[i]=(hreal(fu[i])*h_mod(fu[i],Mc,Smr).imag-himag(fu[i])*h_mod(fu[i],Mc,Smr).real)/S_n_lisa(fu[i])\n",
    "        i=i+1\n",
    "    \n",
    "    work3=fft.fft(work1+1.0j*work2)\n",
    "    work4=abs(work3)*2/Nfu\n",
    "    AB=2*work4.max()\n",
    "    FF=AB/A[0]/B[0]\n",
    "    data[i1,0]=Mc_sun\n",
    "    data[i1,1]=FF\n",
    "    t2=time.clock()\n",
    "    print (Mc_sun,FF,t2-t1)\n",
    "    i1=i1+1\n",
    "  \n",
    "  \n",
    "   \n",
    "  \n",
    "'''print认 '(A,DelA)=',A,'(B,DelB)=',B,'(AB,DelAB)=',AB,'FF=',FF,'(Mc/m_sun,Smr)',(Mc_sun,Smr),t2-t1'''"
   ]
  },
  {
   "cell_type": "markdown",
   "metadata": {},
   "source": []
  },
  {
   "cell_type": "code",
   "execution_count": 187,
   "metadata": {},
   "outputs": [
    {
     "data": {
      "image/png": "[encoded data removed]",
      "text/plain": [
       "<matplotlib.figure.Figure at 0x119bfec10>"
      ]
     },
     "metadata": {},
     "output_type": "display_data"
    }
   ],
   "source": [
    "fig1=plt.figure(figsize=(18,18),dpi=50)\n",
    "\n",
    "Mc=10*m_sun\n",
    "Smr=0.25\n",
    "x=np.linspace(-4.0,-2.0,10000)\n",
    "fu=np.power(10.0,x)\n",
    "work1=hreal(fu)*h_mod(fu,Mc,Smr).real+himag(fu)*h_mod(fu,Mc,Smr).imag\n",
    "work2=hreal(fu)*h_mod(fu,Mc,Smr).imag-himag(fu)*h_mod(fu,Mc,Smr).real\n",
    "work3=himag(fu)\n",
    "work4=h_mod(fu,Mc,Smr).real*100\n",
    "work5=h_mod(fu,Mc,Smr).imag\n",
    "work6=hreal(fu)*h_mod(fu,Mc,Smr).real\n",
    "work7=abs(h_mod(fu,Mc,Smr))*100\n",
    "work8=hs(fu)\n",
    "plt.plot(fu,h_modreal(fu))\n",
    "#plt.plot(fu,work8)\n",
    "#plt.yscale('log')\n",
    "#plt.xscale('log')\n",
    "plt.xlim(0.0029,0.0035)\n",
    "plt.show()"
   ]
  },
  {
   "cell_type": "code",
   "execution_count": 180,
   "metadata": {},
   "outputs": [
    {
     "name": "stdout",
     "output_type": "stream",
     "text": [
      "1\n"
     ]
    },
    {
     "data": {
      "text/plain": [
       "array([ 3.76311103,  1.55161925])"
      ]
     },
     "execution_count": 180,
     "metadata": {},
     "output_type": "execute_result"
    }
   ],
   "source": [
    "m_1=10.0*m_sun\n",
    "m_2=10.0*m_sun\n",
    "a_0=3.0e8\n",
    "k_1=k_1cal(m_1,m_2)\n",
    "N=5000000\n",
    "t_scale=4*years\n",
    "t=np.linspace(0,t_scale,num=N)\n",
    "T=t_scale/N\n",
    "fs=1.0/T\n",
    "y_mod=hmod_plus(t,k_1,a_0,m_1,m_2)\n",
    "print 1\n",
    "xs=np.linspace(0,1/2.0/T,num=N//2)\n",
    "yff=fft.fft(y)\n",
    "y_mod_abs=abs(yff)*1.0e8\n",
    "y_mods=np.zeros((N//2,), dtype=np.float64)\n",
    "y_mods=2.0/N*y_abs[0:N//2]\n",
    "h_mods=sci_interpolate.interp1d(xs,ys,kind='cubic')\n",
    "h_modr1=2.0/N*yff.real[0:N//2]*1.0e8\n",
    "h_modi1=2.0/N*yff.imag[0:N//2]*1.0e8\n",
    "h_modreal=sci_interpolate.interp1d(xs,hr1,kind='cubic')\n",
    "h_modimag=sci_interpolate.interp1d(xs,hi1,kind='cubic')\n",
    "np.sqrt(sci_integrate.quad(lambda x:2.0*(h_modr1(x)*hr1(x)+h_modi1(x)*hi1(x))/S_n_lisa(x),1.0e-4,0.01))"
   ]
  },
  {
   "cell_type": "code",
   "execution_count": 191,
   "metadata": {},
   "outputs": [
    {
     "data": {
      "text/plain": [
       "(6.255219618002697, 1.834527049238588)"
      ]
     },
     "execution_count": 191,
     "metadata": {},
     "output_type": "execute_result"
    }
   ],
   "source": [
    "sci_integrate.quad(lambda x:2.0*(hreal(x)*h_modreal(x)+himag(x)*h_modimag(x))/S_n_lisa(x),1.0e-4,0.01)"
   ]
  },
  {
   "cell_type": "code",
   "execution_count": 35,
   "metadata": {
    "scrolled": true
   },
   "outputs": [
    {
     "name": "stdout",
     "output_type": "stream",
     "text": [
      "(0.5, 0.5, 0)  \n",
      "(0.6000000000000001, 0.5, 1)  \n",
      "(0.6000000000000001, 0.6000000000000001, 2)  \n",
      "(0.7000000000000001, 0.5, 3)  \n",
      "(0.7000000000000001, 0.6000000000000001, 4)  \n",
      "(0.7000000000000001, 0.7000000000000001, 5)  \n",
      "(0.8, 0.5, 6)  \n",
      "(0.8, 0.6000000000000001, 7)  \n",
      "(0.8, 0.7000000000000001, 8)  \n",
      "(0.8, 0.8, 9)  \n",
      "(0.9, 0.5, 10)  \n",
      "(0.9, 0.6000000000000001, 11)  \n",
      "(0.9, 0.7000000000000001, 12)  \n",
      "(0.9, 0.8, 13)  \n",
      "(0.9, 0.9, 14)  \n",
      "(1.0, 0.5, 15)  \n",
      "(1.0, 0.6000000000000001, 16)  \n",
      "(1.0, 0.7000000000000001, 17)  \n",
      "(1.0, 0.8, 18)  \n",
      "(1.0, 0.9, 19)  \n",
      "(1.0, 1.0, 20)  \n",
      "(1.1, 0.5, 21)  \n",
      "(1.1, 0.6000000000000001, 22)  \n",
      "(1.1, 0.7000000000000001, 23)  \n",
      "(1.1, 0.8, 24)  \n",
      "(1.1, 0.9, 25)  \n",
      "(1.1, 1.0, 26)  \n",
      "(1.1, 1.1, 27)  \n",
      "(1.2000000000000002, 0.5, 28)  \n",
      "(1.2000000000000002, 0.6000000000000001, 29)  \n",
      "(1.2000000000000002, 0.7000000000000001, 30)  \n",
      "(1.2000000000000002, 0.8, 31)  \n",
      "(1.2000000000000002, 0.9, 32)  \n",
      "(1.2000000000000002, 1.0, 33)  \n",
      "(1.2000000000000002, 1.1, 34)  \n",
      "(1.2000000000000002, 1.2000000000000002, 35)  \n",
      "(1.3, 0.5, 36)  \n",
      "(1.3, 0.6000000000000001, 37)  \n",
      "(1.3, 0.7000000000000001, 38)  \n",
      "(1.3, 0.8, 39)  \n",
      "(1.3, 0.9, 40)  \n",
      "(1.3, 1.0, 41)  \n",
      "(1.3, 1.1, 42)  \n",
      "(1.3, 1.2000000000000002, 43)  \n",
      "(1.3, 1.3, 44)  \n",
      "(1.4000000000000001, 0.5, 45)  \n",
      "(1.4000000000000001, 0.6000000000000001, 46)  \n",
      "(1.4000000000000001, 0.7000000000000001, 47)  \n",
      "(1.4000000000000001, 0.8, 48)  \n",
      "(1.4000000000000001, 0.9, 49)  \n",
      "(1.4000000000000001, 1.0, 50)  \n",
      "(1.4000000000000001, 1.1, 51)  \n",
      "(1.4000000000000001, 1.2000000000000002, 52)  \n",
      "(1.4000000000000001, 1.3, 53)  \n",
      "(1.4000000000000001, 1.4000000000000001, 54)  \n",
      "(1.5, 0.5, 55)  \n",
      "(1.5, 0.6000000000000001, 56)  \n",
      "(1.5, 0.7000000000000001, 57)  \n",
      "(1.5, 0.8, 58)  \n",
      "(1.5, 0.9, 59)  \n",
      "(1.5, 1.0, 60)  \n",
      "(1.5, 1.1, 61)  \n",
      "(1.5, 1.2000000000000002, 62)  \n",
      "(1.5, 1.3, 63)  \n",
      "(1.5, 1.4000000000000001, 64)  \n",
      "(1.5, 1.5, 65)  \n",
      "66\n"
     ]
    }
   ],
   "source": [
    "i2=5\n",
    "i3=5\n",
    "N3=15\n",
    "N4=0\n",
    "datadraw=np.zeros((66,3))\n",
    "while i2<N3+1:\n",
    "    i3=5\n",
    "    while i3<i2+1:\n",
    "        datadraw[N4,0]=Mc_sun\n",
    "        datadraw[N4,1]=Smr\n",
    "        datadraw[N4,2]=FF\n",
    "        print(i2*0.1,i3*0.1,N4),' '\n",
    "        i3=i3+1\n",
    "        N4=N4+1\n",
    "    i2=i2+1\n",
    "print N4"
   ]
  },
  {
   "cell_type": "code",
   "execution_count": 45,
   "metadata": {
    "collapsed": true
   },
   "outputs": [],
   "source": [
    "i2=5\n",
    "i3=5\n",
    "N3=15\n",
    "N4=0\n",
    "datadraw12=np.zeros((66,3))\n",
    "while i2<N3+1:\n",
    "    i3=5\n",
    "    while i3<i2+1:\n",
    "        \n",
    "        datadraw12[N4,0]=0.1*i2\n",
    "        datadraw12[N4,1]=0.1*i3\n",
    "        datadraw12[N4,2]=datadraw[N4,2]\n",
    "        #print(i2*0.1,i3*0.1)\n",
    "        i3=i3+1\n",
    "        N4=N4+1\n",
    "    i2=i2+1"
   ]
  },
  {
   "cell_type": "code",
   "execution_count": 49,
   "metadata": {},
   "outputs": [
    {
     "data": {
      "text/plain": [
       "0.019772069486952662"
      ]
     },
     "execution_count": 49,
     "metadata": {},
     "output_type": "execute_result"
    }
   ],
   "source": [
    "datadraw12[:,2].max()"
   ]
  },
  {
   "cell_type": "code",
   "execution_count": 134,
   "metadata": {
    "collapsed": true
   },
   "outputs": [],
   "source": [
    "np.savetxt('datadraw.txt',datadraw)\n",
    "np.savetxt('datadraw12.txt',datadraw12)"
   ]
  },
  {
   "cell_type": "code",
   "execution_count": 44,
   "metadata": {},
   "outputs": [
    {
     "data": {
      "text/plain": [
       "array([[  4.35275282e+00,   2.50000000e-01,   5.81759934e-04],\n",
       "       [  4.76424641e+00,   2.47933884e-01,   6.46115418e-03],\n",
       "       [  5.22330338e+00,   2.50000000e-01,   3.98003179e-04],\n",
       "       [  5.13575831e+00,   2.43055556e-01,   4.69024966e-04],\n",
       "       [  5.63846519e+00,   2.48520710e-01,   3.12196586e-04],\n",
       "       [  6.09385394e+00,   2.50000000e-01,   7.11273798e-03],\n",
       "       [  5.47579681e+00,   2.36686391e-01,   1.06623034e-03],\n",
       "       [  6.01892782e+00,   2.44897959e-01,   1.54626791e-02],\n",
       "       [  6.51170270e+00,   2.48888889e-01,   8.77759152e-04],\n",
       "       [  6.96440451e+00,   2.50000000e-01,   1.06103810e-03],\n",
       "       [  5.79031114e+00,   2.29591837e-01,   8.73698682e-04],\n",
       "       [  6.37115255e+00,   2.40000000e-01,   7.41185906e-04],\n",
       "       [  6.89890768e+00,   2.46093750e-01,   1.30779857e-03],\n",
       "       [  7.38430648e+00,   2.49134948e-01,   2.40176858e-03],\n",
       "       [  7.83495507e+00,   2.50000000e-01,   1.19482383e-02],\n",
       "       [  6.08364342e+00,   2.22222222e-01,   4.30708022e-04],\n",
       "       [  6.69987583e+00,   2.34375000e-01,   8.39842371e-04],\n",
       "       [  7.26054196e+00,   2.42214533e-01,   8.58044295e-04],\n",
       "       [  7.77677423e+00,   2.46913580e-01,   1.62149546e-03],\n",
       "       [  8.25647719e+00,   2.49307479e-01,   3.03029848e-03],\n",
       "       [  8.70550563e+00,   2.50000000e-01,   6.45100673e-04],\n",
       "       [  6.35907017e+00,   2.14843750e-01,   1.23441478e-02],\n",
       "       [  7.00868558e+00,   2.28373702e-01,   6.10265258e-04],\n",
       "       [  7.60046099e+00,   2.37654321e-01,   3.17567954e-04],\n",
       "       [  8.14589641e+00,   2.43767313e-01,   1.90050466e-03],\n",
       "       [  8.65316764e+00,   2.47500000e-01,   4.25852351e-04],\n",
       "       [  9.12833883e+00,   2.49433107e-01,   1.32684684e-03],\n",
       "       [  9.57605620e+00,   2.50000000e-01,   8.26159274e-04],\n",
       "       [  6.61913084e+00,   2.07612457e-01,   2.91484388e-04],\n",
       "       [  7.30037210e+00,   2.22222222e-01,   9.45420754e-04],\n",
       "       [  7.92167191e+00,   2.32686981e-01,   4.64084564e-03],\n",
       "       [  8.49487007e+00,   2.40000000e-01,   1.19401391e-02],\n",
       "       [  9.02839173e+00,   2.44897959e-01,   3.08200350e-04],\n",
       "       [  9.52849283e+00,   2.47933884e-01,   9.03755661e-04],\n",
       "       [  9.99997217e+00,   2.49527410e-01,   1.41630640e-03],\n",
       "       [  1.04466068e+01,   2.50000000e-01,   2.62571577e-04],\n",
       "       [  6.86583738e+00,   2.00617284e-01,   1.10812653e-03],\n",
       "       [  7.57715273e+00,   2.16066482e-01,   5.74926500e-03],\n",
       "       [  8.22657073e+00,   2.27500000e-01,   1.81492236e-02],\n",
       "       [  8.82624838e+00,   2.35827664e-01,   9.94237222e-03],\n",
       "       [  9.38484233e+00,   2.41735537e-01,   6.32633072e-03],\n",
       "       [  9.90878589e+00,   2.45746692e-01,   1.28299392e-03],\n",
       "       [  1.04030186e+01,   2.48263889e-01,   7.12836256e-03],\n",
       "       [  1.08714321e+01,   2.49600000e-01,   1.97720695e-02],\n",
       "       [  1.13171573e+01,   2.50000000e-01,   6.47727606e-04],\n",
       "       [  7.10081346e+00,   1.93905817e-01,   1.10290614e-02],\n",
       "       [  7.84082160e+00,   2.10000000e-01,   9.39035750e-03],\n",
       "       [  8.51710079e+00,   2.22222222e-01,   1.12803951e-03],\n",
       "       [  9.14210652e+00,   2.31404959e-01,   1.32840764e-03],\n",
       "       [  9.72471226e+00,   2.38185255e-01,   6.11816087e-03],\n",
       "       [  1.02715166e+01,   2.43055556e-01,   6.55960653e-04],\n",
       "       [  1.07875900e+01,   2.46400000e-01,   1.39918171e-03],\n",
       "       [  1.12769304e+01,   2.48520710e-01,   1.86726748e-02],\n",
       "       [  1.17427572e+01,   2.49657064e-01,   1.14556169e-03],\n",
       "       [  1.21877079e+01,   2.50000000e-01,   8.16848527e-04],\n",
       "       [  7.32539013e+00,   1.87500000e-01,   9.79443101e-04],\n",
       "       [  8.09285290e+00,   2.04081633e-01,   1.20897716e-02],\n",
       "       [  8.79486228e+00,   2.16942149e-01,   8.02028561e-04],\n",
       "       [  9.44415661e+00,   2.26843100e-01,   5.15545694e-04],\n",
       "       [  1.00498137e+01,   2.34375000e-01,   1.18700715e-02],\n",
       "       [  1.06185876e+01,   2.40000000e-01,   1.13441363e-02],\n",
       "       [  1.11556710e+01,   2.44082840e-01,   2.90181176e-03],\n",
       "       [  1.16651613e+01,   2.46913580e-01,   4.83463613e-03],\n",
       "       [  1.21503604e+01,   2.48724490e-01,   3.38593436e-04],\n",
       "       [  1.26139753e+01,   2.49702735e-01,   6.92300894e-04],\n",
       "       [  1.30582584e+01,   2.50000000e-01,   2.76963392e-04]])"
      ]
     },
     "execution_count": 44,
     "metadata": {},
     "output_type": "execute_result"
    }
   ],
   "source": [
    "datadraw"
   ]
  },
  {
   "cell_type": "code",
   "execution_count": null,
   "metadata": {
    "collapsed": true
   },
   "outputs": [],
   "source": []
  },
  {
   "cell_type": "code",
   "execution_count": null,
   "metadata": {
    "collapsed": true
   },
   "outputs": [],
   "source": []
  },
  {
   "cell_type": "code",
   "execution_count": 130,
   "metadata": {},
   "outputs": [
    {
     "name": "stdout",
     "output_type": "stream",
     "text": [
      "Help on function imshow in module matplotlib.pyplot:\n",
      "\n",
      "imshow(X, cmap=None, norm=None, aspect=None, interpolation=None, alpha=None, vmin=None, vmax=None, origin=None, extent=None, shape=None, filternorm=1, filterrad=4.0, imlim=None, resample=None, url=None, hold=None, data=None, **kwargs)\n",
      "    Display an image on the axes.\n",
      "    \n",
      "    Parameters\n",
      "    ----------\n",
      "    X : array_like, shape (n, m) or (n, m, 3) or (n, m, 4)\n",
      "        Display the image in `X` to current axes.  `X` may be an\n",
      "        array or a PIL image. If `X` is an array, it\n",
      "        can have the following shapes and types:\n",
      "    \n",
      "        - MxN -- values to be mapped (float or int)\n",
      "        - MxNx3 -- RGB (float or uint8)\n",
      "        - MxNx4 -- RGBA (float or uint8)\n",
      "    \n",
      "        The value for each component of MxNx3 and MxNx4 float arrays\n",
      "        should be in the range 0.0 to 1.0. MxN arrays are mapped\n",
      "        to colors based on the `norm` (mapping scalar to scalar)\n",
      "        and the `cmap` (mapping the normed scalar to a color).\n",
      "    \n",
      "    cmap : `~matplotlib.colors.Colormap`, optional, default: None\n",
      "        If None, default to rc `image.cmap` value. `cmap` is ignored\n",
      "        if `X` is 3-D, directly specifying RGB(A) values.\n",
      "    \n",
      "    aspect : ['auto' | 'equal' | scalar], optional, default: None\n",
      "        If 'auto', changes the image aspect ratio to match that of the\n",
      "        axes.\n",
      "    \n",
      "        If 'equal', and `extent` is None, changes the axes aspect ratio to\n",
      "        match that of the image. If `extent` is not `None`, the axes\n",
      "        aspect ratio is changed to match that of the extent.\n",
      "    \n",
      "        If None, default to rc ``image.aspect`` value.\n",
      "    \n",
      "    interpolation : string, optional, default: None\n",
      "        Acceptable values are 'none', 'nearest', 'bilinear', 'bicubic',\n",
      "        'spline16', 'spline36', 'hanning', 'hamming', 'hermite', 'kaiser',\n",
      "        'quadric', 'catrom', 'gaussian', 'bessel', 'mitchell', 'sinc',\n",
      "        'lanczos'\n",
      "    \n",
      "        If `interpolation` is None, default to rc `image.interpolation`.\n",
      "        See also the `filternorm` and `filterrad` parameters.\n",
      "        If `interpolation` is 'none', then no interpolation is performed\n",
      "        on the Agg, ps and pdf backends. Other backends will fall back to\n",
      "        'nearest'.\n",
      "    \n",
      "    norm : `~matplotlib.colors.Normalize`, optional, default: None\n",
      "        A `~matplotlib.colors.Normalize` instance is used to scale\n",
      "        a 2-D float `X` input to the (0, 1) range for input to the\n",
      "        `cmap`. If `norm` is None, use the default func:`normalize`.\n",
      "        If `norm` is an instance of `~matplotlib.colors.NoNorm`,\n",
      "        `X` must be an array of integers that index directly into\n",
      "        the lookup table of the `cmap`.\n",
      "    \n",
      "    vmin, vmax : scalar, optional, default: None\n",
      "        `vmin` and `vmax` are used in conjunction with norm to normalize\n",
      "        luminance data.  Note if you pass a `norm` instance, your\n",
      "        settings for `vmin` and `vmax` will be ignored.\n",
      "    \n",
      "    alpha : scalar, optional, default: None\n",
      "        The alpha blending value, between 0 (transparent) and 1 (opaque)\n",
      "    \n",
      "    origin : ['upper' | 'lower'], optional, default: None\n",
      "        Place the [0,0] index of the array in the upper left or lower left\n",
      "        corner of the axes. If None, default to rc `image.origin`.\n",
      "    \n",
      "    extent : scalars (left, right, bottom, top), optional, default: None\n",
      "        The location, in data-coordinates, of the lower-left and\n",
      "        upper-right corners. If `None`, the image is positioned such that\n",
      "        the pixel centers fall on zero-based (row, column) indices.\n",
      "    \n",
      "    shape : scalars (columns, rows), optional, default: None\n",
      "        For raw buffer images\n",
      "    \n",
      "    filternorm : scalar, optional, default: 1\n",
      "        A parameter for the antigrain image resize filter.  From the\n",
      "        antigrain documentation, if `filternorm` = 1, the filter\n",
      "        normalizes integer values and corrects the rounding errors. It\n",
      "        doesn't do anything with the source floating point values, it\n",
      "        corrects only integers according to the rule of 1.0 which means\n",
      "        that any sum of pixel weights must be equal to 1.0.  So, the\n",
      "        filter function must produce a graph of the proper shape.\n",
      "    \n",
      "    filterrad : scalar, optional, default: 4.0\n",
      "        The filter radius for filters that have a radius parameter, i.e.\n",
      "        when interpolation is one of: 'sinc', 'lanczos' or 'blackman'\n",
      "    \n",
      "    Returns\n",
      "    -------\n",
      "    image : `~matplotlib.image.AxesImage`\n",
      "    \n",
      "    Other parameters\n",
      "    ----------------\n",
      "    kwargs : `~matplotlib.artist.Artist` properties.\n",
      "    \n",
      "    See also\n",
      "    --------\n",
      "    matshow : Plot a matrix or an array as an image.\n",
      "    \n",
      "    Notes\n",
      "    -----\n",
      "    Unless *extent* is used, pixel centers will be located at integer\n",
      "    coordinates. In other words: the origin will coincide with the center\n",
      "    of pixel (0, 0).\n",
      "    \n",
      "    Examples\n",
      "    --------\n",
      "    \n",
      "    .. plot:: mpl_examples/pylab_examples/image_demo.py\n",
      "    \n",
      "    .. note::\n",
      "        In addition to the above described arguments, this function can take a\n",
      "        **data** keyword argument. If such a **data** argument is given, the\n",
      "        following arguments are replaced by **data[<arg>]**:\n",
      "    \n",
      "        * All positional and all keyword arguments.\n",
      "\n"
     ]
    }
   ],
   "source": [
    "help(plt.imshow)"
   ]
  },
  {
   "cell_type": "code",
   "execution_count": 22,
   "metadata": {},
   "outputs": [
    {
     "data": {
      "text/plain": [
       "3.4044125425978556e+27"
      ]
     },
     "execution_count": 22,
     "metadata": {},
     "output_type": "execute_result"
    }
   ],
   "source": [
    "abs(h_mod(0.01, chirp_mass(m_sun,m_sun),0.25))"
   ]
  },
  {
   "cell_type": "code",
   "execution_count": 23,
   "metadata": {},
   "outputs": [
    {
     "data": {
      "text/plain": [
       "array(2.821016556537508e-30)"
      ]
     },
     "execution_count": 23,
     "metadata": {},
     "output_type": "execute_result"
    }
   ],
   "source": [
    "hs(0.01)"
   ]
  },
  {
   "cell_type": "code",
   "execution_count": 27,
   "metadata": {},
   "outputs": [
    {
     "data": {
      "text/plain": [
       "3.085144207108599e+23"
      ]
     },
     "execution_count": 27,
     "metadata": {},
     "output_type": "execute_result"
    }
   ],
   "source": [
    "r"
   ]
  },
  {
   "cell_type": "code",
   "execution_count": null,
   "metadata": {
    "collapsed": true
   },
   "outputs": [],
   "source": []
  },
  {
   "cell_type": "code",
   "execution_count": 37,
   "metadata": {},
   "outputs": [
    {
     "data": {
      "text/plain": [
       "454.033749"
      ]
     },
     "execution_count": 37,
     "metadata": {},
     "output_type": "execute_result"
    }
   ],
   "source": [
    "time.clock()"
   ]
  },
  {
   "cell_type": "code",
   "execution_count": 38,
   "metadata": {},
   "outputs": [
    {
     "data": {
      "text/plain": [
       "454.046049"
      ]
     },
     "execution_count": 38,
     "metadata": {},
     "output_type": "execute_result"
    }
   ],
   "source": [
    "time.clock()"
   ]
  },
  {
   "cell_type": "code",
   "execution_count": 11,
   "metadata": {},
   "outputs": [
    {
     "data": {
      "text/plain": [
       "1.7316121254523135e+31"
      ]
     },
     "execution_count": 11,
     "metadata": {},
     "output_type": "execute_result"
    }
   ],
   "source": [
    "Mc"
   ]
  },
  {
   "cell_type": "code",
   "execution_count": 10,
   "metadata": {},
   "outputs": [
    {
     "ename": "NameError",
     "evalue": "global name 'hn2' is not defined",
     "output_type": "error",
     "traceback": [
      "\u001b[0;31m---------------------------------------------------------------------------\u001b[0m",
      "\u001b[0;31mNameError\u001b[0m                                 Traceback (most recent call last)",
      "\u001b[0;32m<ipython-input-10-e0407c54b8b7>\u001b[0m in \u001b[0;36m<module>\u001b[0;34m()\u001b[0m\n\u001b[1;32m      5\u001b[0m \u001b[0mA\u001b[0m\u001b[0;34m=\u001b[0m\u001b[0mnp\u001b[0m\u001b[0;34m.\u001b[0m\u001b[0msqrt\u001b[0m\u001b[0;34m(\u001b[0m\u001b[0msci_integrate\u001b[0m\u001b[0;34m.\u001b[0m\u001b[0mquad\u001b[0m\u001b[0;34m(\u001b[0m\u001b[0;32mlambda\u001b[0m \u001b[0mx\u001b[0m\u001b[0;34m:\u001b[0m\u001b[0;36m4.0\u001b[0m\u001b[0;34m*\u001b[0m\u001b[0mnp\u001b[0m\u001b[0;34m.\u001b[0m\u001b[0mpower\u001b[0m\u001b[0;34m(\u001b[0m\u001b[0mhs\u001b[0m\u001b[0;34m(\u001b[0m\u001b[0mx\u001b[0m\u001b[0;34m)\u001b[0m\u001b[0;34m,\u001b[0m\u001b[0;36m2.0\u001b[0m\u001b[0;34m)\u001b[0m\u001b[0;34m/\u001b[0m\u001b[0mS_n_lisa\u001b[0m\u001b[0;34m(\u001b[0m\u001b[0mx\u001b[0m\u001b[0;34m)\u001b[0m\u001b[0;34m*\u001b[0m\u001b[0;36m1.0e110\u001b[0m\u001b[0;34m,\u001b[0m\u001b[0;36m1.0e-7\u001b[0m\u001b[0;34m,\u001b[0m\u001b[0;36m0.01\u001b[0m\u001b[0;34m)\u001b[0m\u001b[0;34m)\u001b[0m\u001b[0;34m\u001b[0m\u001b[0m\n\u001b[1;32m      6\u001b[0m \u001b[0mB\u001b[0m\u001b[0;34m=\u001b[0m\u001b[0mnp\u001b[0m\u001b[0;34m.\u001b[0m\u001b[0msqrt\u001b[0m\u001b[0;34m(\u001b[0m\u001b[0msci_integrate\u001b[0m\u001b[0;34m.\u001b[0m\u001b[0mquad\u001b[0m\u001b[0;34m(\u001b[0m\u001b[0;32mlambda\u001b[0m \u001b[0mx\u001b[0m\u001b[0;34m:\u001b[0m\u001b[0;36m4.0\u001b[0m\u001b[0;34m*\u001b[0m\u001b[0mnp\u001b[0m\u001b[0;34m.\u001b[0m\u001b[0mpower\u001b[0m\u001b[0;34m(\u001b[0m\u001b[0mabs\u001b[0m\u001b[0;34m(\u001b[0m\u001b[0mh_mod\u001b[0m\u001b[0;34m(\u001b[0m\u001b[0mx\u001b[0m\u001b[0;34m,\u001b[0m\u001b[0mMc\u001b[0m\u001b[0;34m,\u001b[0m\u001b[0mSmr\u001b[0m\u001b[0;34m)\u001b[0m\u001b[0;34m)\u001b[0m\u001b[0;34m,\u001b[0m\u001b[0;36m2.0\u001b[0m\u001b[0;34m)\u001b[0m\u001b[0;34m/\u001b[0m\u001b[0mS_n_lisa\u001b[0m\u001b[0;34m(\u001b[0m\u001b[0mx\u001b[0m\u001b[0;34m)\u001b[0m\u001b[0;34m,\u001b[0m\u001b[0;36m1.0e-7\u001b[0m\u001b[0;34m,\u001b[0m\u001b[0;36m0.01\u001b[0m\u001b[0;34m)\u001b[0m\u001b[0;34m)\u001b[0m\u001b[0;34m\u001b[0m\u001b[0m\n\u001b[0;32m----> 7\u001b[0;31m \u001b[0mAB\u001b[0m\u001b[0;34m=\u001b[0m\u001b[0msci_integrate\u001b[0m\u001b[0;34m.\u001b[0m\u001b[0mquad\u001b[0m\u001b[0;34m(\u001b[0m\u001b[0;32mlambda\u001b[0m \u001b[0mx\u001b[0m\u001b[0;34m:\u001b[0m\u001b[0;36m4.0\u001b[0m\u001b[0;34m*\u001b[0m\u001b[0mnp\u001b[0m\u001b[0;34m.\u001b[0m\u001b[0mpower\u001b[0m\u001b[0;34m(\u001b[0m\u001b[0mhn2\u001b[0m\u001b[0;34m(\u001b[0m\u001b[0mx\u001b[0m\u001b[0;34m)\u001b[0m\u001b[0;34m)\u001b[0m\u001b[0;34m/\u001b[0m\u001b[0mS_n_lisa\u001b[0m\u001b[0;34m(\u001b[0m\u001b[0mx\u001b[0m\u001b[0;34m)\u001b[0m\u001b[0;34m,\u001b[0m\u001b[0;36m1.0e-7\u001b[0m\u001b[0;34m,\u001b[0m\u001b[0;36m0.01\u001b[0m\u001b[0;34m)\u001b[0m\u001b[0;34m\u001b[0m\u001b[0m\n\u001b[0m\u001b[1;32m      8\u001b[0m \u001b[0mFF\u001b[0m\u001b[0;34m=\u001b[0m\u001b[0mabs\u001b[0m\u001b[0;34m(\u001b[0m\u001b[0mAB\u001b[0m\u001b[0;34m[\u001b[0m\u001b[0;36m0\u001b[0m\u001b[0;34m]\u001b[0m\u001b[0;34m/\u001b[0m\u001b[0mA\u001b[0m\u001b[0;34m[\u001b[0m\u001b[0;36m0\u001b[0m\u001b[0;34m]\u001b[0m\u001b[0;34m/\u001b[0m\u001b[0mB\u001b[0m\u001b[0;34m[\u001b[0m\u001b[0;36m0\u001b[0m\u001b[0;34m]\u001b[0m\u001b[0;34m)\u001b[0m\u001b[0;34m\u001b[0m\u001b[0m\n\u001b[1;32m      9\u001b[0m \u001b[0mt2\u001b[0m\u001b[0;34m=\u001b[0m\u001b[0mtime\u001b[0m\u001b[0;34m.\u001b[0m\u001b[0mclock\u001b[0m\u001b[0;34m(\u001b[0m\u001b[0;34m)\u001b[0m\u001b[0;34m\u001b[0m\u001b[0m\n",
      "\u001b[0;32m/Users/shyn/anaconda2/lib/python2.7/site-packages/scipy/integrate/quadpack.pyc\u001b[0m in \u001b[0;36mquad\u001b[0;34m(func, a, b, args, full_output, epsabs, epsrel, limit, points, weight, wvar, wopts, maxp1, limlst)\u001b[0m\n\u001b[1;32m    321\u001b[0m     \u001b[0;32mif\u001b[0m \u001b[0;34m(\u001b[0m\u001b[0mweight\u001b[0m \u001b[0;32mis\u001b[0m \u001b[0mNone\u001b[0m\u001b[0;34m)\u001b[0m\u001b[0;34m:\u001b[0m\u001b[0;34m\u001b[0m\u001b[0m\n\u001b[1;32m    322\u001b[0m         retval = _quad(func, a, b, args, full_output, epsabs, epsrel, limit,\n\u001b[0;32m--> 323\u001b[0;31m                        points)\n\u001b[0m\u001b[1;32m    324\u001b[0m     \u001b[0;32melse\u001b[0m\u001b[0;34m:\u001b[0m\u001b[0;34m\u001b[0m\u001b[0m\n\u001b[1;32m    325\u001b[0m         retval = _quad_weight(func, a, b, args, full_output, epsabs, epsrel,\n",
      "\u001b[0;32m/Users/shyn/anaconda2/lib/python2.7/site-packages/scipy/integrate/quadpack.pyc\u001b[0m in \u001b[0;36m_quad\u001b[0;34m(func, a, b, args, full_output, epsabs, epsrel, limit, points)\u001b[0m\n\u001b[1;32m    386\u001b[0m     \u001b[0;32mif\u001b[0m \u001b[0mpoints\u001b[0m \u001b[0;32mis\u001b[0m \u001b[0mNone\u001b[0m\u001b[0;34m:\u001b[0m\u001b[0;34m\u001b[0m\u001b[0m\n\u001b[1;32m    387\u001b[0m         \u001b[0;32mif\u001b[0m \u001b[0minfbounds\u001b[0m \u001b[0;34m==\u001b[0m \u001b[0;36m0\u001b[0m\u001b[0;34m:\u001b[0m\u001b[0;34m\u001b[0m\u001b[0m\n\u001b[0;32m--> 388\u001b[0;31m             \u001b[0;32mreturn\u001b[0m \u001b[0m_quadpack\u001b[0m\u001b[0;34m.\u001b[0m\u001b[0m_qagse\u001b[0m\u001b[0;34m(\u001b[0m\u001b[0mfunc\u001b[0m\u001b[0;34m,\u001b[0m\u001b[0ma\u001b[0m\u001b[0;34m,\u001b[0m\u001b[0mb\u001b[0m\u001b[0;34m,\u001b[0m\u001b[0margs\u001b[0m\u001b[0;34m,\u001b[0m\u001b[0mfull_output\u001b[0m\u001b[0;34m,\u001b[0m\u001b[0mepsabs\u001b[0m\u001b[0;34m,\u001b[0m\u001b[0mepsrel\u001b[0m\u001b[0;34m,\u001b[0m\u001b[0mlimit\u001b[0m\u001b[0;34m)\u001b[0m\u001b[0;34m\u001b[0m\u001b[0m\n\u001b[0m\u001b[1;32m    389\u001b[0m         \u001b[0;32melse\u001b[0m\u001b[0;34m:\u001b[0m\u001b[0;34m\u001b[0m\u001b[0m\n\u001b[1;32m    390\u001b[0m             \u001b[0;32mreturn\u001b[0m \u001b[0m_quadpack\u001b[0m\u001b[0;34m.\u001b[0m\u001b[0m_qagie\u001b[0m\u001b[0;34m(\u001b[0m\u001b[0mfunc\u001b[0m\u001b[0;34m,\u001b[0m\u001b[0mbound\u001b[0m\u001b[0;34m,\u001b[0m\u001b[0minfbounds\u001b[0m\u001b[0;34m,\u001b[0m\u001b[0margs\u001b[0m\u001b[0;34m,\u001b[0m\u001b[0mfull_output\u001b[0m\u001b[0;34m,\u001b[0m\u001b[0mepsabs\u001b[0m\u001b[0;34m,\u001b[0m\u001b[0mepsrel\u001b[0m\u001b[0;34m,\u001b[0m\u001b[0mlimit\u001b[0m\u001b[0;34m)\u001b[0m\u001b[0;34m\u001b[0m\u001b[0m\n",
      "\u001b[0;32m<ipython-input-10-e0407c54b8b7>\u001b[0m in \u001b[0;36m<lambda>\u001b[0;34m(x)\u001b[0m\n\u001b[1;32m      5\u001b[0m \u001b[0mA\u001b[0m\u001b[0;34m=\u001b[0m\u001b[0mnp\u001b[0m\u001b[0;34m.\u001b[0m\u001b[0msqrt\u001b[0m\u001b[0;34m(\u001b[0m\u001b[0msci_integrate\u001b[0m\u001b[0;34m.\u001b[0m\u001b[0mquad\u001b[0m\u001b[0;34m(\u001b[0m\u001b[0;32mlambda\u001b[0m \u001b[0mx\u001b[0m\u001b[0;34m:\u001b[0m\u001b[0;36m4.0\u001b[0m\u001b[0;34m*\u001b[0m\u001b[0mnp\u001b[0m\u001b[0;34m.\u001b[0m\u001b[0mpower\u001b[0m\u001b[0;34m(\u001b[0m\u001b[0mhs\u001b[0m\u001b[0;34m(\u001b[0m\u001b[0mx\u001b[0m\u001b[0;34m)\u001b[0m\u001b[0;34m,\u001b[0m\u001b[0;36m2.0\u001b[0m\u001b[0;34m)\u001b[0m\u001b[0;34m/\u001b[0m\u001b[0mS_n_lisa\u001b[0m\u001b[0;34m(\u001b[0m\u001b[0mx\u001b[0m\u001b[0;34m)\u001b[0m\u001b[0;34m*\u001b[0m\u001b[0;36m1.0e110\u001b[0m\u001b[0;34m,\u001b[0m\u001b[0;36m1.0e-7\u001b[0m\u001b[0;34m,\u001b[0m\u001b[0;36m0.01\u001b[0m\u001b[0;34m)\u001b[0m\u001b[0;34m)\u001b[0m\u001b[0;34m\u001b[0m\u001b[0m\n\u001b[1;32m      6\u001b[0m \u001b[0mB\u001b[0m\u001b[0;34m=\u001b[0m\u001b[0mnp\u001b[0m\u001b[0;34m.\u001b[0m\u001b[0msqrt\u001b[0m\u001b[0;34m(\u001b[0m\u001b[0msci_integrate\u001b[0m\u001b[0;34m.\u001b[0m\u001b[0mquad\u001b[0m\u001b[0;34m(\u001b[0m\u001b[0;32mlambda\u001b[0m \u001b[0mx\u001b[0m\u001b[0;34m:\u001b[0m\u001b[0;36m4.0\u001b[0m\u001b[0;34m*\u001b[0m\u001b[0mnp\u001b[0m\u001b[0;34m.\u001b[0m\u001b[0mpower\u001b[0m\u001b[0;34m(\u001b[0m\u001b[0mabs\u001b[0m\u001b[0;34m(\u001b[0m\u001b[0mh_mod\u001b[0m\u001b[0;34m(\u001b[0m\u001b[0mx\u001b[0m\u001b[0;34m,\u001b[0m\u001b[0mMc\u001b[0m\u001b[0;34m,\u001b[0m\u001b[0mSmr\u001b[0m\u001b[0;34m)\u001b[0m\u001b[0;34m)\u001b[0m\u001b[0;34m,\u001b[0m\u001b[0;36m2.0\u001b[0m\u001b[0;34m)\u001b[0m\u001b[0;34m/\u001b[0m\u001b[0mS_n_lisa\u001b[0m\u001b[0;34m(\u001b[0m\u001b[0mx\u001b[0m\u001b[0;34m)\u001b[0m\u001b[0;34m,\u001b[0m\u001b[0;36m1.0e-7\u001b[0m\u001b[0;34m,\u001b[0m\u001b[0;36m0.01\u001b[0m\u001b[0;34m)\u001b[0m\u001b[0;34m)\u001b[0m\u001b[0;34m\u001b[0m\u001b[0m\n\u001b[0;32m----> 7\u001b[0;31m \u001b[0mAB\u001b[0m\u001b[0;34m=\u001b[0m\u001b[0msci_integrate\u001b[0m\u001b[0;34m.\u001b[0m\u001b[0mquad\u001b[0m\u001b[0;34m(\u001b[0m\u001b[0;32mlambda\u001b[0m \u001b[0mx\u001b[0m\u001b[0;34m:\u001b[0m\u001b[0;36m4.0\u001b[0m\u001b[0;34m*\u001b[0m\u001b[0mnp\u001b[0m\u001b[0;34m.\u001b[0m\u001b[0mpower\u001b[0m\u001b[0;34m(\u001b[0m\u001b[0mhn2\u001b[0m\u001b[0;34m(\u001b[0m\u001b[0mx\u001b[0m\u001b[0;34m)\u001b[0m\u001b[0;34m)\u001b[0m\u001b[0;34m/\u001b[0m\u001b[0mS_n_lisa\u001b[0m\u001b[0;34m(\u001b[0m\u001b[0mx\u001b[0m\u001b[0;34m)\u001b[0m\u001b[0;34m,\u001b[0m\u001b[0;36m1.0e-7\u001b[0m\u001b[0;34m,\u001b[0m\u001b[0;36m0.01\u001b[0m\u001b[0;34m)\u001b[0m\u001b[0;34m\u001b[0m\u001b[0m\n\u001b[0m\u001b[1;32m      8\u001b[0m \u001b[0mFF\u001b[0m\u001b[0;34m=\u001b[0m\u001b[0mabs\u001b[0m\u001b[0;34m(\u001b[0m\u001b[0mAB\u001b[0m\u001b[0;34m[\u001b[0m\u001b[0;36m0\u001b[0m\u001b[0;34m]\u001b[0m\u001b[0;34m/\u001b[0m\u001b[0mA\u001b[0m\u001b[0;34m[\u001b[0m\u001b[0;36m0\u001b[0m\u001b[0;34m]\u001b[0m\u001b[0;34m/\u001b[0m\u001b[0mB\u001b[0m\u001b[0;34m[\u001b[0m\u001b[0;36m0\u001b[0m\u001b[0;34m]\u001b[0m\u001b[0;34m)\u001b[0m\u001b[0;34m\u001b[0m\u001b[0m\n\u001b[1;32m      9\u001b[0m \u001b[0mt2\u001b[0m\u001b[0;34m=\u001b[0m\u001b[0mtime\u001b[0m\u001b[0;34m.\u001b[0m\u001b[0mclock\u001b[0m\u001b[0;34m(\u001b[0m\u001b[0;34m)\u001b[0m\u001b[0;34m\u001b[0m\u001b[0m\n",
      "\u001b[0;31mNameError\u001b[0m: global name 'hn2' is not defined"
     ]
    }
   ],
   "source": [
    "t1=time.clock()\n",
    "Mc=chirp_mass(m_1,m_2)\n",
    "Mc_sun=Mc/m_sun\n",
    "Smr=sym_mass_ratio(m_1,m_2)\n",
    "A=np.sqrt(sci_integrate.quad(lambda x:4.0*np.power(hs(x),2.0)/S_n_lisa(x)*1.0e110,1.0e-4,0.01))\n",
    "B=np.sqrt(sci_integrate.quad(lambda x:4.0*np.power(abs(h_mod(x,Mc,Smr)),2.0)/S_n_lisa(x),1.0e-4,0.01))\n",
    "AB=sci_integrate.quad(lambda x:4.0*np.power(hn2(x))/S_n_lisa(x),1.0e-7,0.01)\n",
    "FF=abs(AB[0]/A[0]/B[0])\n",
    "t2=time.clock()\n",
    "print '(A,DelA)=',A,'(B,DelB)=',B,'(AB,DelAB)=',AB,'FF=',AB[0]/A[0]/B[0],'(Mc/m_sun,Smr)',(Mc_sun,Smr),(t2-t1)*10000/60/60\n"
   ]
  },
  {
   "cell_type": "code",
   "execution_count": null,
   "metadata": {
    "collapsed": true
   },
   "outputs": [],
   "source": []
  },
  {
   "cell_type": "code",
   "execution_count": null,
   "metadata": {
    "collapsed": true
   },
   "outputs": [],
   "source": []
  },
  {
   "cell_type": "code",
   "execution_count": 127,
   "metadata": {},
   "outputs": [
    {
     "name": "stdout",
     "output_type": "stream",
     "text": [
      "(A,DelA)= [ 12.81914475   1.19332606] (B,DelB)= [  1.29332287e+00   9.44058926e-05] (AB,DelAB)= 0 FF= 0.0603162027516 (Mc/m_sun,Smr) (8.7055056329612057, 0.25) 3.82233888889\n"
     ]
    }
   ],
   "source": [
    "t1=time.clock()\n",
    "Mc=chirp_mass(m_1,m_2)\n",
    "Mc_sun=Mc/m_sun\n",
    "Smr=sym_mass_ratio(m_1,m_2)\n",
    "A=np.sqrt(sci_integrate.quad(lambda x:4.0*np.power(hs(x),2.0)/S_n_lisa(x),1.0e-4,0.01))\n",
    "B=np.sqrt(sci_integrate.quad(lambda x:4.0*np.power(abs(h_mod(x,Mc,Smr)),2.0)/S_n_lisa(x),1.0e-4,0.01))\n",
    "\n",
    "fu=np.linspace(0.0001,0.01,100000)\n",
    "\n",
    "work1=hreal(fu)*h_mod(fu,Mc,Smr).real+himag(fu)*h_mod(fu,Mc,Smr).imag\n",
    "work2=hreal(fu)*h_mod(fu,Mc,Smr).imag-himag(fu)*h_mod(fu,Mc,Smr).real\n",
    "\n",
    "work3\n",
    "\n",
    "\n",
    "t2=time.clock()\n",
    "print '(A,DelA)=',A,'(B,DelB)=',B,'(AB,DelAB)=',0,'FF=',1/A[0]/B[0],'(Mc/m_sun,Smr)',(Mc_sun,Smr),(t2-t1)*10000/60/60\n",
    "\n",
    "\n"
   ]
  },
  {
   "cell_type": "code",
   "execution_count": 106,
   "metadata": {},
   "outputs": [
    {
     "name": "stderr",
     "output_type": "stream",
     "text": [
      "/Users/shyn/anaconda2/lib/python2.7/site-packages/ipykernel_launcher.py:24: RuntimeWarning: divide by zero encountered in power\n",
      "/Users/shyn/anaconda2/lib/python2.7/site-packages/ipykernel_launcher.py:21: RuntimeWarning: divide by zero encountered in divide\n",
      "/Users/shyn/anaconda2/lib/python2.7/site-packages/ipykernel_launcher.py:21: RuntimeWarning: divide by zero encountered in log\n",
      "/Users/shyn/anaconda2/lib/python2.7/site-packages/ipykernel_launcher.py:21: RuntimeWarning: invalid value encountered in multiply\n"
     ]
    }
   ],
   "source": [
    "work1=(yff.real[1:N/2]*h_mod(xs,Mc,Smr)[1:N/2].real+yff.imag[1:N/2]*h_mod(xs,Mc,Smr).imag[1:N/2])+1j*(yff.real[1:N/2]*h_mod(xs,Mc,Smr).imag[1:N/2]-yff.imag[1:N/2]*h_mod(xs,Mc,Smr).real[1:N/2])\n",
    "work2=fft.fft(work1)\n",
    "work3=abs(work2).max()"
   ]
  },
  {
   "cell_type": "code",
   "execution_count": 339,
   "metadata": {
    "collapsed": true
   },
   "outputs": [],
   "source": [
    "fumax=yn2(fu).max()"
   ]
  },
  {
   "cell_type": "code",
   "execution_count": 138,
   "metadata": {},
   "outputs": [
    {
     "data": {
      "text/plain": [
       "(array([ 12.81914475,   1.19332606]),\n",
       " array([  3.67673070e+00,   2.68382361e-04]))"
      ]
     },
     "execution_count": 138,
     "metadata": {},
     "output_type": "execute_result"
    }
   ],
   "source": [
    "A=np.sqrt(sci_integrate.quad(lambda x:4.0*np.power(hs(x),2.0)/S_n_lisa(x),1.0e-4,0.01))\n",
    "B=np.sqrt(sci_integrate.quad(lambda x:4.0*np.power(abs(h_mod(x,Mc,Smr)),2.0)/S_n_lisa(x),1.0e-4,0.01))\n",
    "A,B"
   ]
  },
  {
   "cell_type": "code",
   "execution_count": 139,
   "metadata": {},
   "outputs": [
    {
     "name": "stdout",
     "output_type": "stream",
     "text": [
      "115.413102749 -22.354812\n"
     ]
    }
   ],
   "source": [
    "f1=time.clock()\n",
    "Nfu=5000\n",
    "fu=np.linspace(1e-4,1e-2,Nfu)\n",
    "i=0\n",
    "work1=np.zeros(Nfu)\n",
    "work2=np.zeros(Nfu)\n",
    "while i<Nfu:\n",
    "    work1[i]=(hreal(fu[i])*h_mod(fu[i],Mc,Smr).real+himag(fu[i])*h_mod(fu[i],Mc,Smr).imag)/S_n_lisa(fu[i])\n",
    "    work2[i]=(hreal(fu[i])*h_mod(fu[i],Mc,Smr).imag-himag(fu[i])*h_mod(fu[i],Mc,Smr).real)/S_n_lisa(fu[i])\n",
    "    i=i+1\n",
    "work3=fft.fft(work1+1.0j*work2)\n",
    "work4=abs(work3)*2/Nfu\n",
    "work4max=2.0*work4.max()\n",
    "f2=time.clock()\n",
    "print work4max,f1-f2"
   ]
  },
  {
   "cell_type": "markdown",
   "metadata": {},
   "source": []
  },
  {
   "cell_type": "markdown",
   "metadata": {},
   "source": [
    "i2=5\n",
    "i3=5\n",
    "N3=15\n",
    "N4=0\n",
    "datadraw=np.zeros((66,3))\n",
    "while i2<N3+1:\n",
    "    i3=5\n",
    "    while i3<i2+1:\n",
    "        Mc=chirp_mass(i2*m_sun,i3*m_sun)\n",
    "        Mc_sun=Mc/m_sun\n",
    "        Smr=sym_mass_ratio(i2*m_sun,i3*m_sun)\n",
    "        B=np.sqrt(sci_integrate.quad(lambda x:4.0*np.power(abs(h_mod(x,Mc,Smr)),2.0)/S_n_lisa(x),1.0e-5,0.01))\n",
    "        A=np.sqrt(sci_integrate.quad(lambda x:4.0*np.power(hs(x),2.0)/S_n_lisa(x),1.0e-5,0.01))\n",
    "        AB=sci_integrate.quad(lambda x:4.0*(hreal(x)*h_mod(x,Mc,Smr).real+himag(x)*h_mod(x,Mc,Smr).imag)/S_n_lisa(x),1.0e-5,0.01)\n",
    "        FF=abs(AB[0]/A[0]/B[0])\n",
    "        datadraw[N4,0]=Mc_sun\n",
    "        datadraw[N4,1]=Smr\n",
    "        datadraw[N4,2]=FF\n",
    "        print(i2*0.1,i3*0.1,N4),' '\n",
    "        i3=i3+1\n",
    "        N4=N4+1\n",
    "    i2=i2+1\n",
    "print N4"
   ]
  },
  {
   "cell_type": "code",
   "execution_count": null,
   "metadata": {
    "collapsed": true
   },
   "outputs": [],
   "source": []
  },
  {
   "cell_type": "code",
   "execution_count": null,
   "metadata": {
    "collapsed": true
   },
   "outputs": [],
   "source": [
    "i2=5\n",
    "i3=5\n",
    "N3=15\n",
    "N4=0\n",
    "df=6.0/10000\n",
    "x=np.linspace(-4.0,-2.0,3000)\n",
    "datadraw=np.zeros((66,3))\n",
    "while i2<N3+1:\n",
    "    i3=5\n",
    "    while i3<i2+1:\n",
    "        Mc=chirp_mass(i2*m_sun,i3*m_sun)\n",
    "        Mc_sun=Mc/m_sun\n",
    "        Smr=sym_mass_ratio(i2*m_sun,i3*m_sun)\n",
    "        B=np.sqrt(sci_integrate.quad(lambda x:4.0*np.power(abs(h_mod(x,Mc,Smr)),2.0)/S_n_lisa(x),1.0e-5,0.01))\n",
    "        A=np.sqrt(sci_integrate.quad(lambda x:4.0*np.power(hs(x),2.0)/S_n_lisa(x),1.0e-5,0.01))\n",
    "        \n",
    "        ans=0.0\n",
    "        for i4 in x:\n",
    "            fu=np.power(10.0,i4)\n",
    "            ans=ans+(hreal(fu)*h_mod(fu,Mc,Smr).real+himag(fu)*h_mod(fu,Mc,Smr).imag)/S_n_lisa(fu)*df*np.log(10)*fu\n",
    "        FF=abs(ans/A[0]/B[0])\n",
    "        datadraw[N4,0]=Mc_sun\n",
    "        datadraw[N4,1]=Smr\n",
    "        datadraw[N4,2]=FF\n",
    "        print(i2*0.1,i3*0.1,N4),' '\n",
    "        i3=i3+1\n",
    "        N4=N4+1\n",
    "    i2=i2+1\n",
    "print N4"
   ]
  }
 ],
 "metadata": {
  "kernelspec": {
   "display_name": "Python 2",
   "language": "python",
   "name": "python2"
  },
  "language_info": {
   "codemirror_mode": {
    "name": "ipython",
    "version": 2
   },
   "file_extension": ".py",
   "mimetype": "text/x-python",
   "name": "python",
   "nbconvert_exporter": "python",
   "pygments_lexer": "ipython2",
   "version": "2.7.13"
  }
 },
 "nbformat": 4,
 "nbformat_minor": 2
}
