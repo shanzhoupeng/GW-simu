{
 "cells": [
  {
   "cell_type": "code",
   "execution_count": 2,
   "metadata": {
    "collapsed": true
   },
   "outputs": [],
   "source": [
    "import numpy as np\n",
    "import matplotlib.pyplot as plt\n",
    "import scipy.constants as sciconsts\n",
    "import scipy.fftpack as fft\n",
    "import scipy.interpolate as sci_interpolate\n",
    "import scipy.integrate as sci_integrate\n",
    "import scipy.signal as signal\n",
    "from mpl_toolkits.mplot3d import Axes3D\n",
    "import time"
   ]
  },
  {
   "cell_type": "code",
   "execution_count": 204,
   "metadata": {
    "collapsed": true
   },
   "outputs": [],
   "source": [
    "''' caozhoujian function taylorT2'''\n",
    "def chirp_mass(m1,m2):\n",
    "    return np.power(m1*m2,0.6)/(np.power(m1+m2,0.2))\n",
    "def solvem(mc,smr):\n",
    "    a=mc/np.power(smr,0.6)\n",
    "    b=smr*np.power(a,2.0)\n",
    "    m1=(a+np.sqrt(np.power(a,2.0)-4.0*b))/2.0\n",
    "    m2=(a-np.sqrt(np.power(a,2.0)-4.0*b))/2.0\n",
    "    return m1,m2\n",
    "def sym_mass_ratio(m1,m2):\n",
    "    return m1*m2/(np.power(m1+m2,2.0))\n",
    "def F_cross(theta,psi,phi):\n",
    "    return 0.5*(1+np.power(np.cos(theta),2))*np.cos(2*phi)*np.sin(2*psi)-np.cos(theta)*np.sin(2*phi)*np.cos(2*psi)\n",
    "def F_plus(theta,psi,phi):\n",
    "    return -0.5*(1+np.power(np.cos(theta),2))*np.cos(2.0*phi)*np.cos(2*psi)-np.cos(theta)*np.sin(2*phi)*np.sin(2*psi)\n",
    "def D_eff(D,theta,psi,phi,iota):\n",
    "    return D/(np.sqrt(np.power(F_cross(theta,psi,phi),2.0)*np.power(np.cos(iota),2.0)+np.power(F_plus(theta,psi,phi),2)*0.25*(1+np.power(np.cos(iota),2))))\n",
    "def Psi(f,m_c,smr,D,theta,psi,phi,iota,t_c,phi_c,v_lso=1/np.sqrt(6.0)):\n",
    "    Mcal=m_c/np.power(smr,0.6)\n",
    "    v=np.power(sciconsts.pi*Mcal*f,1/3.0)\n",
    "    return 2*sciconsts.pi*f*t_c-phi_c-sciconsts.pi*0.25+3.0/(128.0*smr*np.power(v,5.0))*(1+20/9.0*(743/336.0+11/4.0*smr)*np.power(v,2.0)-16.0*sciconsts.pi*np.power(v,3.0)+10.0*(3058673.0/1016064.0+5429/1008.0*smr+617.0/144.0*np.power(smr,2.0))*np.power(v,4.0)+sciconsts.pi*(38645.0/756.0-65/9.0*smr)*(1+3*np.log(v/v_lso))*np.power(v,5.0)+(11583231236531.0/4694215680.0+640.0/3.0*np.power(sciconsts.pi,2)-6848.0/21.0*0.57721566490153286060651209-6848/21.0*np.log(4.0*v)+(-15737765635.0/3048192+2255.0*np.power(sciconsts.pi,2.0)/12.0)*smr+76055.0/1728*np.power(smr,2.0)-127825/1296*np.power(smr,3.0))*np.power(v,6.0)+sciconsts.pi*(77096675.0/254016.0+378515.0/1512.0*smr-74045.0/756.0*np.power(smr,2.0))*np.power(v,7.0))\n",
    "def h(f,m_c,smr,D,theta,psi,phi,iota,t_c,phi_c):\n",
    "    return np.power(m_c,5.0/6.0)/D_eff(D,theta,psi,phi,iota)*np.power(f,-7.0/6.0)*np.exp(1.0j*Psi(f,m_c,smr,D,theta,psi,phi,iota,t_c,phi_c))\n",
    "def Psi2(f,m_c,smr):\n",
    "    Mcal2=m_c/np.power(smr,0.6)\n",
    "    v=np.power(sciconsts.pi*Mcal2*f,1/3.0)\n",
    "    return sciconsts.pi*0.25+3.0/(128.0*smr*np.power(v,5.0))*(1+20/9.0*(743/336.0+11/4.0*smr)*np.power(v,2.0)-16.0*sciconsts.pi*np.power(v,3.0)+10.0*(3058673.0/1016064.0+5429/1008.0*smr+617.0/144.0*np.power(smr,2.0))*np.power(v,4.0)+sciconsts.pi*(38645.0/756.0-65/9.0*smr)*(1+3*np.log(v*np.sqrt(6.0)))*np.power(v,5.0)+(11583231236531.0/4694215680.0+640.0/3.0*np.power(sciconsts.pi,2)-6848.0/21.0*0.57721566490153286060651209-6848/21.0*np.log(4.0*v)+(-15737765635.0/3048192+2255.0*np.power(sciconsts.pi,2.0)/12.0)*smr+76055.0/1728*np.power(smr,2.0)-127825/1296*np.power(smr,3.0))*np.power(v,6.0)+sciconsts.pi*(77096675.0/254016.0+378515.0/1512.0*smr-74045.0/756.0*np.power(smr,2.0))*np.power(v,7.0))\n",
    "\n",
    "def h_mod(f,m_c,smr):\n",
    "    return np.power(m_c,5.0/6.0)*np.power(f,-7.0/6.0)*np.exp(1.0j*Psi2(f,m_c,smr))*1e-48\n",
    "\n",
    "\n",
    "\n",
    "    \n",
    "'''MY FUNCTION PROJECT1'''\n",
    "def k_1cal(m_1,m_2):\n",
    "    return 64.0*np.power(sciconsts.G,3.0)*m_1*m_2*(m_1+m_2)/5.0/np.power(sciconsts.c,5.0)\n",
    "def t_0cal(m_1,m_2,t_gas,a_0):\n",
    "    return t_gas*0.25*np.log(k_1cal(m_1,m_2)+np.power(a_0,4.0)/t_gas)\n",
    "def acal(t,k_1,t_gas,t_0):\n",
    "    return np.power((np.exp(4.0*(t_0-t)/t_gas)-k_1)*t_gas,0.25)\n",
    "def D1acal(t,k_1,t_gas,t_0):\n",
    "    a1=acal(t,k_1,t_gas,t_0)\n",
    "    return -k_1*np.power(a1,-3.0)-a1/t_gas\n",
    "def D2acal(t,k_1,t_gas,t_0):\n",
    "    a2=acal(t,k_1,t_gas,t_0)\n",
    "    D1a2=D1acal(t,k_1,t_gas,t_0)\n",
    "    return (3.0*k_1/np.power(a2,4.0)+1/t_gas)*D1a2\n",
    "def Omegacal(t,k_1,t_gas,t_0,m_1,m_2):\n",
    "    return np.power(sciconsts.G*(m_1+m_2)/np.power(acal(t,k_1,t_gas,t_0),3.0),0.5)\n",
    "def D1Omegacal(t,k_1,t_gas,t_0,m_1,m_2):\n",
    "    a3=acal(t,k_1,t_gas,t_0)\n",
    "    D1a3=D1acal(t,k_1,t_gas,t_0)\n",
    "    o1=Omegacal(t,k_1,t_gas,t_0,m_1,m_2)\n",
    "    return -1.5*D1a3/a3*o1\n",
    "def D2Omegacal(t,k_1,t_gas,t_0,m_1,m_2):\n",
    "    a4=acal(t,k_1,t_gas,t_0)\n",
    "    D1a4=D1acal(t,k_1,t_gas,t_0)\n",
    "    D2a4=D2acal(t,k_1,t_gas,t_0)\n",
    "    o2=Omegacal(t,k_1,t_gas,t_0,m_1,m_2)\n",
    "    return 15.0/4.0*np.power(D1a4/a4,2.0)-1.5*D2a4/a4*o2\n",
    "#reduced D^2(q_ij)\n",
    "#D^2(q_xx-q_yy)    1\n",
    "#D^2(q_xx+q_yy)    2\n",
    "#D^2q_xy           3\n",
    "#D^2q_zz=-D^2(q_xx+q_yy) 4\n",
    "'''def helpnumber(n,t,r,k_1,t_gas,t_0,m_1,m_2):\n",
    "    mu5=m_1*m_2/(m_1+m_2)\n",
    "    a5=acal(t,k_1,t_gas,t_0)\n",
    "    D1a5=D1Omegacal(t,k_1,t_gas,t_0,m_1,m_2)\n",
    "    D2a5=D2Omegacal(t,k_1,t_gas,t_0,m_1,m_2)\n",
    "    o5=Omegacal(t,k_1,t_gas,t_0,m_1,m_2)\n",
    "    D1o5=D1Omegacal(t,k_1,t_gas,t_0,m_1,m_2)\n",
    "    D2o5=D2Omegacal(t,k_1,t_gas,t_0,m_1,m_2)\n",
    "    if n==1:\n",
    "        return mu5*(-4.0*np.power(a5,2.0)*np.cos(2.0*t*o5)*np.power(o5,2.0)-8.0*a5*o5*np.sin(2.0*t*o5)*D1a5+2.0*np.cos(2.0*t*o5)*np.power(D1a5,2.0)-8.0*t*np.power(a5,2.0)*np.cos(2.0*t*o5)*o5*D1o5-4.0*np.power(a5,2.0)*np.sin(2.0*t*o5)*D1o5-8.0*t*a5*np.sin(2.0*t*o5)*D1o5*D1a5+4.0*np.power(t*a5,2.0)*np.cos(2.0*t*o5)*np.power(D1o5,2.0)+2.0*a5*np.cos(2.0*t*o5)*D2a5-2.0*t*np.power(a5,2.0)*np.sin(2.0*t*o5)*D2o5)\n",
    "    elif n==3:\n",
    "        return mu5*(-4.0*np.power(a5,2.0)*np.sin(2.0*t*o5)*np.power(o5,2.0)+8.0*a5*o5*np.cos(2.0*t*o5)*D1a5+2.0*np.sin(2.0*t*o5)*np.power(D1a5,2.0)-8.0*t*np.power(a5,2.0)*np.sin(2.0*t*o5)*o5*D1o5+4.0*np.power(a5,2.0)*np.cos(2.0*t*o5)*D1o5+8.0*t*a5*np.cos(2.0*t*o5)*D1o5*D1a5+4.0*np.power(t*a5,2.0)*np.sin(2.0*t*o5)*np.power(D1o5,2.0)+2.0*a5*np.sin(2.0*t*o5)*D2a5+2.0*t*np.power(a5,2.0)*np.cos(2.0*t*o5)*D2o5)\n",
    "    elif n==2:\n",
    "        return 2.0/3.0*mu5(D2a5*a5+np.power(D1a5,2.0))\n",
    "    elif n==4:\n",
    "        return -2.0/3.0*mu5(D2a5*a5+np.power(D1a5,2.0))''' \n",
    "\n",
    "'''all in SI unit'''\n",
    "def h_plus(t,r,theta,k_1,t_gas,t_0,m_1,m_2):\n",
    "    mu5=m_1*m_2/(m_1+m_2)\n",
    "    a5=acal(t,k_1,t_gas,t_0)\n",
    "    D1a5=D1acal(t,k_1,t_gas,t_0)\n",
    "    D2a5=D2acal(t,k_1,t_gas,t_0)\n",
    "    o5=Omegacal(t,k_1,t_gas,t_0,m_1,m_2)\n",
    "    D1o5=D1Omegacal(t,k_1,t_gas,t_0,m_1,m_2)\n",
    "    D2o5=D2Omegacal(t,k_1,t_gas,t_0,m_1,m_2)\n",
    "    hp1_1=mu5*(-4.0*np.power(a5,2.0)*np.cos(2.0*t*o5)*np.power(o5,2.0)-8.0*a5*o5*np.sin(2.0*t*o5)*D1a5+2.0*np.cos(2.0*t*o5)*np.power(D1a5,2.0)-8.0*t*np.power(a5,2.0)*np.cos(2.0*t*o5)*o5*D1o5-4.0*np.power(a5,2.0)*np.sin(2.0*t*o5)*D1o5-8.0*t*a5*np.sin(2.0*t*o5)*D1o5*D1a5+4.0*np.power(t*a5,2.0)*np.cos(2.0*t*o5)*np.power(D1o5,2.0)+2.0*a5*np.cos(2.0*t*o5)*D2a5-2.0*t*np.power(a5,2.0)*np.sin(2.0*t*o5)*D2o5)\n",
    "    hp2_3=2.0/3.0*mu5*(D2a5*a5+np.power(D1a5,2.0))\n",
    "    return (sciconsts.G/np.power(sciconsts.c,3.0))/r*(1.0/2.0*(1+np.power(np.cos(theta),2.0))*hp1_1-np.power(np.sin(theta),2.0)*1.5*hp2_3)\n",
    "def h_cross(t,r,theta,k_1,t_gas,t_0,m_1,m_2):\n",
    "    mu5=m_1*m_2/(m_1+m_2)\n",
    "    a5=acal(t,k_1,t_gas,t_0)\n",
    "    D1a5=D1Omegacal(t,k_1,t_gas,t_0,m_1,m_2)\n",
    "    D2a5=D2Omegacal(t,k_1,t_gas,t_0,m_1,m_2)\n",
    "    o5=Omegacal(t,k_1,t_gas,t_0,m_1,m_2)\n",
    "    D1o5=D1Omegacal(t,k_1,t_gas,t_0,m_1,m_2)\n",
    "    D2o5=D2Omegacal(t,k_1,t_gas,t_0,m_1,m_2)\n",
    "    hp2_2=mu5*(-4.0*np.power(a5,2.0)*np.sin(2.0*t*o5)*np.power(o5,2.0)+8.0*a5*o5*np.cos(2.0*t*o5)*D1a5+2.0*np.sin(2.0*t*o5)*np.power(D1a5,2.0)-8.0*t*np.power(a5,2.0)*np.sin(2.0*t*o5)*o5*D1o5+4.0*np.power(a5,2.0)*np.cos(2.0*t*o5)*D1o5+8.0*t*a5*np.cos(2.0*t*o5)*D1o5*D1a5+4.0*np.power(t*a5,2.0)*np.sin(2.0*t*o5)*np.power(D1o5,2.0)+2.0*a5*np.sin(2.0*t*o5)*D2a5+2.0*t*np.power(a5,2.0)*np.cos(2.0*t*o5)*D2o5)\n",
    "    return (sciconsts.G/np.power(sciconsts.c,4.0))/r*np.cos(theta)*hp2_2\n",
    "\n",
    "def a_modcal(t,k_1,a_0):\n",
    "    return np.power((np.power(a_0,4.0)-4*k_1*t),0.25)\n",
    "def D1a_modcal(t,k_1,a_0):\n",
    "    a1=a_modcal(t,k_1,a_0)\n",
    "    return -k_1*np.power(a1,-3.0)\n",
    "def D2a_modcal(t,k_1,a_0):\n",
    "    a2=a_modcal(t,k_1,a_0)\n",
    "    D1a2=D1a_modcal(t,k_1,a_0)\n",
    "    return -3.0*np.power(D1a2,2.0)/a2\n",
    "def Omega_modcal(t,k_1,a_0,m_1,m_2):\n",
    "    return np.power(sciconsts.G*(m_1+m_2)/np.power(a_modcal(t,k_1,a_0),3.0),0.5)\n",
    "def D1Omega_modcal(t,k_1,a_0,m_1,m_2):\n",
    "    a3=a_modcal(t,k_1,a_0)\n",
    "    D1a3=D1a_modcal(t,k_1,a_0)\n",
    "    o1=Omega_modcal(t,k_1,a_0,m_1,m_2)\n",
    "    return -1.5*D1a3/a3*o1\n",
    "def D2Omega_modcal(t,k_1,a_0,m_1,m_2):\n",
    "    a4=a_modcal(t,k_1,a_0)\n",
    "    D1a4=D1a_modcal(t,k_1,a_0)\n",
    "    D2a4=D2a_modcal(t,k_1,a_0)\n",
    "    o2=Omega_modcal(t,k_1,a_0,m_1,m_2)\n",
    "    return 15.0/4.0*np.power(D1a4/a4,2.0)-1.5*D2a4/a4*o2\n",
    "\n",
    "def hmod_plus(t,k_1,a_0,m_1,m_2):\n",
    "    mu5=m_1*m_2/(m_1+m_2)\n",
    "    a5=a_modcal(t,k_1,a_0)\n",
    "    D1a5=D1a_modcal(t,k_1,a_0)\n",
    "    D2a5=D2a_modcal(t,k_1,a_0)\n",
    "    o5=Omega_modcal(t,k_1,a_0,m_1,m_2)\n",
    "    D1o5=D1Omega_modcal(t,k_1,a_0,m_1,m_2)\n",
    "    D2o5=D2Omega_modcal(t,k_1,a_0,m_1,m_2)\n",
    "    hp1_1=mu5*(-4.0*np.power(a5,2.0)*np.cos(2.0*t*o5)*np.power(o5,2.0)-8.0*a5*o5*np.sin(2.0*t*o5)*D1a5+2.0*np.cos(2.0*t*o5)*np.power(D1a5,2.0)-8.0*t*np.power(a5,2.0)*np.cos(2.0*t*o5)*o5*D1o5-4.0*np.power(a5,2.0)*np.sin(2.0*t*o5)*D1o5-8.0*t*a5*np.sin(2.0*t*o5)*D1o5*D1a5+4.0*np.power(t*a5,2.0)*np.cos(2.0*t*o5)*np.power(D1o5,2.0)+2.0*a5*np.cos(2.0*t*o5)*D2a5-2.0*t*np.power(a5,2.0)*np.sin(2.0*t*o5)*D2o5)\n",
    "    return (sciconsts.G/np.power(sciconsts.c,3.0))/(10e23)*(hp1_1)\n",
    "\n",
    "def freq_ana(f,N):\n",
    "    jugg=np.where(f>=f.max()*0.95)\n",
    "    ni=jugg[0][0]\n",
    "    nf=jugg[0][jugg[0].size-1]\n",
    "    dfi=(0.01-0.0001)/N\n",
    "    fi=0.0001+dfi*ni\n",
    "    ff=0.0001+dfi*nf\n",
    "    return (fi,f[ni]),(ff,f[nf])\n",
    "\n",
    "\n",
    "'''lisa noise curve in rpsd unit N2A5:laserpower 2w,40cm telescope,armlength 5e6 km'''\n",
    "\n",
    "\n",
    "\n",
    "\n",
    "\n",
    "def S_gal_N2A5(f):\n",
    "    if f>=1.0e-5 and f<1.0e-3:\n",
    "        return np.power(f,-2.3)*np.power(10,-44.62)*20.0/3.0\n",
    "    if f>=1.0e-3 and f<np.power(10,-2.7):\n",
    "        return np.power(f,-4.4)*np.power(10,-50.92)*20.0/3.0\n",
    "    if f>=np.power(10,-2.7) and f<np.power(10,-2.4):\n",
    "        return np.power(f,-8.8)*np.power(10,-62.8)*20.0/3.0\n",
    "    if f>=np.power(10,-2.4) and f<=0.01:\n",
    "        return np.power(f,-20.0)*np.power(10,-89.68)*20.0/3.0\n",
    "    if f>0.01 or f<1.0e-5:\n",
    "        return 0\n",
    "def S_n_lisa(f):\n",
    "    m1=5.0e9\n",
    "    m2=sciconsts.c*0.41/m1/2.0\n",
    "    return 20.0/3.0*(1+np.power(f/m2,2.0))*(4.0*(9.0e-30/np.power(2*sciconsts.pi*f,4.0)*(1+1.0e-4/f))+2.96e-23+2.65e-23)/np.power(m1,2.0)+S_gal_N2A5(f)"
   ]
  },
  {
   "cell_type": "code",
   "execution_count": 4,
   "metadata": {
    "collapsed": true
   },
   "outputs": [],
   "source": [
    "m_sun=1.9891e30\n",
    "m_1=10*m_sun\n",
    "m_2=10*m_sun\n",
    "t_gas=1000.0*365*24*3600\n",
    "a_0=3.0e8"
   ]
  },
  {
   "cell_type": "code",
   "execution_count": 5,
   "metadata": {},
   "outputs": [
    {
     "data": {
      "text/plain": [
       "(5045760.0, 7.927447995941146, 126144000.0)"
      ]
     },
     "execution_count": 5,
     "metadata": {},
     "output_type": "execute_result"
    }
   ],
   "source": [
    "k_1=k_1cal(m_1,m_2)\n",
    "t_0=t_0cal(m_1,m_2,t_gas,a_0)\n",
    "theta=0.0\n",
    "years=365*24*3600.0\n",
    "N=10000000\n",
    "t_scale=4*years\n",
    "r=10*1e6*3.261*sciconsts.light_year\n",
    "t=np.linspace(0,t_scale,num=N)\n",
    "(t_scale*0.01*4,N/0.01/t_scale,t_scale) "
   ]
  },
  {
   "cell_type": "code",
   "execution_count": 6,
   "metadata": {},
   "outputs": [
    {
     "data": {
      "text/plain": [
       "7.927447995941146e-09"
      ]
     },
     "execution_count": 6,
     "metadata": {},
     "output_type": "execute_result"
    }
   ],
   "source": [
    "T=t_scale/N\n",
    "fs=1.0/T\n",
    "y=h_plus(t,r,theta,k_1,t_gas,t_0,m_1,m_2)\n",
    "1.0/t_scale"
   ]
  },
  {
   "cell_type": "code",
   "execution_count": 7,
   "metadata": {
    "collapsed": true
   },
   "outputs": [],
   "source": [
    "xs=np.linspace(0,1/2.0/T,num=N//2)\n",
    "yff=fft.fft(y)\n",
    "y_abs=abs(yff)\n",
    "ys=np.zeros((N//2,), dtype=np.float64)\n",
    "ys=2.0/N*y_abs[0:N//2]\n",
    "hs=sci_interpolate.interp1d(xs,ys,kind='cubic')\n",
    "hr1=2.0/N*yff.real[0:N//2]\n",
    "hi1=2.0/N*yff.imag[0:N//2]\n",
    "hreal=sci_interpolate.interp1d(xs,hr1,kind='cubic')\n",
    "himag=sci_interpolate.interp1d(xs,hi1,kind='cubic')\n",
    "#A=np.sqrt(sci_integrate.quad(lambda x:hs(x)*hs(x)/S_n_lisa(x),1.0e-4,0.01))"
   ]
  },
  {
   "cell_type": "code",
   "execution_count": 371,
   "metadata": {},
   "outputs": [
    {
     "data": {
      "text/plain": [
       "(2061313773570728.0, 20.939111000000025)"
      ]
     },
     "execution_count": 371,
     "metadata": {},
     "output_type": "execute_result"
    }
   ],
   "source": [
    "t1=time.clock() \n",
    "m_1=42*m_sun \n",
    "m_2=42*m_sun \n",
    "a_0=484618279.8606534*0.9\n",
    "k_1=k_1cal(m_1,m_2) \n",
    "N=10000000 \n",
    "t_scale=4*years \n",
    "t=np.linspace(0,t_scale,num=N) \n",
    "T=t_scale/N \n",
    "fs=1.0/T \n",
    "y_mod=hmod_plus(t,k_1,a_0,m_1,m_2) \n",
    "xs=np.linspace(0,1/2.0/T,num=N//2) \n",
    "yff=fft.fft(y_mod) \n",
    "y_mod_abs=abs(yff) \n",
    "y_mods=np.zeros((N//2,), dtype=np.float64) \n",
    "y_mods=2.0/N*y_mod_abs[0:N//2] \n",
    "a=freq_ana(y_mods,N)\n",
    "df=a[1][0]-a[0][0]\n",
    "B=(a[0][1]+a[1][1])/2*df/S_n_lisa((a[1][0]+a[0][0])/2)\n",
    "t2=time.clock()\n",
    "B,t2-t1"
   ]
  },
  {
   "cell_type": "markdown",
   "metadata": {},
   "source": []
  },
  {
   "cell_type": "code",
   "execution_count": 401,
   "metadata": {
    "scrolled": false
   },
   "outputs": [
    {
     "data": {
      "text/plain": [
       "(array([ 64.32505699,   6.41737644]), 18.7857019999999)"
      ]
     },
     "execution_count": 401,
     "metadata": {},
     "output_type": "execute_result"
    }
   ],
   "source": [
    "t1=time.clock() \n",
    "m_1=42.3*m_sun \n",
    "m_2=42.3*m_sun \n",
    "a_0=484618279.8606534\n",
    "k_1=k_1cal(m_1,m_2) \n",
    "N=5000000 \n",
    "t_scale=4*years \n",
    "t=np.linspace(0,t_scale,num=N) \n",
    "T=t_scale/N \n",
    "fs=1.0/T \n",
    "y_mod=hmod_plus(t,k_1,a_0,m_1,m_2) \n",
    "xs=np.linspace(0,1/2.0/T,num=N//2) \n",
    "yff=fft.fft(y_mod) \n",
    "y_mod_abs=abs(yff) \n",
    "y_mods=np.zeros((N//2,), dtype=np.float64) \n",
    "y_mods=2.0/N*y_mod_abs[0:N//2] \n",
    "h_mods=sci_interpolate.interp1d(xs,y_mods,kind='cubic') \n",
    "h_modr1=2.0/N*yff.real[0:N//2] \n",
    "h_modi1=2.0/N*yff.imag[0:N//2] \n",
    "h_modreal=sci_interpolate.interp1d(xs,h_modr1,kind='cubic') \n",
    "h_modimag=sci_interpolate.interp1d(xs,h_modi1,kind='cubic') \n",
    "AB=sci_integrate.quad(lambda x:(h_modreal(x)*hreal(x)+h_modimag(x)*himag(x))/S_n_lisa(x),1.0e-4,0.01) \n",
    "B=np.sqrt(sci_integrate.quad(lambda x:np.power(h_mods(x),2.0)/S_n_lisa(x),1.0e-4,0.01)) \n",
    "t2=time.clock()\n",
    "(B,t2-t1)\n",
    "#A,B,AB,((abs(AB[0])+AB[1])/(A[0]-A[1])/(B[0]-B[1]),),t2-t1"
   ]
  },
  {
   "cell_type": "code",
   "execution_count": 402,
   "metadata": {
    "collapsed": true
   },
   "outputs": [],
   "source": [
    "fu=np.linspace(0.0001,0.01,100000)\n",
    "dfu=(0.01-0.0001)/100000.0\n",
    "work4=h_mods(fu)\n",
    "work5=h_modreal(fu)\n",
    "work6=h_modimag(fu)\n",
    "work7=hreal(fu)\n",
    "work8=hs(fu)*h_mods(fu)\n",
    "work9=himag(fu)\n",
    "work10=h_modreal(fu)*hreal(fu)+h_modimag(fu)*himag(fu)\n",
    "work11=np.arctan(himag(fu)/hreal(fu))\n",
    "work12=np.arctan(h_modimag(fu)/h_modreal(fu))"
   ]
  },
  {
   "cell_type": "code",
   "execution_count": 424,
   "metadata": {},
   "outputs": [
    {
     "data": {
      "image/png": "[encoded data removed]",
      "text/plain": [
       "<matplotlib.figure.Figure at 0x11b17d1d0>"
      ]
     },
     "metadata": {},
     "output_type": "display_data"
    }
   ],
   "source": [
    "fig1=plt.figure(figsize=(18,18),dpi=50)\n",
    "work14=work11-work12\n",
    "work16=hs(fu)\n",
    "work17=himag(fu)/hreal(fu)\n",
    "#plt.plot(fu,work16*1e17)\n",
    "#plt.plot(fu,work11)\n",
    "plt.plot(fu,work16*1e17)\n",
    "plt.plot(fu,work11)\n",
    "#plt.plot(fu,work16*1e17)\n",
    "#plt.yscale('log')\n",
    "plt.xscale('log')\n",
    "plt.xlim(0.003,0.003498)\n",
    "plt.show()"
   ]
  },
  {
   "cell_type": "markdown",
   "metadata": {},
   "source": [
    "freq_ana(work12,1000000),freq_ana(work4,1000000)"
   ]
  },
  {
   "cell_type": "code",
   "execution_count": 405,
   "metadata": {},
   "outputs": [
    {
     "data": {
      "text/plain": [
       "(7.200453975556313, 96.75184019687822)"
      ]
     },
     "execution_count": 405,
     "metadata": {},
     "output_type": "execute_result"
    }
   ],
   "source": [
    "sci_integrate.quad(lambda fu:(h_modreal(fu)*hreal(fu)+h_modimag(fu)*himag(fu))/S_n_lisa(fu),1.0e-4,0.01)\n",
    "#1168/18/63.0\n",
    "#np.cos(work14)[60000:100000].min()"
   ]
  },
  {
   "cell_type": "code",
   "execution_count": 397,
   "metadata": {},
   "outputs": [
    {
     "data": {
      "text/plain": [
       "(((0.0031552390000000002, 1.5651631246635263),\n",
       "  (0.003198106, 1.5462402949388014)),\n",
       " ((0.0031379140000000003, 1.4881810329878742),\n",
       "  (0.0031913740000000003, 1.5659440980707435)))"
      ]
     },
     "execution_count": 397,
     "metadata": {},
     "output_type": "execute_result"
    }
   ],
   "source": [
    "freq_ana(work11,100000),freq_ana(work12,100000)"
   ]
  },
  {
   "cell_type": "code",
   "execution_count": 210,
   "metadata": {},
   "outputs": [
    {
     "data": {
      "text/plain": [
       "(0.00030062978066760907, 0.0003067707866541659)"
      ]
     },
     "execution_count": 210,
     "metadata": {},
     "output_type": "execute_result"
    }
   ],
   "source": [
    "jugg=np.where(work4>=work4.max()*0.95)\n",
    "ni=jugg[0][0]\n",
    "nf=jugg[0][jugg[0].size-1]\n",
    "fi=np.power(10.0,2.0/1000000*ni-4)\n",
    "ff=np.power(10.0,2.0/1000000*nf-4)\n",
    "fi,ff"
   ]
  },
  {
   "cell_type": "code",
   "execution_count": 230,
   "metadata": {},
   "outputs": [
    {
     "data": {
      "text/plain": [
       "(351.16815365439345, 3.773939342021322)"
      ]
     },
     "execution_count": 230,
     "metadata": {},
     "output_type": "execute_result"
    }
   ],
   "source": [
    "sci_integrate.quad(lambda x:np.power(hs(x),2.0)/S_n_lisa(x),1.0e-4,0.01)"
   ]
  },
  {
   "cell_type": "code",
   "execution_count": 347,
   "metadata": {},
   "outputs": [
    {
     "data": {
      "text/plain": [
       "(((0.0027494380000000003, 1.5677809275204491),\n",
       "  (0.0027627040000000004, 1.5378662935444227)),\n",
       " ((0.002750428, 1.4266545745756038e-16),\n",
       "  (0.0027652780000000004, 1.4754791968644986e-16)))"
      ]
     },
     "execution_count": 347,
     "metadata": {},
     "output_type": "execute_result"
    }
   ],
   "source": [
    "freq_ana(work12,100000),freq_ana(work4,100000)"
   ]
  },
  {
   "cell_type": "code",
   "execution_count": 251,
   "metadata": {},
   "outputs": [
    {
     "data": {
      "text/plain": [
       "62.523557653285692"
      ]
     },
     "execution_count": 251,
     "metadata": {},
     "output_type": "execute_result"
    }
   ],
   "source": [
    "np.sqrt(0.00004*h_mods(0.00317)*h_mods(0.00317)/S_n_lisa(0.00317))"
   ]
  },
  {
   "cell_type": "code",
   "execution_count": 106,
   "metadata": {
    "collapsed": true
   },
   "outputs": [],
   "source": [
    "h_plussave=np.zeros((10000000,2))\n",
    "h_modsave=np.zeros((10000000,2))"
   ]
  },
  {
   "cell_type": "code",
   "execution_count": 108,
   "metadata": {
    "collapsed": true
   },
   "outputs": [],
   "source": [
    "h_plussave[:,0]=t\n",
    "h_modsave[:,0]=t\n",
    "h_plussave[:,1]=y\n",
    "h_modsave[:,1]=y_mod"
   ]
  },
  {
   "cell_type": "code",
   "execution_count": 110,
   "metadata": {
    "collapsed": true
   },
   "outputs": [],
   "source": [
    "np.savetxt('h_plussave.txt',h_plussave)\n",
    "np.savetxt('h_modsave.txt',h_modsave)"
   ]
  },
  {
   "cell_type": "code",
   "execution_count": 112,
   "metadata": {},
   "outputs": [
    {
     "data": {
      "text/plain": [
       "1.6153942662021781"
      ]
     },
     "execution_count": 112,
     "metadata": {},
     "output_type": "execute_result"
    }
   ],
   "source": [
    "np.power(11,0.2)"
   ]
  },
  {
   "cell_type": "code",
   "execution_count": 111,
   "metadata": {},
   "outputs": [
    {
     "data": {
      "text/plain": [
       "(12.635681904967385, 12.635681904967385)"
      ]
     },
     "execution_count": 111,
     "metadata": {},
     "output_type": "execute_result"
    }
   ],
   "source": [
    "solvem(11,0.25)"
   ]
  },
  {
   "cell_type": "code",
   "execution_count": 110,
   "metadata": {},
   "outputs": [
    {
     "data": {
      "text/plain": [
       "42.15369133091883"
      ]
     },
     "execution_count": 110,
     "metadata": {},
     "output_type": "execute_result"
    }
   ],
   "source": [
    "8.3847907426330651e+31/m_sun"
   ]
  },
  {
   "cell_type": "code",
   "execution_count": 114,
   "metadata": {},
   "outputs": [
    {
     "data": {
      "text/plain": [
       "484618279.8606534"
      ]
     },
     "execution_count": 114,
     "metadata": {},
     "output_type": "execute_result"
    }
   ],
   "source": [
    "1.6153942662021781*3e8"
   ]
  },
  {
   "cell_type": "code",
   "execution_count": 179,
   "metadata": {
    "collapsed": true
   },
   "outputs": [],
   "source": [
    "m=np.array([1,2]).max()"
   ]
  },
  {
   "cell_type": "code",
   "execution_count": 243,
   "metadata": {},
   "outputs": [
    {
     "data": {
      "text/plain": [
       "array([  0.00000000e+00,  -4.49752930e-06,  -8.16128372e-06, ...,\n",
       "        -4.82586989e-07,  -1.00056890e-06,  -7.19869372e-07])"
      ]
     },
     "execution_count": 243,
     "metadata": {},
     "output_type": "execute_result"
    }
   ],
   "source": [
    "np.arctan(hi1/hr1)"
   ]
  },
  {
   "cell_type": "code",
   "execution_count": 280,
   "metadata": {
    "collapsed": true
   },
   "outputs": [],
   "source": [
    "y=np.cos(np.arctan(hi1/hr1))\n",
    "y2=fft.fft(y)\n",
    "y3=abs(y2)[0:Nf/2]*2/Nf\n",
    "phi3=np.arctan(y2.imag/y2.real)[0:Nf/2]\n",
    "tf_scale=1.0/2/T\n",
    "Nf=N/2\n",
    "Tf=tf_scale/Nf\n",
    "fff=np.linspace(0,1.0/2/Tf,Nf/2)"
   ]
  },
  {
   "cell_type": "code",
   "execution_count": 284,
   "metadata": {},
   "outputs": [
    {
     "data": {
      "image/png": "[encoded data removed]",
      "text/plain": [
       "<matplotlib.figure.Figure at 0x125e37a90>"
      ]
     },
     "metadata": {},
     "output_type": "display_data"
    }
   ],
   "source": [
    "#plt.plot(fff,y3)\n",
    "plt.rcParams['agg.path.chunksize'] = 100000\n",
    "plt.plot(fff,phi3)\n",
    "plt.plot(fff,y3)\n",
    "#plt.yscale('log')\n",
    "plt.xscale('log')\n",
    "#plt.xlim(0.00315,0.00322)\n",
    "plt.show()"
   ]
  },
  {
   "cell_type": "code",
   "execution_count": 270,
   "metadata": {
    "collapsed": true
   },
   "outputs": [],
   "source": [
    "y3=abs(y2)"
   ]
  },
  {
   "cell_type": "code",
   "execution_count": 254,
   "metadata": {},
   "outputs": [
    {
     "data": {
      "text/plain": [
       "10000000"
      ]
     },
     "execution_count": 254,
     "metadata": {},
     "output_type": "execute_result"
    }
   ],
   "source": []
  },
  {
   "cell_type": "code",
   "execution_count": 263,
   "metadata": {},
   "outputs": [
    {
     "data": {
      "text/plain": [
       "array([ 0.,  0.,  0., ...,  0.,  0.,  0.])"
      ]
     },
     "execution_count": 263,
     "metadata": {},
     "output_type": "execute_result"
    }
   ],
   "source": [
    "fff"
   ]
  },
  {
   "cell_type": "code",
   "execution_count": 267,
   "metadata": {},
   "outputs": [
    {
     "data": {
      "text/plain": [
       "array([ 0.,  0.,  0., ...,  0.,  0.,  0.])"
      ]
     },
     "execution_count": 267,
     "metadata": {},
     "output_type": "execute_result"
    }
   ],
   "source": [
    "fff"
   ]
  },
  {
   "cell_type": "code",
   "execution_count": 364,
   "metadata": {
    "collapsed": true
   },
   "outputs": [],
   "source": [
    "a=freq_ana(y_mods,N)"
   ]
  },
  {
   "cell_type": "code",
   "execution_count": 369,
   "metadata": {},
   "outputs": [
    {
     "data": {
      "text/plain": [
       "1.2526783679121556e-16"
      ]
     },
     "execution_count": 369,
     "metadata": {},
     "output_type": "execute_result"
    }
   ],
   "source": [
    "a[0][1]"
   ]
  },
  {
   "cell_type": "code",
   "execution_count": 373,
   "metadata": {},
   "outputs": [
    {
     "data": {
      "text/plain": [
       "61"
      ]
     },
     "execution_count": 373,
     "metadata": {},
     "output_type": "execute_result"
    }
   ],
   "source": [
    "22*10000/3600"
   ]
  },
  {
   "cell_type": "code",
   "execution_count": 415,
   "metadata": {},
   "outputs": [
    {
     "data": {
      "text/plain": [
       "7.1566008110747329e-05"
      ]
     },
     "execution_count": 415,
     "metadata": {},
     "output_type": "execute_result"
    }
   ],
   "source": [
    "np.power(sciconsts.G*m_sun/3e8,3.0)*2000/np.power(sciconsts.c,5.0)"
   ]
  },
  {
   "cell_type": "code",
   "execution_count": 419,
   "metadata": {},
   "outputs": [
    {
     "data": {
      "text/plain": [
       "0.009916470596754488"
      ]
     },
     "execution_count": 419,
     "metadata": {},
     "output_type": "execute_result"
    }
   ],
   "source": [
    "np.power(sciconsts.G*(20*m_sun)/np.power(3e8,3.0),0.5)"
   ]
  },
  {
   "cell_type": "code",
   "execution_count": 421,
   "metadata": {},
   "outputs": [
    {
     "data": {
      "text/plain": [
       "31536000000.0"
      ]
     },
     "execution_count": 421,
     "metadata": {},
     "output_type": "execute_result"
    }
   ],
   "source": [
    "1000*years"
   ]
  },
  {
   "cell_type": "code",
   "execution_count": null,
   "metadata": {
    "collapsed": true
   },
   "outputs": [],
   "source": []
  }
 ],
 "metadata": {
  "kernelspec": {
   "display_name": "Python 2",
   "language": "python",
   "name": "python2"
  },
  "language_info": {
   "codemirror_mode": {
    "name": "ipython",
    "version": 2
   },
   "file_extension": ".py",
   "mimetype": "text/x-python",
   "name": "python",
   "nbconvert_exporter": "python",
   "pygments_lexer": "ipython2",
   "version": "2.7.13"
  }
 },
 "nbformat": 4,
 "nbformat_minor": 2
}
