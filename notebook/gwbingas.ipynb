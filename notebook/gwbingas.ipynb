{
 "cells": [
  {
   "cell_type": "code",
   "execution_count": 10,
   "metadata": {
    "collapsed": true
   },
   "outputs": [],
   "source": [
    "#coding:utf-8\n",
    "import ctypes\n",
    "import numpy as np\n",
    "import scipy.interpolate as sci_interpolate\n",
    "import time\n",
    "import sys\n",
    "from multiprocessing import Process,Pool\n",
    "import scipy.optimize as sciop\n",
    "import scipy.constants as sciconsts\n",
    "import scipy.interpolate as sci_interpolate\n",
    "import scipy.integrate as sci_integrate\n",
    "'''parameters'''\n",
    "def chirp_mass(m1,m2):\n",
    "    return np.power(m1*m2,0.6)/(np.power(m1+m2,0.2))\n",
    "def solvem(mc,smr):\n",
    "    a=mc/np.power(smr,0.6)\n",
    "    b=smr*np.power(a,2.0)\n",
    "    m1=(a+np.sqrt(np.power(a,2.0)-4.0*b))/2.0\n",
    "    m2=(a-np.sqrt(np.power(a,2.0)-4.0*b))/2.0\n",
    "    return np.array((m1,m2))\n",
    "def sym_mass_ratio(m1,m2):\n",
    "    return m1*m2/(np.power(m1+m2,2.0))\n",
    "'''lisa noise curve in rpsd unit N2A5:laserpower 2w,40cm telescope,armlength 5e6 km'''\n",
    "def S_gal_N2A5(f):\n",
    "    if f>=1.0e-5 and f<1.0e-3:\n",
    "        return np.power(f,-2.3)*np.power(10,-44.62)*20.0/3.0\n",
    "    if f>=1.0e-3 and f<np.power(10,-2.7):\n",
    "        return np.power(f,-4.4)*np.power(10,-50.92)*20.0/3.0\n",
    "    if f>=np.power(10,-2.7) and f<np.power(10,-2.4):\n",
    "        return np.power(f,-8.8)*np.power(10,-62.8)*20.0/3.0\n",
    "    if f>=np.power(10,-2.4) and f<=0.01:\n",
    "        return np.power(f,-20.0)*np.power(10,-89.68)*20.0/3.0\n",
    "    if f>0.01 or f<1.0e-5:\n",
    "        return 0\n",
    "def S_n_lisa(f):\n",
    "    m1=5.0e9\n",
    "    m2=sciconsts.c*0.41/m1/2.0\n",
    "    return 20.0/3.0*(1+np.power(f/m2,2.0))*(4.0*(9.0e-30/np.power(2*sciconsts.pi*f,4.0)*(1+1.0e-4/f))+2.96e-23+2.65e-23)/np.power(m1,2.0)+S_gal_N2A5(f)\n",
    "    \n",
    "    "
   ]
  },
  {
   "cell_type": "code",
   "execution_count": null,
   "metadata": {
    "collapsed": true
   },
   "outputs": [],
   "source": [
    "#载入库\n",
    "ll=ctypes.cdll.LoadLibrary\n",
    "bin=ll(\"./bingas.so\")\n",
    "dd=ctypes.c_double\n",
    "#consts setting SI unit\n",
    "timescale=1.0\n",
    "m_sun=1.9891e30\n",
    "years=365*24*3600.0\n",
    "t_scale=years*timescale\n",
    "t_gas=1000.0*years\n",
    "\n",
    "#气体信号构建\n",
    "m1_g=10.0*m_sun\n",
    "m2_g=10.0*m_sun\n",
    "gas_result=filenamecostruct(chirp_mass(m_1g,m_2g),sym_mass_ratio(m_1g,m_2g),0.02,True)\n",
    "bin.maincal(dd(chirp_mass(m_1g,m_2g)),dd(sym_mass_ratio(m_1g,m_2g)),dd(0.002),dd(t_scale),dd(t_gas),ctypes.c_char_p(gas_result))\n",
    "gas_data=np.load(gas_result)\n",
    "tdata=gas_data.T[3]\n",
    "phasedata=gas_data.T[2]\n",
    "rdata=gas_data.T[0]*sciconsts.astronomical_unit\n",
    "r_t_gas=sci_interpolate.interp1d(tdata,rdata)\n",
    "phi_t_gas=sci_interpolate.interp1d(tdata,phasedata)\n",
    "#注意 这里我们已经不能得到频域的积分上下界，故使用0和np.inf代替\n",
    "A=sci_integrate.quad(lambda x:4np.power(1.0/r_t_gas(x)*np.cos(phi_t_gas(x)),2.0)/S_n_lisa(x),0,np.inf,limit=1500,epsabs=0.0005) \n",
    "Aval=np.sqrt(A[0]) \n",
    "Aerr=0.5/AvalA[1] \n",
    "Aval,Aerr"
   ]
  },
  {
   "cell_type": "code",
   "execution_count": 6,
   "metadata": {},
   "outputs": [
    {
     "data": {
      "text/plain": [
       "'vac40.000000-0.250000.npy'"
      ]
     },
     "execution_count": 6,
     "metadata": {},
     "output_type": "execute_result"
    }
   ],
   "source": []
  },
  {
   "cell_type": "code",
   "execution_count": 9,
   "metadata": {},
   "outputs": [
    {
     "data": {
      "text/plain": [
       "array([[  1.99999835e-03,   1.86836052e-03,   6.55196501e+00,\n",
       "          1.21313918e+01],\n",
       "       [  1.99999834e-03,   1.86836324e-03,   6.82056165e+00,\n",
       "          2.42627836e+01],\n",
       "       [  1.99999833e-03,   1.86836673e-03,   7.10818299e+00,\n",
       "          3.72615724e+01],\n",
       "       ..., \n",
       "       [  1.99999565e-03,   1.86837051e-03,   8.60094887e+01,\n",
       "          3.59734132e+03],\n",
       "       [  1.99999565e-03,   1.86836972e-03,   8.60685542e+01,\n",
       "          3.60000000e+03],\n",
       "       [  1.99999565e-03,   1.86836972e-03,   8.60685542e+01,\n",
       "          3.60000000e+03]])"
      ]
     },
     "execution_count": 9,
     "metadata": {},
     "output_type": "execute_result"
    }
   ],
   "source": [
    "np.load(\"/Users/shyn/Desktop/test.npy\")"
   ]
  },
  {
   "cell_type": "code",
   "execution_count": null,
   "metadata": {
    "collapsed": true
   },
   "outputs": [],
   "source": []
  }
 ],
 "metadata": {
  "kernelspec": {
   "display_name": "Python 2",
   "language": "python",
   "name": "python2"
  },
  "language_info": {
   "codemirror_mode": {
    "name": "ipython",
    "version": 2
   },
   "file_extension": ".py",
   "mimetype": "text/x-python",
   "name": "python",
   "nbconvert_exporter": "python",
   "pygments_lexer": "ipython2",
   "version": "2.7.13"
  }
 },
 "nbformat": 4,
 "nbformat_minor": 2
}
