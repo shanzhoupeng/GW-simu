{
 "cells": [
  {
   "cell_type": "code",
   "execution_count": 142,
   "metadata": {
    "scrolled": true
   },
   "outputs": [],
   "source": [
    "import numpy as np\n",
    "import scipy.constants as sciconsts\n",
    "import scipy.fftpack as fft\n",
    "import scipy.interpolate as sci_interpolate\n",
    "import scipy.integrate as sci_integrate\n",
    "import time\n",
    "import sys\n",
    "import matplotlib.pyplot as plt\n",
    "\n",
    "def chirp_mass(m1,m2):\n",
    "    return np.power(m1*m2,0.6)/(np.power(m1+m2,0.2))\n",
    "def solvem(mc,smr):\n",
    "    a=mc/np.power(smr,0.6)\n",
    "    b=smr*np.power(a,2.0)\n",
    "    m1=(a+np.sqrt(np.power(a,2.0)-4.0*b))/2.0\n",
    "    m2=(a-np.sqrt(np.power(a,2.0)-4.0*b))/2.0\n",
    "    return np.array((m1,m2))\n",
    "def sym_mass_ratio(m1,m2):\n",
    "    return m1*m2/(np.power(m1+m2,2.0))\n",
    "\n",
    "'''my Tmodel(considering gas (SI))'''\n",
    "def k_1cal(m_1,m_2):\n",
    "    return 64.0*np.power(sciconsts.G,3.0)*m_1*m_2*(m_1+m_2)/5.0/np.power(sciconsts.c,5.0)\n",
    "def t_0cal(m_1,m_2,t_gas,a_0):\n",
    "    return t_gas*0.25*np.log(k_1cal(m_1,m_2)+np.power(a_0,4.0)/t_gas)\n",
    "def acalgas(t,k_1,t_gas,t_0):\n",
    "    return np.power((np.exp(4.0*(t_0-t)/t_gas)-k_1)*t_gas,0.25)\n",
    "def freq_tgas(t,m_1,m_2,t_gas,t_0):\n",
    "    k_1=k_1cal(m_1,m_2)\n",
    "    a_ft=acalgas(t,k_1,t_gas,t_0)\n",
    "    return 1.0/sciconsts.pi*np.sqrt((m_1+m_2)*sciconsts.G)*np.power(a_ft,-1.5)\n",
    "def phi_tgas(t,m_1,m_2,t_gas,t_0):\n",
    "    return sci_integrate.quad(lambda x:2*sciconsts.pi*freq_tgas(x,m_1,m_2,t_gas,t_0),0,t)[0]\n",
    "def hgas(t,m_1,m_2,t_gas,t_0,phi):\n",
    "    k_1=k_1cal(m_1,m_2)\n",
    "    return m_1*m_2/acalgas(t,k_1,t_gas,t_0)*np.cos(phi)\n",
    "'''my Tmode not considering gas'''\n",
    "def acalvac(t,k_1,t_c):\n",
    "    return np.power(4*k_1*(t_c-t),0.25)\n",
    "def freq_tvac(t,m_1,m_2,t_c):\n",
    "    avt=acalvac(t,k_1cal(m_1,m_2),t_c)\n",
    "    return np.sqrt(sciconsts.G*(m_1+m_2))/sciconsts.pi*np.power(avt,-1.5)\n",
    "def phi_tvac(t,m_1,m_2,t_c):\n",
    "    cm2=chirp_mass(m_1,m_2)\n",
    "    return -2*np.power(np.power(sciconsts.c,3.0)/5.0/cm2/sciconsts.G*(t_c-t),5.0/8.0)\n",
    "def hvac(t,m_1,m_2,t_c,phi_c):\n",
    "    return  m_1*m_2/acalvac(t,k_1cal(m_1,m_2),t_c)*np.cos(phi_tvac(t,m_1,m_2,t_c)+phi_c)\n",
    "#phi_c[0,2pi]\n",
    "def f_jugg(t_c,m_1,m_2):\n",
    "    return (freq_tvac(0,m_1,m_2,t_c),freq_tvac(4*years,m_1,m_2,t_c))\n",
    "def t_fvac(f,m_c,t_c):\n",
    "    sci1=np.power(sciconsts.c,3.0)/5.0/m_c/sciconsts.G\n",
    "    return t_c-np.power(8.0*sciconsts.pi*f/5.0,-8.0/3.0)*np.power(sci1,5.0/3.0)\n",
    "def tlimit(m_c,fi,ff):\n",
    "    sci1=np.power(sciconsts.c,3.0)/5.0/m_c/sciconsts.G\n",
    "    a=np.array((np.power(8.0*sciconsts.pi*fi/5.0,-8.0/3.0)*np.power(sci1,5.0/3.0),4*years+np.power(8.0*sciconsts.pi*ff/5.0,-8.0/3.0)*np.power(sci1,5.0/3.0)))\n",
    "    return [a.min(),a.max()]\n",
    "def tcn_decide(mc,fi,ff,acu):\n",
    "    return ((tlimit(mc,fi,ff)[1]-tlimit(mc,figas,ffgas)[0])/tlimit(mc,fi,ff)[1])//acu+1\n",
    "def noden_cal(mc,phinum,tcn_racu,fi,ff):\n",
    "    mcn=mc.size\n",
    "    i=0\n",
    "    sum1=0\n",
    "    while i<mcn:\n",
    "        sum1=sum1+tcn_decide(mc[i],fi,ff,tcn_racu)\n",
    "        i=i+1\n",
    "    return sum1*phinum\n",
    "\n",
    "\n",
    "def pow2(a):\n",
    "    b=1\n",
    "    i=True\n",
    "    while i:\n",
    "        b=2*b\n",
    "        if b>a:\n",
    "            i=False\n",
    "    return b\n",
    "'''lisa noise curve in rpsd unit N2A5:laserpower 2w,40cm telescope,armlength 5e6 km'''\n",
    "def S_gal_N2A5(f):\n",
    "    if f>=1.0e-5 and f<1.0e-3:\n",
    "        return np.power(f,-2.3)*np.power(10,-44.62)*20.0/3.0\n",
    "    if f>=1.0e-3 and f<np.power(10,-2.7):\n",
    "        return np.power(f,-4.4)*np.power(10,-50.92)*20.0/3.0\n",
    "    if f>=np.power(10,-2.7) and f<np.power(10,-2.4):\n",
    "        return np.power(f,-8.8)*np.power(10,-62.8)*20.0/3.0\n",
    "    if f>=np.power(10,-2.4) and f<=0.01:\n",
    "        return np.power(f,-20.0)*np.power(10,-89.68)*20.0/3.0\n",
    "    if f>0.01 or f<1.0e-5:\n",
    "        return 0\n",
    "def S_n_lisa(f):\n",
    "    m1=5.0e9\n",
    "    m2=sciconsts.c*0.41/m1/2.0\n",
    "    return 20.0/3.0*(1+np.power(f/m2,2.0))*(4.0*(9.0e-30/np.power(2*sciconsts.pi*f,4.0)*(1+1.0e-4/f))+2.96e-23+2.65e-23)/np.power(m1,2.0)+S_gal_N2A5(f)\n",
    "\n",
    "def testf(tbegin,tend):\n",
    "    return abs(freq_tgas(tend,m_1g,m_2g,t_gas,t_0g)-freq_tgas(tbegin,m_1g,m_2g,t_gas,t_0g))/freq_tgas(tbegin,m_1g,m_2g,t_gas,t_0g)\n",
    "\n",
    "def domjugg(f1,f2,del_f):\n",
    "    a=np.array([f1,f2])\n",
    "    t=del_f+a.min()-a.max()\n",
    "    return t"
   ]
  },
  {
   "cell_type": "code",
   "execution_count": 131,
   "metadata": {
    "collapsed": true
   },
   "outputs": [],
   "source": [
    "fname=sys.argv[0]+'value.txt'\n",
    "#consts setting\n",
    "m_sun=1.9891e30\n",
    "years=365*24*3600.0\n",
    "pc=3.261*sciconsts.light_year\n",
    "t_scale=4*years\n",
    "#gas cal\n",
    "m_1g=10*m_sun\n",
    "m_2g=10*m_sun\n",
    "k_1g=k_1cal(m_1g,m_2g)\n",
    "t_gas=1000.0*years\n",
    "a_0=3.0e8\n",
    "t_0g=t_0cal(m_1g,m_2g,t_gas,a_0)\n",
    "#(t_scale*0.01*4,N/0.01/t_scale,t_scale) \n",
    "figas=freq_tgas(0,m_1g,m_2g,t_gas,t_0g)\n",
    "ffgas=freq_tgas(t_scale,m_1g,m_2g,t_gas,t_0g)\n",
    "#tdomain interp1d\n",
    "tphi=np.linspace(0,t_scale,10000)\n",
    "i=0\n",
    "workphi=np.zeros(10000)\n",
    "while i<10000:\n",
    "    workphi[i]=phi_tgas(tphi[i],m_1g,m_2g,t_gas,t_0g)\n",
    "    i=i+1\n",
    "phimo=sci_interpolate.interp1d(tphi,workphi)"
   ]
  },
  {
   "cell_type": "code",
   "execution_count": 200,
   "metadata": {},
   "outputs": [
    {
     "name": "stdout",
     "output_type": "stream",
     "text": [
      "del_t 2522880.0 del_f 3.96372399797e-07\n"
     ]
    },
    {
     "name": "stderr",
     "output_type": "stream",
     "text": [
      "/Users/shyn/anaconda2/lib/python2.7/site-packages/ipykernel_launcher.py:93: RuntimeWarning: divide by zero encountered in double_scalars\n"
     ]
    }
   ],
   "source": [
    "tn=50\n",
    "Ng=10000000/tn #\n",
    "del_t=t_scale/tn\n",
    "del_f=1/del_t\n",
    "print 'del_t',del_t,'del_f',del_f\n",
    "fs=np.linspace(0,Ng//2*del_f,num=Ng//2)\n",
    "hf_g=np.zeros(Ng//2)\n",
    "phi_g=np.zeros(Ng//2)\n",
    "hf_v=np.zeros(Ng//2)\n",
    "phi_v=np.zeros(Ng//2)\n",
    "snf=np.zeros(Ng//2)\n",
    "for i in range(0,Ng//2):\n",
    "    snf[i]=S_n_lisa(fs[i])\n",
    "r=1e7*pc\n",
    "S=1.0/(r)*np.power(sciconsts.G,2)/np.power(sciconsts.c,4.0)*np.sqrt(384.0/5)*np.power(sciconsts.pi,2.0/3.0)\n",
    "#"
   ]
  },
  {
   "cell_type": "code",
   "execution_count": 222,
   "metadata": {
    "scrolled": true
   },
   "outputs": [
    {
     "name": "stdout",
     "output_type": "stream",
     "text": [
      "cal start,node= 30.0\n",
      "0.000440194796641\n",
      "0.100597169809\n",
      "0.10574983976\n",
      "0.0541191012673\n",
      "0.10574983976 37.0\n",
      "0.0945458549093\n",
      "0.113716879205\n",
      "0.113716879205 37.1111111111\n",
      "0.188568118485\n",
      "0.188568118485 37.2222222222\n",
      "0.1606373097\n",
      "0.1606373097 37.3333333333\n",
      "0.137772661649\n",
      "0.269940571973\n",
      "0.269940571973 37.4444444444\n",
      "0.0986867399039\n",
      "0.187138410212\n",
      "0.0869516426922\n",
      "0.187138410212 37.5555555556\n",
      "0.217884346795\n",
      "0.0759278994709\n",
      "0.110603148725\n",
      "0.217884346795 37.6666666667\n",
      "0.127059168471\n",
      "0.0842268034367\n",
      "0.175382959462\n",
      "0.166480550025\n",
      "0.175382959462 37.7777777778\n",
      "0.0188059959068\n",
      "0.355372524002\n",
      "0.115255713124\n",
      "0.162787786495\n",
      "0.127610658499\n",
      "0.355372524002 37.8888888889\n",
      "0.0669400062823\n",
      "0.267067786942\n",
      "0.204617426679\n",
      "0.0790179015469\n",
      "0.0835454155828\n",
      "0.0713313689508\n",
      "0.267067786942 38.0\n"
     ]
    }
   ],
   "source": [
    "#parameters changes\n",
    "mcnum=10\n",
    "acu=0.0001\n",
    "mt=37.21\n",
    "mcs=np.linspace(37*m_sun,38*m_sun,mcnum)\n",
    "data=np.zeros((mcnum,2))\n",
    "noden=noden_cal(mcs,1,0.0001,figas,ffgas)\n",
    "print 'cal start,node=',noden\n",
    "sys.stdout.flush()\n",
    "mcn=0\n",
    "tb=time.clock()\n",
    "\n",
    "i=0\n",
    "tbegin=0\n",
    "tend=t_scale/tn\n",
    "h12i=0\n",
    "while i<tn:\n",
    "    #gas\n",
    "    t=np.linspace(tbegin,tend,num=Ng)\n",
    "    ht=hgas(t,m_1g,m_2g,t_gas,t_0g,phimo(t))*S\n",
    "    hf=fft.fft(ht)[0:Ng//2]*2.0/Ng\n",
    "    hf_abs=abs(hf)\n",
    "    hf_g=hf_g+hf_abs\n",
    "    phi_g=phi_g+np.arctan(hf.imag/hf.real)[0:Ng//2]\n",
    "    tbegin=tbegin+del_t\n",
    "    tend=tend+del_t\n",
    "    i=i+1\n",
    "A=np.sqrt(sci_integrate.simps(hf_g*hf_g/snf,fs))\n",
    "print A\n",
    "while mcn<mcnum:\n",
    "    ffmax=0.0\n",
    "    m1v=solvem(mcs[mcn],0.25)[0]\n",
    "    m2v=solvem(mcs[mcn],0.25)[1]\n",
    "    tcl=tlimit(mcs[mcn],figas,ffgas)\n",
    "    tcnum=tcn_decide(mcs[mcn],figas,ffgas,acu)\n",
    "    tcl_sp=np.linspace(tcl[0],tcl[1],tcnum)\n",
    "    tcn=0\n",
    "    while tcn<tcnum:\n",
    "        tc=tcl_sp[tcn]\n",
    "        i=0\n",
    "        tbegin=0\n",
    "        tend=t_scale/tn\n",
    "        while i<tn:\n",
    "            t=np.linspace(tbegin,tend,num=Ng)\n",
    "            htv=hvac(t,m1v,m2v,tc,0)*S\n",
    "            hfv=fft.fft(htv)[0:Ng//2]*2.0/Ng\n",
    "            hfv_abs=abs(hfv)\n",
    "            hf_v=hf_v+hfv_abs\n",
    "            phi_v=phi_v+np.arctan(hfv.imag/hfv.real)[0:Ng//2]\n",
    "            tbegin=tbegin+del_t\n",
    "            tend=tend+del_t\n",
    "            i=i+1\n",
    "        B=np.sqrt(sci_integrate.simps(hf_v*hf_v/snf,fs))\n",
    "        phivp=np.linspace(0,2*sciconsts.pi,200)\n",
    "        AB=0\n",
    "        for phiv1 in phivp:\n",
    "            ABi=sci_integrate.simps(hf_v*hf_g*np.cos(phi_g-phi_v+phiv1)/snf,fs)\n",
    "            if ABi>AB:\n",
    "                AB=ABi\n",
    "        FF=AB/B/A\n",
    "        print FF\n",
    "        if FF>ffmax:\n",
    "            ffmax=FF\n",
    "        sys.stdout.flush()\n",
    "        tcn=tcn+1\n",
    "    #data[mcn,0]=mcs[mcn]/m_sun\n",
    "    #data[mcn,1]=ffmax\n",
    "    print ffmax,mcs[mcn]/m_sun\n",
    "    mcn=mcn+1\n",
    "#np.savetxt(fname,data)\n",
    "#te=time.clock()\n",
    "#print 'cal completed!',(te-tb),'s'\n",
    "sys.stdout.flush()"
   ]
  },
  {
   "cell_type": "code",
   "execution_count": 193,
   "metadata": {},
   "outputs": [
    {
     "data": {
      "image/png": "[encoded data removed]",
      "text/plain": [
       "<matplotlib.figure.Figure at 0x11f7a1150>"
      ]
     },
     "metadata": {},
     "output_type": "display_data"
    }
   ],
   "source": [
    "plt.plot(fs,snf)\n",
    "plt.xscale('log')\n",
    "plt.yscale('log')\n",
    "#plt.plot(fs,phiv)\n",
    "#plt.xlim(0.00315,0.0032)\n",
    "plt.show()"
   ]
  },
  {
   "cell_type": "code",
   "execution_count": 216,
   "metadata": {},
   "outputs": [],
   "source": []
  },
  {
   "cell_type": "code",
   "execution_count": 91,
   "metadata": {},
   "outputs": [
    {
     "data": {
      "text/plain": [
       "nan"
      ]
     },
     "execution_count": 91,
     "metadata": {},
     "output_type": "execute_result"
    }
   ],
   "source": [
    "i=0\n",
    "while i<tn:\n",
    "    \n",
    "    i=i+1"
   ]
  },
  {
   "cell_type": "code",
   "execution_count": null,
   "metadata": {
    "collapsed": true
   },
   "outputs": [],
   "source": [
    "mcnum=10\n",
    "acu=0.0001\n",
    "mcs=np.linspace(37*m_sun,38*m_sun,mcnum)\n",
    "noden=noden_cal(mcs,1,0.0001,figas,ffgas)\n",
    "print 'cal start,node=',noden,'esi_t=',node*5/3600,'h'\n",
    "sys.stdout.flush()\n",
    "mcn=0\n",
    "tb=time.clock()\n",
    "A=np.sqrt(sci_integrate.quad(lambda x:np.power(hgas(x,m_1g,m_2g,t_gas,t_0g,phimo(x)),2.0),0,4*years,limit=1500,epsabs=0.005))\n",
    "while mcn<mcnum:\n",
    "    ffmax=0.0\n",
    "    m1v=solvem(mcs[mcn],0.25)[0]\n",
    "    m2v=solvem(mcs[mcn],0.25)[1]\n",
    "    tcl=tlimit(mcs[mcn],figas,ffgas)\n",
    "    tcnum=tcn_decide(mcs[mcn],figas,ffgas,acu)\n",
    "    tcl_sp=np.linspace(tcl[0],tcl[1],tcnum)\n",
    "    tcn=0\n",
    "    while tcn<tcnum:\n",
    "        tc=tcl_sp[tcn]\n",
    "        B=np.sqrt(sci_integrate.quad(lambda x:np.power(hvac(x,m1v,m2v,tc,0),2.0),0,4*years,limit=1500,epsabs=0.005))\n",
    "        AB=sci_integrate.quad(lambda x:hvac(x,m1v,m2v,tc,0)*hgas(x,m_1g,m_2g,t_gas,t_0g,phimo(x)),0,4*years,limit=1500,epsabs=0.005)\n",
    "        FF=AB/A/B\n",
    "        if FF>ffmax:\n",
    "            ffmax=FF\n",
    "        tcn=tcn+1\n",
    "    print ffmax,mcs[mcn]/m_sun\n",
    "    mcn=mcn+1\n",
    "#np.savetxt(fname,data)\n",
    "#te=time.clock()\n",
    "#print 'cal completed!',(te-tb),'s'\n",
    "sys.stdout.flush()"
   ]
  },
  {
   "cell_type": "code",
   "execution_count": 248,
   "metadata": {
    "scrolled": true
   },
   "outputs": [
    {
     "name": "stdout",
     "output_type": "stream",
     "text": [
      "0.0153224519207 0.131565742363 0.0873123104061 0.0122777516726 0.0319756802839 3.817619\n",
      "0.0155077395129 0.636148338762 0.610144738618 0.0122777516726 0.013725848472 3.681207\n",
      "0.00345671924817 16.3879570596 16.3510450019 0.0122777516726 0.0246343060246 3.928471\n",
      "-0.0068700708568 -2.36076160183 -2.34400531607 0.0122777516726 0.00447853408343 3.813649\n",
      "-0.0192626088546 -0.606954143532 -0.5792762315 0.0122777516726 0.015400160359 3.897812\n",
      "-0.0183789091898 -1.08357112617 -1.06037548821 0.0122777516726 0.0109178862865 3.682991\n",
      "-0.0092692405185 -3.16614548237 -3.14136903064 0.0122777516726 0.012498700057 3.722505\n",
      "-0.00751771459205 -6.70461777683 -6.67211831538 0.0122777516726 0.020221709781 3.699679\n",
      "-0.00990864393141 -3.60288661368 -3.57648014763 0.0122777516726 0.0141287143742 3.775618\n",
      "-0.0125807122878 -3.49891953133 -3.47455701248 0.0122777516726 0.0120847671788 3.694483\n",
      "-0.0146552227858 -1.1401373683 -1.12060170203 0.0122777516726 0.00725791459337 3.639969\n",
      "-0.0153955482713 -0.617530256844 -0.582921955549 0.0122777516726 0.0223305496219 3.655631\n",
      "-0.0164263626192 -0.351260756338 -0.33096473824 0.0122777516726 0.0080182664246 3.660933\n",
      "-0.0167322405725 -0.172999296803 -0.150234836624 0.0122777516726 0.0104867085068 3.697535\n",
      "-0.0158171612795 -0.168908152581 -0.132933057871 0.0122777516726 0.0236973430378 3.664699\n",
      "-0.0145254732388 -1.25580544989 -1.22982342004 0.0122777516726 0.0137042781786 3.649677\n",
      "-0.0230265159612 -1.4960448824 -1.4704260386 0.0122777516726 0.0133410921309 3.666398\n",
      "-0.0115440118428 -0.784929102488 -0.767241941859 0.0122777516726 0.005409408957 3.642672\n",
      "0.0143889748467 0.888581201318 0.86633972077 0.0122777516726 0.0099637288753 3.676148\n",
      "0.0221324283912 0.372108505232 0.359366960897 0.0122777516726 0.000463792662072 3.67699\n",
      "0.0178408733472 2.74147252859 2.7286876096 0.0122777516726 0.000507167314701 3.617449\n",
      "0.00572715497332 6.95017600544 6.91847938204 0.0122777516726 0.0194188717215 3.628033\n",
      "0.00869648627058 4.26297704857 4.21659402603 0.0122777516726 0.0341052708688 3.64448\n",
      "0.0111155180975 5.03212159029 5.00461925946 0.0122777516726 0.015224579159 3.864226\n"
     ]
    },
    {
     "ename": "KeyboardInterrupt",
     "evalue": "",
     "output_type": "error",
     "traceback": [
      "\u001b[0;31m---------------------------------------------------------------------------\u001b[0m",
      "\u001b[0;31mKeyboardInterrupt\u001b[0m                         Traceback (most recent call last)",
      "\u001b[0;32m<ipython-input-248-f3ad19995454>\u001b[0m in \u001b[0;36m<module>\u001b[0;34m()\u001b[0m\n\u001b[1;32m     11\u001b[0m     \u001b[0mBval\u001b[0m\u001b[0;34m=\u001b[0m\u001b[0mnp\u001b[0m\u001b[0;34m.\u001b[0m\u001b[0msqrt\u001b[0m\u001b[0;34m(\u001b[0m\u001b[0mB\u001b[0m\u001b[0;34m[\u001b[0m\u001b[0;36m0\u001b[0m\u001b[0;34m]\u001b[0m\u001b[0;34m)\u001b[0m\u001b[0;34m\u001b[0m\u001b[0m\n\u001b[1;32m     12\u001b[0m     \u001b[0mBerr\u001b[0m\u001b[0;34m=\u001b[0m\u001b[0;36m0.5\u001b[0m\u001b[0;34m/\u001b[0m\u001b[0mBval\u001b[0m\u001b[0;34m*\u001b[0m\u001b[0mB\u001b[0m\u001b[0;34m[\u001b[0m\u001b[0;36m1\u001b[0m\u001b[0;34m]\u001b[0m\u001b[0;34m\u001b[0m\u001b[0m\n\u001b[0;32m---> 13\u001b[0;31m     \u001b[0mAB\u001b[0m\u001b[0;34m=\u001b[0m\u001b[0msci_integrate\u001b[0m\u001b[0;34m.\u001b[0m\u001b[0mquad\u001b[0m\u001b[0;34m(\u001b[0m\u001b[0;32mlambda\u001b[0m \u001b[0mx\u001b[0m\u001b[0;34m:\u001b[0m\u001b[0mhvac\u001b[0m\u001b[0;34m(\u001b[0m\u001b[0mx\u001b[0m\u001b[0;34m,\u001b[0m\u001b[0mm1v\u001b[0m\u001b[0;34m,\u001b[0m\u001b[0mm2v\u001b[0m\u001b[0;34m,\u001b[0m\u001b[0mtc\u001b[0m\u001b[0;34m,\u001b[0m\u001b[0mphiv\u001b[0m\u001b[0;34m[\u001b[0m\u001b[0mi2\u001b[0m\u001b[0;34m]\u001b[0m\u001b[0;34m)\u001b[0m\u001b[0;34m*\u001b[0m\u001b[0mhgas\u001b[0m\u001b[0;34m(\u001b[0m\u001b[0mx\u001b[0m\u001b[0;34m,\u001b[0m\u001b[0mm_1g\u001b[0m\u001b[0;34m,\u001b[0m\u001b[0mm_2g\u001b[0m\u001b[0;34m,\u001b[0m\u001b[0mt_gas\u001b[0m\u001b[0;34m,\u001b[0m\u001b[0mt_0g\u001b[0m\u001b[0;34m,\u001b[0m\u001b[0mphimo\u001b[0m\u001b[0;34m(\u001b[0m\u001b[0mx\u001b[0m\u001b[0;34m)\u001b[0m\u001b[0;34m)\u001b[0m\u001b[0;34m,\u001b[0m\u001b[0;36m0\u001b[0m\u001b[0;34m,\u001b[0m\u001b[0;36m4\u001b[0m\u001b[0;34m*\u001b[0m\u001b[0myears\u001b[0m\u001b[0;34m,\u001b[0m\u001b[0mlimit\u001b[0m\u001b[0;34m=\u001b[0m\u001b[0;36m1500\u001b[0m\u001b[0;34m,\u001b[0m\u001b[0mepsabs\u001b[0m\u001b[0;34m=\u001b[0m\u001b[0;36m0.005\u001b[0m\u001b[0;34m)\u001b[0m\u001b[0;34m\u001b[0m\u001b[0m\n\u001b[0m\u001b[1;32m     14\u001b[0m     \u001b[0mff\u001b[0m\u001b[0;34m=\u001b[0m\u001b[0mAB\u001b[0m\u001b[0;34m[\u001b[0m\u001b[0;36m0\u001b[0m\u001b[0;34m]\u001b[0m\u001b[0;34m/\u001b[0m\u001b[0mAval\u001b[0m\u001b[0;34m/\u001b[0m\u001b[0mBval\u001b[0m\u001b[0;34m\u001b[0m\u001b[0m\n\u001b[1;32m     15\u001b[0m     \u001b[0merr\u001b[0m\u001b[0;34m=\u001b[0m\u001b[0mabs\u001b[0m\u001b[0;34m(\u001b[0m\u001b[0;36m1\u001b[0m\u001b[0;34m/\u001b[0m\u001b[0mAval\u001b[0m\u001b[0;34m/\u001b[0m\u001b[0mBval\u001b[0m\u001b[0;34m*\u001b[0m\u001b[0mAB\u001b[0m\u001b[0;34m[\u001b[0m\u001b[0;36m1\u001b[0m\u001b[0;34m]\u001b[0m\u001b[0;34m)\u001b[0m\u001b[0;34m+\u001b[0m\u001b[0mabs\u001b[0m\u001b[0;34m(\u001b[0m\u001b[0mAB\u001b[0m\u001b[0;34m[\u001b[0m\u001b[0;36m0\u001b[0m\u001b[0;34m]\u001b[0m\u001b[0;34m/\u001b[0m\u001b[0mAval\u001b[0m\u001b[0;34m/\u001b[0m\u001b[0mAval\u001b[0m\u001b[0;34m/\u001b[0m\u001b[0mBval\u001b[0m\u001b[0;34m*\u001b[0m\u001b[0mAerr\u001b[0m\u001b[0;34m)\u001b[0m\u001b[0;34m+\u001b[0m\u001b[0mabs\u001b[0m\u001b[0;34m(\u001b[0m\u001b[0mAB\u001b[0m\u001b[0;34m[\u001b[0m\u001b[0;36m0\u001b[0m\u001b[0;34m]\u001b[0m\u001b[0;34m/\u001b[0m\u001b[0mAval\u001b[0m\u001b[0;34m/\u001b[0m\u001b[0mBval\u001b[0m\u001b[0;34m/\u001b[0m\u001b[0mBval\u001b[0m\u001b[0;34m*\u001b[0m\u001b[0mBerr\u001b[0m\u001b[0;34m)\u001b[0m\u001b[0;34m\u001b[0m\u001b[0m\n",
      "\u001b[0;32m/Users/shyn/anaconda2/lib/python2.7/site-packages/scipy/integrate/quadpack.pyc\u001b[0m in \u001b[0;36mquad\u001b[0;34m(func, a, b, args, full_output, epsabs, epsrel, limit, points, weight, wvar, wopts, maxp1, limlst)\u001b[0m\n\u001b[1;32m    313\u001b[0m     \u001b[0;32mif\u001b[0m \u001b[0;34m(\u001b[0m\u001b[0mweight\u001b[0m \u001b[0;32mis\u001b[0m \u001b[0mNone\u001b[0m\u001b[0;34m)\u001b[0m\u001b[0;34m:\u001b[0m\u001b[0;34m\u001b[0m\u001b[0m\n\u001b[1;32m    314\u001b[0m         retval = _quad(func, a, b, args, full_output, epsabs, epsrel, limit,\n\u001b[0;32m--> 315\u001b[0;31m                        points)\n\u001b[0m\u001b[1;32m    316\u001b[0m     \u001b[0;32melse\u001b[0m\u001b[0;34m:\u001b[0m\u001b[0;34m\u001b[0m\u001b[0m\n\u001b[1;32m    317\u001b[0m         retval = _quad_weight(func, a, b, args, full_output, epsabs, epsrel,\n",
      "\u001b[0;32m/Users/shyn/anaconda2/lib/python2.7/site-packages/scipy/integrate/quadpack.pyc\u001b[0m in \u001b[0;36m_quad\u001b[0;34m(func, a, b, args, full_output, epsabs, epsrel, limit, points)\u001b[0m\n\u001b[1;32m    378\u001b[0m     \u001b[0;32mif\u001b[0m \u001b[0mpoints\u001b[0m \u001b[0;32mis\u001b[0m \u001b[0mNone\u001b[0m\u001b[0;34m:\u001b[0m\u001b[0;34m\u001b[0m\u001b[0m\n\u001b[1;32m    379\u001b[0m         \u001b[0;32mif\u001b[0m \u001b[0minfbounds\u001b[0m \u001b[0;34m==\u001b[0m \u001b[0;36m0\u001b[0m\u001b[0;34m:\u001b[0m\u001b[0;34m\u001b[0m\u001b[0m\n\u001b[0;32m--> 380\u001b[0;31m             \u001b[0;32mreturn\u001b[0m \u001b[0m_quadpack\u001b[0m\u001b[0;34m.\u001b[0m\u001b[0m_qagse\u001b[0m\u001b[0;34m(\u001b[0m\u001b[0mfunc\u001b[0m\u001b[0;34m,\u001b[0m\u001b[0ma\u001b[0m\u001b[0;34m,\u001b[0m\u001b[0mb\u001b[0m\u001b[0;34m,\u001b[0m\u001b[0margs\u001b[0m\u001b[0;34m,\u001b[0m\u001b[0mfull_output\u001b[0m\u001b[0;34m,\u001b[0m\u001b[0mepsabs\u001b[0m\u001b[0;34m,\u001b[0m\u001b[0mepsrel\u001b[0m\u001b[0;34m,\u001b[0m\u001b[0mlimit\u001b[0m\u001b[0;34m)\u001b[0m\u001b[0;34m\u001b[0m\u001b[0m\n\u001b[0m\u001b[1;32m    381\u001b[0m         \u001b[0;32melse\u001b[0m\u001b[0;34m:\u001b[0m\u001b[0;34m\u001b[0m\u001b[0m\n\u001b[1;32m    382\u001b[0m             \u001b[0;32mreturn\u001b[0m \u001b[0m_quadpack\u001b[0m\u001b[0;34m.\u001b[0m\u001b[0m_qagie\u001b[0m\u001b[0;34m(\u001b[0m\u001b[0mfunc\u001b[0m\u001b[0;34m,\u001b[0m\u001b[0mbound\u001b[0m\u001b[0;34m,\u001b[0m\u001b[0minfbounds\u001b[0m\u001b[0;34m,\u001b[0m\u001b[0margs\u001b[0m\u001b[0;34m,\u001b[0m\u001b[0mfull_output\u001b[0m\u001b[0;34m,\u001b[0m\u001b[0mepsabs\u001b[0m\u001b[0;34m,\u001b[0m\u001b[0mepsrel\u001b[0m\u001b[0;34m,\u001b[0m\u001b[0mlimit\u001b[0m\u001b[0;34m)\u001b[0m\u001b[0;34m\u001b[0m\u001b[0m\n",
      "\u001b[0;32m<ipython-input-248-f3ad19995454>\u001b[0m in \u001b[0;36m<lambda>\u001b[0;34m(x)\u001b[0m\n\u001b[1;32m     11\u001b[0m     \u001b[0mBval\u001b[0m\u001b[0;34m=\u001b[0m\u001b[0mnp\u001b[0m\u001b[0;34m.\u001b[0m\u001b[0msqrt\u001b[0m\u001b[0;34m(\u001b[0m\u001b[0mB\u001b[0m\u001b[0;34m[\u001b[0m\u001b[0;36m0\u001b[0m\u001b[0;34m]\u001b[0m\u001b[0;34m)\u001b[0m\u001b[0;34m\u001b[0m\u001b[0m\n\u001b[1;32m     12\u001b[0m     \u001b[0mBerr\u001b[0m\u001b[0;34m=\u001b[0m\u001b[0;36m0.5\u001b[0m\u001b[0;34m/\u001b[0m\u001b[0mBval\u001b[0m\u001b[0;34m*\u001b[0m\u001b[0mB\u001b[0m\u001b[0;34m[\u001b[0m\u001b[0;36m1\u001b[0m\u001b[0;34m]\u001b[0m\u001b[0;34m\u001b[0m\u001b[0m\n\u001b[0;32m---> 13\u001b[0;31m     \u001b[0mAB\u001b[0m\u001b[0;34m=\u001b[0m\u001b[0msci_integrate\u001b[0m\u001b[0;34m.\u001b[0m\u001b[0mquad\u001b[0m\u001b[0;34m(\u001b[0m\u001b[0;32mlambda\u001b[0m \u001b[0mx\u001b[0m\u001b[0;34m:\u001b[0m\u001b[0mhvac\u001b[0m\u001b[0;34m(\u001b[0m\u001b[0mx\u001b[0m\u001b[0;34m,\u001b[0m\u001b[0mm1v\u001b[0m\u001b[0;34m,\u001b[0m\u001b[0mm2v\u001b[0m\u001b[0;34m,\u001b[0m\u001b[0mtc\u001b[0m\u001b[0;34m,\u001b[0m\u001b[0mphiv\u001b[0m\u001b[0;34m[\u001b[0m\u001b[0mi2\u001b[0m\u001b[0;34m]\u001b[0m\u001b[0;34m)\u001b[0m\u001b[0;34m*\u001b[0m\u001b[0mhgas\u001b[0m\u001b[0;34m(\u001b[0m\u001b[0mx\u001b[0m\u001b[0;34m,\u001b[0m\u001b[0mm_1g\u001b[0m\u001b[0;34m,\u001b[0m\u001b[0mm_2g\u001b[0m\u001b[0;34m,\u001b[0m\u001b[0mt_gas\u001b[0m\u001b[0;34m,\u001b[0m\u001b[0mt_0g\u001b[0m\u001b[0;34m,\u001b[0m\u001b[0mphimo\u001b[0m\u001b[0;34m(\u001b[0m\u001b[0mx\u001b[0m\u001b[0;34m)\u001b[0m\u001b[0;34m)\u001b[0m\u001b[0;34m,\u001b[0m\u001b[0;36m0\u001b[0m\u001b[0;34m,\u001b[0m\u001b[0;36m4\u001b[0m\u001b[0;34m*\u001b[0m\u001b[0myears\u001b[0m\u001b[0;34m,\u001b[0m\u001b[0mlimit\u001b[0m\u001b[0;34m=\u001b[0m\u001b[0;36m1500\u001b[0m\u001b[0;34m,\u001b[0m\u001b[0mepsabs\u001b[0m\u001b[0;34m=\u001b[0m\u001b[0;36m0.005\u001b[0m\u001b[0;34m)\u001b[0m\u001b[0;34m\u001b[0m\u001b[0m\n\u001b[0m\u001b[1;32m     14\u001b[0m     \u001b[0mff\u001b[0m\u001b[0;34m=\u001b[0m\u001b[0mAB\u001b[0m\u001b[0;34m[\u001b[0m\u001b[0;36m0\u001b[0m\u001b[0;34m]\u001b[0m\u001b[0;34m/\u001b[0m\u001b[0mAval\u001b[0m\u001b[0;34m/\u001b[0m\u001b[0mBval\u001b[0m\u001b[0;34m\u001b[0m\u001b[0m\n\u001b[1;32m     15\u001b[0m     \u001b[0merr\u001b[0m\u001b[0;34m=\u001b[0m\u001b[0mabs\u001b[0m\u001b[0;34m(\u001b[0m\u001b[0;36m1\u001b[0m\u001b[0;34m/\u001b[0m\u001b[0mAval\u001b[0m\u001b[0;34m/\u001b[0m\u001b[0mBval\u001b[0m\u001b[0;34m*\u001b[0m\u001b[0mAB\u001b[0m\u001b[0;34m[\u001b[0m\u001b[0;36m1\u001b[0m\u001b[0;34m]\u001b[0m\u001b[0;34m)\u001b[0m\u001b[0;34m+\u001b[0m\u001b[0mabs\u001b[0m\u001b[0;34m(\u001b[0m\u001b[0mAB\u001b[0m\u001b[0;34m[\u001b[0m\u001b[0;36m0\u001b[0m\u001b[0;34m]\u001b[0m\u001b[0;34m/\u001b[0m\u001b[0mAval\u001b[0m\u001b[0;34m/\u001b[0m\u001b[0mAval\u001b[0m\u001b[0;34m/\u001b[0m\u001b[0mBval\u001b[0m\u001b[0;34m*\u001b[0m\u001b[0mAerr\u001b[0m\u001b[0;34m)\u001b[0m\u001b[0;34m+\u001b[0m\u001b[0mabs\u001b[0m\u001b[0;34m(\u001b[0m\u001b[0mAB\u001b[0m\u001b[0;34m[\u001b[0m\u001b[0;36m0\u001b[0m\u001b[0;34m]\u001b[0m\u001b[0;34m/\u001b[0m\u001b[0mAval\u001b[0m\u001b[0;34m/\u001b[0m\u001b[0mBval\u001b[0m\u001b[0;34m/\u001b[0m\u001b[0mBval\u001b[0m\u001b[0;34m*\u001b[0m\u001b[0mBerr\u001b[0m\u001b[0;34m)\u001b[0m\u001b[0;34m\u001b[0m\u001b[0m\n",
      "\u001b[0;32m/Users/shyn/anaconda2/lib/python2.7/site-packages/scipy/interpolate/polyint.pyc\u001b[0m in \u001b[0;36m__call__\u001b[0;34m(self, x)\u001b[0m\n\u001b[1;32m     77\u001b[0m         \"\"\"\n\u001b[1;32m     78\u001b[0m         \u001b[0mx\u001b[0m\u001b[0;34m,\u001b[0m \u001b[0mx_shape\u001b[0m \u001b[0;34m=\u001b[0m \u001b[0mself\u001b[0m\u001b[0;34m.\u001b[0m\u001b[0m_prepare_x\u001b[0m\u001b[0;34m(\u001b[0m\u001b[0mx\u001b[0m\u001b[0;34m)\u001b[0m\u001b[0;34m\u001b[0m\u001b[0m\n\u001b[0;32m---> 79\u001b[0;31m         \u001b[0my\u001b[0m \u001b[0;34m=\u001b[0m \u001b[0mself\u001b[0m\u001b[0;34m.\u001b[0m\u001b[0m_evaluate\u001b[0m\u001b[0;34m(\u001b[0m\u001b[0mx\u001b[0m\u001b[0;34m)\u001b[0m\u001b[0;34m\u001b[0m\u001b[0m\n\u001b[0m\u001b[1;32m     80\u001b[0m         \u001b[0;32mreturn\u001b[0m \u001b[0mself\u001b[0m\u001b[0;34m.\u001b[0m\u001b[0m_finish_y\u001b[0m\u001b[0;34m(\u001b[0m\u001b[0my\u001b[0m\u001b[0;34m,\u001b[0m \u001b[0mx_shape\u001b[0m\u001b[0;34m)\u001b[0m\u001b[0;34m\u001b[0m\u001b[0m\n\u001b[1;32m     81\u001b[0m \u001b[0;34m\u001b[0m\u001b[0m\n",
      "\u001b[0;32m/Users/shyn/anaconda2/lib/python2.7/site-packages/scipy/interpolate/interpolate.pyc\u001b[0m in \u001b[0;36m_evaluate\u001b[0;34m(self, x_new)\u001b[0m\n\u001b[1;32m    584\u001b[0m         \u001b[0;31m#    The behavior is set by the bounds_error variable.\u001b[0m\u001b[0;34m\u001b[0m\u001b[0;34m\u001b[0m\u001b[0m\n\u001b[1;32m    585\u001b[0m         \u001b[0mx_new\u001b[0m \u001b[0;34m=\u001b[0m \u001b[0masarray\u001b[0m\u001b[0;34m(\u001b[0m\u001b[0mx_new\u001b[0m\u001b[0;34m)\u001b[0m\u001b[0;34m\u001b[0m\u001b[0m\n\u001b[0;32m--> 586\u001b[0;31m         \u001b[0my_new\u001b[0m \u001b[0;34m=\u001b[0m \u001b[0mself\u001b[0m\u001b[0;34m.\u001b[0m\u001b[0m_call\u001b[0m\u001b[0;34m(\u001b[0m\u001b[0mself\u001b[0m\u001b[0;34m,\u001b[0m \u001b[0mx_new\u001b[0m\u001b[0;34m)\u001b[0m\u001b[0;34m\u001b[0m\u001b[0m\n\u001b[0m\u001b[1;32m    587\u001b[0m         \u001b[0;32mif\u001b[0m \u001b[0;32mnot\u001b[0m \u001b[0mself\u001b[0m\u001b[0;34m.\u001b[0m\u001b[0m_extrapolate\u001b[0m\u001b[0;34m:\u001b[0m\u001b[0;34m\u001b[0m\u001b[0m\n\u001b[1;32m    588\u001b[0m             \u001b[0mbelow_bounds\u001b[0m\u001b[0;34m,\u001b[0m \u001b[0mabove_bounds\u001b[0m \u001b[0;34m=\u001b[0m \u001b[0mself\u001b[0m\u001b[0;34m.\u001b[0m\u001b[0m_check_bounds\u001b[0m\u001b[0;34m(\u001b[0m\u001b[0mx_new\u001b[0m\u001b[0;34m)\u001b[0m\u001b[0;34m\u001b[0m\u001b[0m\n",
      "\u001b[0;32m/Users/shyn/anaconda2/lib/python2.7/site-packages/scipy/interpolate/interpolate.pyc\u001b[0m in \u001b[0;36m_call_linear_np\u001b[0;34m(self, x_new)\u001b[0m\n\u001b[1;32m    528\u001b[0m     \u001b[0;32mdef\u001b[0m \u001b[0m_call_linear_np\u001b[0m\u001b[0;34m(\u001b[0m\u001b[0mself\u001b[0m\u001b[0;34m,\u001b[0m \u001b[0mx_new\u001b[0m\u001b[0;34m)\u001b[0m\u001b[0;34m:\u001b[0m\u001b[0;34m\u001b[0m\u001b[0m\n\u001b[1;32m    529\u001b[0m         \u001b[0;31m# Note that out-of-bounds values are taken care of in self._evaluate\u001b[0m\u001b[0;34m\u001b[0m\u001b[0;34m\u001b[0m\u001b[0m\n\u001b[0;32m--> 530\u001b[0;31m         \u001b[0;32mreturn\u001b[0m \u001b[0mnp\u001b[0m\u001b[0;34m.\u001b[0m\u001b[0minterp\u001b[0m\u001b[0;34m(\u001b[0m\u001b[0mx_new\u001b[0m\u001b[0;34m,\u001b[0m \u001b[0mself\u001b[0m\u001b[0;34m.\u001b[0m\u001b[0mx\u001b[0m\u001b[0;34m,\u001b[0m \u001b[0mself\u001b[0m\u001b[0;34m.\u001b[0m\u001b[0my\u001b[0m\u001b[0;34m)\u001b[0m\u001b[0;34m\u001b[0m\u001b[0m\n\u001b[0m\u001b[1;32m    531\u001b[0m \u001b[0;34m\u001b[0m\u001b[0m\n\u001b[1;32m    532\u001b[0m     \u001b[0;32mdef\u001b[0m \u001b[0m_call_linear\u001b[0m\u001b[0;34m(\u001b[0m\u001b[0mself\u001b[0m\u001b[0;34m,\u001b[0m \u001b[0mx_new\u001b[0m\u001b[0;34m)\u001b[0m\u001b[0;34m:\u001b[0m\u001b[0;34m\u001b[0m\u001b[0m\n",
      "\u001b[0;32m/Users/shyn/anaconda2/lib/python2.7/site-packages/numpy/lib/function_base.pyc\u001b[0m in \u001b[0;36minterp\u001b[0;34m(x, xp, fp, left, right, period)\u001b[0m\n\u001b[1;32m   1672\u001b[0m             \u001b[0;32mreturn\u001b[0m \u001b[0mcompiled_interp\u001b[0m\u001b[0;34m(\u001b[0m\u001b[0;34m[\u001b[0m\u001b[0mx\u001b[0m\u001b[0;34m]\u001b[0m\u001b[0;34m,\u001b[0m \u001b[0mxp\u001b[0m\u001b[0;34m,\u001b[0m \u001b[0mfp\u001b[0m\u001b[0;34m,\u001b[0m \u001b[0mleft\u001b[0m\u001b[0;34m,\u001b[0m \u001b[0mright\u001b[0m\u001b[0;34m)\u001b[0m\u001b[0;34m.\u001b[0m\u001b[0mitem\u001b[0m\u001b[0;34m(\u001b[0m\u001b[0;34m)\u001b[0m\u001b[0;34m\u001b[0m\u001b[0m\n\u001b[1;32m   1673\u001b[0m         \u001b[0;32melse\u001b[0m\u001b[0;34m:\u001b[0m\u001b[0;34m\u001b[0m\u001b[0m\n\u001b[0;32m-> 1674\u001b[0;31m             \u001b[0;32mreturn\u001b[0m \u001b[0mcompiled_interp\u001b[0m\u001b[0;34m(\u001b[0m\u001b[0mx\u001b[0m\u001b[0;34m,\u001b[0m \u001b[0mxp\u001b[0m\u001b[0;34m,\u001b[0m \u001b[0mfp\u001b[0m\u001b[0;34m,\u001b[0m \u001b[0mleft\u001b[0m\u001b[0;34m,\u001b[0m \u001b[0mright\u001b[0m\u001b[0;34m)\u001b[0m\u001b[0;34m\u001b[0m\u001b[0m\n\u001b[0m\u001b[1;32m   1675\u001b[0m     \u001b[0;32melse\u001b[0m\u001b[0;34m:\u001b[0m\u001b[0;34m\u001b[0m\u001b[0m\n\u001b[1;32m   1676\u001b[0m         \u001b[0;32mif\u001b[0m \u001b[0mperiod\u001b[0m \u001b[0;34m==\u001b[0m \u001b[0;36m0\u001b[0m\u001b[0;34m:\u001b[0m\u001b[0;34m\u001b[0m\u001b[0m\n",
      "\u001b[0;31mKeyboardInterrupt\u001b[0m: "
     ]
    }
   ],
   "source": [
    "m1v=37.21*m_sun\n",
    "m2v=m1v\n",
    "phiv=np.linspace(0,2*sciconsts.pi,30)\n",
    "i2=0\n",
    "A=sci_integrate.quad(lambda x:np.power(hgas(x,m_1g,m_2g,t_gas,t_0g,phimo(x)),2.0),0,4*years,limit=500)\n",
    "Aval=np.sqrt(A[0])\n",
    "Aerr=0.5/Aval*A[1]\n",
    "while i2<30:\n",
    "    t1=time.clock()\n",
    "    B=sci_integrate.quad(lambda x:np.power(hvac(x,m1v,m2v,tc,phiv[i2]),2.0),0,4*years,limit=500)\n",
    "    Bval=np.sqrt(B[0])\n",
    "    Berr=0.5/Bval*B[1]\n",
    "    AB=sci_integrate.quad(lambda x:hvac(x,m1v,m2v,tc,phiv[i2])*hgas(x,m_1g,m_2g,t_gas,t_0g,phimo(x)),0,4*years,limit=1500,epsabs=0.005)\n",
    "    ff=AB[0]/Aval/Bval\n",
    "    err=abs(1/Aval/Bval*AB[1])+abs(AB[0]/Aval/Aval/Bval*Aerr)+abs(AB[0]/Aval/Bval/Bval*Berr)\n",
    "    t2=time.clock()\n",
    "    print ff,err/ff,AB[1]/AB[0],Aerr/Aval,Berr/Bval,t2-t1\n",
    "    i2=i2+1"
   ]
  },
  {
   "cell_type": "code",
   "execution_count": 236,
   "metadata": {},
   "outputs": [
    {
     "name": "stderr",
     "output_type": "stream",
     "text": [
      "/Users/shyn/anaconda2/lib/python2.7/site-packages/scipy/integrate/quadpack.py:356: IntegrationWarning: The maximum number of subdivisions (50) has been achieved.\n",
      "  If increasing the limit yields no improvement it is advised to analyze \n",
      "  the integrand in order to determine the difficulties.  If the position of a \n",
      "  local difficulty can be determined (singularity, discontinuity) one will \n",
      "  probably gain from splitting up the interval and calling the integrator \n",
      "  on the subranges.  Perhaps a special-purpose integrator should be used.\n",
      "  warnings.warn(msg, IntegrationWarning)\n"
     ]
    },
    {
     "data": {
      "text/plain": [
       "(1.1450142764625034e+116, 9.079254201793897e+114)"
      ]
     },
     "execution_count": 236,
     "metadata": {},
     "output_type": "execute_result"
    }
   ],
   "source": [
    "sci_integrate.quad(lambda x:np.power(hgas(x,m_1g,m_2g,t_gas,t_0g,phimo(x)),2.0),0,4*years,limit=100,epsabs=0.005)"
   ]
  },
  {
   "cell_type": "code",
   "execution_count": 235,
   "metadata": {},
   "outputs": [
    {
     "data": {
      "text/plain": [
       "43.650537489887327"
      ]
     },
     "execution_count": 235,
     "metadata": {},
     "output_type": "execute_result"
    }
   ],
   "source": [
    "m1v/m_sun"
   ]
  },
  {
   "cell_type": "code",
   "execution_count": 22,
   "metadata": {},
   "outputs": [
    {
     "data": {
      "text/plain": [
       "0.0027851625044130659"
      ]
     },
     "execution_count": 22,
     "metadata": {},
     "output_type": "execute_result"
    }
   ],
   "source": [
    "b=rhogas*rhogas\n",
    "np.sqrt(b.sum())"
   ]
  },
  {
   "cell_type": "code",
   "execution_count": 38,
   "metadata": {},
   "outputs": [
    {
     "data": {
      "text/plain": [
       "7964"
      ]
     },
     "execution_count": 38,
     "metadata": {},
     "output_type": "execute_result"
    }
   ],
   "source": [
    "np.where(hf_abs==c1)[0][0]"
   ]
  },
  {
   "cell_type": "code",
   "execution_count": 32,
   "metadata": {},
   "outputs": [
    {
     "data": {
      "text/plain": [
       "(array([], dtype=int64),)"
      ]
     },
     "execution_count": 32,
     "metadata": {},
     "output_type": "execute_result"
    }
   ],
   "source": [
    "np.where(hf==c1)"
   ]
  },
  {
   "cell_type": "code",
   "execution_count": 22,
   "metadata": {},
   "outputs": [
    {
     "data": {
      "text/plain": [
       "0.0818365738661503"
      ]
     },
     "execution_count": 22,
     "metadata": {},
     "output_type": "execute_result"
    }
   ],
   "source": [
    "np.sqrt(1.0/(1.5/t_gas*figas))/years"
   ]
  },
  {
   "cell_type": "code",
   "execution_count": 14,
   "metadata": {},
   "outputs": [
    {
     "name": "stderr",
     "output_type": "stream",
     "text": [
      "/Users/shyn/anaconda2/lib/python2.7/site-packages/scipy/integrate/quadpack.py:356: IntegrationWarning: The maximum number of subdivisions (2000) has been achieved.\n",
      "  If increasing the limit yields no improvement it is advised to analyze \n",
      "  the integrand in order to determine the difficulties.  If the position of a \n",
      "  local difficulty can be determined (singularity, discontinuity) one will \n",
      "  probably gain from splitting up the interval and calling the integrator \n",
      "  on the subranges.  Perhaps a special-purpose integrator should be used.\n",
      "  warnings.warn(msg, IntegrationWarning)\n"
     ]
    },
    {
     "data": {
      "text/plain": [
       "(1.102917297223318e+116, 9.413244045256381e+113)"
      ]
     },
     "execution_count": 14,
     "metadata": {},
     "output_type": "execute_result"
    }
   ],
   "source": [
    "#tdomain point cal\n",
    "Tg=t_scale/Ng\n",
    "hfgas=hgas(t,m_1g,m_2g,t_gas,t_0g,phimo(t))\n",
    "#fft\n",
    "hfgas1=fft.fft(hfgas)\n",
    "hfgas_abs=abs(hfgas1)\n",
    "hfgas_angle=np.arctan(hfgas1.imag/hfgas1.real)[0:Ng//2]\n",
    "hfgas2=2.0/Ng*hfgas_abs[0:Ng//2]\n",
    "hs=sci_interpolate.interp1d(xs,hfgas2)\n",
    "anglegas=sci_interpolate.interp1d(xs,hfgas_angle)\n",
    "A=sci_integrate.quad(lambda x:4*np.power(hs(x),2.0)/S_n_lisa(x),figas,ffgas,limit=1500,epsabs=0.005)\n",
    "Aval=np.sqrt(A[0])\n",
    "Aerr=0.5/Aval*A[1]"
   ]
  },
  {
   "cell_type": "code",
   "execution_count": null,
   "metadata": {
    "collapsed": true
   },
   "outputs": [],
   "source": []
  },
  {
   "cell_type": "code",
   "execution_count": 8,
   "metadata": {},
   "outputs": [
    {
     "data": {
      "text/plain": [
       "1.0208135196378185"
      ]
     },
     "execution_count": 8,
     "metadata": {},
     "output_type": "execute_result"
    }
   ],
   "source": [
    "S_n_lisa((figas+ffgas)/2)/S_n_lisa(ffgas)"
   ]
  },
  {
   "cell_type": "code",
   "execution_count": 10,
   "metadata": {},
   "outputs": [
    {
     "name": "stdout",
     "output_type": "stream",
     "text": [
      "(1.102917297223318e+116, 9.413244045256381e+113)\n"
     ]
    },
    {
     "name": "stderr",
     "output_type": "stream",
     "text": [
      "/Users/shyn/anaconda2/lib/python2.7/site-packages/scipy/integrate/quadpack.py:356: IntegrationWarning: The maximum number of subdivisions (2000) has been achieved.\n",
      "  If increasing the limit yields no improvement it is advised to analyze \n",
      "  the integrand in order to determine the difficulties.  If the position of a \n",
      "  local difficulty can be determined (singularity, discontinuity) one will \n",
      "  probably gain from splitting up the interval and calling the integrator \n",
      "  on the subranges.  Perhaps a special-purpose integrator should be used.\n",
      "  warnings.warn(msg, IntegrationWarning)\n"
     ]
    }
   ],
   "source": [
    "a=sci_integrate.quad(lambda x:np.power(hgas(x,m_1g,m_2g,t_gas,t_0g,phimo(x)),2.0),0,4*years,limit=2000,epsabs=0.005)\n",
    "print a"
   ]
  },
  {
   "cell_type": "code",
   "execution_count": 13,
   "metadata": {},
   "outputs": [
    {
     "data": {
      "text/plain": [
       "51.5236350626666"
      ]
     },
     "execution_count": 13,
     "metadata": {},
     "output_type": "execute_result"
    }
   ],
   "source": [
    "np.sqrt(4*a[0]/S_n_lisa((figas+ffgas)/2))*S"
   ]
  },
  {
   "cell_type": "code",
   "execution_count": 12,
   "metadata": {},
   "outputs": [
    {
     "data": {
      "text/plain": [
       "2.3514524589843899e+156"
      ]
     },
     "execution_count": 12,
     "metadata": {},
     "output_type": "execute_result"
    }
   ],
   "source": [
    "b"
   ]
  },
  {
   "cell_type": "code",
   "execution_count": 3,
   "metadata": {
    "scrolled": false
   },
   "outputs": [
    {
     "name": "stdout",
     "output_type": "stream",
     "text": [
      "cal start,node= 81060.0  esiT= 225.166666667 h\n"
     ]
    },
    {
     "name": "stderr",
     "output_type": "stream",
     "text": [
      "/Users/shyn/anaconda2/lib/python2.7/site-packages/scipy/integrate/quadpack.py:356: IntegrationWarning: The occurrence of roundoff error is detected, which prevents \n",
      "  the requested tolerance from being achieved.  The error may be \n",
      "  underestimated.\n",
      "  warnings.warn(msg, IntegrationWarning)\n"
     ]
    },
    {
     "name": "stdout",
     "output_type": "stream",
     "text": [
      "0.0 9.79 0.546507612269\n"
     ]
    },
    {
     "name": "stderr",
     "output_type": "stream",
     "text": [
      "/Users/shyn/anaconda2/lib/python2.7/site-packages/scipy/integrate/quadpack.py:356: IntegrationWarning: The maximum number of subdivisions (1500) has been achieved.\n",
      "  If increasing the limit yields no improvement it is advised to analyze \n",
      "  the integrand in order to determine the difficulties.  If the position of a \n",
      "  local difficulty can be determined (singularity, discontinuity) one will \n",
      "  probably gain from splitting up the interval and calling the integrator \n",
      "  on the subranges.  Perhaps a special-purpose integrator should be used.\n",
      "  warnings.warn(msg, IntegrationWarning)\n"
     ]
    },
    {
     "name": "stdout",
     "output_type": "stream",
     "text": [
      "1.0 8.88 0.564566794952\n",
      "2.0 8.09 0.576873614782\n",
      "3.0 9.9 0.585714238849\n",
      "4.0 10.36 0.573606072631\n",
      "5.0 9.76 0.569227173532\n",
      "6.0 9.24 0.568656896348\n",
      "7.0 9.04 0.543968039218\n",
      "8.0 9.07 0.541892419177\n",
      "9.0 8.96 0.541953143038\n",
      "10.0 8.95 0.564437902652\n",
      "11.0 9.09 0.570889041149\n",
      "12.0 8.8 0.583152008159\n",
      "13.0 9.17 0.585786356618\n",
      "14.0 8.98 0.584476591994\n",
      "15.0 8.72 0.565042331264\n",
      "16.0 2.24 0.553483982778\n",
      "17.0 8.27 0.545586515961\n",
      "18.0 8.21 0.539355681272\n",
      "19.0 11.4 0.546507612256\n",
      "20.0 12.77 0.574439394677\n",
      "21.0 12.56 0.533978240886\n",
      "22.0 11.69 0.521011822594\n",
      "23.0 10.37 0.517912370132\n",
      "24.0 9.15 0.535409020959\n",
      "25.0 9.84 0.562644226549\n"
     ]
    },
    {
     "ename": "KeyboardInterrupt",
     "evalue": "",
     "output_type": "error",
     "traceback": [
      "\u001b[0;31m---------------------------------------------------------------------------\u001b[0m",
      "\u001b[0;31mKeyboardInterrupt\u001b[0m                         Traceback (most recent call last)",
      "\u001b[0;32m<ipython-input-3-fc65458cdac6>\u001b[0m in \u001b[0;36m<module>\u001b[0;34m()\u001b[0m\n\u001b[1;32m     43\u001b[0m             \u001b[0mBval\u001b[0m\u001b[0;34m=\u001b[0m\u001b[0mnp\u001b[0m\u001b[0;34m.\u001b[0m\u001b[0msqrt\u001b[0m\u001b[0;34m(\u001b[0m\u001b[0mB\u001b[0m\u001b[0;34m[\u001b[0m\u001b[0;36m0\u001b[0m\u001b[0;34m]\u001b[0m\u001b[0;34m)\u001b[0m\u001b[0;34m\u001b[0m\u001b[0m\n\u001b[1;32m     44\u001b[0m             \u001b[0mBerr\u001b[0m\u001b[0;34m=\u001b[0m\u001b[0;36m0.5\u001b[0m\u001b[0;34m/\u001b[0m\u001b[0mBval\u001b[0m\u001b[0;34m*\u001b[0m\u001b[0mB\u001b[0m\u001b[0;34m[\u001b[0m\u001b[0;36m1\u001b[0m\u001b[0;34m]\u001b[0m\u001b[0;34m\u001b[0m\u001b[0m\n\u001b[0;32m---> 45\u001b[0;31m             \u001b[0mAB\u001b[0m\u001b[0;34m=\u001b[0m\u001b[0msci_integrate\u001b[0m\u001b[0;34m.\u001b[0m\u001b[0mquad\u001b[0m\u001b[0;34m(\u001b[0m\u001b[0;32mlambda\u001b[0m \u001b[0mx\u001b[0m\u001b[0;34m:\u001b[0m\u001b[0;36m4\u001b[0m\u001b[0;34m*\u001b[0m\u001b[0mhvacs\u001b[0m\u001b[0;34m(\u001b[0m\u001b[0mx\u001b[0m\u001b[0;34m)\u001b[0m\u001b[0;34m*\u001b[0m\u001b[0mhs\u001b[0m\u001b[0;34m(\u001b[0m\u001b[0mx\u001b[0m\u001b[0;34m)\u001b[0m\u001b[0;34m/\u001b[0m\u001b[0mS_n_lisa\u001b[0m\u001b[0;34m(\u001b[0m\u001b[0mx\u001b[0m\u001b[0;34m)\u001b[0m\u001b[0;34m*\u001b[0m\u001b[0mnp\u001b[0m\u001b[0;34m.\u001b[0m\u001b[0mcos\u001b[0m\u001b[0;34m(\u001b[0m\u001b[0manglegas\u001b[0m\u001b[0;34m(\u001b[0m\u001b[0mx\u001b[0m\u001b[0;34m)\u001b[0m\u001b[0;34m-\u001b[0m\u001b[0manglevac\u001b[0m\u001b[0;34m(\u001b[0m\u001b[0mx\u001b[0m\u001b[0;34m)\u001b[0m\u001b[0;34m)\u001b[0m\u001b[0;34m,\u001b[0m\u001b[0md\u001b[0m\u001b[0;34m[\u001b[0m\u001b[0;36m0\u001b[0m\u001b[0;34m]\u001b[0m\u001b[0;34m,\u001b[0m\u001b[0md\u001b[0m\u001b[0;34m[\u001b[0m\u001b[0;36m1\u001b[0m\u001b[0;34m]\u001b[0m\u001b[0;34m,\u001b[0m\u001b[0mlimit\u001b[0m\u001b[0;34m=\u001b[0m\u001b[0;36m1500\u001b[0m\u001b[0;34m,\u001b[0m\u001b[0mepsabs\u001b[0m\u001b[0;34m=\u001b[0m\u001b[0;36m0.005\u001b[0m\u001b[0;34m)\u001b[0m\u001b[0;34m\u001b[0m\u001b[0m\n\u001b[0m\u001b[1;32m     46\u001b[0m             \u001b[0mff\u001b[0m\u001b[0;34m=\u001b[0m\u001b[0mAB\u001b[0m\u001b[0;34m[\u001b[0m\u001b[0;36m0\u001b[0m\u001b[0;34m]\u001b[0m\u001b[0;34m/\u001b[0m\u001b[0mAval\u001b[0m\u001b[0;34m/\u001b[0m\u001b[0mBval\u001b[0m\u001b[0;34m\u001b[0m\u001b[0m\n\u001b[1;32m     47\u001b[0m             \u001b[0merr\u001b[0m\u001b[0;34m=\u001b[0m\u001b[0mabs\u001b[0m\u001b[0;34m(\u001b[0m\u001b[0;36m1\u001b[0m\u001b[0;34m/\u001b[0m\u001b[0mAval\u001b[0m\u001b[0;34m/\u001b[0m\u001b[0mBval\u001b[0m\u001b[0;34m*\u001b[0m\u001b[0mAB\u001b[0m\u001b[0;34m[\u001b[0m\u001b[0;36m1\u001b[0m\u001b[0;34m]\u001b[0m\u001b[0;34m)\u001b[0m\u001b[0;34m+\u001b[0m\u001b[0mabs\u001b[0m\u001b[0;34m(\u001b[0m\u001b[0mAB\u001b[0m\u001b[0;34m[\u001b[0m\u001b[0;36m0\u001b[0m\u001b[0;34m]\u001b[0m\u001b[0;34m/\u001b[0m\u001b[0mAval\u001b[0m\u001b[0;34m/\u001b[0m\u001b[0mAval\u001b[0m\u001b[0;34m/\u001b[0m\u001b[0mBval\u001b[0m\u001b[0;34m*\u001b[0m\u001b[0mAerr\u001b[0m\u001b[0;34m)\u001b[0m\u001b[0;34m+\u001b[0m\u001b[0mabs\u001b[0m\u001b[0;34m(\u001b[0m\u001b[0mAB\u001b[0m\u001b[0;34m[\u001b[0m\u001b[0;36m0\u001b[0m\u001b[0;34m]\u001b[0m\u001b[0;34m/\u001b[0m\u001b[0mAval\u001b[0m\u001b[0;34m/\u001b[0m\u001b[0mBval\u001b[0m\u001b[0;34m/\u001b[0m\u001b[0mBval\u001b[0m\u001b[0;34m*\u001b[0m\u001b[0mBerr\u001b[0m\u001b[0;34m)\u001b[0m\u001b[0;34m\u001b[0m\u001b[0m\n",
      "\u001b[0;32m/Users/shyn/anaconda2/lib/python2.7/site-packages/scipy/integrate/quadpack.pyc\u001b[0m in \u001b[0;36mquad\u001b[0;34m(func, a, b, args, full_output, epsabs, epsrel, limit, points, weight, wvar, wopts, maxp1, limlst)\u001b[0m\n\u001b[1;32m    313\u001b[0m     \u001b[0;32mif\u001b[0m \u001b[0;34m(\u001b[0m\u001b[0mweight\u001b[0m \u001b[0;32mis\u001b[0m \u001b[0mNone\u001b[0m\u001b[0;34m)\u001b[0m\u001b[0;34m:\u001b[0m\u001b[0;34m\u001b[0m\u001b[0m\n\u001b[1;32m    314\u001b[0m         retval = _quad(func, a, b, args, full_output, epsabs, epsrel, limit,\n\u001b[0;32m--> 315\u001b[0;31m                        points)\n\u001b[0m\u001b[1;32m    316\u001b[0m     \u001b[0;32melse\u001b[0m\u001b[0;34m:\u001b[0m\u001b[0;34m\u001b[0m\u001b[0m\n\u001b[1;32m    317\u001b[0m         retval = _quad_weight(func, a, b, args, full_output, epsabs, epsrel,\n",
      "\u001b[0;32m/Users/shyn/anaconda2/lib/python2.7/site-packages/scipy/integrate/quadpack.pyc\u001b[0m in \u001b[0;36m_quad\u001b[0;34m(func, a, b, args, full_output, epsabs, epsrel, limit, points)\u001b[0m\n\u001b[1;32m    378\u001b[0m     \u001b[0;32mif\u001b[0m \u001b[0mpoints\u001b[0m \u001b[0;32mis\u001b[0m \u001b[0mNone\u001b[0m\u001b[0;34m:\u001b[0m\u001b[0;34m\u001b[0m\u001b[0m\n\u001b[1;32m    379\u001b[0m         \u001b[0;32mif\u001b[0m \u001b[0minfbounds\u001b[0m \u001b[0;34m==\u001b[0m \u001b[0;36m0\u001b[0m\u001b[0;34m:\u001b[0m\u001b[0;34m\u001b[0m\u001b[0m\n\u001b[0;32m--> 380\u001b[0;31m             \u001b[0;32mreturn\u001b[0m \u001b[0m_quadpack\u001b[0m\u001b[0;34m.\u001b[0m\u001b[0m_qagse\u001b[0m\u001b[0;34m(\u001b[0m\u001b[0mfunc\u001b[0m\u001b[0;34m,\u001b[0m\u001b[0ma\u001b[0m\u001b[0;34m,\u001b[0m\u001b[0mb\u001b[0m\u001b[0;34m,\u001b[0m\u001b[0margs\u001b[0m\u001b[0;34m,\u001b[0m\u001b[0mfull_output\u001b[0m\u001b[0;34m,\u001b[0m\u001b[0mepsabs\u001b[0m\u001b[0;34m,\u001b[0m\u001b[0mepsrel\u001b[0m\u001b[0;34m,\u001b[0m\u001b[0mlimit\u001b[0m\u001b[0;34m)\u001b[0m\u001b[0;34m\u001b[0m\u001b[0m\n\u001b[0m\u001b[1;32m    381\u001b[0m         \u001b[0;32melse\u001b[0m\u001b[0;34m:\u001b[0m\u001b[0;34m\u001b[0m\u001b[0m\n\u001b[1;32m    382\u001b[0m             \u001b[0;32mreturn\u001b[0m \u001b[0m_quadpack\u001b[0m\u001b[0;34m.\u001b[0m\u001b[0m_qagie\u001b[0m\u001b[0;34m(\u001b[0m\u001b[0mfunc\u001b[0m\u001b[0;34m,\u001b[0m\u001b[0mbound\u001b[0m\u001b[0;34m,\u001b[0m\u001b[0minfbounds\u001b[0m\u001b[0;34m,\u001b[0m\u001b[0margs\u001b[0m\u001b[0;34m,\u001b[0m\u001b[0mfull_output\u001b[0m\u001b[0;34m,\u001b[0m\u001b[0mepsabs\u001b[0m\u001b[0;34m,\u001b[0m\u001b[0mepsrel\u001b[0m\u001b[0;34m,\u001b[0m\u001b[0mlimit\u001b[0m\u001b[0;34m)\u001b[0m\u001b[0;34m\u001b[0m\u001b[0m\n",
      "\u001b[0;32m<ipython-input-3-fc65458cdac6>\u001b[0m in \u001b[0;36m<lambda>\u001b[0;34m(x)\u001b[0m\n\u001b[1;32m     43\u001b[0m             \u001b[0mBval\u001b[0m\u001b[0;34m=\u001b[0m\u001b[0mnp\u001b[0m\u001b[0;34m.\u001b[0m\u001b[0msqrt\u001b[0m\u001b[0;34m(\u001b[0m\u001b[0mB\u001b[0m\u001b[0;34m[\u001b[0m\u001b[0;36m0\u001b[0m\u001b[0;34m]\u001b[0m\u001b[0;34m)\u001b[0m\u001b[0;34m\u001b[0m\u001b[0m\n\u001b[1;32m     44\u001b[0m             \u001b[0mBerr\u001b[0m\u001b[0;34m=\u001b[0m\u001b[0;36m0.5\u001b[0m\u001b[0;34m/\u001b[0m\u001b[0mBval\u001b[0m\u001b[0;34m*\u001b[0m\u001b[0mB\u001b[0m\u001b[0;34m[\u001b[0m\u001b[0;36m1\u001b[0m\u001b[0;34m]\u001b[0m\u001b[0;34m\u001b[0m\u001b[0m\n\u001b[0;32m---> 45\u001b[0;31m             \u001b[0mAB\u001b[0m\u001b[0;34m=\u001b[0m\u001b[0msci_integrate\u001b[0m\u001b[0;34m.\u001b[0m\u001b[0mquad\u001b[0m\u001b[0;34m(\u001b[0m\u001b[0;32mlambda\u001b[0m \u001b[0mx\u001b[0m\u001b[0;34m:\u001b[0m\u001b[0;36m4\u001b[0m\u001b[0;34m*\u001b[0m\u001b[0mhvacs\u001b[0m\u001b[0;34m(\u001b[0m\u001b[0mx\u001b[0m\u001b[0;34m)\u001b[0m\u001b[0;34m*\u001b[0m\u001b[0mhs\u001b[0m\u001b[0;34m(\u001b[0m\u001b[0mx\u001b[0m\u001b[0;34m)\u001b[0m\u001b[0;34m/\u001b[0m\u001b[0mS_n_lisa\u001b[0m\u001b[0;34m(\u001b[0m\u001b[0mx\u001b[0m\u001b[0;34m)\u001b[0m\u001b[0;34m*\u001b[0m\u001b[0mnp\u001b[0m\u001b[0;34m.\u001b[0m\u001b[0mcos\u001b[0m\u001b[0;34m(\u001b[0m\u001b[0manglegas\u001b[0m\u001b[0;34m(\u001b[0m\u001b[0mx\u001b[0m\u001b[0;34m)\u001b[0m\u001b[0;34m-\u001b[0m\u001b[0manglevac\u001b[0m\u001b[0;34m(\u001b[0m\u001b[0mx\u001b[0m\u001b[0;34m)\u001b[0m\u001b[0;34m)\u001b[0m\u001b[0;34m,\u001b[0m\u001b[0md\u001b[0m\u001b[0;34m[\u001b[0m\u001b[0;36m0\u001b[0m\u001b[0;34m]\u001b[0m\u001b[0;34m,\u001b[0m\u001b[0md\u001b[0m\u001b[0;34m[\u001b[0m\u001b[0;36m1\u001b[0m\u001b[0;34m]\u001b[0m\u001b[0;34m,\u001b[0m\u001b[0mlimit\u001b[0m\u001b[0;34m=\u001b[0m\u001b[0;36m1500\u001b[0m\u001b[0;34m,\u001b[0m\u001b[0mepsabs\u001b[0m\u001b[0;34m=\u001b[0m\u001b[0;36m0.005\u001b[0m\u001b[0;34m)\u001b[0m\u001b[0;34m\u001b[0m\u001b[0m\n\u001b[0m\u001b[1;32m     46\u001b[0m             \u001b[0mff\u001b[0m\u001b[0;34m=\u001b[0m\u001b[0mAB\u001b[0m\u001b[0;34m[\u001b[0m\u001b[0;36m0\u001b[0m\u001b[0;34m]\u001b[0m\u001b[0;34m/\u001b[0m\u001b[0mAval\u001b[0m\u001b[0;34m/\u001b[0m\u001b[0mBval\u001b[0m\u001b[0;34m\u001b[0m\u001b[0m\n\u001b[1;32m     47\u001b[0m             \u001b[0merr\u001b[0m\u001b[0;34m=\u001b[0m\u001b[0mabs\u001b[0m\u001b[0;34m(\u001b[0m\u001b[0;36m1\u001b[0m\u001b[0;34m/\u001b[0m\u001b[0mAval\u001b[0m\u001b[0;34m/\u001b[0m\u001b[0mBval\u001b[0m\u001b[0;34m*\u001b[0m\u001b[0mAB\u001b[0m\u001b[0;34m[\u001b[0m\u001b[0;36m1\u001b[0m\u001b[0;34m]\u001b[0m\u001b[0;34m)\u001b[0m\u001b[0;34m+\u001b[0m\u001b[0mabs\u001b[0m\u001b[0;34m(\u001b[0m\u001b[0mAB\u001b[0m\u001b[0;34m[\u001b[0m\u001b[0;36m0\u001b[0m\u001b[0;34m]\u001b[0m\u001b[0;34m/\u001b[0m\u001b[0mAval\u001b[0m\u001b[0;34m/\u001b[0m\u001b[0mAval\u001b[0m\u001b[0;34m/\u001b[0m\u001b[0mBval\u001b[0m\u001b[0;34m*\u001b[0m\u001b[0mAerr\u001b[0m\u001b[0;34m)\u001b[0m\u001b[0;34m+\u001b[0m\u001b[0mabs\u001b[0m\u001b[0;34m(\u001b[0m\u001b[0mAB\u001b[0m\u001b[0;34m[\u001b[0m\u001b[0;36m0\u001b[0m\u001b[0;34m]\u001b[0m\u001b[0;34m/\u001b[0m\u001b[0mAval\u001b[0m\u001b[0;34m/\u001b[0m\u001b[0mBval\u001b[0m\u001b[0;34m/\u001b[0m\u001b[0mBval\u001b[0m\u001b[0;34m*\u001b[0m\u001b[0mBerr\u001b[0m\u001b[0;34m)\u001b[0m\u001b[0;34m\u001b[0m\u001b[0m\n",
      "\u001b[0;32m/Users/shyn/anaconda2/lib/python2.7/site-packages/scipy/interpolate/polyint.pyc\u001b[0m in \u001b[0;36m__call__\u001b[0;34m(self, x)\u001b[0m\n\u001b[1;32m     77\u001b[0m         \"\"\"\n\u001b[1;32m     78\u001b[0m         \u001b[0mx\u001b[0m\u001b[0;34m,\u001b[0m \u001b[0mx_shape\u001b[0m \u001b[0;34m=\u001b[0m \u001b[0mself\u001b[0m\u001b[0;34m.\u001b[0m\u001b[0m_prepare_x\u001b[0m\u001b[0;34m(\u001b[0m\u001b[0mx\u001b[0m\u001b[0;34m)\u001b[0m\u001b[0;34m\u001b[0m\u001b[0m\n\u001b[0;32m---> 79\u001b[0;31m         \u001b[0my\u001b[0m \u001b[0;34m=\u001b[0m \u001b[0mself\u001b[0m\u001b[0;34m.\u001b[0m\u001b[0m_evaluate\u001b[0m\u001b[0;34m(\u001b[0m\u001b[0mx\u001b[0m\u001b[0;34m)\u001b[0m\u001b[0;34m\u001b[0m\u001b[0m\n\u001b[0m\u001b[1;32m     80\u001b[0m         \u001b[0;32mreturn\u001b[0m \u001b[0mself\u001b[0m\u001b[0;34m.\u001b[0m\u001b[0m_finish_y\u001b[0m\u001b[0;34m(\u001b[0m\u001b[0my\u001b[0m\u001b[0;34m,\u001b[0m \u001b[0mx_shape\u001b[0m\u001b[0;34m)\u001b[0m\u001b[0;34m\u001b[0m\u001b[0m\n\u001b[1;32m     81\u001b[0m \u001b[0;34m\u001b[0m\u001b[0m\n",
      "\u001b[0;32m/Users/shyn/anaconda2/lib/python2.7/site-packages/scipy/interpolate/interpolate.pyc\u001b[0m in \u001b[0;36m_evaluate\u001b[0;34m(self, x_new)\u001b[0m\n\u001b[1;32m    586\u001b[0m         \u001b[0my_new\u001b[0m \u001b[0;34m=\u001b[0m \u001b[0mself\u001b[0m\u001b[0;34m.\u001b[0m\u001b[0m_call\u001b[0m\u001b[0;34m(\u001b[0m\u001b[0mself\u001b[0m\u001b[0;34m,\u001b[0m \u001b[0mx_new\u001b[0m\u001b[0;34m)\u001b[0m\u001b[0;34m\u001b[0m\u001b[0m\n\u001b[1;32m    587\u001b[0m         \u001b[0;32mif\u001b[0m \u001b[0;32mnot\u001b[0m \u001b[0mself\u001b[0m\u001b[0;34m.\u001b[0m\u001b[0m_extrapolate\u001b[0m\u001b[0;34m:\u001b[0m\u001b[0;34m\u001b[0m\u001b[0m\n\u001b[0;32m--> 588\u001b[0;31m             \u001b[0mbelow_bounds\u001b[0m\u001b[0;34m,\u001b[0m \u001b[0mabove_bounds\u001b[0m \u001b[0;34m=\u001b[0m \u001b[0mself\u001b[0m\u001b[0;34m.\u001b[0m\u001b[0m_check_bounds\u001b[0m\u001b[0;34m(\u001b[0m\u001b[0mx_new\u001b[0m\u001b[0;34m)\u001b[0m\u001b[0;34m\u001b[0m\u001b[0m\n\u001b[0m\u001b[1;32m    589\u001b[0m             \u001b[0;32mif\u001b[0m \u001b[0mlen\u001b[0m\u001b[0;34m(\u001b[0m\u001b[0my_new\u001b[0m\u001b[0;34m)\u001b[0m \u001b[0;34m>\u001b[0m \u001b[0;36m0\u001b[0m\u001b[0;34m:\u001b[0m\u001b[0;34m\u001b[0m\u001b[0m\n\u001b[1;32m    590\u001b[0m                 \u001b[0;31m# Note fill_value must be broadcast up to the proper size\u001b[0m\u001b[0;34m\u001b[0m\u001b[0;34m\u001b[0m\u001b[0m\n",
      "\u001b[0;32m/Users/shyn/anaconda2/lib/python2.7/site-packages/scipy/interpolate/interpolate.pyc\u001b[0m in \u001b[0;36m_check_bounds\u001b[0;34m(self, x_new)\u001b[0m\n\u001b[1;32m    617\u001b[0m             raise ValueError(\"A value in x_new is below the interpolation \"\n\u001b[1;32m    618\u001b[0m                 \"range.\")\n\u001b[0;32m--> 619\u001b[0;31m         \u001b[0;32mif\u001b[0m \u001b[0mself\u001b[0m\u001b[0;34m.\u001b[0m\u001b[0mbounds_error\u001b[0m \u001b[0;32mand\u001b[0m \u001b[0mabove_bounds\u001b[0m\u001b[0;34m.\u001b[0m\u001b[0many\u001b[0m\u001b[0;34m(\u001b[0m\u001b[0;34m)\u001b[0m\u001b[0;34m:\u001b[0m\u001b[0;34m\u001b[0m\u001b[0m\n\u001b[0m\u001b[1;32m    620\u001b[0m             raise ValueError(\"A value in x_new is above the interpolation \"\n\u001b[1;32m    621\u001b[0m                 \"range.\")\n",
      "\u001b[0;32m/Users/shyn/anaconda2/lib/python2.7/site-packages/numpy/core/_methods.pyc\u001b[0m in \u001b[0;36m_any\u001b[0;34m(a, axis, dtype, out, keepdims)\u001b[0m\n\u001b[1;32m     36\u001b[0m \u001b[0;34m\u001b[0m\u001b[0m\n\u001b[1;32m     37\u001b[0m \u001b[0;32mdef\u001b[0m \u001b[0m_any\u001b[0m\u001b[0;34m(\u001b[0m\u001b[0ma\u001b[0m\u001b[0;34m,\u001b[0m \u001b[0maxis\u001b[0m\u001b[0;34m=\u001b[0m\u001b[0mNone\u001b[0m\u001b[0;34m,\u001b[0m \u001b[0mdtype\u001b[0m\u001b[0;34m=\u001b[0m\u001b[0mNone\u001b[0m\u001b[0;34m,\u001b[0m \u001b[0mout\u001b[0m\u001b[0;34m=\u001b[0m\u001b[0mNone\u001b[0m\u001b[0;34m,\u001b[0m \u001b[0mkeepdims\u001b[0m\u001b[0;34m=\u001b[0m\u001b[0mFalse\u001b[0m\u001b[0;34m)\u001b[0m\u001b[0;34m:\u001b[0m\u001b[0;34m\u001b[0m\u001b[0m\n\u001b[0;32m---> 38\u001b[0;31m     \u001b[0;32mreturn\u001b[0m \u001b[0mumr_any\u001b[0m\u001b[0;34m(\u001b[0m\u001b[0ma\u001b[0m\u001b[0;34m,\u001b[0m \u001b[0maxis\u001b[0m\u001b[0;34m,\u001b[0m \u001b[0mdtype\u001b[0m\u001b[0;34m,\u001b[0m \u001b[0mout\u001b[0m\u001b[0;34m,\u001b[0m \u001b[0mkeepdims\u001b[0m\u001b[0;34m)\u001b[0m\u001b[0;34m\u001b[0m\u001b[0m\n\u001b[0m\u001b[1;32m     39\u001b[0m \u001b[0;34m\u001b[0m\u001b[0m\n\u001b[1;32m     40\u001b[0m \u001b[0;32mdef\u001b[0m \u001b[0m_all\u001b[0m\u001b[0;34m(\u001b[0m\u001b[0ma\u001b[0m\u001b[0;34m,\u001b[0m \u001b[0maxis\u001b[0m\u001b[0;34m=\u001b[0m\u001b[0mNone\u001b[0m\u001b[0;34m,\u001b[0m \u001b[0mdtype\u001b[0m\u001b[0;34m=\u001b[0m\u001b[0mNone\u001b[0m\u001b[0;34m,\u001b[0m \u001b[0mout\u001b[0m\u001b[0;34m=\u001b[0m\u001b[0mNone\u001b[0m\u001b[0;34m,\u001b[0m \u001b[0mkeepdims\u001b[0m\u001b[0;34m=\u001b[0m\u001b[0mFalse\u001b[0m\u001b[0;34m)\u001b[0m\u001b[0;34m:\u001b[0m\u001b[0;34m\u001b[0m\u001b[0m\n",
      "\u001b[0;31mKeyboardInterrupt\u001b[0m: "
     ]
    }
   ],
   "source": [
    "#parameters changes\n",
    "mcnum=1000\n",
    "phinum=30\n",
    "acu=0.0001\n",
    "mcs=np.linspace(37.7*m_sun,37.8*m_sun,mcnum)\n",
    "phis=np.linspace(0,2*sciconsts.pi,phinum)\n",
    "data=np.zeros((mcnum,3))\n",
    "noden=noden_cal(mcs,phinum,0.0001,figas,ffgas)\n",
    "print 'cal start,node=',noden,' esiT=',noden/3600.0*10,'h'\n",
    "sys.stdout.flush()\n",
    "mcn=0\n",
    "pn=0.0\n",
    "tb=time.clock()\n",
    "while mcn<mcnum:\n",
    "    ffmax=0.0\n",
    "    errmax=0.0\n",
    "    m1v=solvem(mcs[mcn],0.25)[0]\n",
    "    m2v=solvem(mcs[mcn],0.25)[1]\n",
    "    tcl=tlimit(mcs[mcn],figas,ffgas)\n",
    "    tcnum=tcn_decide(mcs[mcn],figas,ffgas,acu)\n",
    "    tcl_sp=np.linspace(tcl[0],tcl[1],tcnum)\n",
    "    tcn=0\n",
    "    while tcn<tcnum:\n",
    "        phin=0\n",
    "        while phin<phinum:\n",
    "            ti=time.clock()\n",
    "            fivac=freq_tvac(0,m1v,m2v,tcl_sp[tcn])\n",
    "            ffvac=freq_tvac(4*years,m1v,m2v,tcl_sp[tcn])\n",
    "            Ng=int(t_scale*ffvac*4)\n",
    "            Ng=pow2(Ng)\n",
    "            T=t_scale/Ng\n",
    "            xs=np.linspace(0,1/2.0/T,num=Ng//2)\n",
    "            t=np.linspace(0,t_scale,num=Ng//2)\n",
    "            hvt=hvac(t,m1v,m2v,tcl_sp[tcn],phis[phin])\n",
    "            hfvac1=fft.fft(hvt)\n",
    "            hfvac_abs=abs(hfvac1)\n",
    "            hfvac_angle=np.arctan(hfvac1.imag/hfvac1.real)[0:Ng//2]\n",
    "            anglevac=sci_interpolate.interp1d(xs,hfvac_angle)\n",
    "            hfvac2=2.0/Ng*hfvac_abs[0:Ng//2]\n",
    "            hvacs=sci_interpolate.interp1d(xs,hfvac2)\n",
    "            d=(np.array((fivac,figas)).max(),np.array((ffvac,ffgas)).min())\n",
    "            B=sci_integrate.quad(lambda x:4*np.power(hvacs(x),2.0)/S_n_lisa(x),fivac,ffvac,limit=1500,epsabs=0.005)\n",
    "            Bval=np.sqrt(B[0])\n",
    "            Berr=0.5/Bval*B[1]\n",
    "            AB=sci_integrate.quad(lambda x:4*hvacs(x)*hs(x)/S_n_lisa(x)*np.cos(anglegas(x)-anglevac(x)),d[0],d[1],limit=1500,epsabs=0.005)\n",
    "            ff=AB[0]/Aval/Bval\n",
    "            err=abs(1/Aval/Bval*AB[1])+abs(AB[0]/Aval/Aval/Bval*Aerr)+abs(AB[0]/Aval/Bval/Bval*Berr)\n",
    "            tf=time.clock()\n",
    "            if ff>ffmax:\n",
    "                ffmax=ff\n",
    "                errmax=err\n",
    "            print pn,round(tf-ti,2),ff\n",
    "            sys.stdout.flush()\n",
    "            phin=phin+1\n",
    "            pn=pn+1\n",
    "        tcn=tcn+1\n",
    "    data[mcn,0]=mcs[mcn]/m_sun\n",
    "    data[mcn,1]=ffmax\n",
    "    data[mcn,2]=errmax\n",
    "    mcn=mcn+1\n",
    "np.savetxt(fname,data)\n",
    "te=time.clock()\n",
    "print 'cal completed!',(te-tb)/3600,'h'\n",
    "sys.stdout.flush()"
   ]
  },
  {
   "cell_type": "code",
   "execution_count": 28,
   "metadata": {},
   "outputs": [
    {
     "data": {
      "text/plain": [
       "0.58859260456291229"
      ]
     },
     "execution_count": 28,
     "metadata": {},
     "output_type": "execute_result"
    }
   ],
   "source": []
  },
  {
   "cell_type": "code",
   "execution_count": 29,
   "metadata": {},
   "outputs": [
    {
     "data": {
      "text/plain": [
       "0.0012955710025295037"
      ]
     },
     "execution_count": 29,
     "metadata": {},
     "output_type": "execute_result"
    }
   ],
   "source": []
  },
  {
   "cell_type": "code",
   "execution_count": null,
   "metadata": {
    "collapsed": true,
    "scrolled": true
   },
   "outputs": [],
   "source": []
  },
  {
   "cell_type": "code",
   "execution_count": 17,
   "metadata": {},
   "outputs": [
    {
     "data": {
      "text/plain": [
       "(28260.0, 78.5)"
      ]
     },
     "execution_count": 17,
     "metadata": {},
     "output_type": "execute_result"
    }
   ],
   "source": [
    "mcnum=200\n",
    "phinum=30\n",
    "mcs=np.linspace(36*m_sun,38*m_sun,mcnum)\n",
    "phis=np.linspace(0,2*sciconsts.pi,phinum)\n",
    "data=np.zeros((mcnum,3))\n",
    "noden=noden_cal(mcs,phinum,0.0001,figas,ffgas)\n",
    "noden,noden/360"
   ]
  },
  {
   "cell_type": "code",
   "execution_count": 6,
   "metadata": {},
   "outputs": [
    {
     "data": {
      "text/plain": [
       "8.2624452818656455e-45"
      ]
     },
     "execution_count": 6,
     "metadata": {},
     "output_type": "execute_result"
    }
   ],
   "source": [
    "sciconsts.G/np.power(sciconsts.c,4.0)"
   ]
  },
  {
   "cell_type": "code",
   "execution_count": 12,
   "metadata": {},
   "outputs": [
    {
     "data": {
      "text/plain": [
       "166666"
      ]
     },
     "execution_count": 12,
     "metadata": {},
     "output_type": "execute_result"
    }
   ],
   "source": [
    "10000000/60"
   ]
  },
  {
   "cell_type": "code",
   "execution_count": 55,
   "metadata": {
    "collapsed": true
   },
   "outputs": [],
   "source": []
  },
  {
   "cell_type": "code",
   "execution_count": 56,
   "metadata": {},
   "outputs": [
    {
     "data": {
      "text/plain": [
       "30"
      ]
     },
     "execution_count": 56,
     "metadata": {},
     "output_type": "execute_result"
    }
   ],
   "source": [
    "a.sum()"
   ]
  },
  {
   "cell_type": "code",
   "execution_count": 128,
   "metadata": {},
   "outputs": [
    {
     "name": "stdout",
     "output_type": "stream",
     "text": [
      "0\n",
      "1\n",
      "2\n",
      "3\n",
      "4\n",
      "5\n",
      "6\n",
      "7\n",
      "8\n",
      "9\n",
      "10\n",
      "11\n",
      "12\n",
      "13\n",
      "14\n",
      "15\n",
      "16\n",
      "17\n",
      "18\n",
      "19\n",
      "20\n",
      "21\n",
      "22\n",
      "23\n",
      "24\n",
      "25\n",
      "26\n",
      "27\n",
      "28\n",
      "29\n",
      "30\n",
      "31\n",
      "32\n",
      "33\n",
      "34\n",
      "35\n",
      "36\n",
      "37\n",
      "38\n",
      "39\n",
      "40\n",
      "41\n",
      "42\n",
      "43\n",
      "44\n",
      "45\n",
      "46\n",
      "47\n",
      "48\n",
      "49\n"
     ]
    }
   ],
   "source": [
    "for i in range(0,50):\n",
    "    print i"
   ]
  },
  {
   "cell_type": "code",
   "execution_count": 226,
   "metadata": {},
   "outputs": [
    {
     "name": "stdout",
     "output_type": "stream",
     "text": [
      "del_t 2522880.0 del_f 3.96372399797e-07\n"
     ]
    },
    {
     "name": "stderr",
     "output_type": "stream",
     "text": [
      "/Users/shyn/anaconda2/lib/python2.7/site-packages/ipykernel_launcher.py:92: RuntimeWarning: divide by zero encountered in double_scalars\n"
     ]
    },
    {
     "name": "stdout",
     "output_type": "stream",
     "text": [
      "cal start,node= 30.0 esi_t= 0.0416666666667 h\n",
      "0.174226157135 37.0\n",
      "0.0 37.1111111111\n",
      "0.21799994908 37.2222222222\n",
      "0.0 37.3333333333\n",
      "0.305307020451 37.4444444444\n",
      "0.127601771516 37.5555555556\n",
      "0.0638732591607 37.6666666667\n",
      "0.136961868415 37.7777777778\n",
      "0.0411271577792 37.8888888889\n",
      "0.0842641081204 38.0\n"
     ]
    }
   ],
   "source": [
    "import numpy as np\n",
    "import scipy.constants as sciconsts\n",
    "import scipy.fftpack as fft\n",
    "import scipy.interpolate as sci_interpolate\n",
    "import scipy.integrate as sci_integrate\n",
    "import time\n",
    "import sys\n",
    "import matplotlib.pyplot as plt\n",
    "def chirp_mass(m1,m2):\n",
    "    return np.power(m1*m2,0.6)/(np.power(m1+m2,0.2))\n",
    "def solvem(mc,smr):\n",
    "    a=mc/np.power(smr,0.6)\n",
    "    b=smr*np.power(a,2.0)\n",
    "    m1=(a+np.sqrt(np.power(a,2.0)-4.0*b))/2.0\n",
    "    m2=(a-np.sqrt(np.power(a,2.0)-4.0*b))/2.0\n",
    "    return np.array((m1,m2))\n",
    "def sym_mass_ratio(m1,m2):\n",
    "    return m1*m2/(np.power(m1+m2,2.0))\n",
    "\n",
    "'''my Tmodel(considering gas (SI))'''\n",
    "def k_1cal(m_1,m_2):\n",
    "    return 64.0*np.power(sciconsts.G,3.0)*m_1*m_2*(m_1+m_2)/5.0/np.power(sciconsts.c,5.0)\n",
    "def t_0cal(m_1,m_2,t_gas,a_0):\n",
    "    return t_gas*0.25*np.log(k_1cal(m_1,m_2)+np.power(a_0,4.0)/t_gas)\n",
    "def acalgas(t,k_1,t_gas,t_0):\n",
    "    return np.power((np.exp(4.0*(t_0-t)/t_gas)-k_1)*t_gas,0.25)\n",
    "def freq_tgas(t,m_1,m_2,t_gas,t_0):\n",
    "    k_1=k_1cal(m_1,m_2)\n",
    "    a_ft=acalgas(t,k_1,t_gas,t_0)\n",
    "    return 1.0/sciconsts.pi*np.sqrt((m_1+m_2)*sciconsts.G)*np.power(a_ft,-1.5)\n",
    "def phi_tgas(t,m_1,m_2,t_gas,t_0):\n",
    "    return sci_integrate.quad(lambda x:2*sciconsts.pi*freq_tgas(x,m_1,m_2,t_gas,t_0),0,t)[0]\n",
    "def hgas(t,m_1,m_2,t_gas,t_0,phi):\n",
    "    k_1=k_1cal(m_1,m_2)\n",
    "    return m_1*m_2/acalgas(t,k_1,t_gas,t_0)*np.cos(phi)\n",
    "'''my Tmode not considering gas'''\n",
    "def acalvac(t,k_1,t_c):\n",
    "    return np.power(4*k_1*(t_c-t),0.25)\n",
    "def freq_tvac(t,m_1,m_2,t_c):\n",
    "    avt=acalvac(t,k_1cal(m_1,m_2),t_c)\n",
    "    return np.sqrt(sciconsts.G*(m_1+m_2))/sciconsts.pi*np.power(avt,-1.5)\n",
    "def phi_tvac(t,m_1,m_2,t_c):\n",
    "    cm2=chirp_mass(m_1,m_2)\n",
    "    return -2*np.power(np.power(sciconsts.c,3.0)/5.0/cm2/sciconsts.G*(t_c-t),5.0/8.0)\n",
    "def hvac(t,m_1,m_2,t_c,phi_c):\n",
    "    return  m_1*m_2/acalvac(t,k_1cal(m_1,m_2),t_c)*np.cos(phi_tvac(t,m_1,m_2,t_c)+phi_c)\n",
    "#phi_c[0,2pi]\n",
    "def f_jugg(t_c,m_1,m_2):\n",
    "    return (freq_tvac(0,m_1,m_2,t_c),freq_tvac(4*years,m_1,m_2,t_c))\n",
    "def t_fvac(f,m_c,t_c):\n",
    "    sci1=np.power(sciconsts.c,3.0)/5.0/m_c/sciconsts.G\n",
    "    return t_c-np.power(8.0*sciconsts.pi*f/5.0,-8.0/3.0)*np.power(sci1,5.0/3.0)\n",
    "def tlimit(m_c,fi,ff):\n",
    "    sci1=np.power(sciconsts.c,3.0)/5.0/m_c/sciconsts.G\n",
    "    a=np.array((np.power(8.0*sciconsts.pi*fi/5.0,-8.0/3.0)*np.power(sci1,5.0/3.0),4*years+np.power(8.0*sciconsts.pi*ff/5.0,-8.0/3.0)*np.power(sci1,5.0/3.0)))\n",
    "    return [a.min(),a.max()]\n",
    "def tcn_decide(mc,fi,ff,acu):\n",
    "    return ((tlimit(mc,fi,ff)[1]-tlimit(mc,figas,ffgas)[0])/tlimit(mc,fi,ff)[1])//acu+1\n",
    "def noden_cal(mc,phinum,tcn_racu,fi,ff):\n",
    "    mcn=mc.size\n",
    "    i=0\n",
    "    sum1=0\n",
    "    while i<mcn:\n",
    "        sum1=sum1+tcn_decide(mc[i],fi,ff,tcn_racu)\n",
    "        i=i+1\n",
    "    return sum1*phinum\n",
    "\n",
    "\n",
    "def pow2(a):\n",
    "    b=1\n",
    "    i=True\n",
    "    while i:\n",
    "        b=2*b\n",
    "        if b>a:\n",
    "            i=False\n",
    "    return b\n",
    "'''lisa noise curve in rpsd unit N2A5:laserpower 2w,40cm telescope,armlength 5e6 km'''\n",
    "def S_gal_N2A5(f):\n",
    "    if f>=1.0e-5 and f<1.0e-3:\n",
    "        return np.power(f,-2.3)*np.power(10,-44.62)*20.0/3.0\n",
    "    if f>=1.0e-3 and f<np.power(10,-2.7):\n",
    "        return np.power(f,-4.4)*np.power(10,-50.92)*20.0/3.0\n",
    "    if f>=np.power(10,-2.7) and f<np.power(10,-2.4):\n",
    "        return np.power(f,-8.8)*np.power(10,-62.8)*20.0/3.0\n",
    "    if f>=np.power(10,-2.4) and f<=0.01:\n",
    "        return np.power(f,-20.0)*np.power(10,-89.68)*20.0/3.0\n",
    "    if f>0.01 or f<1.0e-5:\n",
    "        return 0\n",
    "def S_n_lisa(f):\n",
    "    m1=5.0e9\n",
    "    m2=sciconsts.c*0.41/m1/2.0\n",
    "    return 20.0/3.0*(1+np.power(f/m2,2.0))*(4.0*(9.0e-30/np.power(2*sciconsts.pi*f,4.0)*(1+1.0e-4/f))+2.96e-23+2.65e-23)/np.power(m1,2.0)+S_gal_N2A5(f)\n",
    "\n",
    "def testf(tbegin,tend):\n",
    "    return abs(freq_tgas(tend,m_1g,m_2g,t_gas,t_0g)-freq_tgas(tbegin,m_1g,m_2g,t_gas,t_0g))/freq_tgas(tbegin,m_1g,m_2g,t_gas,t_0g)\n",
    "\n",
    "def domjugg(f1,f2,del_f):\n",
    "    a=np.array([f1,f2])\n",
    "    t=del_f+a.min()-a.max()\n",
    "    return t\n",
    "\n",
    "fname=sys.argv[0]+'value.txt'\n",
    "#consts setting\n",
    "m_sun=1.9891e30\n",
    "years=365*24*3600.0\n",
    "pc=3.261*sciconsts.light_year\n",
    "t_scale=4*years\n",
    "#gas cal\n",
    "m_1g=10*m_sun\n",
    "m_2g=10*m_sun\n",
    "k_1g=k_1cal(m_1g,m_2g)\n",
    "t_gas=1000.0*years\n",
    "a_0=3.0e8\n",
    "t_0g=t_0cal(m_1g,m_2g,t_gas,a_0)\n",
    "#(t_scale*0.01*4,N/0.01/t_scale,t_scale) \n",
    "figas=freq_tgas(0,m_1g,m_2g,t_gas,t_0g)\n",
    "ffgas=freq_tgas(t_scale,m_1g,m_2g,t_gas,t_0g)\n",
    "#tdomain interp1d\n",
    "tphi=np.linspace(0,t_scale,10000)\n",
    "i=0\n",
    "workphi=np.zeros(10000)\n",
    "while i<10000:\n",
    "    workphi[i]=phi_tgas(tphi[i],m_1g,m_2g,t_gas,t_0g)\n",
    "    i=i+1\n",
    "phimo=sci_interpolate.interp1d(tphi,workphi)\n",
    "tn=50\n",
    "Ng=10000000/tn #\n",
    "del_t=t_scale/tn\n",
    "del_f=1/del_t\n",
    "print 'del_t',del_t,'del_f',del_f\n",
    "fs=np.linspace(0,Ng//2*del_f,num=Ng//2)\n",
    "hf_g=np.zeros(Ng//2)\n",
    "phi_g=np.zeros(Ng//2)\n",
    "hf_v=np.zeros(Ng//2)\n",
    "phi_v=np.zeros(Ng//2)\n",
    "snf=np.zeros(Ng//2)\n",
    "for i in range(0,Ng//2):\n",
    "    snf[i]=S_n_lisa(fs[i])\n",
    "r=1e7*pc\n",
    "S=1.0/(r)*np.power(sciconsts.G,2)/np.power(sciconsts.c,4.0)*np.sqrt(384.0/5)*np.power(sciconsts.pi,2.0/3.0)\n",
    "mcnum=10\n",
    "acu=0.0001\n",
    "mcs=np.linspace(37*m_sun,38*m_sun,mcnum)\n",
    "noden=noden_cal(mcs,1,0.0001,figas,ffgas)\n",
    "print 'cal start,node=',noden,'esi_t=',noden*5/3600,'h'\n",
    "sys.stdout.flush()\n",
    "mcn=0\n",
    "tb=time.clock()\n",
    "A=np.sqrt(sci_integrate.quad(lambda x:np.power(hgas(x,m_1g,m_2g,t_gas,t_0g,phimo(x)),2.0),0,4*years,limit=1500,epsabs=0.005))\n",
    "while mcn<mcnum:\n",
    "    ffmax=0.0\n",
    "    m1v=solvem(mcs[mcn],0.25)[0]\n",
    "    m2v=solvem(mcs[mcn],0.25)[1]\n",
    "    tcl=tlimit(mcs[mcn],figas,ffgas)\n",
    "    tcnum=tcn_decide(mcs[mcn],figas,ffgas,acu)\n",
    "    tcl_sp=np.linspace(tcl[0],tcl[1],tcnum)\n",
    "    tcn=0\n",
    "    while tcn<tcnum:\n",
    "        tc=tcl_sp[tcn]\n",
    "        B=np.sqrt(sci_integrate.quad(lambda x:np.power(hvac(x,m1v,m2v,tc,0),2.0),0,4*years,limit=1500,epsabs=0.005))\n",
    "        AB=sci_integrate.quad(lambda x:hvac(x,m1v,m2v,tc,0)*hgas(x,m_1g,m_2g,t_gas,t_0g,phimo(x)),0,4*years,limit=1500,epsabs=0.005)\n",
    "        FF=AB[0]/A[0]/B[0]\n",
    "        if FF>ffmax:\n",
    "            ffmax=FF\n",
    "        tcn=tcn+1\n",
    "    print ffmax,mcs[mcn]/m_sun\n",
    "    mcn=mcn+1\n",
    "#np.savetxt(fname,data)\n",
    "#te=time.clock()\n",
    "#print 'cal completed!',(te-tb),'s'\n",
    "sys.stdout.flush()"
   ]
  },
  {
   "cell_type": "code",
   "execution_count": 229,
   "metadata": {},
   "outputs": [
    {
     "data": {
      "text/plain": [
       "array([  1.49949300e+118,   4.75958354e+116])"
      ]
     },
     "execution_count": 229,
     "metadata": {},
     "output_type": "execute_result"
    }
   ],
   "source": []
  },
  {
   "cell_type": "code",
   "execution_count": null,
   "metadata": {
    "collapsed": true
   },
   "outputs": [],
   "source": []
  }
 ],
 "metadata": {
  "kernelspec": {
   "display_name": "Python 2",
   "language": "python",
   "name": "python2"
  },
  "language_info": {
   "codemirror_mode": {
    "name": "ipython",
    "version": 2
   },
   "file_extension": ".py",
   "mimetype": "text/x-python",
   "name": "python",
   "nbconvert_exporter": "python",
   "pygments_lexer": "ipython2",
   "version": "2.7.13"
  }
 },
 "nbformat": 4,
 "nbformat_minor": 2
}
