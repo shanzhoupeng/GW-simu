{
 "cells": [
  {
   "cell_type": "code",
   "execution_count": 2,
   "metadata": {},
   "outputs": [
    {
     "name": "stdout",
     "output_type": "stream",
     "text": [
      "1.71473140418 0.000424743608983\n"
     ]
    }
   ],
   "source": [
    "import numpy as np\n",
    "import scipy.constants as sciconsts\n",
    "import scipy.fftpack as fft\n",
    "import scipy.interpolate as sci_interpolate\n",
    "import scipy.integrate as sci_integrate\n",
    "import time\n",
    "import sys\n",
    "\n",
    "\n",
    "def chirp_mass(m1,m2):\n",
    "    return np.power(m1*m2,0.6)/(np.power(m1+m2,0.2))\n",
    "def solvem(mc,smr):\n",
    "    a=mc/np.power(smr,0.6)\n",
    "    b=smr*np.power(a,2.0)\n",
    "    m1=(a+np.sqrt(np.power(a,2.0)-4.0*b))/2.0\n",
    "    m2=(a-np.sqrt(np.power(a,2.0)-4.0*b))/2.0\n",
    "    return np.array((m1,m2))\n",
    "def sym_mass_ratio(m1,m2):\n",
    "    return m1*m2/(np.power(m1+m2,2.0))\n",
    "\n",
    "'''my Tmodel(considering gas (SI))'''\n",
    "def k_1cal(m_1,m_2):\n",
    "    return 64.0*np.power(sciconsts.G,3.0)*m_1*m_2*(m_1+m_2)/5.0/np.power(sciconsts.c,5.0)\n",
    "def t_0cal(m_1,m_2,t_gas,a_0):\n",
    "    return t_gas*0.25*np.log(k_1cal(m_1,m_2)+np.power(a_0,4.0)/t_gas)\n",
    "def acalgas(t,k_1,t_gas,t_0):\n",
    "    return np.power((np.exp(4.0*(t_0-t)/t_gas)-k_1)*t_gas,0.25)\n",
    "def freq_tgas(t,m_1,m_2,t_gas,t_0):\n",
    "    k_1=k_1cal(m_1,m_2)\n",
    "    a_ft=acalgas(t,k_1,t_gas,t_0)\n",
    "    return 1.0/sciconsts.pi*np.sqrt((m_1+m_2)*sciconsts.G)*np.power(a_ft,-1.5)\n",
    "def phi_tgas(t,m_1,m_2,t_gas,t_0):\n",
    "    return sci_integrate.quad(lambda x:2*sciconsts.pi*freq_tgas(x,m_1,m_2,t_gas,t_0),0,t)[0]\n",
    "def hgas(t,m_1,m_2,t_gas,t_0,phi):\n",
    "    k_1=k_1cal(m_1,m_2)\n",
    "    return m_1*m_2/acalgas(t,k_1,t_gas,t_0)*np.cos(phi)/1e70\n",
    "'''my Tmode not considering gas'''\n",
    "def acalvac(t,k_1,t_c):\n",
    "    return np.power(4*k_1*(t_c-t),0.25)\n",
    "def freq_tvac(t,m_1,m_2,t_c):\n",
    "    avt=acalvac(t,k_1cal(m_1,m_2),t_c)\n",
    "    return np.sqrt(sciconsts.G*(m_1+m_2))/sciconsts.pi*np.power(avt,-1.5)\n",
    "def phi_tvac(t,m_1,m_2,t_c):\n",
    "    cm2=chirp_mass(m_1,m_2)\n",
    "    return -2*np.power(np.power(sciconsts.c,3.0)/5.0/cm2/sciconsts.G*(t_c-t),5.0/8.0)\n",
    "def hvac(t,m_1,m_2,t_c,phi_c):\n",
    "    return  m_1*m_2/acalvac(t,k_1cal(m_1,m_2),t_c)*np.cos(phi_tvac(t,m_1,m_2,t_c)+phi_c)/1e70\n",
    "#phi_c[0,2pi]\n",
    "def f_jugg(t_c,m_1,m_2):\n",
    "    return (freq_tvac(0,m_1,m_2,t_c),freq_tvac(4*years,m_1,m_2,t_c))\n",
    "def t_fvac(f,m_c,t_c):\n",
    "    sci1=np.power(sciconsts.c,3.0)/5.0/m_c/sciconsts.G\n",
    "    return t_c-np.power(8.0*sciconsts.pi*f/5.0,-8.0/3.0)*np.power(sci1,5.0/3.0)\n",
    "def tlimit(m_c,fi,ff):\n",
    "    sci1=np.power(sciconsts.c,3.0)/5.0/m_c/sciconsts.G\n",
    "    a=np.array((np.power(8.0*sciconsts.pi*fi/5.0,-8.0/3.0)*np.power(sci1,5.0/3.0),4*years+np.power(8.0*sciconsts.pi*ff/5.0,-8.0/3.0)*np.power(sci1,5.0/3.0)))\n",
    "    return [a.min(),a.max()]\n",
    "def tcn_decide(mc,fi,ff,acu):\n",
    "    return ((tlimit(mc,fi,ff)[1]-tlimit(mc,figas,ffgas)[0])/tlimit(mc,fi,ff)[1])//acu+1\n",
    "def noden_cal(mc,phinum,tcn_racu,fi,ff):\n",
    "    mcn=mc.size\n",
    "    i=0\n",
    "    sum1=0\n",
    "    while i<mcn:\n",
    "        sum1=sum1+tcn_decide(mc[i],fi,ff,tcn_racu)\n",
    "        i=i+1\n",
    "    return sum1*phinum\n",
    "\n",
    "\n",
    "def pow2(a):\n",
    "    b=1\n",
    "    i=True\n",
    "    while i:\n",
    "        b=2*b\n",
    "        if b>a:\n",
    "            i=False\n",
    "    return b\n",
    "'''lisa noise curve in rpsd unit N2A5:laserpower 2w,40cm telescope,armlength 5e6 km'''\n",
    "def S_gal_N2A5(f):\n",
    "    if f>=1.0e-5 and f<1.0e-3:\n",
    "        return np.power(f,-2.3)*np.power(10,-44.62)*20.0/3.0\n",
    "    if f>=1.0e-3 and f<np.power(10,-2.7):\n",
    "        return np.power(f,-4.4)*np.power(10,-50.92)*20.0/3.0\n",
    "    if f>=np.power(10,-2.7) and f<np.power(10,-2.4):\n",
    "        return np.power(f,-8.8)*np.power(10,-62.8)*20.0/3.0\n",
    "    if f>=np.power(10,-2.4) and f<=0.01:\n",
    "        return np.power(f,-20.0)*np.power(10,-89.68)*20.0/3.0\n",
    "    if f>0.01 or f<1.0e-5:\n",
    "        return 0\n",
    "def S_n_lisa(f):\n",
    "    m1=5.0e9\n",
    "    m2=sciconsts.c*0.41/m1/2.0\n",
    "    return 20.0/3.0*(1+np.power(f/m2,2.0))*(4.0*(9.0e-30/np.power(2*sciconsts.pi*f,4.0)*(1+1.0e-4/f))+2.96e-23+2.65e-23)/np.power(m1,2.0)+S_gal_N2A5(f)\n",
    "fname=sys.argv[0]+'value.txt'\n",
    "#consts setting\n",
    "m_sun=1.9891e30\n",
    "years=365*24*3600.0\n",
    "mpc=3.261*sciconsts.light_year\n",
    "t_scale=4*years\n",
    "#gas cal\n",
    "m_1g=10*m_sun\n",
    "m_2g=10*m_sun\n",
    "k_1g=k_1cal(m_1g,m_2g)\n",
    "t_gas=1000.0*years\n",
    "a_0=3.0e8\n",
    "t_0g=t_0cal(m_1g,m_2g,t_gas,a_0)\n",
    "#(t_scale*0.01*4,N/0.01/t_scale,t_scale) \n",
    "figas=freq_tgas(0,m_1g,m_2g,t_gas,t_0g)\n",
    "ffgas=freq_tgas(t_scale,m_1g,m_2g,t_gas,t_0g)\n",
    "Ng=10000000\n",
    "t=np.linspace(0,t_scale,num=Ng)\n",
    "#tdomain interp1d\n",
    "tphi=np.linspace(0,t_scale,10000)\n",
    "i=0\n",
    "workphi=np.zeros(10000)\n",
    "while i<10000:\n",
    "    workphi[i]=phi_tgas(tphi[i],m_1g,m_2g,t_gas,t_0g)\n",
    "    i=i+1\n",
    "phimo=sci_interpolate.interp1d(tphi,workphi)\n",
    "#tdomain point cal\n",
    "Tg=t_scale/Ng\n",
    "hfgas=hgas(t,m_1g,m_2g,t_gas,t_0g,phimo(t))\n",
    "#fft\n",
    "xs=np.linspace(0,1/2.0/Tg,num=Ng//2)\n",
    "hfgas1=fft.fft(hfgas)\n",
    "hfgas_abs=abs(hfgas1)\n",
    "hfgas_angle=np.arctan(hfgas1.imag/hfgas1.real)[0:Ng//2]\n",
    "hfgas2=2.0/Ng*hfgas_abs[0:Ng//2]\n",
    "hs=sci_interpolate.interp1d(xs,hfgas2)\n",
    "anglegas=sci_interpolate.interp1d(xs,hfgas_angle)\n",
    "A=sci_integrate.quad(lambda x:4*np.power(hs(x),2.0)/S_n_lisa(x),figas,ffgas,limit=1500,epsabs=0.005)\n",
    "Aval=np.sqrt(A[0])\n",
    "Aerr=0.5/Aval*A[1]"
   ]
  },
  {
   "cell_type": "code",
   "execution_count": 3,
   "metadata": {
    "scrolled": false
   },
   "outputs": [
    {
     "name": "stdout",
     "output_type": "stream",
     "text": [
      "cal start,node= 81060.0  esiT= 225.166666667 h\n"
     ]
    },
    {
     "name": "stderr",
     "output_type": "stream",
     "text": [
      "/Users/shyn/anaconda2/lib/python2.7/site-packages/scipy/integrate/quadpack.py:356: IntegrationWarning: The occurrence of roundoff error is detected, which prevents \n",
      "  the requested tolerance from being achieved.  The error may be \n",
      "  underestimated.\n",
      "  warnings.warn(msg, IntegrationWarning)\n"
     ]
    },
    {
     "name": "stdout",
     "output_type": "stream",
     "text": [
      "0.0 9.79 0.546507612269\n"
     ]
    },
    {
     "name": "stderr",
     "output_type": "stream",
     "text": [
      "/Users/shyn/anaconda2/lib/python2.7/site-packages/scipy/integrate/quadpack.py:356: IntegrationWarning: The maximum number of subdivisions (1500) has been achieved.\n",
      "  If increasing the limit yields no improvement it is advised to analyze \n",
      "  the integrand in order to determine the difficulties.  If the position of a \n",
      "  local difficulty can be determined (singularity, discontinuity) one will \n",
      "  probably gain from splitting up the interval and calling the integrator \n",
      "  on the subranges.  Perhaps a special-purpose integrator should be used.\n",
      "  warnings.warn(msg, IntegrationWarning)\n"
     ]
    },
    {
     "name": "stdout",
     "output_type": "stream",
     "text": [
      "1.0 8.88 0.564566794952\n",
      "2.0 8.09 0.576873614782\n",
      "3.0 9.9 0.585714238849\n",
      "4.0 10.36 0.573606072631\n",
      "5.0 9.76 0.569227173532\n",
      "6.0 9.24 0.568656896348\n",
      "7.0 9.04 0.543968039218\n",
      "8.0 9.07 0.541892419177\n",
      "9.0 8.96 0.541953143038\n",
      "10.0 8.95 0.564437902652\n",
      "11.0 9.09 0.570889041149\n",
      "12.0 8.8 0.583152008159\n",
      "13.0 9.17 0.585786356618\n",
      "14.0 8.98 0.584476591994\n",
      "15.0 8.72 0.565042331264\n",
      "16.0 2.24 0.553483982778\n",
      "17.0 8.27 0.545586515961\n",
      "18.0 8.21 0.539355681272\n",
      "19.0 11.4 0.546507612256\n",
      "20.0 12.77 0.574439394677\n",
      "21.0 12.56 0.533978240886\n",
      "22.0 11.69 0.521011822594\n",
      "23.0 10.37 0.517912370132\n",
      "24.0 9.15 0.535409020959\n",
      "25.0 9.84 0.562644226549\n"
     ]
    },
    {
     "ename": "KeyboardInterrupt",
     "evalue": "",
     "output_type": "error",
     "traceback": [
      "\u001b[0;31m---------------------------------------------------------------------------\u001b[0m",
      "\u001b[0;31mKeyboardInterrupt\u001b[0m                         Traceback (most recent call last)",
      "\u001b[0;32m<ipython-input-3-fc65458cdac6>\u001b[0m in \u001b[0;36m<module>\u001b[0;34m()\u001b[0m\n\u001b[1;32m     43\u001b[0m             \u001b[0mBval\u001b[0m\u001b[0;34m=\u001b[0m\u001b[0mnp\u001b[0m\u001b[0;34m.\u001b[0m\u001b[0msqrt\u001b[0m\u001b[0;34m(\u001b[0m\u001b[0mB\u001b[0m\u001b[0;34m[\u001b[0m\u001b[0;36m0\u001b[0m\u001b[0;34m]\u001b[0m\u001b[0;34m)\u001b[0m\u001b[0;34m\u001b[0m\u001b[0m\n\u001b[1;32m     44\u001b[0m             \u001b[0mBerr\u001b[0m\u001b[0;34m=\u001b[0m\u001b[0;36m0.5\u001b[0m\u001b[0;34m/\u001b[0m\u001b[0mBval\u001b[0m\u001b[0;34m*\u001b[0m\u001b[0mB\u001b[0m\u001b[0;34m[\u001b[0m\u001b[0;36m1\u001b[0m\u001b[0;34m]\u001b[0m\u001b[0;34m\u001b[0m\u001b[0m\n\u001b[0;32m---> 45\u001b[0;31m             \u001b[0mAB\u001b[0m\u001b[0;34m=\u001b[0m\u001b[0msci_integrate\u001b[0m\u001b[0;34m.\u001b[0m\u001b[0mquad\u001b[0m\u001b[0;34m(\u001b[0m\u001b[0;32mlambda\u001b[0m \u001b[0mx\u001b[0m\u001b[0;34m:\u001b[0m\u001b[0;36m4\u001b[0m\u001b[0;34m*\u001b[0m\u001b[0mhvacs\u001b[0m\u001b[0;34m(\u001b[0m\u001b[0mx\u001b[0m\u001b[0;34m)\u001b[0m\u001b[0;34m*\u001b[0m\u001b[0mhs\u001b[0m\u001b[0;34m(\u001b[0m\u001b[0mx\u001b[0m\u001b[0;34m)\u001b[0m\u001b[0;34m/\u001b[0m\u001b[0mS_n_lisa\u001b[0m\u001b[0;34m(\u001b[0m\u001b[0mx\u001b[0m\u001b[0;34m)\u001b[0m\u001b[0;34m*\u001b[0m\u001b[0mnp\u001b[0m\u001b[0;34m.\u001b[0m\u001b[0mcos\u001b[0m\u001b[0;34m(\u001b[0m\u001b[0manglegas\u001b[0m\u001b[0;34m(\u001b[0m\u001b[0mx\u001b[0m\u001b[0;34m)\u001b[0m\u001b[0;34m-\u001b[0m\u001b[0manglevac\u001b[0m\u001b[0;34m(\u001b[0m\u001b[0mx\u001b[0m\u001b[0;34m)\u001b[0m\u001b[0;34m)\u001b[0m\u001b[0;34m,\u001b[0m\u001b[0md\u001b[0m\u001b[0;34m[\u001b[0m\u001b[0;36m0\u001b[0m\u001b[0;34m]\u001b[0m\u001b[0;34m,\u001b[0m\u001b[0md\u001b[0m\u001b[0;34m[\u001b[0m\u001b[0;36m1\u001b[0m\u001b[0;34m]\u001b[0m\u001b[0;34m,\u001b[0m\u001b[0mlimit\u001b[0m\u001b[0;34m=\u001b[0m\u001b[0;36m1500\u001b[0m\u001b[0;34m,\u001b[0m\u001b[0mepsabs\u001b[0m\u001b[0;34m=\u001b[0m\u001b[0;36m0.005\u001b[0m\u001b[0;34m)\u001b[0m\u001b[0;34m\u001b[0m\u001b[0m\n\u001b[0m\u001b[1;32m     46\u001b[0m             \u001b[0mff\u001b[0m\u001b[0;34m=\u001b[0m\u001b[0mAB\u001b[0m\u001b[0;34m[\u001b[0m\u001b[0;36m0\u001b[0m\u001b[0;34m]\u001b[0m\u001b[0;34m/\u001b[0m\u001b[0mAval\u001b[0m\u001b[0;34m/\u001b[0m\u001b[0mBval\u001b[0m\u001b[0;34m\u001b[0m\u001b[0m\n\u001b[1;32m     47\u001b[0m             \u001b[0merr\u001b[0m\u001b[0;34m=\u001b[0m\u001b[0mabs\u001b[0m\u001b[0;34m(\u001b[0m\u001b[0;36m1\u001b[0m\u001b[0;34m/\u001b[0m\u001b[0mAval\u001b[0m\u001b[0;34m/\u001b[0m\u001b[0mBval\u001b[0m\u001b[0;34m*\u001b[0m\u001b[0mAB\u001b[0m\u001b[0;34m[\u001b[0m\u001b[0;36m1\u001b[0m\u001b[0;34m]\u001b[0m\u001b[0;34m)\u001b[0m\u001b[0;34m+\u001b[0m\u001b[0mabs\u001b[0m\u001b[0;34m(\u001b[0m\u001b[0mAB\u001b[0m\u001b[0;34m[\u001b[0m\u001b[0;36m0\u001b[0m\u001b[0;34m]\u001b[0m\u001b[0;34m/\u001b[0m\u001b[0mAval\u001b[0m\u001b[0;34m/\u001b[0m\u001b[0mAval\u001b[0m\u001b[0;34m/\u001b[0m\u001b[0mBval\u001b[0m\u001b[0;34m*\u001b[0m\u001b[0mAerr\u001b[0m\u001b[0;34m)\u001b[0m\u001b[0;34m+\u001b[0m\u001b[0mabs\u001b[0m\u001b[0;34m(\u001b[0m\u001b[0mAB\u001b[0m\u001b[0;34m[\u001b[0m\u001b[0;36m0\u001b[0m\u001b[0;34m]\u001b[0m\u001b[0;34m/\u001b[0m\u001b[0mAval\u001b[0m\u001b[0;34m/\u001b[0m\u001b[0mBval\u001b[0m\u001b[0;34m/\u001b[0m\u001b[0mBval\u001b[0m\u001b[0;34m*\u001b[0m\u001b[0mBerr\u001b[0m\u001b[0;34m)\u001b[0m\u001b[0;34m\u001b[0m\u001b[0m\n",
      "\u001b[0;32m/Users/shyn/anaconda2/lib/python2.7/site-packages/scipy/integrate/quadpack.pyc\u001b[0m in \u001b[0;36mquad\u001b[0;34m(func, a, b, args, full_output, epsabs, epsrel, limit, points, weight, wvar, wopts, maxp1, limlst)\u001b[0m\n\u001b[1;32m    313\u001b[0m     \u001b[0;32mif\u001b[0m \u001b[0;34m(\u001b[0m\u001b[0mweight\u001b[0m \u001b[0;32mis\u001b[0m \u001b[0mNone\u001b[0m\u001b[0;34m)\u001b[0m\u001b[0;34m:\u001b[0m\u001b[0;34m\u001b[0m\u001b[0m\n\u001b[1;32m    314\u001b[0m         retval = _quad(func, a, b, args, full_output, epsabs, epsrel, limit,\n\u001b[0;32m--> 315\u001b[0;31m                        points)\n\u001b[0m\u001b[1;32m    316\u001b[0m     \u001b[0;32melse\u001b[0m\u001b[0;34m:\u001b[0m\u001b[0;34m\u001b[0m\u001b[0m\n\u001b[1;32m    317\u001b[0m         retval = _quad_weight(func, a, b, args, full_output, epsabs, epsrel,\n",
      "\u001b[0;32m/Users/shyn/anaconda2/lib/python2.7/site-packages/scipy/integrate/quadpack.pyc\u001b[0m in \u001b[0;36m_quad\u001b[0;34m(func, a, b, args, full_output, epsabs, epsrel, limit, points)\u001b[0m\n\u001b[1;32m    378\u001b[0m     \u001b[0;32mif\u001b[0m \u001b[0mpoints\u001b[0m \u001b[0;32mis\u001b[0m \u001b[0mNone\u001b[0m\u001b[0;34m:\u001b[0m\u001b[0;34m\u001b[0m\u001b[0m\n\u001b[1;32m    379\u001b[0m         \u001b[0;32mif\u001b[0m \u001b[0minfbounds\u001b[0m \u001b[0;34m==\u001b[0m \u001b[0;36m0\u001b[0m\u001b[0;34m:\u001b[0m\u001b[0;34m\u001b[0m\u001b[0m\n\u001b[0;32m--> 380\u001b[0;31m             \u001b[0;32mreturn\u001b[0m \u001b[0m_quadpack\u001b[0m\u001b[0;34m.\u001b[0m\u001b[0m_qagse\u001b[0m\u001b[0;34m(\u001b[0m\u001b[0mfunc\u001b[0m\u001b[0;34m,\u001b[0m\u001b[0ma\u001b[0m\u001b[0;34m,\u001b[0m\u001b[0mb\u001b[0m\u001b[0;34m,\u001b[0m\u001b[0margs\u001b[0m\u001b[0;34m,\u001b[0m\u001b[0mfull_output\u001b[0m\u001b[0;34m,\u001b[0m\u001b[0mepsabs\u001b[0m\u001b[0;34m,\u001b[0m\u001b[0mepsrel\u001b[0m\u001b[0;34m,\u001b[0m\u001b[0mlimit\u001b[0m\u001b[0;34m)\u001b[0m\u001b[0;34m\u001b[0m\u001b[0m\n\u001b[0m\u001b[1;32m    381\u001b[0m         \u001b[0;32melse\u001b[0m\u001b[0;34m:\u001b[0m\u001b[0;34m\u001b[0m\u001b[0m\n\u001b[1;32m    382\u001b[0m             \u001b[0;32mreturn\u001b[0m \u001b[0m_quadpack\u001b[0m\u001b[0;34m.\u001b[0m\u001b[0m_qagie\u001b[0m\u001b[0;34m(\u001b[0m\u001b[0mfunc\u001b[0m\u001b[0;34m,\u001b[0m\u001b[0mbound\u001b[0m\u001b[0;34m,\u001b[0m\u001b[0minfbounds\u001b[0m\u001b[0;34m,\u001b[0m\u001b[0margs\u001b[0m\u001b[0;34m,\u001b[0m\u001b[0mfull_output\u001b[0m\u001b[0;34m,\u001b[0m\u001b[0mepsabs\u001b[0m\u001b[0;34m,\u001b[0m\u001b[0mepsrel\u001b[0m\u001b[0;34m,\u001b[0m\u001b[0mlimit\u001b[0m\u001b[0;34m)\u001b[0m\u001b[0;34m\u001b[0m\u001b[0m\n",
      "\u001b[0;32m<ipython-input-3-fc65458cdac6>\u001b[0m in \u001b[0;36m<lambda>\u001b[0;34m(x)\u001b[0m\n\u001b[1;32m     43\u001b[0m             \u001b[0mBval\u001b[0m\u001b[0;34m=\u001b[0m\u001b[0mnp\u001b[0m\u001b[0;34m.\u001b[0m\u001b[0msqrt\u001b[0m\u001b[0;34m(\u001b[0m\u001b[0mB\u001b[0m\u001b[0;34m[\u001b[0m\u001b[0;36m0\u001b[0m\u001b[0;34m]\u001b[0m\u001b[0;34m)\u001b[0m\u001b[0;34m\u001b[0m\u001b[0m\n\u001b[1;32m     44\u001b[0m             \u001b[0mBerr\u001b[0m\u001b[0;34m=\u001b[0m\u001b[0;36m0.5\u001b[0m\u001b[0;34m/\u001b[0m\u001b[0mBval\u001b[0m\u001b[0;34m*\u001b[0m\u001b[0mB\u001b[0m\u001b[0;34m[\u001b[0m\u001b[0;36m1\u001b[0m\u001b[0;34m]\u001b[0m\u001b[0;34m\u001b[0m\u001b[0m\n\u001b[0;32m---> 45\u001b[0;31m             \u001b[0mAB\u001b[0m\u001b[0;34m=\u001b[0m\u001b[0msci_integrate\u001b[0m\u001b[0;34m.\u001b[0m\u001b[0mquad\u001b[0m\u001b[0;34m(\u001b[0m\u001b[0;32mlambda\u001b[0m \u001b[0mx\u001b[0m\u001b[0;34m:\u001b[0m\u001b[0;36m4\u001b[0m\u001b[0;34m*\u001b[0m\u001b[0mhvacs\u001b[0m\u001b[0;34m(\u001b[0m\u001b[0mx\u001b[0m\u001b[0;34m)\u001b[0m\u001b[0;34m*\u001b[0m\u001b[0mhs\u001b[0m\u001b[0;34m(\u001b[0m\u001b[0mx\u001b[0m\u001b[0;34m)\u001b[0m\u001b[0;34m/\u001b[0m\u001b[0mS_n_lisa\u001b[0m\u001b[0;34m(\u001b[0m\u001b[0mx\u001b[0m\u001b[0;34m)\u001b[0m\u001b[0;34m*\u001b[0m\u001b[0mnp\u001b[0m\u001b[0;34m.\u001b[0m\u001b[0mcos\u001b[0m\u001b[0;34m(\u001b[0m\u001b[0manglegas\u001b[0m\u001b[0;34m(\u001b[0m\u001b[0mx\u001b[0m\u001b[0;34m)\u001b[0m\u001b[0;34m-\u001b[0m\u001b[0manglevac\u001b[0m\u001b[0;34m(\u001b[0m\u001b[0mx\u001b[0m\u001b[0;34m)\u001b[0m\u001b[0;34m)\u001b[0m\u001b[0;34m,\u001b[0m\u001b[0md\u001b[0m\u001b[0;34m[\u001b[0m\u001b[0;36m0\u001b[0m\u001b[0;34m]\u001b[0m\u001b[0;34m,\u001b[0m\u001b[0md\u001b[0m\u001b[0;34m[\u001b[0m\u001b[0;36m1\u001b[0m\u001b[0;34m]\u001b[0m\u001b[0;34m,\u001b[0m\u001b[0mlimit\u001b[0m\u001b[0;34m=\u001b[0m\u001b[0;36m1500\u001b[0m\u001b[0;34m,\u001b[0m\u001b[0mepsabs\u001b[0m\u001b[0;34m=\u001b[0m\u001b[0;36m0.005\u001b[0m\u001b[0;34m)\u001b[0m\u001b[0;34m\u001b[0m\u001b[0m\n\u001b[0m\u001b[1;32m     46\u001b[0m             \u001b[0mff\u001b[0m\u001b[0;34m=\u001b[0m\u001b[0mAB\u001b[0m\u001b[0;34m[\u001b[0m\u001b[0;36m0\u001b[0m\u001b[0;34m]\u001b[0m\u001b[0;34m/\u001b[0m\u001b[0mAval\u001b[0m\u001b[0;34m/\u001b[0m\u001b[0mBval\u001b[0m\u001b[0;34m\u001b[0m\u001b[0m\n\u001b[1;32m     47\u001b[0m             \u001b[0merr\u001b[0m\u001b[0;34m=\u001b[0m\u001b[0mabs\u001b[0m\u001b[0;34m(\u001b[0m\u001b[0;36m1\u001b[0m\u001b[0;34m/\u001b[0m\u001b[0mAval\u001b[0m\u001b[0;34m/\u001b[0m\u001b[0mBval\u001b[0m\u001b[0;34m*\u001b[0m\u001b[0mAB\u001b[0m\u001b[0;34m[\u001b[0m\u001b[0;36m1\u001b[0m\u001b[0;34m]\u001b[0m\u001b[0;34m)\u001b[0m\u001b[0;34m+\u001b[0m\u001b[0mabs\u001b[0m\u001b[0;34m(\u001b[0m\u001b[0mAB\u001b[0m\u001b[0;34m[\u001b[0m\u001b[0;36m0\u001b[0m\u001b[0;34m]\u001b[0m\u001b[0;34m/\u001b[0m\u001b[0mAval\u001b[0m\u001b[0;34m/\u001b[0m\u001b[0mAval\u001b[0m\u001b[0;34m/\u001b[0m\u001b[0mBval\u001b[0m\u001b[0;34m*\u001b[0m\u001b[0mAerr\u001b[0m\u001b[0;34m)\u001b[0m\u001b[0;34m+\u001b[0m\u001b[0mabs\u001b[0m\u001b[0;34m(\u001b[0m\u001b[0mAB\u001b[0m\u001b[0;34m[\u001b[0m\u001b[0;36m0\u001b[0m\u001b[0;34m]\u001b[0m\u001b[0;34m/\u001b[0m\u001b[0mAval\u001b[0m\u001b[0;34m/\u001b[0m\u001b[0mBval\u001b[0m\u001b[0;34m/\u001b[0m\u001b[0mBval\u001b[0m\u001b[0;34m*\u001b[0m\u001b[0mBerr\u001b[0m\u001b[0;34m)\u001b[0m\u001b[0;34m\u001b[0m\u001b[0m\n",
      "\u001b[0;32m/Users/shyn/anaconda2/lib/python2.7/site-packages/scipy/interpolate/polyint.pyc\u001b[0m in \u001b[0;36m__call__\u001b[0;34m(self, x)\u001b[0m\n\u001b[1;32m     77\u001b[0m         \"\"\"\n\u001b[1;32m     78\u001b[0m         \u001b[0mx\u001b[0m\u001b[0;34m,\u001b[0m \u001b[0mx_shape\u001b[0m \u001b[0;34m=\u001b[0m \u001b[0mself\u001b[0m\u001b[0;34m.\u001b[0m\u001b[0m_prepare_x\u001b[0m\u001b[0;34m(\u001b[0m\u001b[0mx\u001b[0m\u001b[0;34m)\u001b[0m\u001b[0;34m\u001b[0m\u001b[0m\n\u001b[0;32m---> 79\u001b[0;31m         \u001b[0my\u001b[0m \u001b[0;34m=\u001b[0m \u001b[0mself\u001b[0m\u001b[0;34m.\u001b[0m\u001b[0m_evaluate\u001b[0m\u001b[0;34m(\u001b[0m\u001b[0mx\u001b[0m\u001b[0;34m)\u001b[0m\u001b[0;34m\u001b[0m\u001b[0m\n\u001b[0m\u001b[1;32m     80\u001b[0m         \u001b[0;32mreturn\u001b[0m \u001b[0mself\u001b[0m\u001b[0;34m.\u001b[0m\u001b[0m_finish_y\u001b[0m\u001b[0;34m(\u001b[0m\u001b[0my\u001b[0m\u001b[0;34m,\u001b[0m \u001b[0mx_shape\u001b[0m\u001b[0;34m)\u001b[0m\u001b[0;34m\u001b[0m\u001b[0m\n\u001b[1;32m     81\u001b[0m \u001b[0;34m\u001b[0m\u001b[0m\n",
      "\u001b[0;32m/Users/shyn/anaconda2/lib/python2.7/site-packages/scipy/interpolate/interpolate.pyc\u001b[0m in \u001b[0;36m_evaluate\u001b[0;34m(self, x_new)\u001b[0m\n\u001b[1;32m    586\u001b[0m         \u001b[0my_new\u001b[0m \u001b[0;34m=\u001b[0m \u001b[0mself\u001b[0m\u001b[0;34m.\u001b[0m\u001b[0m_call\u001b[0m\u001b[0;34m(\u001b[0m\u001b[0mself\u001b[0m\u001b[0;34m,\u001b[0m \u001b[0mx_new\u001b[0m\u001b[0;34m)\u001b[0m\u001b[0;34m\u001b[0m\u001b[0m\n\u001b[1;32m    587\u001b[0m         \u001b[0;32mif\u001b[0m \u001b[0;32mnot\u001b[0m \u001b[0mself\u001b[0m\u001b[0;34m.\u001b[0m\u001b[0m_extrapolate\u001b[0m\u001b[0;34m:\u001b[0m\u001b[0;34m\u001b[0m\u001b[0m\n\u001b[0;32m--> 588\u001b[0;31m             \u001b[0mbelow_bounds\u001b[0m\u001b[0;34m,\u001b[0m \u001b[0mabove_bounds\u001b[0m \u001b[0;34m=\u001b[0m \u001b[0mself\u001b[0m\u001b[0;34m.\u001b[0m\u001b[0m_check_bounds\u001b[0m\u001b[0;34m(\u001b[0m\u001b[0mx_new\u001b[0m\u001b[0;34m)\u001b[0m\u001b[0;34m\u001b[0m\u001b[0m\n\u001b[0m\u001b[1;32m    589\u001b[0m             \u001b[0;32mif\u001b[0m \u001b[0mlen\u001b[0m\u001b[0;34m(\u001b[0m\u001b[0my_new\u001b[0m\u001b[0;34m)\u001b[0m \u001b[0;34m>\u001b[0m \u001b[0;36m0\u001b[0m\u001b[0;34m:\u001b[0m\u001b[0;34m\u001b[0m\u001b[0m\n\u001b[1;32m    590\u001b[0m                 \u001b[0;31m# Note fill_value must be broadcast up to the proper size\u001b[0m\u001b[0;34m\u001b[0m\u001b[0;34m\u001b[0m\u001b[0m\n",
      "\u001b[0;32m/Users/shyn/anaconda2/lib/python2.7/site-packages/scipy/interpolate/interpolate.pyc\u001b[0m in \u001b[0;36m_check_bounds\u001b[0;34m(self, x_new)\u001b[0m\n\u001b[1;32m    617\u001b[0m             raise ValueError(\"A value in x_new is below the interpolation \"\n\u001b[1;32m    618\u001b[0m                 \"range.\")\n\u001b[0;32m--> 619\u001b[0;31m         \u001b[0;32mif\u001b[0m \u001b[0mself\u001b[0m\u001b[0;34m.\u001b[0m\u001b[0mbounds_error\u001b[0m \u001b[0;32mand\u001b[0m \u001b[0mabove_bounds\u001b[0m\u001b[0;34m.\u001b[0m\u001b[0many\u001b[0m\u001b[0;34m(\u001b[0m\u001b[0;34m)\u001b[0m\u001b[0;34m:\u001b[0m\u001b[0;34m\u001b[0m\u001b[0m\n\u001b[0m\u001b[1;32m    620\u001b[0m             raise ValueError(\"A value in x_new is above the interpolation \"\n\u001b[1;32m    621\u001b[0m                 \"range.\")\n",
      "\u001b[0;32m/Users/shyn/anaconda2/lib/python2.7/site-packages/numpy/core/_methods.pyc\u001b[0m in \u001b[0;36m_any\u001b[0;34m(a, axis, dtype, out, keepdims)\u001b[0m\n\u001b[1;32m     36\u001b[0m \u001b[0;34m\u001b[0m\u001b[0m\n\u001b[1;32m     37\u001b[0m \u001b[0;32mdef\u001b[0m \u001b[0m_any\u001b[0m\u001b[0;34m(\u001b[0m\u001b[0ma\u001b[0m\u001b[0;34m,\u001b[0m \u001b[0maxis\u001b[0m\u001b[0;34m=\u001b[0m\u001b[0mNone\u001b[0m\u001b[0;34m,\u001b[0m \u001b[0mdtype\u001b[0m\u001b[0;34m=\u001b[0m\u001b[0mNone\u001b[0m\u001b[0;34m,\u001b[0m \u001b[0mout\u001b[0m\u001b[0;34m=\u001b[0m\u001b[0mNone\u001b[0m\u001b[0;34m,\u001b[0m \u001b[0mkeepdims\u001b[0m\u001b[0;34m=\u001b[0m\u001b[0mFalse\u001b[0m\u001b[0;34m)\u001b[0m\u001b[0;34m:\u001b[0m\u001b[0;34m\u001b[0m\u001b[0m\n\u001b[0;32m---> 38\u001b[0;31m     \u001b[0;32mreturn\u001b[0m \u001b[0mumr_any\u001b[0m\u001b[0;34m(\u001b[0m\u001b[0ma\u001b[0m\u001b[0;34m,\u001b[0m \u001b[0maxis\u001b[0m\u001b[0;34m,\u001b[0m \u001b[0mdtype\u001b[0m\u001b[0;34m,\u001b[0m \u001b[0mout\u001b[0m\u001b[0;34m,\u001b[0m \u001b[0mkeepdims\u001b[0m\u001b[0;34m)\u001b[0m\u001b[0;34m\u001b[0m\u001b[0m\n\u001b[0m\u001b[1;32m     39\u001b[0m \u001b[0;34m\u001b[0m\u001b[0m\n\u001b[1;32m     40\u001b[0m \u001b[0;32mdef\u001b[0m \u001b[0m_all\u001b[0m\u001b[0;34m(\u001b[0m\u001b[0ma\u001b[0m\u001b[0;34m,\u001b[0m \u001b[0maxis\u001b[0m\u001b[0;34m=\u001b[0m\u001b[0mNone\u001b[0m\u001b[0;34m,\u001b[0m \u001b[0mdtype\u001b[0m\u001b[0;34m=\u001b[0m\u001b[0mNone\u001b[0m\u001b[0;34m,\u001b[0m \u001b[0mout\u001b[0m\u001b[0;34m=\u001b[0m\u001b[0mNone\u001b[0m\u001b[0;34m,\u001b[0m \u001b[0mkeepdims\u001b[0m\u001b[0;34m=\u001b[0m\u001b[0mFalse\u001b[0m\u001b[0;34m)\u001b[0m\u001b[0;34m:\u001b[0m\u001b[0;34m\u001b[0m\u001b[0m\n",
      "\u001b[0;31mKeyboardInterrupt\u001b[0m: "
     ]
    }
   ],
   "source": [
    "#parameters changes\n",
    "mcnum=1000\n",
    "phinum=30\n",
    "acu=0.0001\n",
    "mcs=np.linspace(37.7*m_sun,37.8*m_sun,mcnum)\n",
    "phis=np.linspace(0,2*sciconsts.pi,phinum)\n",
    "data=np.zeros((mcnum,3))\n",
    "noden=noden_cal(mcs,phinum,0.0001,figas,ffgas)\n",
    "print 'cal start,node=',noden,' esiT=',noden/3600.0*10,'h'\n",
    "sys.stdout.flush()\n",
    "mcn=0\n",
    "pn=0.0\n",
    "tb=time.clock()\n",
    "while mcn<mcnum:\n",
    "    ffmax=0.0\n",
    "    errmax=0.0\n",
    "    m1v=solvem(mcs[mcn],0.25)[0]\n",
    "    m2v=solvem(mcs[mcn],0.25)[1]\n",
    "    tcl=tlimit(mcs[mcn],figas,ffgas)\n",
    "    tcnum=tcn_decide(mcs[mcn],figas,ffgas,acu)\n",
    "    tcl_sp=np.linspace(tcl[0],tcl[1],tcnum)\n",
    "    tcn=0\n",
    "    while tcn<tcnum:\n",
    "        phin=0\n",
    "        while phin<phinum:\n",
    "            ti=time.clock()\n",
    "            fivac=freq_tvac(0,m1v,m2v,tcl_sp[tcn])\n",
    "            ffvac=freq_tvac(4*years,m1v,m2v,tcl_sp[tcn])\n",
    "            Ng=int(t_scale*ffvac*4)\n",
    "            Ng=pow2(Ng)\n",
    "            T=t_scale/Ng\n",
    "            xs=np.linspace(0,1/2.0/T,num=Ng//2)\n",
    "            t=np.linspace(0,t_scale,num=Ng//2)\n",
    "            hvt=hvac(t,m1v,m2v,tcl_sp[tcn],phis[phin])\n",
    "            hfvac1=fft.fft(hvt)\n",
    "            hfvac_abs=abs(hfvac1)\n",
    "            hfvac_angle=np.arctan(hfvac1.imag/hfvac1.real)[0:Ng//2]\n",
    "            anglevac=sci_interpolate.interp1d(xs,hfvac_angle)\n",
    "            hfvac2=2.0/Ng*hfvac_abs[0:Ng//2]\n",
    "            hvacs=sci_interpolate.interp1d(xs,hfvac2)\n",
    "            d=(np.array((fivac,figas)).max(),np.array((ffvac,ffgas)).min())\n",
    "            B=sci_integrate.quad(lambda x:4*np.power(hvacs(x),2.0)/S_n_lisa(x),fivac,ffvac,limit=1500,epsabs=0.005)\n",
    "            Bval=np.sqrt(B[0])\n",
    "            Berr=0.5/Bval*B[1]\n",
    "            AB=sci_integrate.quad(lambda x:4*hvacs(x)*hs(x)/S_n_lisa(x)*np.cos(anglegas(x)-anglevac(x)),d[0],d[1],limit=1500,epsabs=0.005)\n",
    "            ff=AB[0]/Aval/Bval\n",
    "            err=abs(1/Aval/Bval*AB[1])+abs(AB[0]/Aval/Aval/Bval*Aerr)+abs(AB[0]/Aval/Bval/Bval*Berr)\n",
    "            tf=time.clock()\n",
    "            if ff>ffmax:\n",
    "                ffmax=ff\n",
    "                errmax=err\n",
    "            print pn,round(tf-ti,2),ff\n",
    "            sys.stdout.flush()\n",
    "            phin=phin+1\n",
    "            pn=pn+1\n",
    "        tcn=tcn+1\n",
    "    data[mcn,0]=mcs[mcn]/m_sun\n",
    "    data[mcn,1]=ffmax\n",
    "    data[mcn,2]=errmax\n",
    "    mcn=mcn+1\n",
    "np.savetxt(fname,data)\n",
    "te=time.clock()\n",
    "print 'cal completed!',(te-tb)/3600,'h'\n",
    "sys.stdout.flush()"
   ]
  },
  {
   "cell_type": "code",
   "execution_count": 28,
   "metadata": {},
   "outputs": [
    {
     "data": {
      "text/plain": [
       "0.58859260456291229"
      ]
     },
     "execution_count": 28,
     "metadata": {},
     "output_type": "execute_result"
    }
   ],
   "source": []
  },
  {
   "cell_type": "code",
   "execution_count": 29,
   "metadata": {},
   "outputs": [
    {
     "data": {
      "text/plain": [
       "0.0012955710025295037"
      ]
     },
     "execution_count": 29,
     "metadata": {},
     "output_type": "execute_result"
    }
   ],
   "source": []
  },
  {
   "cell_type": "code",
   "execution_count": null,
   "metadata": {
    "collapsed": true,
    "scrolled": true
   },
   "outputs": [],
   "source": []
  },
  {
   "cell_type": "code",
   "execution_count": 17,
   "metadata": {},
   "outputs": [
    {
     "data": {
      "text/plain": [
       "(28260.0, 78.5)"
      ]
     },
     "execution_count": 17,
     "metadata": {},
     "output_type": "execute_result"
    }
   ],
   "source": [
    "mcnum=200\n",
    "phinum=30\n",
    "mcs=np.linspace(36*m_sun,38*m_sun,mcnum)\n",
    "phis=np.linspace(0,2*sciconsts.pi,phinum)\n",
    "data=np.zeros((mcnum,3))\n",
    "noden=noden_cal(mcs,phinum,0.0001,figas,ffgas)\n",
    "noden,noden/360"
   ]
  },
  {
   "cell_type": "code",
   "execution_count": null,
   "metadata": {
    "collapsed": true
   },
   "outputs": [],
   "source": []
  }
 ],
 "metadata": {
  "kernelspec": {
   "display_name": "Python 2",
   "language": "python",
   "name": "python2"
  },
  "language_info": {
   "codemirror_mode": {
    "name": "ipython",
    "version": 2
   },
   "file_extension": ".py",
   "mimetype": "text/x-python",
   "name": "python",
   "nbconvert_exporter": "python",
   "pygments_lexer": "ipython2",
   "version": "2.7.13"
  }
 },
 "nbformat": 4,
 "nbformat_minor": 2
}
