{
 "cells": [
  {
   "cell_type": "code",
   "execution_count": 14,
   "metadata": {},
   "outputs": [
    {
     "name": "stdout",
     "output_type": "stream",
     "text": [
      "pkurun-cns 1 20 python clustergwtest.py 0\n",
      "pkurun-cns 1 20 python clustergwtest.py 1\n",
      "pkurun-cns 1 20 python clustergwtest.py 2\n",
      "pkurun-cns 1 20 python clustergwtest.py 3\n",
      "pkurun-cns 1 20 python clustergwtest.py 4\n",
      "pkurun-cns 1 20 python clustergwtest.py 5\n",
      "pkurun-cns 1 20 python clustergwtest.py 6\n",
      "pkurun-cns 1 20 python clustergwtest.py 7\n",
      "pkurun-cns 1 20 python clustergwtest.py 8\n",
      "pkurun-cns 1 20 python clustergwtest.py 9\n"
     ]
    }
   ],
   "source": [
    "import os\n",
    "for i in range(0,10):\n",
    "    a=\"pkurun-cns 1 20 python clustergwtest.py %s\"%(i,)\n",
    "    os.system(a)\n",
    "    os.system('sleep 1')"
   ]
  },
  {
   "cell_type": "code",
   "execution_count": 12,
   "metadata": {},
   "outputs": [],
   "source": []
  },
  {
   "cell_type": "code",
   "execution_count": 13,
   "metadata": {},
   "outputs": [
    {
     "data": {
      "text/plain": [
       "'pkurun-cns 1 20 python clustergwtest.py 2'"
      ]
     },
     "execution_count": 13,
     "metadata": {},
     "output_type": "execute_result"
    }
   ],
   "source": [
    "a"
   ]
  },
  {
   "cell_type": "code",
   "execution_count": null,
   "metadata": {
    "collapsed": true
   },
   "outputs": [],
   "source": []
  }
 ],
 "metadata": {
  "kernelspec": {
   "display_name": "Python 2",
   "language": "python",
   "name": "python2"
  },
  "language_info": {
   "codemirror_mode": {
    "name": "ipython",
    "version": 2
   },
   "file_extension": ".py",
   "mimetype": "text/x-python",
   "name": "python",
   "nbconvert_exporter": "python",
   "pygments_lexer": "ipython2",
   "version": "2.7.13"
  }
 },
 "nbformat": 4,
 "nbformat_minor": 2
}
