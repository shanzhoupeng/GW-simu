{
 "cells": [
  {
   "cell_type": "code",
   "execution_count": 50,
   "metadata": {
    "collapsed": true
   },
   "outputs": [],
   "source": [
    "#coding:utf-8\n",
    "\n",
    "import numpy as np\n",
    "import scipy.constants as sciconsts\n",
    "import scipy.fftpack as fft\n",
    "import scipy.interpolate as sci_interpolate\n",
    "import scipy.integrate as sci_integrate\n",
    "import time\n",
    "import sys\n",
    "from multiprocessing import Process,Pool\n",
    "import scipy.optimize as sciop\n",
    "#version 1:\n",
    "'''parameters'''\n",
    "def chirp_mass(m1,m2):\n",
    "    return np.power(m1*m2,0.6)/(np.power(m1+m2,0.2))\n",
    "def solvem(mc,smr):\n",
    "    a=mc/np.power(smr,0.6)\n",
    "    b=smr*np.power(a,2.0)\n",
    "    m1=(a+np.sqrt(np.power(a,2.0)-4.0*b))/2.0\n",
    "    m2=(a-np.sqrt(np.power(a,2.0)-4.0*b))/2.0\n",
    "    return np.array((m1,m2))\n",
    "def sym_mass_ratio(m1,m2):\n",
    "    return m1*m2/(np.power(m1+m2,2.0))\n",
    "'''lisa noise curve in rpsd unit N2A5:laserpower 2w,40cm telescope,armlength 5e6 km'''\n",
    "def S_gal_N2A5(f):\n",
    "    if f>=1.0e-5 and f<1.0e-3:\n",
    "        return np.power(f,-2.3)*np.power(10,-44.62)*20.0/3.0\n",
    "    if f>=1.0e-3 and f<np.power(10,-2.7):\n",
    "        return np.power(f,-4.4)*np.power(10,-50.92)*20.0/3.0\n",
    "    if f>=np.power(10,-2.7) and f<np.power(10,-2.4):\n",
    "        return np.power(f,-8.8)*np.power(10,-62.8)*20.0/3.0\n",
    "    if f>=np.power(10,-2.4) and f<=0.01:\n",
    "        return np.power(f,-20.0)*np.power(10,-89.68)*20.0/3.0\n",
    "    if f>0.01 or f<1.0e-5:\n",
    "        return 0\n",
    "def S_n_lisa(f):\n",
    "    m1=5.0e9\n",
    "    m2=sciconsts.c*0.41/m1/2.0\n",
    "    return 20.0/3.0*(1+np.power(f/m2,2.0))*(4.0*(9.0e-30/np.power(2*sciconsts.pi*f,4.0)*(1+1.0e-4/f))+2.96e-23+2.65e-23)/np.power(m1,2.0)+S_gal_N2A5(f)\n",
    "\n",
    "\n",
    "'''vac model(2 mass parameters)'''\n",
    "def df_dtvac2(f,m_1,m_2):\n",
    "    m_c=chirp_mass(m_1,m_2)\n",
    "    M=m_1+m_2\n",
    "    mu=m_1*m_2/(m_1+m_2)\n",
    "    a1=743.0/336+11.0*mu/4/M\n",
    "    x=sciconsts.pi*M*f\n",
    "    return 96.0/5*np.power(sciconsts.pi,8.0/3.0)*np.power(m_c,5.0/3.0)*np.power(f,11.0/3.0)*(1-a1*np.power(x,2.0/3.0)+4*sciconsts.pi*x)\n",
    "def t_fvac2(f,m_1,m_2,figas):\n",
    "    return sci_integrate.quad(lambda f:1.0/df_dtvac2(f,m_1,m_2),figas,f,limit=1500)[0]\n",
    "'''reverse function :t(f) to f(t) to r(t)'''\n",
    "def f_rvac(r,m):\n",
    "    m_1=m[0]\n",
    "    m_2=m[1]\n",
    "    fi=m[2]\n",
    "    M=m_1+m_2\n",
    "    mu=m_1*m_2/(m_1+m_2)\n",
    "    a=np.sqrt(M)\n",
    "    b=(-1.5+mu*0.5/M)\n",
    "    return 1.0/sciconsts.pi*(a/np.power(r,1.5)+b/np.power(r,2.5)*np.power(M,1.5))-fi\n",
    "def f_rvacstart(fi,m_1,m_2):\n",
    "    M=m_1+m_2\n",
    "    return np.power(np.power(M,0.5)/(sciconsts.pi*fi),2.0/3.0)\n",
    "\n",
    "'''my T model(considering gas (c=G=1 unit))'''\n",
    "def k_1cal(m_1,m_2):\n",
    "    return 64.0*m_1*m_2*(m_1+m_2)/5.0\n",
    "def t_0cal(m_1,m_2,t_gas,a_0):\n",
    "    return t_gas*0.25*np.log(k_1cal(m_1,m_2)+np.power(a_0,4.0)/t_gas)\n",
    "def acalgas(t,k_1,t_gas,t_0):\n",
    "    return np.power((np.exp(4.0*(t_0-t)/t_gas)-k_1)*t_gas,0.25)\n",
    "def freq_tgas(t,m_1,m_2,t_gas,t_0):\n",
    "    k_1=k_1cal(m_1,m_2)\n",
    "    a_ft=acalgas(t,k_1,t_gas,t_0)\n",
    "    return 1.0/sciconsts.pi*np.sqrt(m_1+m_2)*np.power(a_ft,-1.5)\n",
    "def phi_tgas(t,m_1,m_2,t_gas,t_0):\n",
    "    return sci_integrate.quad(lambda x:2*sciconsts.pi*freq_tgas(x,m_1,m_2,t_gas,t_0),0,t)[0]\n",
    "def hgas(t,m_1,m_2,t_gas,t_0,phi):\n",
    "    k_1=k_1cal(m_1,m_2)\n",
    "    return m_1*m_2/acalgas(t,k_1,t_gas,t_0)*np.cos(phi)"
   ]
  },
  {
   "cell_type": "code",
   "execution_count": 63,
   "metadata": {},
   "outputs": [
    {
     "name": "stdout",
     "output_type": "stream",
     "text": [
      "122297551.054 1.23983133393 1.01378263363e-08\n"
     ]
    }
   ],
   "source": [
    "#consts setting \n",
    "sivalue=0.25\n",
    "#sivalue=t_scale/years\n",
    "m_sun=1.9891e30*sciconsts.G/np.power(sciconsts.c,3.0)\n",
    "years=365*24*3600.0\n",
    "mpc=3.261*sciconsts.light_year\n",
    "t_scale=years*sivalue\n",
    "\n",
    "#gas cal\n",
    "m_cg=chirp_mass(10*m_sun,10*m_sun)\n",
    "m_1g=solvem(m_cg,0.24221453287197228)[0]\n",
    "m_2g=solvem(m_cg,0.24221453287197228)[1]\n",
    "'''mass ratio=0.7 smr=0.24221453287197228'''\n",
    "k_1g=k_1cal(m_1g,m_2g)\n",
    "t_gas=1000.0*years\n",
    "a_0=3.0e8/sciconsts.c\n",
    "t_0g=t_0cal(m_1g,m_2g,t_gas,a_0)\n",
    "\n",
    "# In[38]:\n",
    "\n",
    "#(t_scale*0.01*4,N/0.01/t_scale,t_scale) \n",
    "figas=freq_tgas(0,m_1g,m_2g,t_gas,t_0g)\n",
    "ffgas=freq_tgas(t_scale,m_1g,m_2g,t_gas,t_0g)\n",
    "Ng=int(10000000*sivalue)\n",
    "t=np.linspace(0,t_scale,num=Ng)\n",
    "#tdomain interp1d\n",
    "n1=10000\n",
    "tphi=np.linspace(0,t_scale,n1)\n",
    "i=0\n",
    "workphi=np.zeros(n1)\n",
    "while i<n1:\n",
    "    workphi[i]=phi_tgas(tphi[i],m_1g,m_2g,t_gas,t_0g)\n",
    "    i=i+1\n",
    "phimo=sci_interpolate.interp1d(tphi,workphi)\n",
    "#tdomain point cal\n",
    "Tg=t_scale/Ng\n",
    "hfgas=hgas(t,m_1g,m_2g,t_gas,t_0g,phimo(t))\n",
    "#fft\n",
    "xs=np.linspace(0,1/2.0/Tg,num=Ng//2)\n",
    "hfgas1=fft.fft(hfgas)\n",
    "hfgas_abs=abs(hfgas1)\n",
    "hfgas_angle=np.arctan(hfgas1.imag/hfgas1.real)[0:Ng//2]\n",
    "hfgas2=2.0/Ng*hfgas_abs[0:Ng//2]\n",
    "hs=sci_interpolate.interp1d(xs,hfgas2)\n",
    "anglegas=sci_interpolate.interp1d(xs,hfgas_angle)\n",
    "\n",
    "\n",
    "# In[76]:\n",
    "\n",
    "A=sci_integrate.quad(lambda x:4*np.power(hs(x),2.0)/S_n_lisa(x),figas,ffgas,limit=15000,epsabs=0.00005)\n",
    "Aval=np.sqrt(A[0])\n",
    "Aerr=0.5/Aval*A[1]\n",
    "print Aval,Aerr,Aerr/Aval\n",
    "sys.stdout.flush()"
   ]
  },
  {
   "cell_type": "code",
   "execution_count": 64,
   "metadata": {
    "collapsed": true
   },
   "outputs": [],
   "source": [
    "\n",
    "# In[78]:\n",
    "\n",
    "\n",
    "# sciode\n",
    "def df_dtode(f,t,m_1,m_2):\n",
    "    m_c=chirp_mass(m_1,m_2)\n",
    "    M=m_1+m_2\n",
    "    mu=m_1*m_2/(m_1+m_2)\n",
    "    a1=743.0/336+11.0*mu/4/M\n",
    "    x=sciconsts.pi*M*f\n",
    "    result=96.0/5*np.power(sciconsts.pi,8.0/3.0)*np.power(m_c,5.0/3.0)*np.power(f,11.0/3.0)*(1-a1*np.power(x,2.0/3.0)+4*sciconsts.pi*x)\n",
    "    return result\n",
    "\n",
    "\n",
    "# In[102]:\n",
    "\n",
    "def dataconfirm(m):\n",
    "    mcv=m[0]*m_sun\n",
    "    smrv=m[1]\n",
    "    sv=solvem(mcv,smrv)\n",
    "    m1v=sv[0]\n",
    "    m2v=sv[1]\n",
    "    phic=m[2]\n",
    "    n2=10000\n",
    "    ts=np.linspace(0,t_scale,n2)\n",
    "    yf=sci_integrate.odeint(df_dtode,figas,ts,args=(m1v,m2v))\n",
    "    ftv=sci_interpolate.interp1d(ts,yf.T[0])\n",
    "    fr=ftv(ts)\n",
    "    phiv1=np.zeros(n2)\n",
    "    i=0\n",
    "    while i<n2:\n",
    "        phiv1[i]=sci_integrate.quad(lambda x:2*sciconsts.pi*ftv(x),0,ts[i])[0]\n",
    "        i=i+1\n",
    "    phiv=sci_interpolate.interp1d(ts,phiv1)\n",
    "    \n",
    "    rs=np.zeros(n2)\n",
    "    rs[0]=sciop.fsolve(f_rvac,f_rvacstart(figas,m1v,m2v),args=[m1v,m2v,figas])\n",
    "    \n",
    "    for i in range(1,n2,1):\n",
    "        rs[i]=sciop.fsolve(f_rvac,rs[i-1],args=[m1v,m2v,fr[i]])\n",
    "    \n",
    "    rv=sci_interpolate.interp1d(ts,rs)\n",
    "    \n",
    "    t_scalev=ts[n2-1]\n",
    "    t=np.linspace(0,t_scalev,num=Ng)\n",
    "    hv=m1v*m2v/rv(t)*np.cos(phiv(t))\n",
    "    xs=np.linspace(0,1/2.0/Tg,num=Ng//2)\n",
    "    hfvac1=fft.fft(hv)\n",
    "    hfvac_abs=abs(hfvac1)\n",
    "    hfvac_angle=np.arctan(hfvac1.imag/hfvac1.real)[0:Ng//2]\n",
    "    hfvac2=2.0/Ng*hfvac_abs[0:Ng//2]\n",
    "    hvacr=sci_interpolate.interp1d(xs,hfvac2)\n",
    "    anglevac=sci_interpolate.interp1d(xs,hfvac_angle)\n",
    "    B=sci_integrate.quad(lambda x:4*np.power(hvacr(x),2.0)/S_n_lisa(x),figas,fr[n2-1],limit=1500,epsabs=0.005)\n",
    "    Bval=np.sqrt(B[0])\n",
    "    Berr=0.5/Bval*B[1]\n",
    "    print Bval,Berr\n",
    "    sys.stdout.flush()\n",
    "    AB=sci_integrate.quad(lambda x:4*hvacr(x)*hs(x)/S_n_lisa(x)*np.cos(anglegas(x)-anglevac(x)+phic),figas,fr[n2-1],limit=2500,epsrel=0.005)\n",
    "    ff=abs(AB[0]/Aval/Bval)\n",
    "    err=abs(1/Aval/Bval*AB[1])+abs(AB[0]/Aval/Aval/Bval*Aerr)+abs(AB[0]/Aval/Bval/Bval*Berr)\n",
    "\n",
    "    print ff,err\n",
    "    sys.stdout.flush()"
   ]
  },
  {
   "cell_type": "code",
   "execution_count": 65,
   "metadata": {},
   "outputs": [
    {
     "name": "stdout",
     "output_type": "stream",
     "text": [
      "1363888504.71 630.135863491\n",
      "1.00009223604 0.00481065475839\n"
     ]
    }
   ],
   "source": [
    "dataconfirm([37.0,0.25,3.17332591e+00])"
   ]
  },
  {
   "cell_type": "code",
   "execution_count": 67,
   "metadata": {},
   "outputs": [
    {
     "data": {
      "text/plain": [
       "0.00010035967527197216"
      ]
     },
     "execution_count": 67,
     "metadata": {},
     "output_type": "execute_result"
    }
   ],
   "source": [
    "(m_1g+m_2g)/a_0"
   ]
  },
  {
   "cell_type": "code",
   "execution_count": 71,
   "metadata": {},
   "outputs": [
    {
     "data": {
      "text/plain": [
       "-0.00012623094104277467"
      ]
     },
     "execution_count": 71,
     "metadata": {},
     "output_type": "execute_result"
    }
   ],
   "source": [
    "(m_1g*m_2g/(m_1g+m_2g)/(m_1g+m_2g)-1.5)*(m_1g+m_2g)/a_0"
   ]
  },
  {
   "cell_type": "code",
   "execution_count": 72,
   "metadata": {
    "collapsed": true
   },
   "outputs": [],
   "source": [
    "def df_dtodegas(f,t,m_1,m_2):\n",
    "    m_c=chirp_mass(m_1,m_2)\n",
    "    M=m_1+m_2\n",
    "    mu=m_1*m_2/(m_1+m_2)\n",
    "    a1=743.0/336+11.0*mu/4/M\n",
    "    x=sciconsts.pi*M*f\n",
    "    result=96.0/5*np.power(sciconsts.pi,8.0/3.0)*np.power(m_c,5.0/3.0)*np.power(f,11.0/3.0)*(1-a1*np.power(x,2.0/3.0)+4*sciconsts.pi*x)+1.5*f/t_gas\n",
    "    return result"
   ]
  },
  {
   "cell_type": "code",
   "execution_count": 128,
   "metadata": {},
   "outputs": [],
   "source": [
    "n2=1000000\n",
    "ts=np.linspace(0,t_scale,n2)\n",
    "yf=sci_integrate.odeint(df_dtodegas,figas,ts,args=(m_1g,m_2g)).T"
   ]
  },
  {
   "cell_type": "code",
   "execution_count": 129,
   "metadata": {},
   "outputs": [],
   "source": [
    "yf2=freq_tgas(ts,m_1g,m_2g,t_gas,t_0g)"
   ]
  },
  {
   "cell_type": "code",
   "execution_count": 130,
   "metadata": {},
   "outputs": [
    {
     "data": {
      "text/plain": [
       "1.0234670136675555e-08"
      ]
     },
     "execution_count": 130,
     "metadata": {},
     "output_type": "execute_result"
    }
   ],
   "source": [
    "abs((yf-yf2)/yf).max()"
   ]
  },
  {
   "cell_type": "code",
   "execution_count": 131,
   "metadata": {},
   "outputs": [
    {
     "data": {
      "text/plain": [
       "3.2627364785625668e-11"
      ]
     },
     "execution_count": 131,
     "metadata": {},
     "output_type": "execute_result"
    }
   ],
   "source": [
    "abs(yf-yf2).max()"
   ]
  },
  {
   "cell_type": "code",
   "execution_count": 102,
   "metadata": {},
   "outputs": [
    {
     "name": "stdout",
     "output_type": "stream",
     "text": [
      "Help on function odeint in module scipy.integrate.odepack:\n",
      "\n",
      "odeint(func, y0, t, args=(), Dfun=None, col_deriv=0, full_output=0, ml=None, mu=None, rtol=None, atol=None, tcrit=None, h0=0.0, hmax=0.0, hmin=0.0, ixpr=0, mxstep=0, mxhnil=0, mxordn=12, mxords=5, printmessg=0)\n",
      "    Integrate a system of ordinary differential equations.\n",
      "    \n",
      "    Solve a system of ordinary differential equations using lsoda from the\n",
      "    FORTRAN library odepack.\n",
      "    \n",
      "    Solves the initial value problem for stiff or non-stiff systems\n",
      "    of first order ode-s::\n",
      "    \n",
      "        dy/dt = func(y, t0, ...)\n",
      "    \n",
      "    where y can be a vector.\n",
      "    \n",
      "    *Note*: The first two arguments of ``func(y, t0, ...)`` are in the\n",
      "    opposite order of the arguments in the system definition function used\n",
      "    by the `scipy.integrate.ode` class.\n",
      "    \n",
      "    Parameters\n",
      "    ----------\n",
      "    func : callable(y, t0, ...)\n",
      "        Computes the derivative of y at t0.\n",
      "    y0 : array\n",
      "        Initial condition on y (can be a vector).\n",
      "    t : array\n",
      "        A sequence of time points for which to solve for y.  The initial\n",
      "        value point should be the first element of this sequence.\n",
      "    args : tuple, optional\n",
      "        Extra arguments to pass to function.\n",
      "    Dfun : callable(y, t0, ...)\n",
      "        Gradient (Jacobian) of `func`.\n",
      "    col_deriv : bool, optional\n",
      "        True if `Dfun` defines derivatives down columns (faster),\n",
      "        otherwise `Dfun` should define derivatives across rows.\n",
      "    full_output : bool, optional\n",
      "        True if to return a dictionary of optional outputs as the second output\n",
      "    printmessg : bool, optional\n",
      "        Whether to print the convergence message\n",
      "    \n",
      "    Returns\n",
      "    -------\n",
      "    y : array, shape (len(t), len(y0))\n",
      "        Array containing the value of y for each desired time in t,\n",
      "        with the initial value `y0` in the first row.\n",
      "    infodict : dict, only returned if full_output == True\n",
      "        Dictionary containing additional output information\n",
      "    \n",
      "        =======  ============================================================\n",
      "        key      meaning\n",
      "        =======  ============================================================\n",
      "        'hu'     vector of step sizes successfully used for each time step.\n",
      "        'tcur'   vector with the value of t reached for each time step.\n",
      "                 (will always be at least as large as the input times).\n",
      "        'tolsf'  vector of tolerance scale factors, greater than 1.0,\n",
      "                 computed when a request for too much accuracy was detected.\n",
      "        'tsw'    value of t at the time of the last method switch\n",
      "                 (given for each time step)\n",
      "        'nst'    cumulative number of time steps\n",
      "        'nfe'    cumulative number of function evaluations for each time step\n",
      "        'nje'    cumulative number of jacobian evaluations for each time step\n",
      "        'nqu'    a vector of method orders for each successful step.\n",
      "        'imxer'  index of the component of largest magnitude in the\n",
      "                 weighted local error vector (e / ewt) on an error return, -1\n",
      "                 otherwise.\n",
      "        'lenrw'  the length of the double work array required.\n",
      "        'leniw'  the length of integer work array required.\n",
      "        'mused'  a vector of method indicators for each successful time step:\n",
      "                 1: adams (nonstiff), 2: bdf (stiff)\n",
      "        =======  ============================================================\n",
      "    \n",
      "    Other Parameters\n",
      "    ----------------\n",
      "    ml, mu : int, optional\n",
      "        If either of these are not None or non-negative, then the\n",
      "        Jacobian is assumed to be banded.  These give the number of\n",
      "        lower and upper non-zero diagonals in this banded matrix.\n",
      "        For the banded case, `Dfun` should return a matrix whose\n",
      "        rows contain the non-zero bands (starting with the lowest diagonal).\n",
      "        Thus, the return matrix `jac` from `Dfun` should have shape\n",
      "        ``(ml + mu + 1, len(y0))`` when ``ml >=0`` or ``mu >=0``.\n",
      "        The data in `jac` must be stored such that ``jac[i - j + mu, j]``\n",
      "        holds the derivative of the `i`th equation with respect to the `j`th\n",
      "        state variable.  If `col_deriv` is True, the transpose of this\n",
      "        `jac` must be returned.\n",
      "    rtol, atol : float, optional\n",
      "        The input parameters `rtol` and `atol` determine the error\n",
      "        control performed by the solver.  The solver will control the\n",
      "        vector, e, of estimated local errors in y, according to an\n",
      "        inequality of the form ``max-norm of (e / ewt) <= 1``,\n",
      "        where ewt is a vector of positive error weights computed as\n",
      "        ``ewt = rtol * abs(y) + atol``.\n",
      "        rtol and atol can be either vectors the same length as y or scalars.\n",
      "        Defaults to 1.49012e-8.\n",
      "    tcrit : ndarray, optional\n",
      "        Vector of critical points (e.g. singularities) where integration\n",
      "        care should be taken.\n",
      "    h0 : float, (0: solver-determined), optional\n",
      "        The step size to be attempted on the first step.\n",
      "    hmax : float, (0: solver-determined), optional\n",
      "        The maximum absolute step size allowed.\n",
      "    hmin : float, (0: solver-determined), optional\n",
      "        The minimum absolute step size allowed.\n",
      "    ixpr : bool, optional\n",
      "        Whether to generate extra printing at method switches.\n",
      "    mxstep : int, (0: solver-determined), optional\n",
      "        Maximum number of (internally defined) steps allowed for each\n",
      "        integration point in t.\n",
      "    mxhnil : int, (0: solver-determined), optional\n",
      "        Maximum number of messages printed.\n",
      "    mxordn : int, (0: solver-determined), optional\n",
      "        Maximum order to be allowed for the non-stiff (Adams) method.\n",
      "    mxords : int, (0: solver-determined), optional\n",
      "        Maximum order to be allowed for the stiff (BDF) method.\n",
      "    \n",
      "    See Also\n",
      "    --------\n",
      "    ode : a more object-oriented integrator based on VODE.\n",
      "    quad : for finding the area under a curve.\n",
      "    \n",
      "    Examples\n",
      "    --------\n",
      "    The second order differential equation for the angle `theta` of a\n",
      "    pendulum acted on by gravity with friction can be written::\n",
      "    \n",
      "        theta''(t) + b*theta'(t) + c*sin(theta(t)) = 0\n",
      "    \n",
      "    where `b` and `c` are positive constants, and a prime (') denotes a\n",
      "    derivative.  To solve this equation with `odeint`, we must first convert\n",
      "    it to a system of first order equations.  By defining the angular\n",
      "    velocity ``omega(t) = theta'(t)``, we obtain the system::\n",
      "    \n",
      "        theta'(t) = omega(t)\n",
      "        omega'(t) = -b*omega(t) - c*sin(theta(t))\n",
      "    \n",
      "    Let `y` be the vector [`theta`, `omega`].  We implement this system\n",
      "    in python as:\n",
      "    \n",
      "    >>> def pend(y, t, b, c):\n",
      "    ...     theta, omega = y\n",
      "    ...     dydt = [omega, -b*omega - c*np.sin(theta)]\n",
      "    ...     return dydt\n",
      "    ...\n",
      "    \n",
      "    We assume the constants are `b` = 0.25 and `c` = 5.0:\n",
      "    \n",
      "    >>> b = 0.25\n",
      "    >>> c = 5.0\n",
      "    \n",
      "    For initial conditions, we assume the pendulum is nearly vertical\n",
      "    with `theta(0)` = `pi` - 0.1, and it initially at rest, so\n",
      "    `omega(0)` = 0.  Then the vector of initial conditions is\n",
      "    \n",
      "    >>> y0 = [np.pi - 0.1, 0.0]\n",
      "    \n",
      "    We generate a solution 101 evenly spaced samples in the interval\n",
      "    0 <= `t` <= 10.  So our array of times is:\n",
      "    \n",
      "    >>> t = np.linspace(0, 10, 101)\n",
      "    \n",
      "    Call `odeint` to generate the solution.  To pass the parameters\n",
      "    `b` and `c` to `pend`, we give them to `odeint` using the `args`\n",
      "    argument.\n",
      "    \n",
      "    >>> from scipy.integrate import odeint\n",
      "    >>> sol = odeint(pend, y0, t, args=(b, c))\n",
      "    \n",
      "    The solution is an array with shape (101, 2).  The first column\n",
      "    is `theta(t)`, and the second is `omega(t)`.  The following code\n",
      "    plots both components.\n",
      "    \n",
      "    >>> import matplotlib.pyplot as plt\n",
      "    >>> plt.plot(t, sol[:, 0], 'b', label='theta(t)')\n",
      "    >>> plt.plot(t, sol[:, 1], 'g', label='omega(t)')\n",
      "    >>> plt.legend(loc='best')\n",
      "    >>> plt.xlabel('t')\n",
      "    >>> plt.grid()\n",
      "    >>> plt.show()\n",
      "\n"
     ]
    }
   ],
   "source": [
    "help(sci_integrate.odeint)"
   ]
  },
  {
   "cell_type": "code",
   "execution_count": null,
   "metadata": {
    "collapsed": true
   },
   "outputs": [],
   "source": []
  }
 ],
 "metadata": {
  "kernelspec": {
   "display_name": "Python 2",
   "language": "python",
   "name": "python2"
  },
  "language_info": {
   "codemirror_mode": {
    "name": "ipython",
    "version": 2
   },
   "file_extension": ".py",
   "mimetype": "text/x-python",
   "name": "python",
   "nbconvert_exporter": "python",
   "pygments_lexer": "ipython2",
   "version": "2.7.13"
  }
 },
 "nbformat": 4,
 "nbformat_minor": 2
}
