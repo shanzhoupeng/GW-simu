{
 "cells": [
  {
   "cell_type": "code",
   "execution_count": 1,
   "metadata": {
    "collapsed": true
   },
   "outputs": [],
   "source": [
    "#coding:utf-8\n",
    "import numpy as np\n",
    "import scipy.constants as sciconsts\n",
    "import scipy.fftpack as fft\n",
    "import scipy.interpolate as sci_interpolate\n",
    "import scipy.integrate as sci_integrate\n",
    "import time\n",
    "import sys\n",
    "from multiprocessing import Process,Pool\n",
    "import scipy.optimize as sciop\n",
    "#version 1:\n",
    "'''parameters'''\n",
    "def chirp_mass(m1,m2):\n",
    "    return np.power(m1*m2,0.6)/(np.power(m1+m2,0.2))\n",
    "def solvem(mc,smr):\n",
    "    a=mc/np.power(smr,0.6)\n",
    "    b=smr*np.power(a,2.0)\n",
    "    m1=(a+np.sqrt(np.power(a,2.0)-4.0*b))/2.0\n",
    "    m2=(a-np.sqrt(np.power(a,2.0)-4.0*b))/2.0\n",
    "    return np.array((m1,m2))\n",
    "def sym_mass_ratio(m1,m2):\n",
    "    return m1*m2/(np.power(m1+m2,2.0))\n",
    "'''lisa noise curve in rpsd unit N2A5:laserpower 2w,40cm telescope,armlength 5e6 km'''\n",
    "def S_gal_N2A5(f):\n",
    "    if f>=1.0e-5 and f<1.0e-3:\n",
    "        return np.power(f,-2.3)*np.power(10,-44.62)*20.0/3.0\n",
    "    if f>=1.0e-3 and f<np.power(10,-2.7):\n",
    "        return np.power(f,-4.4)*np.power(10,-50.92)*20.0/3.0\n",
    "    if f>=np.power(10,-2.7) and f<np.power(10,-2.4):\n",
    "        return np.power(f,-8.8)*np.power(10,-62.8)*20.0/3.0\n",
    "    if f>=np.power(10,-2.4) and f<=0.01:\n",
    "        return np.power(f,-20.0)*np.power(10,-89.68)*20.0/3.0\n",
    "    if f>0.01 or f<1.0e-5:\n",
    "        return 0\n",
    "def S_n_lisa(f):\n",
    "    m1=5.0e9\n",
    "    m2=sciconsts.c*0.41/m1/2.0\n",
    "    return 20.0/3.0*(1+np.power(f/m2,2.0))*(4.0*(9.0e-30/np.power(2*sciconsts.pi*f,4.0)*(1+1.0e-4/f))+2.96e-23+2.65e-23)/np.power(m1,2.0)+S_gal_N2A5(f)\n",
    "\n",
    "\n",
    "'''vac model(2 mass parameters)'''\n",
    "def df_dtvac2(f,m_1,m_2):\n",
    "    m_c=chirp_mass(m_1,m_2)\n",
    "    M=m_1+m_2\n",
    "    mu=m_1*m_2/(m_1+m_2)\n",
    "    a1=743.0/336+11.0*mu/4/M\n",
    "    x=sciconsts.pi*M*f\n",
    "    return 96.0/5*np.power(sciconsts.pi,8.0/3.0)*np.power(m_c,5.0/3.0)*np.power(f,11.0/3.0)*(1-a1*np.power(x,2.0/3.0)+4*sciconsts.pi*x)\n",
    "def t_fvac2(f,m_1,m_2,figas):\n",
    "    return sci_integrate.quad(lambda f:1.0/df_dtvac2(f,m_1,m_2),figas,f,limit=1500)[0]\n",
    "'''reverse function :t(f) to f(t) to r(t)'''\n",
    "def f_rvac(r,m):\n",
    "    m_1=m[0]\n",
    "    m_2=m[1]\n",
    "    fi=m[2]\n",
    "    M=m_1+m_2\n",
    "    mu=m_1*m_2/(m_1+m_2)\n",
    "    a=np.sqrt(M)\n",
    "    b=(-1.5+mu*0.5/M)\n",
    "    return 1.0/sciconsts.pi*(a/np.power(r,1.5)+b/np.power(r,2.5)*np.power(M,1.5))-fi\n",
    "def f_rvacstart(fi,m_1,m_2):\n",
    "    M=m_1+m_2\n",
    "    return np.power(np.power(M,0.5)/(sciconsts.pi*fi),2.0/3.0)\n",
    "\n",
    "'''my T model(considering gas (c=G=1 unit))'''\n",
    "def k_1cal(m_1,m_2):\n",
    "    return 64.0*m_1*m_2*(m_1+m_2)/5.0\n",
    "def t_0cal(m_1,m_2,t_gas,a_0):\n",
    "    return t_gas*0.25*np.log(k_1cal(m_1,m_2)+np.power(a_0,4.0)/t_gas)\n",
    "def acalgas(t,k_1,t_gas,t_0):\n",
    "    return np.power((np.exp(4.0*(t_0-t)/t_gas)-k_1)*t_gas,0.25)\n",
    "def freq_tgas(t,m_1,m_2,t_gas,t_0):\n",
    "    k_1=k_1cal(m_1,m_2)\n",
    "    a_ft=acalgas(t,k_1,t_gas,t_0)\n",
    "    return 1.0/sciconsts.pi*np.sqrt(m_1+m_2)*np.power(a_ft,-1.5)\n",
    "def phi_tgas(t,m_1,m_2,t_gas,t_0):\n",
    "    return sci_integrate.quad(lambda x:2*sciconsts.pi*freq_tgas(x,m_1,m_2,t_gas,t_0),0,t)[0]\n",
    "def hgas(t,m_1,m_2,t_gas,t_0,phi):\n",
    "    k_1=k_1cal(m_1,m_2)\n",
    "    return m_1*m_2/acalgas(t,k_1,t_gas,t_0)*np.cos(phi)"
   ]
  },
  {
   "cell_type": "code",
   "execution_count": 3,
   "metadata": {},
   "outputs": [
    {
     "data": {
      "text/plain": [
       "'mass ratio=0.7 smr=0.24221453287197228'"
      ]
     },
     "execution_count": 3,
     "metadata": {},
     "output_type": "execute_result"
    }
   ],
   "source": [
    "#consts setting \n",
    "sivalue=0.25\n",
    "#sivalue=t_scale/years\n",
    "m_sun=1.9891e30*sciconsts.G/np.power(sciconsts.c,3.0)\n",
    "years=365*24*3600.0\n",
    "mpc=3.261*years*1e6\n",
    "t_scale=years*sivalue\n",
    "#gas cal\n",
    "m_cg=chirp_mass(10*m_sun,10*m_sun)\n",
    "m_1g=solvem(m_cg,0.24221453287197228)[0]\n",
    "m_2g=solvem(m_cg,0.24221453287197228)[1]\n",
    "'''mass ratio=0.7 smr=0.24221453287197228'''"
   ]
  },
  {
   "cell_type": "code",
   "execution_count": null,
   "metadata": {
    "collapsed": true
   },
   "outputs": [],
   "source": []
  }
 ],
 "metadata": {
  "kernelspec": {
   "display_name": "Python 2",
   "language": "python",
   "name": "python2"
  },
  "language_info": {
   "codemirror_mode": {
    "name": "ipython",
    "version": 2
   },
   "file_extension": ".py",
   "mimetype": "text/x-python",
   "name": "python",
   "nbconvert_exporter": "python",
   "pygments_lexer": "ipython2",
   "version": "2.7.13"
  }
 },
 "nbformat": 4,
 "nbformat_minor": 2
}
