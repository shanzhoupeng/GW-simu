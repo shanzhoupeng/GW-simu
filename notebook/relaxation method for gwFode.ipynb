{
 "cells": [
  {
   "cell_type": "code",
   "execution_count": 51,
   "metadata": {
    "collapsed": true
   },
   "outputs": [],
   "source": [
    "import numpy as np\n",
    "import scipy.constants as sciconsts\n",
    "import scipy.fftpack as fft\n",
    "import scipy.interpolate as sci_interpolate\n",
    "import matplotlib.pyplot as plt\n",
    "import scipy.integrate as sci_integrate\n",
    "import time\n",
    "import sys\n",
    "import scipy.linalg as scilin"
   ]
  },
  {
   "cell_type": "code",
   "execution_count": 2,
   "metadata": {
    "collapsed": true
   },
   "outputs": [],
   "source": [
    "'''parameters'''\n",
    "def chirp_mass(m1,m2):\n",
    "    return np.power(m1*m2,0.6)/(np.power(m1+m2,0.2))\n",
    "def solvem(mc,smr):\n",
    "    a=mc/np.power(smr,0.6)\n",
    "    b=smr*np.power(a,2.0)\n",
    "    m1=(a+np.sqrt(np.power(a,2.0)-4.0*b))/2.0\n",
    "    m2=(a-np.sqrt(np.power(a,2.0)-4.0*b))/2.0\n",
    "    return np.array((m1,m2))\n",
    "def sym_mass_ratio(m1,m2):\n",
    "    return m1*m2/(np.power(m1+m2,2.0))\n",
    "'''lisa noise curve in rpsd unit N2A5:laserpower 2w,40cm telescope,armlength 5e6 km'''\n",
    "def S_gal_N2A5(f):\n",
    "    if f>=1.0e-5 and f<1.0e-3:\n",
    "        return np.power(f,-2.3)*np.power(10,-44.62)*20.0/3.0\n",
    "    if f>=1.0e-3 and f<np.power(10,-2.7):\n",
    "        return np.power(f,-4.4)*np.power(10,-50.92)*20.0/3.0\n",
    "    if f>=np.power(10,-2.7) and f<np.power(10,-2.4):\n",
    "        return np.power(f,-8.8)*np.power(10,-62.8)*20.0/3.0\n",
    "    if f>=np.power(10,-2.4) and f<=0.01:\n",
    "        return np.power(f,-20.0)*np.power(10,-89.68)*20.0/3.0\n",
    "    if f>0.01 or f<1.0e-5:\n",
    "        return 0\n",
    "def S_n_lisa(f):\n",
    "    m1=5.0e9\n",
    "    m2=sciconsts.c*0.41/m1/2.0\n",
    "    return 20.0/3.0*(1+np.power(f/m2,2.0))*(4.0*(9.0e-30/np.power(2*sciconsts.pi*f,4.0)*(1+1.0e-4/f))+2.96e-23+2.65e-23)/np.power(m1,2.0)+S_gal_N2A5(f)\n",
    "\n",
    "\n",
    "# In[34]:\n",
    "\n",
    "'''vac model(2 mass parameters)'''\n",
    "def df_dtvac2(f,m_1,m_2):\n",
    "    m_c=chirp_mass(m_1,m_2)\n",
    "    M=m_1+m_2\n",
    "    mu=(m_1+m_2)/m_1/m_2\n",
    "    a1=743.0/336+11.0*mu/4/M\n",
    "    a2=sciconsts.G/np.power(sciconsts.c,3.0)\n",
    "    x=sciconsts.pi*M*f*a2\n",
    "    return np.power(a2,5.0/3.0)*96.0/5*np.power(sciconsts.pi,8.0/3.0)*np.power(m_c,5.0/3.0)*np.power(f,11.0/3.0)*(1-a1*np.power(x,2.0/3.0)+4*sciconsts.pi*x)\n",
    "def t_fvac2(f,m_1,m_2,figas):\n",
    "    return sci_integrate.quad(lambda f:1.0/df_dtvac2(f,m_1,m_2),figas,f,limit=1500)[0]\n",
    "'''reverse function :t(f) to f(t) to r(t)'''\n",
    "def f_rvac(r,m):\n",
    "    m_1=m[0]\n",
    "    m_2=m[1]\n",
    "    fi=m[2]\n",
    "    M=m_1+m_2\n",
    "    mu=(m_1+m_2)/m_1/m_2\n",
    "    a=np.sqrt(M)\n",
    "    b=(-1.5+mu*0.5/M)*sciconsts.G/np.power(sciconsts.c,2.0)\n",
    "    return np.sqrt(sciconsts.G)/sciconsts.pi*(a/np.power(r,1.5)+b/np.power(r,2.5)*np.power(M,1.5))-fi\n",
    "def f_rvacstart(fi,m_1,m_2):\n",
    "    M=m_1+m_2\n",
    "    return np.power(np.power(sciconsts.G*M,0.5)/(sciconsts.pi*fi),2.0/3.0)\n",
    "\n",
    "\n",
    "# In[35]:\n",
    "\n",
    "'''my Tmodel(considering gas (SI))'''\n",
    "def k_1cal(m_1,m_2):\n",
    "    return 64.0*np.power(sciconsts.G,3.0)*m_1*m_2*(m_1+m_2)/5.0/np.power(sciconsts.c,5.0)\n",
    "def t_0cal(m_1,m_2,t_gas,a_0):\n",
    "    return t_gas*0.25*np.log(k_1cal(m_1,m_2)+np.power(a_0,4.0)/t_gas)\n",
    "def acalgas(t,k_1,t_gas,t_0):\n",
    "    return np.power((np.exp(4.0*(t_0-t)/t_gas)-k_1)*t_gas,0.25)\n",
    "def freq_tgas(t,m_1,m_2,t_gas,t_0):\n",
    "    k_1=k_1cal(m_1,m_2)\n",
    "    a_ft=acalgas(t,k_1,t_gas,t_0)\n",
    "    return 1.0/sciconsts.pi*np.sqrt((m_1+m_2)*sciconsts.G)*np.power(a_ft,-1.5)\n",
    "def phi_tgas(t,m_1,m_2,t_gas,t_0):\n",
    "    return sci_integrate.quad(lambda x:2*sciconsts.pi*freq_tgas(x,m_1,m_2,t_gas,t_0),0,t)[0]\n",
    "def hgas(t,m_1,m_2,t_gas,t_0,phi):\n",
    "    k_1=k_1cal(m_1,m_2)\n",
    "    return m_1*m_2/acalgas(t,k_1,t_gas,t_0)*np.cos(phi)/1e70\n",
    "\n",
    "\n",
    "# In[36]:\n",
    "\n",
    "#consts setting\n",
    "m_sun=1.9891e30\n",
    "years=365*24*3600.0\n",
    "mpc=3.261*sciconsts.light_year\n",
    "t_scale=4*years\n",
    "\n",
    "\n",
    "# In[37]:\n",
    "\n",
    "#gas cal\n",
    "m_cg=chirp_mass(10*m_sun,10*m_sun)\n",
    "m_1g=solvem(m_cg,0.24221453287197228)[0]\n",
    "m_2g=solvem(m_cg,0.24221453287197228)[1]\n",
    "'''mass ratio=0.7 smr=0.24221453287197228'''\n",
    "k_1g=k_1cal(m_1g,m_2g)\n",
    "t_gas=1000.0*years\n",
    "a_0=3.0e8\n",
    "t_0g=t_0cal(m_1g,m_2g,t_gas,a_0)\n",
    "\n",
    "\n",
    "# In[38]:\n",
    "\n",
    "#(t_scale*0.01*4,N/0.01/t_scale,t_scale) \n",
    "figas=freq_tgas(0,m_1g,m_2g,t_gas,t_0g)\n",
    "ffgas=freq_tgas(t_scale,m_1g,m_2g,t_gas,t_0g)\n",
    "Ng=10000000\n",
    "t=np.linspace(0,t_scale,num=Ng)\n",
    "#tdomain interp1d\n",
    "n1=10000\n",
    "tphi=np.linspace(0,t_scale,n1)\n",
    "i=0\n",
    "workphi=np.zeros(n1)\n",
    "while i<n1:\n",
    "    workphi[i]=phi_tgas(tphi[i],m_1g,m_2g,t_gas,t_0g)\n",
    "    i=i+1\n",
    "phimo=sci_interpolate.interp1d(tphi,workphi)\n",
    "#tdomain point cal\n",
    "Tg=t_scale/Ng\n",
    "hfgas=hgas(t,m_1g,m_2g,t_gas,t_0g,phimo(t))\n",
    "\n",
    "\n",
    "# In[39]:\n",
    "\n",
    "#fft\n",
    "xs=np.linspace(0,1/2.0/Tg,num=Ng//2)\n",
    "hfgas1=fft.fft(hfgas)\n",
    "hfgas_abs=abs(hfgas1)\n",
    "hfgas_angle=np.arctan(hfgas1.imag/hfgas1.real)[0:Ng//2]\n",
    "hfgas2=2.0/Ng*hfgas_abs[0:Ng//2]\n",
    "hs=sci_interpolate.interp1d(xs,hfgas2)\n",
    "anglegas=sci_interpolate.interp1d(xs,hfgas_angle)\n",
    "A=sci_integrate.quad(lambda x:4*np.power(hs(x),2.0)/S_n_lisa(x),figas,ffgas,limit=1500,epsabs=0.005)\n",
    "Aval=np.sqrt(A[0])\n",
    "Aerr=0.5/Aval*A[1]\n"
   ]
  },
  {
   "cell_type": "code",
   "execution_count": 54,
   "metadata": {},
   "outputs": [
    {
     "data": {
      "text/plain": [
       "'\\xe6\\xa0\\xbc\\xe7\\x82\\xb9\\xe6\\x95\\xb0\\xe7\\x9b\\xae \\xe8\\xbf\\xad\\xe4\\xbb\\xa3\\xe7\\xbb\\x88\\xe7\\x82\\xb9\\xe8\\xaf\\xaf\\xe5\\xb7\\xae\\xe5\\x80\\xbc \\xe8\\xbf\\xad\\xe4\\xbb\\xa3\\xe6\\x9c\\x80\\xe5\\xa4\\xa7\\xe6\\xac\\xa1\\xe6\\x95\\xb0'"
      ]
     },
     "execution_count": 54,
     "metadata": {},
     "output_type": "execute_result"
    }
   ],
   "source": [
    "M=10000\n",
    "err=0\n",
    "times=2\n",
    "'''格点数目 迭代终点误差值 迭代最大次数'''"
   ]
  },
  {
   "cell_type": "code",
   "execution_count": 8,
   "metadata": {},
   "outputs": [],
   "source": [
    "t=np.linspace(0,t_scale,M)"
   ]
  },
  {
   "cell_type": "code",
   "execution_count": 42,
   "metadata": {},
   "outputs": [],
   "source": [
    "f_end=freq_tgas(t,m_1g,m_2g,t_gas,t_0g)"
   ]
  },
  {
   "cell_type": "code",
   "execution_count": 16,
   "metadata": {
    "collapsed": true
   },
   "outputs": [],
   "source": [
    "m1v=37.1*m_sun\n",
    "m2v=37.1*m_sun"
   ]
  },
  {
   "cell_type": "code",
   "execution_count": 18,
   "metadata": {},
   "outputs": [],
   "source": [
    "n1=10000\n",
    "fs=np.linspace(figas,ffgas,n1)\n",
    "ts=np.zeros(n1)\n",
    "i=0\n",
    "while i<n1:\n",
    "    ts[i]=t_fvac2(fs[i],m1v,m2v,figas)\n",
    "    i=i+1\n",
    "#t_fvac=sci_interpolate.interp1d(ts,fs)\n",
    "ftv=sci_interpolate.interp1d(ts,fs)"
   ]
  },
  {
   "cell_type": "code",
   "execution_count": 56,
   "metadata": {},
   "outputs": [],
   "source": [
    "f_i=ftv(t)\n",
    "E=np.zeros((times,M))\n",
    "m=np.zeros((times,2))\n",
    "m[0]=[m1v+m2v,m1v*m2v/(m1v+m2v)]\n",
    "E[0]=f_end-f_i"
   ]
  },
  {
   "cell_type": "code",
   "execution_count": 38,
   "metadata": {},
   "outputs": [],
   "source": [
    "i=0\n",
    "E[i+1]=E[i]+"
   ]
  },
  {
   "cell_type": "code",
   "execution_count": 43,
   "metadata": {},
   "outputs": [],
   "source": []
  },
  {
   "cell_type": "code",
   "execution_count": 57,
   "metadata": {},
   "outputs": [
    {
     "data": {
      "text/plain": [
       "array([  0.00000000e+00,   4.22720747e-10,   8.45440177e-10, ...,\n",
       "         4.14837385e-06,   4.14878091e-06,   4.14918796e-06])"
      ]
     },
     "execution_count": 57,
     "metadata": {},
     "output_type": "execute_result"
    }
   ],
   "source": [
    "E[0]"
   ]
  },
  {
   "cell_type": "code",
   "execution_count": null,
   "metadata": {
    "collapsed": true
   },
   "outputs": [],
   "source": []
  }
 ],
 "metadata": {
  "kernelspec": {
   "display_name": "Python 2",
   "language": "python",
   "name": "python2"
  },
  "language_info": {
   "codemirror_mode": {
    "name": "ipython",
    "version": 2
   },
   "file_extension": ".py",
   "mimetype": "text/x-python",
   "name": "python",
   "nbconvert_exporter": "python",
   "pygments_lexer": "ipython2",
   "version": "2.7.13"
  }
 },
 "nbformat": 4,
 "nbformat_minor": 2
}
