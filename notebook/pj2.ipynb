{
 "cells": [
  {
   "cell_type": "code",
   "execution_count": 12,
   "metadata": {
    "collapsed": true
   },
   "outputs": [],
   "source": [
    "import numpy as np\n",
    "import matplotlib.pyplot as plt\n",
    "import scipy.constants as sciconsts\n",
    "import scipy.fftpack as fft\n",
    "import scipy.interpolate as sci_interpolate"
   ]
  },
  {
   "cell_type": "code",
   "execution_count": 92,
   "metadata": {
    "collapsed": true
   },
   "outputs": [],
   "source": [
    "''' caozhoujian function taylorT2'''\n",
    "def chirp_mass(m1,m2):\n",
    "    return np.power(m1*m2,0.6)/(np.power(m1+m2,0.2))\n",
    "def sym_mass_ratio(m1,m2):\n",
    "    return m1*m2/(np.power(m1+m2,2.0))\n",
    "def F_cross(theta,psi,phi):\n",
    "    return 0.5*(1+np.power(np.cos(theta),2))*np.cos(2*phi)*np.sin(2*psi)-np.cos(theta)*np.sin(2*phi)*np.cos(2*psi)\n",
    "def F_plus(theta,psi,phi):\n",
    "    return -0.5*(1+np.power(np.cos(theta),2))*np.cos(2.0*phi)*np.cos(2*psi)-np.cos(theta)*np.sin(2*phi)*np.sin(2*psi)\n",
    "def D_eff(D,theta,psi,phi,iota):\n",
    "    return D/(np.sqrt(np.power(F_cross(theta,psi,phi),2.0)*np.power(np.cos(iota),2.0)+np.power(F_plus(theta,psi,phi),2)*0.25*(1+np.power(np.cos(iota),2))))\n",
    "def Psi(f,m_c,smr,D,theta,psi,phi,iota,t_c,phi_c,v_lso=1/np.sqrt(6.0)):\n",
    "    Mcal=m_c/np.power(smr,0.6)\n",
    "    vcal=np.power(sciconsts.pi*M*f,1/3.0)\n",
    "    return 2*sciconsts.pi*f*t_c-phi_c-sciconsts.pi*0.25+3.0/(128.0*smr*np.power(v,5.0))*(1+20/9.0*(743/336.0+11/4.0*smr)*np.power(v,2.0)-16.0*sciconsts.pi*np.power(v,3.0)+10.0*(3058673.0/1016064.0+5429/1008.0*smr+617.0/144.0*np.power(smr,2.0))*np.power(v,4.0)+sciconsts.pi*(38645.0/756.0-65/9.0*smr)*(1+3*np.log(v/v_lso))*np.power(v,5.0)+(11583231236531.0/4694215680.0+640.0/3.0*np.power(sciconsts.pi,2)-6848.0/21.0*0.57721566490153286060651209-6848/21.0*np.log(4.0*v)+(-15737765635.0/3048192+2255.0*np.power(sciconsts.pi,2.0)/12.0)*smr+76055.0/1728*np.power(smr,2.0)-127825/1296*np.power(smr,3.0))*np.power(v,6.0)+sciconsts.pi*(77096675.0/254016.0+378515.0/1512.0*smr-74045.0/756.0*np.power(smr,2.0))*np.power(v,7.0))\n",
    "def h(f,m_c,smr,D,theta,psi,phi,iota,t_c,phi_c):\n",
    "    return np.power(m_c,5.0/6.0)/D_eff(D,theta,psi,phi,iota)*np.power(f,-7.0/6.0)*np.exp(j*Psi(f,m_c,smr,D,theta,psi,phi,iota,t_c,phi_c))\n",
    "\n",
    "'''MY FUNCTION PROJECT1'''\n",
    "def k_1cal(m_1,m_2):\n",
    "    return 64.0*np.power(sciconsts.G,3.0)*m_1*m_2*(m_1+m_2)/5.0/np.power(sciconsts.c,5.0)\n",
    "def t_0cal(m_1,m_2,t_gas,a_0):\n",
    "    return t_gas*0.25*np.log(k_1cal(m_1,m_2)+np.power(a_0,4.0)/t_gas)\n",
    "def acal(t,k_1,t_gas,t_0):\n",
    "    return np.power((np.exp(4.0*(t_0-t)/t_gas)-k_1)*t_gas,0.25)\n",
    "\n",
    "def D1acal(t,k_1,t_gas):\n",
    "    a1=acal(t,k_1,t_gas,t_0)\n",
    "    return -k_1*np.power(a1,-3.0)-a1/t_gas\n",
    "def D2acal(t,k_1,t_gas):\n",
    "    a2=acal(t,k_1,t_gas,t_0)\n",
    "    D1a2=acal(t,k_1,t_gas,t_0)\n",
    "    return (3.0*k_1/np.power(a2,4.0)+1/t_gas)*D1a2\n",
    "def Omegacal(t,k_1,t_gas,t_0,m_1,m_2):\n",
    "    return np.power(sciconsts.G*(m_1+m_2)/np.power(acal(t,k_1,t_gas,t_0),3.0),0.5)\n",
    "def D1Omegacal(t,k_1,t_gas,t_0,m_1,m_2):\n",
    "    a3=acal(t,k_1,t_gas,t_0)\n",
    "    D1a3=D1acal(t,k_1,t_gas)\n",
    "    o1=Omegacal(t,k_1,t_gas,t_0,m_1,m_2)\n",
    "    return -1.5*D1a3/a3*o1\n",
    "def D2Omegacal(t,k_1,t_gas,t_0,m_1,m_2):\n",
    "    a4=acal(t,k_1,t_gas,t_0)\n",
    "    D1a4=D1acal(t,k_1,t_gas)\n",
    "    D2a4=D2acal(t,k_1,t_gas)\n",
    "    o2=Omegacal(t,k_1,t_gas,t_0,m_1,m_2)\n",
    "    return 15.0/4.0*np.power(D1a4/a4,2.0)-1.5*D2a4/a4*o2\n",
    "#reduced D^2(q_ij)\n",
    "#D^2(q_xx-q_yy)    1\n",
    "#D^2(q_xx+q_yy)    2\n",
    "#D^2q_xy           3\n",
    "#D^2q_zz=-D^2(q_xx+q_yy) 4\n",
    "'''def helpnumber(n,t,r,k_1,t_gas,t_0,m_1,m_2):\n",
    "    mu5=m_1*m_2/(m_1+m_2)\n",
    "    a5=acal(t,k_1,t_gas,t_0)\n",
    "    D1a5=D1Omegacal(t,k_1,t_gas,t_0,m_1,m_2)\n",
    "    D2a5=D2Omegacal(t,k_1,t_gas,t_0,m_1,m_2)\n",
    "    o5=Omegacal(t,k_1,t_gas,t_0,m_1,m_2)\n",
    "    D1o5=D1Omegacal(t,k_1,t_gas,t_0,m_1,m_2)\n",
    "    D2o5=D2Omegacal(t,k_1,t_gas,t_0,m_1,m_2)\n",
    "    if n==1:\n",
    "        return mu5*(-4.0*np.power(a5,2.0)*np.cos(2.0*t*o5)*np.power(o5,2.0)-8.0*a5*o5*np.sin(2.0*t*o5)*D1a5+2.0*np.cos(2.0*t*o5)*np.power(D1a5,2.0)-8.0*t*np.power(a5,2.0)*np.cos(2.0*t*o5)*o5*D1o5-4.0*np.power(a5,2.0)*np.sin(2.0*t*o5)*D1o5-8.0*t*a5*np.sin(2.0*t*o5)*D1o5*D1a5+4.0*np.power(t*a5,2.0)*np.cos(2.0*t*o5)*np.power(D1o5,2.0)+2.0*a5*np.cos(2.0*t*o5)*D2a5-2.0*t*np.power(a5,2.0)*np.sin(2.0*t*o5)*D2o5)\n",
    "    elif n==3:\n",
    "        return mu5*(-4.0*np.power(a5,2.0)*np.sin(2.0*t*o5)*np.power(o5,2.0)+8.0*a5*o5*np.cos(2.0*t*o5)*D1a5+2.0*np.sin(2.0*t*o5)*np.power(D1a5,2.0)-8.0*t*np.power(a5,2.0)*np.sin(2.0*t*o5)*o5*D1o5+4.0*np.power(a5,2.0)*np.cos(2.0*t*o5)*D1o5+8.0*t*a5*np.cos(2.0*t*o5)*D1o5*D1a5+4.0*np.power(t*a5,2.0)*np.sin(2.0*t*o5)*np.power(D1o5,2.0)+2.0*a5*np.sin(2.0*t*o5)*D2a5+2.0*t*np.power(a5,2.0)*np.cos(2.0*t*o5)*D2o5)\n",
    "    elif n==2:\n",
    "        return 2.0/3.0*mu5(D2a5*a5+np.power(D1a5,2.0))\n",
    "    elif n==4:\n",
    "        return -2.0/3.0*mu5(D2a5*a5+np.power(D1a5,2.0))''' \n",
    "\n",
    "'''all in SI unit'''\n",
    "def h_plus(t,r,theta,k_1,t_gas,t_0,m_1,m_2):\n",
    "    mu5=m_1*m_2/(m_1+m_2)\n",
    "    a5=acal(t,k_1,t_gas,t_0)\n",
    "    D1a5=D1Omegacal(t,k_1,t_gas,t_0,m_1,m_2)\n",
    "    D2a5=D2Omegacal(t,k_1,t_gas,t_0,m_1,m_2)\n",
    "    o5=Omegacal(t,k_1,t_gas,t_0,m_1,m_2)\n",
    "    D1o5=D1Omegacal(t,k_1,t_gas,t_0,m_1,m_2)\n",
    "    D2o5=D2Omegacal(t,k_1,t_gas,t_0,m_1,m_2)\n",
    "    hp1_1=mu5*(-4.0*np.power(a5,2.0)*np.cos(2.0*t*o5)*np.power(o5,2.0)-8.0*a5*o5*np.sin(2.0*t*o5)*D1a5+2.0*np.cos(2.0*t*o5)*np.power(D1a5,2.0)-8.0*t*np.power(a5,2.0)*np.cos(2.0*t*o5)*o5*D1o5-4.0*np.power(a5,2.0)*np.sin(2.0*t*o5)*D1o5-8.0*t*a5*np.sin(2.0*t*o5)*D1o5*D1a5+4.0*np.power(t*a5,2.0)*np.cos(2.0*t*o5)*np.power(D1o5,2.0)+2.0*a5*np.cos(2.0*t*o5)*D2a5-2.0*t*np.power(a5,2.0)*np.sin(2.0*t*o5)*D2o5)\n",
    "    hp2_3=2.0/3.0*mu5*(D2a5*a5+np.power(D1a5,2.0))\n",
    "    return (sciconsts.G/np.power(sciconsts.c,4.0))/r*(1.0/2.0*(1+np.power(np.cos(theta),2.0))*hp1_1-np.power(np.sin(theta),2.0)*1.5*hp2_3)\n",
    "def h_cross(t,r,theta,k_1,t_gas,t_0,m_1,m_2):\n",
    "    mu5=m_1*m_2/(m_1+m_2)\n",
    "    a5=acal(t,k_1,t_gas,t_0)\n",
    "    D1a5=D1Omegacal(t,k_1,t_gas,t_0,m_1,m_2)\n",
    "    D2a5=D2Omegacal(t,k_1,t_gas,t_0,m_1,m_2)\n",
    "    o5=Omegacal(t,k_1,t_gas,t_0,m_1,m_2)\n",
    "    D1o5=D1Omegacal(t,k_1,t_gas,t_0,m_1,m_2)\n",
    "    D2o5=D2Omegacal(t,k_1,t_gas,t_0,m_1,m_2)\n",
    "    hp2_2=mu5*(-4.0*np.power(a5,2.0)*np.sin(2.0*t*o5)*np.power(o5,2.0)+8.0*a5*o5*np.cos(2.0*t*o5)*D1a5+2.0*np.sin(2.0*t*o5)*np.power(D1a5,2.0)-8.0*t*np.power(a5,2.0)*np.sin(2.0*t*o5)*o5*D1o5+4.0*np.power(a5,2.0)*np.cos(2.0*t*o5)*D1o5+8.0*t*a5*np.cos(2.0*t*o5)*D1o5*D1a5+4.0*np.power(t*a5,2.0)*np.sin(2.0*t*o5)*np.power(D1o5,2.0)+2.0*a5*np.sin(2.0*t*o5)*D2a5+2.0*t*np.power(a5,2.0)*np.cos(2.0*t*o5)*D2o5)\n",
    "    return (sciconsts.G/np.power(sciconsts.c,4.0))/r*np.cos(theta)*hp2_2\n",
    "\n",
    "'''lisa noise curve in rpsd unit N2A5:laserpower 2w,40cm telescope,armlength 5e6 km'''\n",
    "\n",
    "def S_gal_N2A5(f):\n",
    "    if f>=1.0e-5 and f<1.0e-3:\n",
    "        return np.power(f,-2.3)*np.power(10,-44.62)*20.0/3.0\n",
    "    if f>=1.0e-3 and f<np.power(10,-2.7):\n",
    "        return np.power(f,-4.4)*np.power(10,-50.92)*20.0/3.0\n",
    "    if f>=np.power(10,-2.7) and f<np.power(10,-2.4):\n",
    "        return np.power(f,-8.8)*np.power(10,-62.8)*20.0/3.0\n",
    "    if f>=np.power(10,-2.4) and f<=0.01:\n",
    "        return np.power(f,-20.0)*np.power(10,-89.68)*20.0/3.0\n",
    "    if f>0.01 or f<1.0e-5:\n",
    "        return 0\n",
    "def S_n_lisa(f):\n",
    "    m1=5.0e9\n",
    "    m2=sciconsts.c*0.41/m1/2.0\n",
    "    return 20.0/3.0*(1+np.power(f/m2,2.0))*(4.0*(9.0e-30/np.power(2*sciconsts.pi*f,4.0)*(1+1.0e-4/f))+2.96e-23+2.65e-23)/np.power(m1,2.0)+S_gal_N2A5(f)"
   ]
  },
  {
   "cell_type": "code",
   "execution_count": 20,
   "metadata": {
    "collapsed": true
   },
   "outputs": [],
   "source": [
    "m_sun=1.9891e30\n",
    "m_1=10*m_sun\n",
    "m_2=10*m_sun\n",
    "t_gas=1000.0*365*24*3600\n",
    "a_0=3.0e8"
   ]
  },
  {
   "cell_type": "code",
   "execution_count": 21,
   "metadata": {},
   "outputs": [
    {
     "data": {
      "text/plain": [
       "9460800.0"
      ]
     },
     "execution_count": 21,
     "metadata": {},
     "output_type": "execute_result"
    }
   ],
   "source": [
    "k_1=k_1cal(m_1,m_2)\n",
    "t_0=t_0cal(m_1,m_2,t_gas,a_0)\n",
    "theta=0.0\n",
    "years=365*24*3600.0\n",
    "N=10000000\n",
    "t_scale=1*years\n",
    "r=10.0*1.0e6*3.2616*sciconsts.light_year\n",
    "t=np.linspace(0,t_scale,num=N)\n",
    "t_scale*0.1*3.0\n",
    "#采样定理N>=t_scale*2.0*F 一般N=6ts*F"
   ]
  },
  {
   "cell_type": "code",
   "execution_count": 22,
   "metadata": {
    "scrolled": true
   },
   "outputs": [
    {
     "data": {
      "text/plain": [
       "3.1709791983764586e-08"
      ]
     },
     "execution_count": 22,
     "metadata": {},
     "output_type": "execute_result"
    }
   ],
   "source": [
    "T=t_scale/N\n",
    "fs=1.0/T\n",
    "1.0/t_scale"
   ]
  },
  {
   "cell_type": "code",
   "execution_count": 80,
   "metadata": {},
   "outputs": [],
   "source": [
    "fig1=plt.figure(figsize=(18,18),dpi=150)"
   ]
  },
  {
   "cell_type": "code",
   "execution_count": 21,
   "metadata": {
    "collapsed": true
   },
   "outputs": [],
   "source": [
    "#plt.plot(t,y)\n",
    "#plt.savefig('h_plus.png')\n",
    "#plt.show()"
   ]
  },
  {
   "cell_type": "code",
   "execution_count": null,
   "metadata": {
    "collapsed": true
   },
   "outputs": [],
   "source": [
    "y=h_plus(t,r,theta,k_1,t_gas,t_0,m_1,m_2)"
   ]
  },
  {
   "cell_type": "code",
   "execution_count": 24,
   "metadata": {
    "collapsed": true
   },
   "outputs": [],
   "source": [
    "'''yearname=['1year','2year','3year' ,'4year']\n",
    "year=365.0*24*3600*(np.arange(4)+1.0)\n",
    "plt.xticks(year,yearname)'''\n",
    "xs=np.linspace(0,1/2.0/T,num=N//2)\n",
    "yff=fft.fft(y)\n",
    "y_abs=abs(yff)\n",
    "ys=np.zeros((N//2,), dtype=np.float64)\n",
    "ys=2.0/N*y_abs[0:N//2]\n",
    "y_cs=2*xs*ys\n",
    "#y_r_psd=ys*2.0*np.sqrt(xs)"
   ]
  },
  {
   "cell_type": "code",
   "execution_count": 81,
   "metadata": {
    "scrolled": true
   },
   "outputs": [
    {
     "data": {
      "text/plain": [
       "[<matplotlib.lines.Line2D at 0x130d91cd0>]"
      ]
     },
     "execution_count": 81,
     "metadata": {},
     "output_type": "execute_result"
    }
   ],
   "source": [
    "plt.plot(xs,ys*ys,color=\"red\",linestyle=\"-\",label=r\"$h_c(f)$ 1\")"
   ]
  },
  {
   "cell_type": "code",
   "execution_count": 98,
   "metadata": {},
   "outputs": [
    {
     "data": {
      "text/plain": [
       "array([  8.41765596e-23,   8.41765601e-23,   8.41765607e-23, ...,\n",
       "         8.41765606e-23,   8.41765607e-23,   8.41765601e-23])"
      ]
     },
     "execution_count": 98,
     "metadata": {},
     "output_type": "execute_result"
    }
   ],
   "source": [
    "y_abs"
   ]
  },
  {
   "cell_type": "markdown",
   "metadata": {
    "collapsed": true
   },
   "source": [
    "10//2"
   ]
  },
  {
   "cell_type": "markdown",
   "metadata": {
    "collapsed": true,
    "scrolled": true
   },
   "source": [
    "10//2"
   ]
  },
  {
   "cell_type": "code",
   "execution_count": null,
   "metadata": {
    "collapsed": true
   },
   "outputs": [],
   "source": []
  },
  {
   "cell_type": "code",
   "execution_count": 24,
   "metadata": {
    "collapsed": true
   },
   "outputs": [],
   "source": [
    "#plt.savefig('pc1.png')"
   ]
  },
  {
   "cell_type": "code",
   "execution_count": 86,
   "metadata": {},
   "outputs": [
    {
     "data": {
      "text/plain": [
       "[<matplotlib.lines.Line2D at 0x140c05dd0>]"
      ]
     },
     "execution_count": 86,
     "metadata": {},
     "output_type": "execute_result"
    }
   ],
   "source": [
    "#Sn=np.loadtxt('ZERO_DET_high_P.txt')\n",
    "#Sn_fy=Sn[:,1]\n",
    "#Sn_fx=Sn[:,0]\n",
    "#ligoband sn\n",
    "#plt.plot(Sn_fx,Sn_fy,color=\"blue\",linestyle=\"-\",label=r\"aLIGO $S_{n}(f)$\")\n",
    "N1=100000\n",
    "fsf=np.linspace(1.0e-6,0.1,num=N1)\n",
    "i=0\n",
    "ssf=np.zeros(N1)\n",
    "while i<N1 :\n",
    "    ssf[i]=S_n_lisa(fsf[i])\n",
    "    i=i+1\n",
    "sn_cs=np.sqrt(ssf*np.sqrt(fsf))\n",
    "sn_rpsd=np.sqrt(ssf)\n",
    "plt.plot(fsf,ssf,color=\"blue\",linestyle=\"-\",label=r\"S_{x}(rPSD)$ of LISAN2A5MxL4+Gal\")"
   ]
  },
  {
   "cell_type": "code",
   "execution_count": 87,
   "metadata": {},
   "outputs": [
    {
     "data": {
      "text/plain": [
       "<matplotlib.legend.Legend at 0x112a2ab50>"
      ]
     },
     "execution_count": 87,
     "metadata": {},
     "output_type": "execute_result"
    }
   ],
   "source": [
    "\n",
    "plt.xlabel(r'$f/Hz$',fontsize=18)\n",
    "plt.ylabel(r'$rpsd$',fontsize=18)\n",
    "plt.xticks(fontsize=18)\n",
    "plt.yticks(fontsize=18)\n",
    "plt.yscale('log')\n",
    "plt.xscale('log')\n",
    "plt.legend(loc='upper left', frameon=False,fontsize='xx-large')"
   ]
  },
  {
   "cell_type": "code",
   "execution_count": 88,
   "metadata": {
    "collapsed": true
   },
   "outputs": [],
   "source": [
    "#plt.show()\n",
    "\n",
    "plt.savefig('cs combine.png')"
   ]
  },
  {
   "cell_type": "code",
   "execution_count": 28,
   "metadata": {},
   "outputs": [
    {
     "ename": "NameError",
     "evalue": "name 'Sn_fx' is not defined",
     "output_type": "error",
     "traceback": [
      "\u001b[0;31m---------------------------------------------------------------------------\u001b[0m",
      "\u001b[0;31mNameError\u001b[0m                                 Traceback (most recent call last)",
      "\u001b[0;32m<ipython-input-28-538f7f2f2972>\u001b[0m in \u001b[0;36m<module>\u001b[0;34m()\u001b[0m\n\u001b[0;32m----> 1\u001b[0;31m \u001b[0mfsn\u001b[0m\u001b[0;34m=\u001b[0m\u001b[0msci_interpolate\u001b[0m\u001b[0;34m.\u001b[0m\u001b[0minterp1d\u001b[0m\u001b[0;34m(\u001b[0m\u001b[0mSn_fx\u001b[0m\u001b[0;34m,\u001b[0m\u001b[0mSn_fy\u001b[0m\u001b[0;34m)\u001b[0m\u001b[0;34m\u001b[0m\u001b[0m\n\u001b[0m\u001b[1;32m      2\u001b[0m \u001b[0mfx\u001b[0m\u001b[0;34m=\u001b[0m\u001b[0mnp\u001b[0m\u001b[0;34m.\u001b[0m\u001b[0mlinspace\u001b[0m\u001b[0;34m(\u001b[0m\u001b[0;36m10.0\u001b[0m\u001b[0;34m,\u001b[0m\u001b[0;36m8000.0\u001b[0m\u001b[0;34m,\u001b[0m\u001b[0mnum\u001b[0m\u001b[0;34m=\u001b[0m\u001b[0;36m100000\u001b[0m\u001b[0;34m)\u001b[0m\u001b[0;34m\u001b[0m\u001b[0m\n\u001b[1;32m      3\u001b[0m \u001b[0mfy\u001b[0m\u001b[0;34m=\u001b[0m\u001b[0mfsn\u001b[0m\u001b[0;34m(\u001b[0m\u001b[0mfx\u001b[0m\u001b[0;34m)\u001b[0m\u001b[0;34m\u001b[0m\u001b[0m\n\u001b[1;32m      4\u001b[0m \u001b[0mplt\u001b[0m\u001b[0;34m.\u001b[0m\u001b[0mplot\u001b[0m\u001b[0;34m(\u001b[0m\u001b[0mfx\u001b[0m\u001b[0;34m,\u001b[0m\u001b[0mfy\u001b[0m\u001b[0;34m)\u001b[0m\u001b[0;34m\u001b[0m\u001b[0m\n\u001b[1;32m      5\u001b[0m \u001b[0mplt\u001b[0m\u001b[0;34m.\u001b[0m\u001b[0myscale\u001b[0m\u001b[0;34m(\u001b[0m\u001b[0;34m'log'\u001b[0m\u001b[0;34m)\u001b[0m\u001b[0;34m\u001b[0m\u001b[0m\n",
      "\u001b[0;31mNameError\u001b[0m: name 'Sn_fx' is not defined"
     ]
    }
   ],
   "source": [
    "fsn=sci_interpolate.interp1d(Sn_fx,Sn_fy)\n",
    "fx=np.linspace(10.0,8000.0,num=100000)\n",
    "fy=fsn(fx)\n",
    "plt.plot(fx,fy)\n",
    "plt.yscale('log')\n",
    "plt.xscale('log')\n",
    "plt.show()"
   ]
  },
  {
   "cell_type": "code",
   "execution_count": 19,
   "metadata": {
    "collapsed": true
   },
   "outputs": [],
   "source": []
  },
  {
   "cell_type": "code",
   "execution_count": null,
   "metadata": {
    "collapsed": true
   },
   "outputs": [],
   "source": []
  },
  {
   "cell_type": "code",
   "execution_count": 10,
   "metadata": {
    "collapsed": true
   },
   "outputs": [],
   "source": [
    "plt.clf()"
   ]
  },
  {
   "cell_type": "code",
   "execution_count": null,
   "metadata": {
    "collapsed": true
   },
   "outputs": [],
   "source": []
  },
  {
   "cell_type": "code",
   "execution_count": 26,
   "metadata": {
    "collapsed": true
   },
   "outputs": [],
   "source": [
    "N1=1000000\n",
    "fsf=np.linspace(1.0e-6,1.0,num=N1)\n",
    "i=0\n",
    "ssf=np.zeros(N1)\n",
    "while i<N1 :\n",
    "    ssf[i]=S_n_lisa(fsf[i])\n",
    "    i=i+1\n",
    "y_psd=np.sqrt(ssf*np.sqrt(fsf))"
   ]
  },
  {
   "cell_type": "code",
   "execution_count": 27,
   "metadata": {},
   "outputs": [
    {
     "data": {
      "text/plain": [
       "[<matplotlib.lines.Line2D at 0x126695ad0>]"
      ]
     },
     "execution_count": 27,
     "metadata": {},
     "output_type": "execute_result"
    }
   ],
   "source": [
    "fig1=plt.figure(figsize=(18,18),dpi=150)\n",
    "plt.plot(fsf,y_psd,color=\"blue\",linestyle=\"-\",label=r\"$\\sqrt{S_n(f)}$ of LISAN2A5MxL4+Gal\")"
   ]
  },
  {
   "cell_type": "code",
   "execution_count": 28,
   "metadata": {
    "collapsed": true
   },
   "outputs": [],
   "source": [
    "plt.xticks(fontsize=18)\n",
    "plt.yticks(fontsize=18)\n",
    "plt.xlabel(r'$f/Hz$',fontsize=25)\n",
    "plt.ylabel(r'$rPSD(\\frac{1}{\\sqrt{Hz}})$',fontsize=25)\n",
    "plt.yscale('log')\n",
    "plt.xscale('log')\n",
    "plt.legend(loc='upper left', frameon=False,fontsize='xx-large')"
   ]
  },
  {
   "cell_type": "code",
   "execution_count": 6,
   "metadata": {
    "collapsed": true
   },
   "outputs": [],
   "source": [
    "plt.savefig('lisa2.png')"
   ]
  },
  {
   "cell_type": "code",
   "execution_count": 40,
   "metadata": {},
   "outputs": [],
   "source": [
    "plt.clf()"
   ]
  },
  {
   "cell_type": "code",
   "execution_count": null,
   "metadata": {
    "collapsed": true
   },
   "outputs": [],
   "source": []
  }
 ],
 "metadata": {
  "kernelspec": {
   "display_name": "Python 2",
   "language": "python",
   "name": "python2"
  },
  "language_info": {
   "codemirror_mode": {
    "name": "ipython",
    "version": 2
   },
   "file_extension": ".py",
   "mimetype": "text/x-python",
   "name": "python",
   "nbconvert_exporter": "python",
   "pygments_lexer": "ipython2",
   "version": "2.7.13"
  }
 },
 "nbformat": 4,
 "nbformat_minor": 2
}
